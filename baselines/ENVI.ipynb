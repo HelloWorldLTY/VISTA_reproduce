{
 "cells": [
  {
   "cell_type": "code",
   "execution_count": 1,
   "id": "93d45a07",
   "metadata": {
    "scrolled": true
   },
   "outputs": [],
   "source": [
    "import scenvi "
   ]
  },
  {
   "cell_type": "code",
   "execution_count": 2,
   "id": "be73891a",
   "metadata": {},
   "outputs": [
    {
     "data": {
      "text/plain": [
       "<module 'scenvi' from '/gpfs/gibbs/project/zhao/tl688/conda_envs/envi/lib/python3.9/site-packages/scenvi/__init__.py'>"
      ]
     },
     "execution_count": 2,
     "metadata": {},
     "output_type": "execute_result"
    }
   ],
   "source": [
    "scenvi "
   ]
  },
  {
   "cell_type": "code",
   "execution_count": 3,
   "id": "88aab660",
   "metadata": {},
   "outputs": [],
   "source": [
    "import scanpy as sc\n",
    "from scipy import stats\n",
    "import scipy.stats as st\n",
    "import scipy\n",
    "import pandas as pd\n",
    "from sklearn.model_selection import train_test_split\n",
    "import numpy as np\n",
    "\n",
    "\n",
    "import random \n",
    "random.seed(2023)"
   ]
  },
  {
   "cell_type": "code",
   "execution_count": 4,
   "id": "ec323f1d",
   "metadata": {},
   "outputs": [],
   "source": [
    "def calcualte_pse_correlation(adata_sc, adata_st, celltype, p_value_threshold = 0.05, cor_threshold = 0.5):\n",
    "    overlap_gene = overlap_gene = list(set(adata_sc.var_names).intersection(adata_st.var_names))\n",
    "    adata_sc = adata_sc[:,overlap_gene]\n",
    "    adata_st = adata_st[:,overlap_gene]\n",
    "    \n",
    "    cell_type_common = list(set(adata_sc.obs[celltype].unique()).intersection(adata_st.obs[celltype].unique()))\n",
    "    \n",
    "    pseudo_st = []\n",
    "    pseudo_sc = []\n",
    "    for i in cell_type_common:\n",
    "        adata1 = adata_st[adata_st.obs[celltype] == i]\n",
    "        adata2 = adata_sc[adata_sc.obs[celltype] == i]\n",
    "\n",
    "        pseudo_st.append(np.mean(adata1.X.toarray(), axis = 0))\n",
    "        pseudo_sc.append(np.mean(adata2.X.toarray(), axis = 0))\n",
    "    \n",
    "    pseudo_st = np.array(pseudo_st)\n",
    "    pseudo_sc = np.array(pseudo_sc)\n",
    "\n",
    "    cor_pearson = []\n",
    "    cor_pvalue = []\n",
    "    for i in range(pseudo_st.shape[1]):\n",
    "        cor, pval = st.pearsonr(pseudo_st[:,i], pseudo_sc[:,i])\n",
    "        cor_pearson.append(cor)\n",
    "        cor_pvalue.append(pval)\n",
    "        \n",
    "    information_stat = pd.DataFrame()\n",
    "\n",
    "    information_stat['pearson'] = cor_pearson\n",
    "    information_stat['pvalue'] = cor_pvalue\n",
    "    information_stat.index = adata_st.var_names\n",
    "\n",
    "    information_stat_update = information_stat.loc[((information_stat['pvalue']<p_value_threshold) & (information_stat['pearson']>cor_threshold))]\n",
    "    \n",
    "    return information_stat_update.index"
   ]
  },
  {
   "cell_type": "code",
   "execution_count": 10,
   "id": "e64983a1",
   "metadata": {},
   "outputs": [],
   "source": [
    "seq_data = sc.read_h5ad(\"/gpfs/gibbs/pi/zhao/tl688/tangram/data_smfish/scrnaseq_data.h5ad\")\n",
    "spatial_data = sc.read_h5ad(\"/gpfs/gibbs/pi/zhao/tl688/tangram/data_smfish/spatial_data.h5ad\")\n",
    "\n",
    "spatial_index = [list(spatial_data.obs['x_coord']), list(spatial_data.obs['y_coord'])]\n",
    "spatial_data.obsm['spatial'] = np.array(spatial_index).T.astype('int')\n",
    "\n",
    "seq_data\n",
    "\n",
    "spatial_data\n",
    "\n",
    "info_gene = calcualte_pse_correlation(seq_data, spatial_data, 'scClassify')\n",
    "\n",
    "import random \n",
    "random.seed(2023)\n",
    "gene_for_impute = seq_data.var_names\n",
    "\n",
    "seq_data = seq_data[:,gene_for_impute]\n",
    "spatial_data = spatial_data[:,info_gene]\n",
    "\n",
    "spatial_data_partial = spatial_data.copy()\n",
    "seq_data = seq_data.copy()\n",
    "\n",
    "seq_gene_names = seq_data.var_names\n",
    "n_genes = seq_data.n_vars\n",
    "\n",
    "# spatial_data_partial has a subset of the genes to train on\n",
    "spatial_data_partial = spatial_data_partial\n",
    "\n",
    "# spatial_data should use the same cells as our training data\n",
    "# cells may have been removed by scanpy.pp.filter_cells()\n",
    "spatial_data = spatial_data[spatial_data_partial.obs_names]\n"
   ]
  },
  {
   "cell_type": "code",
   "execution_count": 19,
   "id": "51094b5f",
   "metadata": {},
   "outputs": [
    {
     "data": {
      "text/plain": [
       "AnnData object with n_obs × n_vars = 3005 × 19972\n",
       "    obs: 'labels', 'precise_labels', 'cell_type', 'scClassify'\n",
       "    var: 'highly_variable', 'means', 'dispersions', 'dispersions_norm'\n",
       "    uns: 'hvg'\n",
       "    layers: 'log'"
      ]
     },
     "execution_count": 19,
     "metadata": {},
     "output_type": "execute_result"
    }
   ],
   "source": [
    "seq_data"
   ]
  },
  {
   "cell_type": "code",
   "execution_count": 21,
   "id": "726c54b1",
   "metadata": {},
   "outputs": [
    {
     "data": {
      "text/plain": [
       "AnnData object with n_obs × n_vars = 3005 × 19972\n",
       "    obs: 'labels', 'precise_labels', 'cell_type', 'scClassify'\n",
       "    var: 'highly_variable', 'means', 'dispersions', 'dispersions_norm'\n",
       "    uns: 'hvg'\n",
       "    layers: 'log'"
      ]
     },
     "execution_count": 21,
     "metadata": {},
     "output_type": "execute_result"
    }
   ],
   "source": [
    "seq_data"
   ]
  },
  {
   "cell_type": "code",
   "execution_count": 22,
   "id": "2b9a4068",
   "metadata": {},
   "outputs": [
    {
     "data": {
      "text/plain": [
       "AnnData object with n_obs × n_vars = 4530 × 20\n",
       "    obs: 'x_coord', 'y_coord', 'labels', 'str_labels', 'batch', 'scClassify'\n",
       "    obsm: 'spatial'"
      ]
     },
     "execution_count": 22,
     "metadata": {},
     "output_type": "execute_result"
    }
   ],
   "source": [
    "spatial_data_partial"
   ]
  },
  {
   "cell_type": "code",
   "execution_count": 28,
   "id": "1670f243",
   "metadata": {},
   "outputs": [],
   "source": [
    "del seq_data.var['highly_variable']"
   ]
  },
  {
   "cell_type": "code",
   "execution_count": 29,
   "id": "d24ea938",
   "metadata": {},
   "outputs": [],
   "source": [
    "from jax import random"
   ]
  },
  {
   "cell_type": "code",
   "execution_count": 30,
   "id": "7168719a",
   "metadata": {},
   "outputs": [
    {
     "name": "stdout",
     "output_type": "stream",
     "text": [
      "Computing Niche Covariance Matrices\n",
      "Initializing VAE\n",
      "Finished Initializing ENVI\n"
     ]
    },
    {
     "name": "stderr",
     "output_type": "stream",
     "text": [
      "/gpfs/gibbs/project/zhao/tl688/conda_envs/envi/lib/python3.9/site-packages/scenvi/utils.py:226: ImplicitModificationWarning: Setting element `.layers['log']` of view, initializing view as actual.\n",
      "  spatial_data.layers['log'] = np.log(spatial_data.X+1)\n",
      " spatial: -1.189e+00 sc: -5.628e-01 cov: -2.597e-02 kl: 6.311e-01: 100%|██████████| 16000/16000 [07:31<00:00, 35.45it/s]\n",
      "/gpfs/gibbs/project/zhao/tl688/conda_envs/envi/lib/python3.9/site-packages/scenvi/ENVI.py:416: ImplicitModificationWarning: Setting element `.obsm['envi_latent']` of view, initializing view as actual.\n",
      "  self.sc_data.obsm['envi_latent'] = self.encode(self.sc_data[:, self.spatial_data.var_names].X, mode = 'sc')\n"
     ]
    },
    {
     "name": "stdout",
     "output_type": "stream",
     "text": [
      "Finished imputing missing gene for spatial data! See 'imputation' in obsm of ENVI.spatial_data\n"
     ]
    }
   ],
   "source": [
    "import scenvi \n",
    "\n",
    "envi_model = scenvi.ENVI(spatial_data = spatial_data_partial, sc_data = seq_data, num_HVG = len(seq_data.var_names))\n",
    "\n",
    "envi_model.train(key = random.key(0))\n",
    "envi_model.impute_genes()\n",
    "envi_model.infer_niche()"
   ]
  },
  {
   "cell_type": "code",
   "execution_count": 31,
   "id": "7c4eed8b",
   "metadata": {},
   "outputs": [
    {
     "data": {
      "text/html": [
       "<div>\n",
       "<style scoped>\n",
       "    .dataframe tbody tr th:only-of-type {\n",
       "        vertical-align: middle;\n",
       "    }\n",
       "\n",
       "    .dataframe tbody tr th {\n",
       "        vertical-align: top;\n",
       "    }\n",
       "\n",
       "    .dataframe thead th {\n",
       "        text-align: right;\n",
       "    }\n",
       "</style>\n",
       "<table border=\"1\" class=\"dataframe\">\n",
       "  <thead>\n",
       "    <tr style=\"text-align: right;\">\n",
       "      <th></th>\n",
       "      <th>Aldoc</th>\n",
       "      <th>Anln</th>\n",
       "      <th>Apln</th>\n",
       "      <th>Cnr1</th>\n",
       "      <th>Crh</th>\n",
       "      <th>Crhbp</th>\n",
       "      <th>Ctps</th>\n",
       "      <th>Flt1</th>\n",
       "      <th>Gad2</th>\n",
       "      <th>Gfap</th>\n",
       "      <th>...</th>\n",
       "      <th>Mir875</th>\n",
       "      <th>B230206H07Rik</th>\n",
       "      <th>Igfbp4</th>\n",
       "      <th>Gm10696</th>\n",
       "      <th>Hrsp12</th>\n",
       "      <th>Necab3</th>\n",
       "      <th>Ffar2</th>\n",
       "      <th>Minpp1</th>\n",
       "      <th>Pqlc3</th>\n",
       "      <th>Crip2</th>\n",
       "    </tr>\n",
       "  </thead>\n",
       "  <tbody>\n",
       "    <tr>\n",
       "      <th>0</th>\n",
       "      <td>3.890798</td>\n",
       "      <td>0.347196</td>\n",
       "      <td>0.052341</td>\n",
       "      <td>2.262364</td>\n",
       "      <td>0.267872</td>\n",
       "      <td>0.000168</td>\n",
       "      <td>1.583606</td>\n",
       "      <td>0.000122</td>\n",
       "      <td>2.354950</td>\n",
       "      <td>0.045816</td>\n",
       "      <td>...</td>\n",
       "      <td>0.000007</td>\n",
       "      <td>0.042727</td>\n",
       "      <td>0.542788</td>\n",
       "      <td>0.003667</td>\n",
       "      <td>0.990927</td>\n",
       "      <td>0.464624</td>\n",
       "      <td>0.000254</td>\n",
       "      <td>0.351401</td>\n",
       "      <td>0.023257</td>\n",
       "      <td>0.999909</td>\n",
       "    </tr>\n",
       "    <tr>\n",
       "      <th>1</th>\n",
       "      <td>3.034775</td>\n",
       "      <td>0.380003</td>\n",
       "      <td>1.178608</td>\n",
       "      <td>0.001539</td>\n",
       "      <td>0.000423</td>\n",
       "      <td>0.137021</td>\n",
       "      <td>0.249431</td>\n",
       "      <td>0.000288</td>\n",
       "      <td>0.414144</td>\n",
       "      <td>0.329378</td>\n",
       "      <td>...</td>\n",
       "      <td>0.000343</td>\n",
       "      <td>0.026172</td>\n",
       "      <td>0.564384</td>\n",
       "      <td>0.001401</td>\n",
       "      <td>0.825494</td>\n",
       "      <td>0.101939</td>\n",
       "      <td>0.000096</td>\n",
       "      <td>0.129188</td>\n",
       "      <td>0.005839</td>\n",
       "      <td>0.796457</td>\n",
       "    </tr>\n",
       "    <tr>\n",
       "      <th>2</th>\n",
       "      <td>3.027389</td>\n",
       "      <td>0.067541</td>\n",
       "      <td>0.031190</td>\n",
       "      <td>0.691702</td>\n",
       "      <td>1.113492</td>\n",
       "      <td>0.946629</td>\n",
       "      <td>0.698165</td>\n",
       "      <td>0.000443</td>\n",
       "      <td>25.102993</td>\n",
       "      <td>0.006727</td>\n",
       "      <td>...</td>\n",
       "      <td>0.000023</td>\n",
       "      <td>0.007454</td>\n",
       "      <td>1.168458</td>\n",
       "      <td>0.000780</td>\n",
       "      <td>0.588007</td>\n",
       "      <td>0.370951</td>\n",
       "      <td>0.000074</td>\n",
       "      <td>0.643475</td>\n",
       "      <td>0.005571</td>\n",
       "      <td>1.040304</td>\n",
       "    </tr>\n",
       "    <tr>\n",
       "      <th>3</th>\n",
       "      <td>0.016045</td>\n",
       "      <td>0.578078</td>\n",
       "      <td>0.037227</td>\n",
       "      <td>0.689628</td>\n",
       "      <td>0.000908</td>\n",
       "      <td>0.000456</td>\n",
       "      <td>0.311690</td>\n",
       "      <td>0.000440</td>\n",
       "      <td>1.887459</td>\n",
       "      <td>0.000234</td>\n",
       "      <td>...</td>\n",
       "      <td>0.000967</td>\n",
       "      <td>0.012055</td>\n",
       "      <td>1.329139</td>\n",
       "      <td>0.003252</td>\n",
       "      <td>0.569664</td>\n",
       "      <td>0.187886</td>\n",
       "      <td>0.000552</td>\n",
       "      <td>0.444005</td>\n",
       "      <td>0.009923</td>\n",
       "      <td>1.228038</td>\n",
       "    </tr>\n",
       "    <tr>\n",
       "      <th>4</th>\n",
       "      <td>0.000125</td>\n",
       "      <td>0.400275</td>\n",
       "      <td>0.086891</td>\n",
       "      <td>0.936333</td>\n",
       "      <td>0.069853</td>\n",
       "      <td>0.000190</td>\n",
       "      <td>0.640652</td>\n",
       "      <td>0.000448</td>\n",
       "      <td>3.183191</td>\n",
       "      <td>0.080496</td>\n",
       "      <td>...</td>\n",
       "      <td>0.000194</td>\n",
       "      <td>0.015705</td>\n",
       "      <td>0.741992</td>\n",
       "      <td>0.000805</td>\n",
       "      <td>0.500084</td>\n",
       "      <td>0.274491</td>\n",
       "      <td>0.000206</td>\n",
       "      <td>0.358943</td>\n",
       "      <td>0.004315</td>\n",
       "      <td>0.866431</td>\n",
       "    </tr>\n",
       "    <tr>\n",
       "      <th>...</th>\n",
       "      <td>...</td>\n",
       "      <td>...</td>\n",
       "      <td>...</td>\n",
       "      <td>...</td>\n",
       "      <td>...</td>\n",
       "      <td>...</td>\n",
       "      <td>...</td>\n",
       "      <td>...</td>\n",
       "      <td>...</td>\n",
       "      <td>...</td>\n",
       "      <td>...</td>\n",
       "      <td>...</td>\n",
       "      <td>...</td>\n",
       "      <td>...</td>\n",
       "      <td>...</td>\n",
       "      <td>...</td>\n",
       "      <td>...</td>\n",
       "      <td>...</td>\n",
       "      <td>...</td>\n",
       "      <td>...</td>\n",
       "      <td>...</td>\n",
       "    </tr>\n",
       "    <tr>\n",
       "      <th>4525</th>\n",
       "      <td>0.105373</td>\n",
       "      <td>0.001512</td>\n",
       "      <td>0.123752</td>\n",
       "      <td>0.002632</td>\n",
       "      <td>0.000280</td>\n",
       "      <td>0.000217</td>\n",
       "      <td>0.095735</td>\n",
       "      <td>0.000473</td>\n",
       "      <td>0.000663</td>\n",
       "      <td>0.000158</td>\n",
       "      <td>...</td>\n",
       "      <td>0.001707</td>\n",
       "      <td>0.006995</td>\n",
       "      <td>0.873256</td>\n",
       "      <td>0.003300</td>\n",
       "      <td>0.394379</td>\n",
       "      <td>0.320418</td>\n",
       "      <td>0.002141</td>\n",
       "      <td>0.294397</td>\n",
       "      <td>0.007594</td>\n",
       "      <td>1.328467</td>\n",
       "    </tr>\n",
       "    <tr>\n",
       "      <th>4526</th>\n",
       "      <td>0.066031</td>\n",
       "      <td>0.498194</td>\n",
       "      <td>0.183491</td>\n",
       "      <td>0.685272</td>\n",
       "      <td>0.001267</td>\n",
       "      <td>0.000592</td>\n",
       "      <td>0.393933</td>\n",
       "      <td>0.000930</td>\n",
       "      <td>0.261023</td>\n",
       "      <td>0.035086</td>\n",
       "      <td>...</td>\n",
       "      <td>0.000560</td>\n",
       "      <td>0.023158</td>\n",
       "      <td>1.027689</td>\n",
       "      <td>0.004708</td>\n",
       "      <td>0.569591</td>\n",
       "      <td>0.460157</td>\n",
       "      <td>0.001190</td>\n",
       "      <td>0.390571</td>\n",
       "      <td>0.014661</td>\n",
       "      <td>1.431250</td>\n",
       "    </tr>\n",
       "    <tr>\n",
       "      <th>4527</th>\n",
       "      <td>0.186408</td>\n",
       "      <td>0.580025</td>\n",
       "      <td>0.214355</td>\n",
       "      <td>0.224360</td>\n",
       "      <td>0.000451</td>\n",
       "      <td>0.000426</td>\n",
       "      <td>0.180878</td>\n",
       "      <td>0.000776</td>\n",
       "      <td>0.145249</td>\n",
       "      <td>0.154137</td>\n",
       "      <td>...</td>\n",
       "      <td>0.004270</td>\n",
       "      <td>0.006119</td>\n",
       "      <td>1.493771</td>\n",
       "      <td>0.001479</td>\n",
       "      <td>0.640848</td>\n",
       "      <td>0.170202</td>\n",
       "      <td>0.001114</td>\n",
       "      <td>0.412613</td>\n",
       "      <td>0.008854</td>\n",
       "      <td>1.563517</td>\n",
       "    </tr>\n",
       "    <tr>\n",
       "      <th>4528</th>\n",
       "      <td>0.111950</td>\n",
       "      <td>0.250422</td>\n",
       "      <td>0.046462</td>\n",
       "      <td>0.009308</td>\n",
       "      <td>0.123846</td>\n",
       "      <td>0.438341</td>\n",
       "      <td>0.276340</td>\n",
       "      <td>0.001434</td>\n",
       "      <td>0.192785</td>\n",
       "      <td>0.072704</td>\n",
       "      <td>...</td>\n",
       "      <td>0.003526</td>\n",
       "      <td>0.010444</td>\n",
       "      <td>1.096673</td>\n",
       "      <td>0.002762</td>\n",
       "      <td>0.429882</td>\n",
       "      <td>0.258029</td>\n",
       "      <td>0.001454</td>\n",
       "      <td>0.397249</td>\n",
       "      <td>0.011061</td>\n",
       "      <td>1.300701</td>\n",
       "    </tr>\n",
       "    <tr>\n",
       "      <th>4529</th>\n",
       "      <td>0.455403</td>\n",
       "      <td>0.236734</td>\n",
       "      <td>0.421927</td>\n",
       "      <td>0.010043</td>\n",
       "      <td>0.227414</td>\n",
       "      <td>0.002104</td>\n",
       "      <td>0.003083</td>\n",
       "      <td>0.250297</td>\n",
       "      <td>0.133794</td>\n",
       "      <td>0.015741</td>\n",
       "      <td>...</td>\n",
       "      <td>0.002160</td>\n",
       "      <td>0.017351</td>\n",
       "      <td>0.648710</td>\n",
       "      <td>0.010658</td>\n",
       "      <td>0.466834</td>\n",
       "      <td>0.260779</td>\n",
       "      <td>0.001917</td>\n",
       "      <td>0.252590</td>\n",
       "      <td>0.010223</td>\n",
       "      <td>1.210947</td>\n",
       "    </tr>\n",
       "  </tbody>\n",
       "</table>\n",
       "<p>4530 rows × 19972 columns</p>\n",
       "</div>"
      ],
      "text/plain": [
       "         Aldoc      Anln      Apln      Cnr1       Crh     Crhbp      Ctps  \\\n",
       "0     3.890798  0.347196  0.052341  2.262364  0.267872  0.000168  1.583606   \n",
       "1     3.034775  0.380003  1.178608  0.001539  0.000423  0.137021  0.249431   \n",
       "2     3.027389  0.067541  0.031190  0.691702  1.113492  0.946629  0.698165   \n",
       "3     0.016045  0.578078  0.037227  0.689628  0.000908  0.000456  0.311690   \n",
       "4     0.000125  0.400275  0.086891  0.936333  0.069853  0.000190  0.640652   \n",
       "...        ...       ...       ...       ...       ...       ...       ...   \n",
       "4525  0.105373  0.001512  0.123752  0.002632  0.000280  0.000217  0.095735   \n",
       "4526  0.066031  0.498194  0.183491  0.685272  0.001267  0.000592  0.393933   \n",
       "4527  0.186408  0.580025  0.214355  0.224360  0.000451  0.000426  0.180878   \n",
       "4528  0.111950  0.250422  0.046462  0.009308  0.123846  0.438341  0.276340   \n",
       "4529  0.455403  0.236734  0.421927  0.010043  0.227414  0.002104  0.003083   \n",
       "\n",
       "          Flt1       Gad2      Gfap  ...    Mir875  B230206H07Rik    Igfbp4  \\\n",
       "0     0.000122   2.354950  0.045816  ...  0.000007       0.042727  0.542788   \n",
       "1     0.000288   0.414144  0.329378  ...  0.000343       0.026172  0.564384   \n",
       "2     0.000443  25.102993  0.006727  ...  0.000023       0.007454  1.168458   \n",
       "3     0.000440   1.887459  0.000234  ...  0.000967       0.012055  1.329139   \n",
       "4     0.000448   3.183191  0.080496  ...  0.000194       0.015705  0.741992   \n",
       "...        ...        ...       ...  ...       ...            ...       ...   \n",
       "4525  0.000473   0.000663  0.000158  ...  0.001707       0.006995  0.873256   \n",
       "4526  0.000930   0.261023  0.035086  ...  0.000560       0.023158  1.027689   \n",
       "4527  0.000776   0.145249  0.154137  ...  0.004270       0.006119  1.493771   \n",
       "4528  0.001434   0.192785  0.072704  ...  0.003526       0.010444  1.096673   \n",
       "4529  0.250297   0.133794  0.015741  ...  0.002160       0.017351  0.648710   \n",
       "\n",
       "       Gm10696    Hrsp12    Necab3     Ffar2    Minpp1     Pqlc3     Crip2  \n",
       "0     0.003667  0.990927  0.464624  0.000254  0.351401  0.023257  0.999909  \n",
       "1     0.001401  0.825494  0.101939  0.000096  0.129188  0.005839  0.796457  \n",
       "2     0.000780  0.588007  0.370951  0.000074  0.643475  0.005571  1.040304  \n",
       "3     0.003252  0.569664  0.187886  0.000552  0.444005  0.009923  1.228038  \n",
       "4     0.000805  0.500084  0.274491  0.000206  0.358943  0.004315  0.866431  \n",
       "...        ...       ...       ...       ...       ...       ...       ...  \n",
       "4525  0.003300  0.394379  0.320418  0.002141  0.294397  0.007594  1.328467  \n",
       "4526  0.004708  0.569591  0.460157  0.001190  0.390571  0.014661  1.431250  \n",
       "4527  0.001479  0.640848  0.170202  0.001114  0.412613  0.008854  1.563517  \n",
       "4528  0.002762  0.429882  0.258029  0.001454  0.397249  0.011061  1.300701  \n",
       "4529  0.010658  0.466834  0.260779  0.001917  0.252590  0.010223  1.210947  \n",
       "\n",
       "[4530 rows x 19972 columns]"
      ]
     },
     "execution_count": 31,
     "metadata": {},
     "output_type": "execute_result"
    }
   ],
   "source": [
    "envi_model.spatial_data.obsm['imputation']"
   ]
  },
  {
   "cell_type": "code",
   "execution_count": 32,
   "id": "fbd55455",
   "metadata": {},
   "outputs": [
    {
     "data": {
      "text/plain": [
       "Index(['Tspan12', 'Tshz1', 'Fnbp1l', 'Adamts15', 'Cldn12', 'Rxfp1',\n",
       "       '2310042E22Rik', 'Sema3c', 'Jam2', 'Apbb1ip',\n",
       "       ...\n",
       "       'Gm20826_loc1', 'Gm20826_loc2', 'Gm20877_loc2', 'Gm20877_loc1',\n",
       "       'Gm20865_loc4', 'Gm20738_loc4', 'Gm20738_loc6', 'Gm21943_loc1',\n",
       "       'Gm21943_loc3', 'Gm20738_loc3'],\n",
       "      dtype='object', length=19972)"
      ]
     },
     "execution_count": 32,
     "metadata": {},
     "output_type": "execute_result"
    }
   ],
   "source": [
    "seq_data.var_names"
   ]
  },
  {
   "cell_type": "code",
   "execution_count": 33,
   "id": "2e9a2376",
   "metadata": {},
   "outputs": [],
   "source": [
    "spatial_data.obsm['impute'] = envi_model.spatial_data.obsm['imputation'].values\n",
    "\n",
    "\n",
    "spatial_data_imputed = sc.AnnData(spatial_data.obsm['impute'], obs = spatial_data_partial.obs)\n",
    "spatial_data_imputed.var_names = envi_model.spatial_data.obsm['imputation'].columns\n",
    "\n",
    "\n",
    "#     spatial_data_imputed.write_h5ad(f\"/gpfs/gibbs/pi/zhao/tl688/tangram/data_smfish/gimvigat_default_zsampleinference{i}.h5ad\")\n",
    "spatial_data_imputed.write_h5ad(f\"/gpfs/gibbs/pi/zhao/tl688/tangram/data_smfish/alldatafolder/envi_imputesmfish_alldata.h5ad\")"
   ]
  },
  {
   "cell_type": "code",
   "execution_count": 36,
   "id": "ce2fb1b2",
   "metadata": {},
   "outputs": [
    {
     "data": {
      "text/plain": [
       "AnnData object with n_obs × n_vars = 4530 × 19972\n",
       "    obs: 'x_coord', 'y_coord', 'labels', 'str_labels', 'batch', 'scClassify'"
      ]
     },
     "execution_count": 36,
     "metadata": {},
     "output_type": "execute_result"
    }
   ],
   "source": [
    "spatial_data_imputed"
   ]
  },
  {
   "cell_type": "code",
   "execution_count": null,
   "id": "ceab31e6",
   "metadata": {},
   "outputs": [],
   "source": []
  },
  {
   "cell_type": "code",
   "execution_count": 1,
   "id": "b54effcd",
   "metadata": {},
   "outputs": [
    {
     "name": "stderr",
     "output_type": "stream",
     "text": [
      "2024-10-03 12:51:21.619925: W external/xla/xla/service/gpu/nvptx_compiler.cc:698] The NVIDIA driver's CUDA version is 12.3 which is older than the ptxas CUDA version (12.4.131). Because the driver is older than the ptxas version, XLA is disabling parallel compilation, which may slow down compilation. You should update your NVIDIA driver or use the NVIDIA-provided CUDA forward compatibility packages.\n"
     ]
    }
   ],
   "source": [
    "import scenvi \n",
    "import scanpy as sc\n",
    "from scipy import stats\n",
    "import scipy.stats as st\n",
    "import scipy\n",
    "import pandas as pd\n",
    "from sklearn.model_selection import train_test_split\n",
    "import numpy as np\n",
    "\n",
    "\n",
    "import random \n",
    "random.seed(2023)"
   ]
  },
  {
   "cell_type": "code",
   "execution_count": 2,
   "id": "88e93aba",
   "metadata": {},
   "outputs": [],
   "source": [
    "from scipy import stats\n",
    "import scipy.stats as st\n",
    "import scipy"
   ]
  },
  {
   "cell_type": "code",
   "execution_count": 3,
   "id": "128a56ba",
   "metadata": {},
   "outputs": [],
   "source": [
    "def calcualte_pse_correlation(adata_sc, adata_st, celltype, p_value_threshold = 0.05, cor_threshold = 0.5):\n",
    "    overlap_gene = overlap_gene = list(set(adata_sc.var_names).intersection(adata_st.var_names))\n",
    "    adata_sc = adata_sc[:,overlap_gene]\n",
    "    adata_st = adata_st[:,overlap_gene]\n",
    "    \n",
    "    cell_type_common = list(set(adata_sc.obs[celltype].unique()).intersection(adata_st.obs[celltype].unique()))\n",
    "    \n",
    "    pseudo_st = []\n",
    "    pseudo_sc = []\n",
    "    for i in cell_type_common:\n",
    "        adata1 = adata_st[adata_st.obs[celltype] == i]\n",
    "        adata2 = adata_sc[adata_sc.obs[celltype] == i]\n",
    "\n",
    "        pseudo_st.append(np.mean(adata1.X.toarray(), axis = 0))\n",
    "        pseudo_sc.append(np.mean(adata2.X.toarray(), axis = 0))\n",
    "    \n",
    "    pseudo_st = np.array(pseudo_st)\n",
    "    pseudo_sc = np.array(pseudo_sc)\n",
    "\n",
    "    cor_pearson = []\n",
    "    cor_pvalue = []\n",
    "    for i in range(pseudo_st.shape[1]):\n",
    "        cor, pval = st.pearsonr(pseudo_st[:,i], pseudo_sc[:,i])\n",
    "        cor_pearson.append(cor)\n",
    "        cor_pvalue.append(pval)\n",
    "        \n",
    "    information_stat = pd.DataFrame()\n",
    "\n",
    "    information_stat['pearson'] = cor_pearson\n",
    "    information_stat['pvalue'] = cor_pvalue\n",
    "    information_stat.index = adata_st.var_names\n",
    "\n",
    "    information_stat_update = information_stat.loc[((information_stat['pvalue']<p_value_threshold) & (information_stat['pearson']>cor_threshold))]\n",
    "    \n",
    "    return information_stat_update.index"
   ]
  },
  {
   "cell_type": "code",
   "execution_count": 16,
   "id": "3e2f3c7e",
   "metadata": {},
   "outputs": [],
   "source": [
    "seq_data = sc.read_h5ad(\"/gpfs/gibbs/pi/zhao/tl688/deconvdatasets/spatial_dataset/xenium_brain/aibs_mouse_ctx-hpf_smartseq_sce.h5ad\")\n",
    "spatial_data = sc.read_h5ad(\"/gpfs/gibbs/pi/zhao/tl688/deconvdatasets/spatial_dataset/xenium_brain/spe_xenium.h5ad\")\n",
    "seq_data.obs['scClassify'] = seq_data.obs['cell_type_alias_label2'].copy()\n",
    "seq_data.var_names_make_unique()\n",
    "spatial_data.obsm['spatial'] = spatial_data.obsm['X_spatial']"
   ]
  },
  {
   "cell_type": "code",
   "execution_count": 17,
   "id": "2d9b09b3",
   "metadata": {},
   "outputs": [
    {
     "data": {
      "text/plain": [
       "AnnData object with n_obs × n_vars = 160996 × 248\n",
       "    obs: 'cell_id', 'transcript_counts', 'control_probe_counts', 'control_codeword_counts', 'total_counts', 'cell_area', 'nucleus_area', 'sample_id', 'total_transciprts', 'total_genes', 'sizeFactor', 'scClassify', 'x_centroid', 'y_centroid'\n",
       "    var: 'ID', 'Symbol', 'Type', 'total_cells', 'meanExprsPct_cells'\n",
       "    uns: 'CellSPA', 'X_name'\n",
       "    obsm: 'PCA', 'UMAP', 'X_spatial', 'spatial'\n",
       "    layers: 'logcounts'"
      ]
     },
     "execution_count": 17,
     "metadata": {},
     "output_type": "execute_result"
    }
   ],
   "source": [
    "spatial_data"
   ]
  },
  {
   "cell_type": "code",
   "execution_count": 18,
   "id": "13fea76a",
   "metadata": {},
   "outputs": [
    {
     "name": "stderr",
     "output_type": "stream",
     "text": [
      "/tmp/ipykernel_2059571/1732007094.py:23: ConstantInputWarning: An input array is constant; the correlation coefficient is not defined.\n",
      "  cor, pval = st.pearsonr(pseudo_st[:,i], pseudo_sc[:,i])\n"
     ]
    }
   ],
   "source": [
    "info_gene = calcualte_pse_correlation(seq_data, spatial_data, 'scClassify')"
   ]
  },
  {
   "cell_type": "code",
   "execution_count": 19,
   "id": "1874c0fd",
   "metadata": {},
   "outputs": [],
   "source": [
    "import random \n",
    "random.seed(2023)\n",
    "gene_for_impute = seq_data.var_names"
   ]
  },
  {
   "cell_type": "code",
   "execution_count": 20,
   "id": "03a2af19",
   "metadata": {},
   "outputs": [],
   "source": [
    "seq_data = seq_data[:,gene_for_impute]\n",
    "spatial_data = spatial_data[:,info_gene]"
   ]
  },
  {
   "cell_type": "code",
   "execution_count": 21,
   "id": "aab5ad09",
   "metadata": {},
   "outputs": [
    {
     "name": "stderr",
     "output_type": "stream",
     "text": [
      "/tmp/ipykernel_2059571/2060916523.py:1: ImplicitModificationWarning: Setting element `.layers['raw']` of view, initializing view as actual.\n",
      "  spatial_data.layers['raw'] = spatial_data.X.toarray()\n"
     ]
    }
   ],
   "source": [
    "spatial_data.layers['raw'] = spatial_data.X.toarray()\n",
    "\n",
    "spatial_data.X = spatial_data.layers['raw'].copy()\n",
    "\n",
    "spatial_data_partial = spatial_data.copy()\n",
    "seq_data = seq_data.copy()\n",
    "\n",
    "seq_gene_names = seq_data.var_names\n",
    "n_genes = seq_data.n_vars\n",
    "\n",
    "# spatial_data_partial has a subset of the genes to train on\n",
    "spatial_data_partial = spatial_data_partial\n",
    "spatial_data = spatial_data[spatial_data_partial.obs_names]"
   ]
  },
  {
   "cell_type": "code",
   "execution_count": 22,
   "id": "4911b8d9",
   "metadata": {},
   "outputs": [],
   "source": [
    "seq_data.X = seq_data.X.toarray()\n",
    "spatial_data.X = spatial_data.X.toarray()"
   ]
  },
  {
   "cell_type": "code",
   "execution_count": 23,
   "id": "96a865f1",
   "metadata": {},
   "outputs": [
    {
     "data": {
      "text/plain": [
       "View of AnnData object with n_obs × n_vars = 160996 × 165\n",
       "    obs: 'cell_id', 'transcript_counts', 'control_probe_counts', 'control_codeword_counts', 'total_counts', 'cell_area', 'nucleus_area', 'sample_id', 'total_transciprts', 'total_genes', 'sizeFactor', 'scClassify', 'x_centroid', 'y_centroid'\n",
       "    var: 'ID', 'Symbol', 'Type', 'total_cells', 'meanExprsPct_cells'\n",
       "    uns: 'CellSPA', 'X_name'\n",
       "    obsm: 'PCA', 'UMAP', 'X_spatial', 'spatial'\n",
       "    layers: 'logcounts', 'raw'"
      ]
     },
     "execution_count": 23,
     "metadata": {},
     "output_type": "execute_result"
    }
   ],
   "source": [
    "spatial_data"
   ]
  },
  {
   "cell_type": "code",
   "execution_count": 24,
   "id": "089f320e",
   "metadata": {},
   "outputs": [],
   "source": [
    "sc.pp.subsample(spatial_data, fraction=0.0001)"
   ]
  },
  {
   "cell_type": "code",
   "execution_count": 25,
   "id": "542d154b",
   "metadata": {},
   "outputs": [
    {
     "data": {
      "text/plain": [
       "AnnData object with n_obs × n_vars = 16 × 165\n",
       "    obs: 'cell_id', 'transcript_counts', 'control_probe_counts', 'control_codeword_counts', 'total_counts', 'cell_area', 'nucleus_area', 'sample_id', 'total_transciprts', 'total_genes', 'sizeFactor', 'scClassify', 'x_centroid', 'y_centroid'\n",
       "    var: 'ID', 'Symbol', 'Type', 'total_cells', 'meanExprsPct_cells'\n",
       "    uns: 'CellSPA', 'X_name'\n",
       "    obsm: 'PCA', 'UMAP', 'X_spatial', 'spatial'\n",
       "    layers: 'logcounts', 'raw'"
      ]
     },
     "execution_count": 25,
     "metadata": {},
     "output_type": "execute_result"
    }
   ],
   "source": [
    "spatial_data"
   ]
  },
  {
   "cell_type": "code",
   "execution_count": null,
   "id": "4611374f",
   "metadata": {},
   "outputs": [],
   "source": []
  },
  {
   "cell_type": "code",
   "execution_count": null,
   "id": "6a7702a5",
   "metadata": {},
   "outputs": [],
   "source": []
  },
  {
   "cell_type": "code",
   "execution_count": null,
   "id": "8407a570",
   "metadata": {},
   "outputs": [],
   "source": [
    "from jax import random\n",
    "\n",
    "import scenvi \n",
    "\n",
    "envi_model = scenvi.ENVI(spatial_data = spatial_data_partial, sc_data = seq_data, num_HVG = len(seq_data.var_names))\n",
    "\n",
    "envi_model.train(epochs=1, key = random.key(0))\n",
    "envi_model.impute_genes()\n",
    "envi_model.infer_niche()\n",
    "\n",
    "envi_model.spatial_data.obsm['imputation']\n",
    "\n",
    "seq_data.var_names\n",
    "\n",
    "spatial_data.obsm['impute'] = envi_model.spatial_data.obsm['imputation'].values\n",
    "\n",
    "\n",
    "spatial_data_imputed = sc.AnnData(spatial_data.obsm['impute'], obs = spatial_data_partial.obs)\n",
    "spatial_data_imputed.var_names = envi_model.spatial_data.obsm['imputation'].columns\n",
    "\n",
    "\n",
    "#     spatial_data_imputed.write_h5ad(f\"/gpfs/gibbs/pi/zhao/tl688/tangram/data_smfish/gimvigat_default_zsampleinference{i}.h5ad\")\n",
    "spatial_data_imputed.write_h5ad(f\"/gpfs/gibbs/pi/zhao/tl688/tangram/data_mousebrain/alldatafolder/envi_imputehumanbreast_alldata.h5ad\")\n",
    "\n",
    "spatial_data_imputed"
   ]
  },
  {
   "cell_type": "code",
   "execution_count": null,
   "id": "fe71684d",
   "metadata": {},
   "outputs": [],
   "source": []
  },
  {
   "cell_type": "code",
   "execution_count": null,
   "id": "fa229e0a",
   "metadata": {},
   "outputs": [],
   "source": []
  },
  {
   "cell_type": "code",
   "execution_count": null,
   "id": "d86391a5",
   "metadata": {},
   "outputs": [],
   "source": []
  },
  {
   "cell_type": "code",
   "execution_count": null,
   "id": "72724a30",
   "metadata": {},
   "outputs": [],
   "source": []
  },
  {
   "cell_type": "code",
   "execution_count": 1,
   "id": "91490c2e",
   "metadata": {},
   "outputs": [
    {
     "name": "stderr",
     "output_type": "stream",
     "text": [
      "2024-04-09 18:00:56.736664: W external/xla/xla/service/gpu/nvptx_compiler.cc:698] The NVIDIA driver's CUDA version is 12.3 which is older than the ptxas CUDA version (12.4.131). Because the driver is older than the ptxas version, XLA is disabling parallel compilation, which may slow down compilation. You should update your NVIDIA driver or use the NVIDIA-provided CUDA forward compatibility packages.\n"
     ]
    }
   ],
   "source": [
    "import scenvi \n",
    "import scanpy as sc\n",
    "from scipy import stats\n",
    "import scipy.stats as st\n",
    "import scipy\n",
    "import pandas as pd\n",
    "from sklearn.model_selection import train_test_split\n",
    "import numpy as np\n",
    "\n",
    "\n",
    "import random \n",
    "random.seed(2023)\n",
    "\n",
    "from scipy import stats\n",
    "import scipy.stats as st\n",
    "import scipy"
   ]
  },
  {
   "cell_type": "code",
   "execution_count": 2,
   "id": "b1bd5a48",
   "metadata": {},
   "outputs": [],
   "source": [
    "def calcualte_pse_correlation(adata_sc, adata_st, celltype, p_value_threshold = 0.05, cor_threshold = 0.5):\n",
    "    overlap_gene = overlap_gene = list(set(adata_sc.var_names).intersection(adata_st.var_names))\n",
    "    adata_sc = adata_sc[:,overlap_gene]\n",
    "    adata_st = adata_st[:,overlap_gene]\n",
    "    \n",
    "    cell_type_common = list(set(adata_sc.obs[celltype].unique()).intersection(adata_st.obs[celltype].unique()))\n",
    "    \n",
    "    pseudo_st = []\n",
    "    pseudo_sc = []\n",
    "    for i in cell_type_common:\n",
    "        adata1 = adata_st[adata_st.obs[celltype] == i]\n",
    "        adata2 = adata_sc[adata_sc.obs[celltype] == i]\n",
    "\n",
    "        pseudo_st.append(np.mean(adata1.X.toarray(), axis = 0))\n",
    "        pseudo_sc.append(np.mean(adata2.X.toarray(), axis = 0))\n",
    "    \n",
    "    pseudo_st = np.array(pseudo_st)\n",
    "    pseudo_sc = np.array(pseudo_sc)\n",
    "\n",
    "    cor_pearson = []\n",
    "    cor_pvalue = []\n",
    "    for i in range(pseudo_st.shape[1]):\n",
    "        cor, pval = st.pearsonr(pseudo_st[:,i], pseudo_sc[:,i])\n",
    "        cor_pearson.append(cor)\n",
    "        cor_pvalue.append(pval)\n",
    "        \n",
    "    information_stat = pd.DataFrame()\n",
    "\n",
    "    information_stat['pearson'] = cor_pearson\n",
    "    information_stat['pvalue'] = cor_pvalue\n",
    "    information_stat.index = adata_st.var_names\n",
    "\n",
    "    information_stat_update = information_stat.loc[((information_stat['pvalue']<p_value_threshold) & (information_stat['pearson']>cor_threshold))]\n",
    "    \n",
    "    return information_stat_update.index\n",
    "\n",
    "spatial_data = sc.read_h5ad(\"/gpfs/gibbs/pi/zhao/tl688/seqfishdata/data/ST/seqfish/seqfish_data.h5ad\")\n",
    "seq_data = sc.read_h5ad(\"/gpfs/gibbs/pi/zhao/tl688/seqfishdata/data/scRNAseq/seqfish/scRNAseq_seqfish.h5ad\")\n",
    "\n",
    "seq_data.obs['scClassify'] = seq_data.obs['celltype'].copy() \n",
    "spatial_data.obs['scClassify'] = spatial_data.obs['celltype_mapped_refined'].copy() \n",
    "seq_data.var_names_make_unique()\n",
    "\n",
    "spatial_data.layers['raw'] = spatial_data.X.toarray()\n",
    "\n",
    "spatial_data.X = spatial_data.layers['raw'].copy()\n",
    "\n",
    "seq_data.obs['names'] = seq_data.obs_names\n",
    "spatial_data.obs['names'] = spatial_data.obs_names\n",
    "\n",
    "seq_data.obs['ind_x'] = seq_data.obs_names\n",
    "spatial_data.obs['ind_x'] = spatial_data.obs_names\n",
    "\n",
    "\n",
    "info_gene = calcualte_pse_correlation(seq_data, spatial_data, 'scClassify')\n",
    "\n",
    "import random \n",
    "random.seed(2023)\n",
    "gene_for_impute = seq_data.var_names\n",
    "\n",
    "seq_data = seq_data[:,gene_for_impute]\n",
    "spatial_data = spatial_data[:,info_gene]\n",
    "\n",
    "spatial_data_partial = spatial_data.copy()\n",
    "seq_data = seq_data.copy()\n",
    "\n",
    "seq_gene_names = seq_data.var_names\n",
    "n_genes = seq_data.n_vars\n",
    "\n",
    "# spatial_data_partial has a subset of the genes to train on\n",
    "spatial_data_partial = spatial_data_partial\n",
    "\n",
    "spatial_data = spatial_data[spatial_data_partial.obs_names]\n"
   ]
  },
  {
   "cell_type": "code",
   "execution_count": 3,
   "id": "abc5426c",
   "metadata": {},
   "outputs": [],
   "source": [
    "seq_data.X = seq_data.X.toarray()\n",
    "spatial_data.X = spatial_data.X.toarray()"
   ]
  },
  {
   "cell_type": "code",
   "execution_count": 4,
   "id": "f11576ae",
   "metadata": {},
   "outputs": [
    {
     "data": {
      "text/plain": [
       "View of AnnData object with n_obs × n_vars = 57536 × 177\n",
       "    obs: 'uniqueID', 'embryo', 'pos', 'z', 'x_global', 'y_global', 'x_global_affine', 'y_global_affine', 'embryo_pos', 'embryo_pos_z', 'Area', 'UMAP1', 'UMAP2', 'celltype_mapped_refined', 'segmentation_vertices_x_global_affine', 'segmentation_vertices_y_global_affine', 'scClassify', 'names', 'ind_x'\n",
       "    obsm: 'spatial'\n",
       "    layers: 'normalized', 'raw'"
      ]
     },
     "execution_count": 4,
     "metadata": {},
     "output_type": "execute_result"
    }
   ],
   "source": [
    "spatial_data"
   ]
  },
  {
   "cell_type": "code",
   "execution_count": null,
   "id": "914842f8",
   "metadata": {},
   "outputs": [],
   "source": []
  },
  {
   "cell_type": "code",
   "execution_count": 5,
   "id": "8137f6bb",
   "metadata": {},
   "outputs": [],
   "source": [
    "# sc.pp.subsample(spatial_data, fraction=0.0001)"
   ]
  },
  {
   "cell_type": "code",
   "execution_count": 10,
   "id": "8c529ace",
   "metadata": {},
   "outputs": [
    {
     "data": {
      "text/plain": [
       "array([[0., 1., 0., ..., 4., 0., 2.],\n",
       "       [2., 1., 0., ..., 0., 0., 1.],\n",
       "       [0., 0., 1., ..., 2., 0., 0.],\n",
       "       ...,\n",
       "       [0., 2., 1., ..., 0., 0., 1.],\n",
       "       [0., 1., 1., ..., 0., 0., 2.],\n",
       "       [0., 0., 1., ..., 0., 0., 2.]], dtype=float32)"
      ]
     },
     "execution_count": 10,
     "metadata": {},
     "output_type": "execute_result"
    }
   ],
   "source": [
    "spatial_data.X"
   ]
  },
  {
   "cell_type": "code",
   "execution_count": 9,
   "id": "d46dcc6d",
   "metadata": {},
   "outputs": [
    {
     "name": "stdout",
     "output_type": "stream",
     "text": [
      "Computing Niche Covariance Matrices\n"
     ]
    },
    {
     "name": "stderr",
     "output_type": "stream",
     "text": [
      "/gpfs/gibbs/project/zhao/tl688/conda_envs/envi/lib/python3.9/site-packages/scenvi/utils.py:226: ImplicitModificationWarning: Setting element `.layers['log']` of view, initializing view as actual.\n",
      "  spatial_data.layers['log'] = np.log(spatial_data.X+1)\n"
     ]
    },
    {
     "name": "stdout",
     "output_type": "stream",
     "text": [
      "Initializing VAE\n",
      "Finished Initializing ENVI\n"
     ]
    },
    {
     "name": "stderr",
     "output_type": "stream",
     "text": [
      " spatial: -8.312e-01 sc: -3.206e-01 cov: -7.935e-03 kl: 6.028e-01:   5%|▌         | 811/16000 [00:36<11:22, 22.25it/s] \n"
     ]
    },
    {
     "ename": "KeyboardInterrupt",
     "evalue": "",
     "output_type": "error",
     "traceback": [
      "\u001b[0;31m---------------------------------------------------------------------------\u001b[0m",
      "\u001b[0;31mKeyboardInterrupt\u001b[0m                         Traceback (most recent call last)",
      "Cell \u001b[0;32mIn[9], line 7\u001b[0m\n\u001b[1;32m      3\u001b[0m \u001b[38;5;28;01mimport\u001b[39;00m \u001b[38;5;21;01mscenvi\u001b[39;00m \n\u001b[1;32m      5\u001b[0m envi_model \u001b[38;5;241m=\u001b[39m scenvi\u001b[38;5;241m.\u001b[39mENVI(spatial_data \u001b[38;5;241m=\u001b[39m spatial_data_partial, sc_data \u001b[38;5;241m=\u001b[39m seq_data, num_HVG \u001b[38;5;241m=\u001b[39m \u001b[38;5;28mlen\u001b[39m(seq_data\u001b[38;5;241m.\u001b[39mvar_names))\n\u001b[0;32m----> 7\u001b[0m \u001b[43menvi_model\u001b[49m\u001b[38;5;241;43m.\u001b[39;49m\u001b[43mtrain\u001b[49m\u001b[43m(\u001b[49m\u001b[43m \u001b[49m\u001b[43mkey\u001b[49m\u001b[43m \u001b[49m\u001b[38;5;241;43m=\u001b[39;49m\u001b[43m \u001b[49m\u001b[43mrandom\u001b[49m\u001b[38;5;241;43m.\u001b[39;49m\u001b[43mkey\u001b[49m\u001b[43m(\u001b[49m\u001b[38;5;241;43m0\u001b[39;49m\u001b[43m)\u001b[49m\u001b[43m)\u001b[49m\n\u001b[1;32m      8\u001b[0m envi_model\u001b[38;5;241m.\u001b[39mimpute_genes()\n\u001b[1;32m      9\u001b[0m envi_model\u001b[38;5;241m.\u001b[39minfer_niche()\n",
      "File \u001b[0;32m/gpfs/gibbs/project/zhao/tl688/conda_envs/envi/lib/python3.9/site-packages/scenvi/ENVI.py:316\u001b[0m, in \u001b[0;36mENVI.train\u001b[0;34m(self, epochs, batch_size, verbose, init_lr, decay_steps, key)\u001b[0m\n\u001b[1;32m    313\u001b[0m batch_sc_ind \u001b[38;5;241m=\u001b[39m random\u001b[38;5;241m.\u001b[39mchoice(key \u001b[38;5;241m=\u001b[39m subkey2, a \u001b[38;5;241m=\u001b[39m \u001b[38;5;28mself\u001b[39m\u001b[38;5;241m.\u001b[39msc_data\u001b[38;5;241m.\u001b[39mshape[\u001b[38;5;241m0\u001b[39m], shape \u001b[38;5;241m=\u001b[39m [batch_size], replace \u001b[38;5;241m=\u001b[39m \u001b[38;5;28;01mFalse\u001b[39;00m)\n\u001b[1;32m    315\u001b[0m batch_spatial_exp, batch_spatial_cov \u001b[38;5;241m=\u001b[39m spatial_X[batch_spatial_ind],  spatial_COVET[batch_spatial_ind]\n\u001b[0;32m--> 316\u001b[0m batch_sc_exp \u001b[38;5;241m=\u001b[39m \u001b[43msc_X\u001b[49m\u001b[43m[\u001b[49m\u001b[43mbatch_sc_ind\u001b[49m\u001b[43m]\u001b[49m\n\u001b[1;32m    318\u001b[0m key, subkey \u001b[38;5;241m=\u001b[39m random\u001b[38;5;241m.\u001b[39msplit(key)\n\u001b[1;32m    320\u001b[0m state, loss \u001b[38;5;241m=\u001b[39m \u001b[38;5;28mself\u001b[39m\u001b[38;5;241m.\u001b[39mtrain_step(state, batch_spatial_exp, batch_spatial_cov, batch_sc_exp, key \u001b[38;5;241m=\u001b[39m subkey)\n",
      "File \u001b[0;32m/gpfs/gibbs/project/zhao/tl688/conda_envs/envi/lib/python3.9/site-packages/anndata/_core/views.py:116\u001b[0m, in \u001b[0;36mArrayView.__array_finalize__\u001b[0;34m(self, obj)\u001b[0m\n\u001b[1;32m    113\u001b[0m     arr\u001b[38;5;241m.\u001b[39m_view_args \u001b[38;5;241m=\u001b[39m view_args\n\u001b[1;32m    114\u001b[0m     \u001b[38;5;28;01mreturn\u001b[39;00m arr\n\u001b[0;32m--> 116\u001b[0m \u001b[38;5;28;01mdef\u001b[39;00m \u001b[38;5;21m__array_finalize__\u001b[39m(\u001b[38;5;28mself\u001b[39m, obj: np\u001b[38;5;241m.\u001b[39mndarray \u001b[38;5;241m|\u001b[39m \u001b[38;5;28;01mNone\u001b[39;00m):\n\u001b[1;32m    117\u001b[0m     \u001b[38;5;28;01mif\u001b[39;00m obj \u001b[38;5;129;01mis\u001b[39;00m \u001b[38;5;129;01mnot\u001b[39;00m \u001b[38;5;28;01mNone\u001b[39;00m:\n\u001b[1;32m    118\u001b[0m         \u001b[38;5;28mself\u001b[39m\u001b[38;5;241m.\u001b[39m_view_args \u001b[38;5;241m=\u001b[39m \u001b[38;5;28mgetattr\u001b[39m(obj, \u001b[38;5;124m\"\u001b[39m\u001b[38;5;124m_view_args\u001b[39m\u001b[38;5;124m\"\u001b[39m, \u001b[38;5;28;01mNone\u001b[39;00m)\n",
      "\u001b[0;31mKeyboardInterrupt\u001b[0m: "
     ]
    }
   ],
   "source": [
    "from jax import random\n",
    "\n",
    "import scenvi \n",
    "\n",
    "envi_model = scenvi.ENVI(spatial_data = spatial_data_partial, sc_data = seq_data, num_HVG = len(seq_data.var_names))\n",
    "\n",
    "envi_model.train( key = random.key(0))\n",
    "envi_model.impute_genes()\n",
    "envi_model.infer_niche()\n",
    "\n",
    "envi_model.spatial_data.obsm['imputation']\n",
    "\n",
    "seq_data.var_names\n",
    "\n",
    "spatial_data.obsm['impute'] = envi_model.spatial_data.obsm['imputation'].values\n",
    "\n",
    "\n",
    "spatial_data_imputed = sc.AnnData(spatial_data.obsm['impute'], obs = spatial_data_partial.obs)\n",
    "spatial_data_imputed.var_names = envi_model.spatial_data.obsm['imputation'].columns\n",
    "\n",
    "\n",
    "# #     spatial_data_imputed.write_h5ad(f\"/gpfs/gibbs/pi/zhao/tl688/tangram/data_smfish/gimvigat_default_zsampleinference{i}.h5ad\")\n",
    "# spatial_data_imputed.write_h5ad(f\"/gpfs/gibbs/pi/zhao/tl688/tangram/data_seqfish/alldatafolder/envi_seqfish_alldata.h5ad\")\n",
    "\n",
    "# spatial_data_imputed"
   ]
  },
  {
   "cell_type": "code",
   "execution_count": 8,
   "id": "b2b76dcf",
   "metadata": {},
   "outputs": [
    {
     "data": {
      "text/plain": [
       "AnnData object with n_obs × n_vars = 57536 × 29452\n",
       "    obs: 'uniqueID', 'embryo', 'pos', 'z', 'x_global', 'y_global', 'x_global_affine', 'y_global_affine', 'embryo_pos', 'embryo_pos_z', 'Area', 'UMAP1', 'UMAP2', 'celltype_mapped_refined', 'segmentation_vertices_x_global_affine', 'segmentation_vertices_y_global_affine', 'scClassify', 'names', 'ind_x'"
      ]
     },
     "execution_count": 8,
     "metadata": {},
     "output_type": "execute_result"
    }
   ],
   "source": [
    "spatial_data_imputed"
   ]
  },
  {
   "cell_type": "code",
   "execution_count": null,
   "id": "be71bd25",
   "metadata": {},
   "outputs": [],
   "source": []
  },
  {
   "cell_type": "code",
   "execution_count": null,
   "id": "eaf0583b",
   "metadata": {},
   "outputs": [],
   "source": []
  },
  {
   "cell_type": "code",
   "execution_count": 1,
   "id": "d26c949e",
   "metadata": {},
   "outputs": [
    {
     "name": "stderr",
     "output_type": "stream",
     "text": [
      "2024-04-09 17:48:11.308643: W external/xla/xla/service/gpu/nvptx_compiler.cc:698] The NVIDIA driver's CUDA version is 12.3 which is older than the ptxas CUDA version (12.4.131). Because the driver is older than the ptxas version, XLA is disabling parallel compilation, which may slow down compilation. You should update your NVIDIA driver or use the NVIDIA-provided CUDA forward compatibility packages.\n"
     ]
    }
   ],
   "source": [
    "import scenvi \n",
    "import scanpy as sc\n",
    "from scipy import stats\n",
    "import scipy.stats as st\n",
    "import scipy\n",
    "import pandas as pd\n",
    "from sklearn.model_selection import train_test_split\n",
    "import numpy as np\n",
    "\n",
    "\n",
    "import random \n",
    "random.seed(2023)"
   ]
  },
  {
   "cell_type": "code",
   "execution_count": 2,
   "id": "cd0d4513",
   "metadata": {},
   "outputs": [],
   "source": [
    "from scipy import stats\n",
    "import scipy.stats as st\n",
    "import scipy"
   ]
  },
  {
   "cell_type": "code",
   "execution_count": 3,
   "id": "2f5390be",
   "metadata": {},
   "outputs": [],
   "source": [
    "def calcualte_pse_correlation(adata_sc, adata_st, celltype, p_value_threshold = 0.05, cor_threshold = 0.5):\n",
    "    overlap_gene = overlap_gene = list(set(adata_sc.var_names).intersection(adata_st.var_names))\n",
    "    adata_sc = adata_sc[:,overlap_gene]\n",
    "    adata_st = adata_st[:,overlap_gene]\n",
    "    \n",
    "    cell_type_common = list(set(adata_sc.obs[celltype].unique()).intersection(adata_st.obs[celltype].unique()))\n",
    "    \n",
    "    pseudo_st = []\n",
    "    pseudo_sc = []\n",
    "    for i in cell_type_common:\n",
    "        adata1 = adata_st[adata_st.obs[celltype] == i]\n",
    "        adata2 = adata_sc[adata_sc.obs[celltype] == i]\n",
    "\n",
    "        pseudo_st.append(np.mean(adata1.X.toarray(), axis = 0))\n",
    "        pseudo_sc.append(np.mean(adata2.X.toarray(), axis = 0))\n",
    "    \n",
    "    pseudo_st = np.array(pseudo_st)\n",
    "    pseudo_sc = np.array(pseudo_sc)\n",
    "\n",
    "    cor_pearson = []\n",
    "    cor_pvalue = []\n",
    "    for i in range(pseudo_st.shape[1]):\n",
    "        cor, pval = st.pearsonr(pseudo_st[:,i], pseudo_sc[:,i])\n",
    "        cor_pearson.append(cor)\n",
    "        cor_pvalue.append(pval)\n",
    "        \n",
    "    information_stat = pd.DataFrame()\n",
    "\n",
    "    information_stat['pearson'] = cor_pearson\n",
    "    information_stat['pvalue'] = cor_pvalue\n",
    "    information_stat.index = adata_st.var_names\n",
    "\n",
    "    information_stat_update = information_stat.loc[((information_stat['pvalue']<p_value_threshold) & (information_stat['pearson']>cor_threshold))]\n",
    "    \n",
    "    return information_stat_update.index"
   ]
  },
  {
   "cell_type": "code",
   "execution_count": 4,
   "id": "39c97c91",
   "metadata": {},
   "outputs": [
    {
     "name": "stderr",
     "output_type": "stream",
     "text": [
      "/gpfs/gibbs/project/zhao/tl688/conda_envs/envi/lib/python3.9/site-packages/anndata/_core/anndata.py:1820: UserWarning: Variable names are not unique. To make them unique, call `.var_names_make_unique`.\n",
      "  utils.warn_names_duplicates(\"var\")\n"
     ]
    }
   ],
   "source": [
    "spatial_data =sc.read_h5ad(\"/gpfs/gibbs/pi/zhao/yl2687/data/spatial_fish_data/xenium_breast/spe_xenium_withMetrics.h5ad\")\n",
    "seq_data = sc.read_h5ad(\"/gpfs/gibbs/pi/zhao/tl688/deconvdatasets/spatial_dataset/xenium_breast/sce_FFPE_full.h5ad\")\n",
    "seq_data.obs['scClassify'] = seq_data.obs['graph_cluster_anno'].copy()\n",
    "seq_data.var_names_make_unique()"
   ]
  },
  {
   "cell_type": "code",
   "execution_count": 5,
   "id": "80c45aba",
   "metadata": {},
   "outputs": [],
   "source": [
    "spatial_data.obsm['spatial'] = spatial_data.obsm['coord']"
   ]
  },
  {
   "cell_type": "code",
   "execution_count": 6,
   "id": "844e6fda",
   "metadata": {},
   "outputs": [
    {
     "name": "stderr",
     "output_type": "stream",
     "text": [
      "/tmp/ipykernel_2067853/1732007094.py:23: ConstantInputWarning: An input array is constant; the correlation coefficient is not defined.\n",
      "  cor, pval = st.pearsonr(pseudo_st[:,i], pseudo_sc[:,i])\n"
     ]
    }
   ],
   "source": [
    "info_gene = calcualte_pse_correlation(seq_data, spatial_data, 'scClassify')"
   ]
  },
  {
   "cell_type": "code",
   "execution_count": 7,
   "id": "6f44ef5c",
   "metadata": {},
   "outputs": [],
   "source": [
    "import random \n",
    "random.seed(2023)\n",
    "gene_for_impute = seq_data.var_names"
   ]
  },
  {
   "cell_type": "code",
   "execution_count": 8,
   "id": "cdbe07c8",
   "metadata": {},
   "outputs": [],
   "source": [
    "seq_data = seq_data[:,gene_for_impute]\n",
    "spatial_data = spatial_data[:,info_gene]"
   ]
  },
  {
   "cell_type": "code",
   "execution_count": 9,
   "id": "cff54f23",
   "metadata": {},
   "outputs": [
    {
     "name": "stderr",
     "output_type": "stream",
     "text": [
      "/tmp/ipykernel_2067853/2060916523.py:1: ImplicitModificationWarning: Setting element `.layers['raw']` of view, initializing view as actual.\n",
      "  spatial_data.layers['raw'] = spatial_data.X.toarray()\n"
     ]
    }
   ],
   "source": [
    "spatial_data.layers['raw'] = spatial_data.X.toarray()\n",
    "\n",
    "spatial_data.X = spatial_data.layers['raw'].copy()\n",
    "\n",
    "spatial_data_partial = spatial_data.copy()\n",
    "seq_data = seq_data.copy()\n",
    "\n",
    "seq_gene_names = seq_data.var_names\n",
    "n_genes = seq_data.n_vars\n",
    "\n",
    "# spatial_data_partial has a subset of the genes to train on\n",
    "spatial_data_partial = spatial_data_partial\n",
    "spatial_data = spatial_data[spatial_data_partial.obs_names]"
   ]
  },
  {
   "cell_type": "code",
   "execution_count": 10,
   "id": "d7d7839f",
   "metadata": {},
   "outputs": [],
   "source": [
    "seq_data.X = seq_data.X.toarray()\n",
    "spatial_data.X = spatial_data.X.toarray()"
   ]
  },
  {
   "cell_type": "code",
   "execution_count": 11,
   "id": "61b81db4",
   "metadata": {},
   "outputs": [
    {
     "data": {
      "text/plain": [
       "View of AnnData object with n_obs × n_vars = 160254 × 281\n",
       "    obs: 'cell_id', 'transcript_counts', 'control_probe_counts', 'control_codeword_counts', 'total_counts', 'cell_area', 'nucleus_area', 'sample_id', 'total_transciprts', 'total_genes', 'sizeFactor', 'elongation', 'compactness', 'eccentricity', 'sphericity', 'solidity', 'convexity', 'circularity', 'density', 'scClassify', 'mean_cor_correlation', 'mean_celltype_correlation', 'mean_cor_cosine', 'mean_celltype_cosine', 'prop_detected_cor_correlation', 'prop_detected_celltype_correlation', 'prop_detected_cor_cosine', 'prop_detected_celltype_cosine', 'positive_F1', 'positive_Precision', 'positive_Recall', 'negative_F1', 'negative_Precision', 'negative_Recall', 'positive_exprsPct', 'negative_exprsPct', 'x_bin_groups', 'y_bin_groups', 'bin_groups'\n",
       "    var: 'ID', 'Symbol', 'Type', 'total_cells', 'meanExprsPct_cells'\n",
       "    uns: 'CellSPA', 'X_name'\n",
       "    obsm: 'PCA', 'UMAP', 'coord', 'spatial'\n",
       "    layers: 'logcounts', 'raw'"
      ]
     },
     "execution_count": 11,
     "metadata": {},
     "output_type": "execute_result"
    }
   ],
   "source": [
    "spatial_data"
   ]
  },
  {
   "cell_type": "code",
   "execution_count": 12,
   "id": "35f4cb9d",
   "metadata": {},
   "outputs": [],
   "source": [
    "# sc.pp.subsample(spatial_data, fraction=0.0001)"
   ]
  },
  {
   "cell_type": "code",
   "execution_count": 13,
   "id": "23a43b04",
   "metadata": {},
   "outputs": [
    {
     "data": {
      "text/plain": [
       "View of AnnData object with n_obs × n_vars = 160254 × 281\n",
       "    obs: 'cell_id', 'transcript_counts', 'control_probe_counts', 'control_codeword_counts', 'total_counts', 'cell_area', 'nucleus_area', 'sample_id', 'total_transciprts', 'total_genes', 'sizeFactor', 'elongation', 'compactness', 'eccentricity', 'sphericity', 'solidity', 'convexity', 'circularity', 'density', 'scClassify', 'mean_cor_correlation', 'mean_celltype_correlation', 'mean_cor_cosine', 'mean_celltype_cosine', 'prop_detected_cor_correlation', 'prop_detected_celltype_correlation', 'prop_detected_cor_cosine', 'prop_detected_celltype_cosine', 'positive_F1', 'positive_Precision', 'positive_Recall', 'negative_F1', 'negative_Precision', 'negative_Recall', 'positive_exprsPct', 'negative_exprsPct', 'x_bin_groups', 'y_bin_groups', 'bin_groups'\n",
       "    var: 'ID', 'Symbol', 'Type', 'total_cells', 'meanExprsPct_cells'\n",
       "    uns: 'CellSPA', 'X_name'\n",
       "    obsm: 'PCA', 'UMAP', 'coord', 'spatial'\n",
       "    layers: 'logcounts', 'raw'"
      ]
     },
     "execution_count": 13,
     "metadata": {},
     "output_type": "execute_result"
    }
   ],
   "source": [
    "spatial_data"
   ]
  },
  {
   "cell_type": "code",
   "execution_count": null,
   "id": "0f62a22d",
   "metadata": {},
   "outputs": [],
   "source": []
  },
  {
   "cell_type": "code",
   "execution_count": null,
   "id": "d9d25786",
   "metadata": {},
   "outputs": [],
   "source": []
  },
  {
   "cell_type": "code",
   "execution_count": 14,
   "id": "fc4a5d47",
   "metadata": {},
   "outputs": [
    {
     "name": "stderr",
     "output_type": "stream",
     "text": [
      "/gpfs/gibbs/project/zhao/tl688/conda_envs/envi/lib/python3.9/site-packages/scanpy/preprocessing/_highly_variable_genes.py:383: UserWarning: `n_top_genes` > number of normalized dispersions, returning all genes with normalized dispersions.\n",
      "  warnings.warn(msg, UserWarning)\n"
     ]
    },
    {
     "name": "stdout",
     "output_type": "stream",
     "text": [
      "Computing Niche Covariance Matrices\n"
     ]
    },
    {
     "name": "stderr",
     "output_type": "stream",
     "text": [
      "/gpfs/gibbs/project/zhao/tl688/conda_envs/envi/lib/python3.9/site-packages/scenvi/utils.py:226: ImplicitModificationWarning: Setting element `.layers['log']` of view, initializing view as actual.\n",
      "  spatial_data.layers['log'] = np.log(spatial_data.X+1)\n"
     ]
    },
    {
     "name": "stdout",
     "output_type": "stream",
     "text": [
      "Initializing VAE\n",
      "Finished Initializing ENVI\n"
     ]
    },
    {
     "name": "stderr",
     "output_type": "stream",
     "text": [
      " spatial: -1.680e+00 sc: -8.023e-01 cov: -1.902e+01 kl: 3.702e+00: 100%|██████████| 1/1 [00:27<00:00, 27.71s/it]\n",
      "/gpfs/gibbs/project/zhao/tl688/conda_envs/envi/lib/python3.9/site-packages/scenvi/ENVI.py:416: ImplicitModificationWarning: Setting element `.obsm['envi_latent']` of view, initializing view as actual.\n",
      "  self.sc_data.obsm['envi_latent'] = self.encode(self.sc_data[:, self.spatial_data.var_names].X, mode = 'sc')\n",
      "2024-04-09 17:50:56.300860: W external/tsl/tsl/framework/bfc_allocator.cc:485] Allocator (GPU_0_bfc) ran out of memory trying to allocate 17.66MiB (rounded to 18515968)requested by op \n",
      "2024-04-09 17:50:56.301789: W external/tsl/tsl/framework/bfc_allocator.cc:497] ****************************************************************************************************\n",
      "2024-04-09 17:50:56.301883: E external/xla/xla/pjrt/pjrt_stream_executor_client.cc:2732] Execution of replica 0 failed: RESOURCE_EXHAUSTED: Out of memory while trying to allocate 18515968 bytes.\n",
      "BufferAssignment OOM Debugging.\n",
      "BufferAssignment stats:\n",
      "             parameter allocation:   35.32MiB\n",
      "              constant allocation:         0B\n",
      "        maybe_live_out allocation:   17.66MiB\n",
      "     preallocated temp allocation:         0B\n",
      "                 total allocation:   52.97MiB\n",
      "              total fragmentation:         0B (0.00%)\n",
      "Peak buffers:\n",
      "\tBuffer 1:\n",
      "\t\tSize: 17.66MiB\n",
      "\t\tEntry Parameter Subshape: f32[256,18082]\n",
      "\t\t==========================\n",
      "\n",
      "\tBuffer 2:\n",
      "\t\tSize: 17.66MiB\n",
      "\t\tEntry Parameter Subshape: f32[256,18082]\n",
      "\t\t==========================\n",
      "\n",
      "\tBuffer 3:\n",
      "\t\tSize: 17.66MiB\n",
      "\t\tOperator: op_name=\"jit(fn)/jit(main)/mul\" source_file=\"/tmp/ipykernel_2067853/3202982017.py\" source_line=8\n",
      "\t\tXLA Label: fusion\n",
      "\t\tShape: f32[256,18082]\n",
      "\t\t==========================\n",
      "\n",
      "\n"
     ]
    },
    {
     "ename": "ValueError",
     "evalue": "RESOURCE_EXHAUSTED: Out of memory while trying to allocate 18515968 bytes.\nBufferAssignment OOM Debugging.\nBufferAssignment stats:\n             parameter allocation:   35.32MiB\n              constant allocation:         0B\n        maybe_live_out allocation:   17.66MiB\n     preallocated temp allocation:         0B\n                 total allocation:   52.97MiB\n              total fragmentation:         0B (0.00%)\nPeak buffers:\n\tBuffer 1:\n\t\tSize: 17.66MiB\n\t\tEntry Parameter Subshape: f32[256,18082]\n\t\t==========================\n\n\tBuffer 2:\n\t\tSize: 17.66MiB\n\t\tEntry Parameter Subshape: f32[256,18082]\n\t\t==========================\n\n\tBuffer 3:\n\t\tSize: 17.66MiB\n\t\tOperator: op_name=\"jit(fn)/jit(main)/mul\" source_file=\"/tmp/ipykernel_2067853/3202982017.py\" source_line=8\n\t\tXLA Label: fusion\n\t\tShape: f32[256,18082]\n\t\t==========================\n\n",
     "output_type": "error",
     "traceback": [
      "\u001b[0;31m---------------------------------------------------------------------------\u001b[0m",
      "\u001b[0;31mValueError\u001b[0m                                Traceback (most recent call last)",
      "Cell \u001b[0;32mIn[14], line 8\u001b[0m\n\u001b[1;32m      5\u001b[0m envi_model \u001b[38;5;241m=\u001b[39m scenvi\u001b[38;5;241m.\u001b[39mENVI(spatial_data \u001b[38;5;241m=\u001b[39m spatial_data_partial, sc_data \u001b[38;5;241m=\u001b[39m seq_data, num_HVG \u001b[38;5;241m=\u001b[39m \u001b[38;5;28mlen\u001b[39m(seq_data\u001b[38;5;241m.\u001b[39mvar_names))\n\u001b[1;32m      7\u001b[0m envi_model\u001b[38;5;241m.\u001b[39mtrain(epochs\u001b[38;5;241m=\u001b[39m\u001b[38;5;241m1\u001b[39m, key \u001b[38;5;241m=\u001b[39m random\u001b[38;5;241m.\u001b[39mkey(\u001b[38;5;241m0\u001b[39m))\n\u001b[0;32m----> 8\u001b[0m \u001b[43menvi_model\u001b[49m\u001b[38;5;241;43m.\u001b[39;49m\u001b[43mimpute_genes\u001b[49m\u001b[43m(\u001b[49m\u001b[43m)\u001b[49m\n\u001b[1;32m      9\u001b[0m envi_model\u001b[38;5;241m.\u001b[39minfer_niche()\n\u001b[1;32m     11\u001b[0m envi_model\u001b[38;5;241m.\u001b[39mspatial_data\u001b[38;5;241m.\u001b[39mobsm[\u001b[38;5;124m'\u001b[39m\u001b[38;5;124mimputation\u001b[39m\u001b[38;5;124m'\u001b[39m]\n",
      "File \u001b[0;32m/gpfs/gibbs/project/zhao/tl688/conda_envs/envi/lib/python3.9/site-packages/scenvi/ENVI.py:429\u001b[0m, in \u001b[0;36mENVI.impute_genes\u001b[0;34m(self)\u001b[0m\n\u001b[1;32m    420\u001b[0m \u001b[38;5;28;01mdef\u001b[39;00m \u001b[38;5;21mimpute_genes\u001b[39m(\u001b[38;5;28mself\u001b[39m):\n\u001b[1;32m    421\u001b[0m \u001b[38;5;250m    \u001b[39m\u001b[38;5;124;03m\"\"\"\u001b[39;00m\n\u001b[1;32m    422\u001b[0m \u001b[38;5;124;03m    Imput full transcriptome for spatial data\u001b[39;00m\n\u001b[1;32m    423\u001b[0m \u001b[38;5;124;03m\u001b[39;00m\n\u001b[1;32m    424\u001b[0m \u001b[38;5;124;03m    Return:\u001b[39;00m\n\u001b[1;32m    425\u001b[0m \u001b[38;5;124;03m        no return, adds 'imputation' to ENVI.spatial_data.obsm\u001b[39;00m\n\u001b[1;32m    426\u001b[0m \u001b[38;5;124;03m    \"\"\"\u001b[39;00m\n\u001b[0;32m--> 429\u001b[0m     \u001b[38;5;28mself\u001b[39m\u001b[38;5;241m.\u001b[39mspatial_data\u001b[38;5;241m.\u001b[39mobsm[\u001b[38;5;124m'\u001b[39m\u001b[38;5;124mimputation\u001b[39m\u001b[38;5;124m'\u001b[39m] \u001b[38;5;241m=\u001b[39m pd\u001b[38;5;241m.\u001b[39mDataFrame(\u001b[38;5;28;43mself\u001b[39;49m\u001b[38;5;241;43m.\u001b[39;49m\u001b[43mdecode_exp\u001b[49m\u001b[43m(\u001b[49m\u001b[38;5;28;43mself\u001b[39;49m\u001b[38;5;241;43m.\u001b[39;49m\u001b[43mspatial_data\u001b[49m\u001b[38;5;241;43m.\u001b[39;49m\u001b[43mobsm\u001b[49m\u001b[43m[\u001b[49m\u001b[38;5;124;43m'\u001b[39;49m\u001b[38;5;124;43menvi_latent\u001b[39;49m\u001b[38;5;124;43m'\u001b[39;49m\u001b[43m]\u001b[49m\u001b[43m,\u001b[49m\u001b[43m  \u001b[49m\u001b[43mmode\u001b[49m\u001b[43m \u001b[49m\u001b[38;5;241;43m=\u001b[39;49m\u001b[43m \u001b[49m\u001b[38;5;124;43m'\u001b[39;49m\u001b[38;5;124;43msc\u001b[39;49m\u001b[38;5;124;43m'\u001b[39;49m\u001b[43m)\u001b[49m, \n\u001b[1;32m    430\u001b[0m                                                         columns \u001b[38;5;241m=\u001b[39m \u001b[38;5;28mself\u001b[39m\u001b[38;5;241m.\u001b[39msc_data\u001b[38;5;241m.\u001b[39mvar_names, \n\u001b[1;32m    431\u001b[0m                                                         index \u001b[38;5;241m=\u001b[39m \u001b[38;5;28mself\u001b[39m\u001b[38;5;241m.\u001b[39mspatial_data\u001b[38;5;241m.\u001b[39mobs_names)\n\u001b[1;32m    433\u001b[0m     \u001b[38;5;28mprint\u001b[39m(\u001b[38;5;124m\"\u001b[39m\u001b[38;5;124mFinished imputing missing gene for spatial data! See \u001b[39m\u001b[38;5;124m'\u001b[39m\u001b[38;5;124mimputation\u001b[39m\u001b[38;5;124m'\u001b[39m\u001b[38;5;124m in obsm of ENVI.spatial_data\u001b[39m\u001b[38;5;124m\"\u001b[39m)\n",
      "File \u001b[0;32m/gpfs/gibbs/project/zhao/tl688/conda_envs/envi/lib/python3.9/site-packages/scenvi/ENVI.py:387\u001b[0m, in \u001b[0;36mENVI.decode_exp\u001b[0;34m(self, x, mode, max_batch)\u001b[0m\n\u001b[1;32m    385\u001b[0m         num_split \u001b[38;5;241m=\u001b[39m \u001b[38;5;28mint\u001b[39m(x_conf\u001b[38;5;241m.\u001b[39mshape[\u001b[38;5;241m0\u001b[39m]\u001b[38;5;241m/\u001b[39mmax_batch)\u001b[38;5;241m+\u001b[39m\u001b[38;5;241m1\u001b[39m\n\u001b[1;32m    386\u001b[0m         x_conf_split \u001b[38;5;241m=\u001b[39m np\u001b[38;5;241m.\u001b[39marray_split(x_conf, num_split)\n\u001b[0;32m--> 387\u001b[0m         dec \u001b[38;5;241m=\u001b[39m np\u001b[38;5;241m.\u001b[39mconcatenate([\u001b[38;5;28mself\u001b[39m\u001b[38;5;241m.\u001b[39mmean_sc(\u001b[38;5;28mself\u001b[39m\u001b[38;5;241m.\u001b[39mmodel_decoder_exp(x_conf_split[split_ind])) \u001b[38;5;28;01mfor\u001b[39;00m\n\u001b[1;32m    388\u001b[0m                               split_ind \u001b[38;5;129;01min\u001b[39;00m \u001b[38;5;28mrange\u001b[39m(num_split)], axis \u001b[38;5;241m=\u001b[39m \u001b[38;5;241m0\u001b[39m)\n\u001b[1;32m    389\u001b[0m \u001b[38;5;28;01mreturn\u001b[39;00m dec\n",
      "File \u001b[0;32m/gpfs/gibbs/project/zhao/tl688/conda_envs/envi/lib/python3.9/site-packages/scenvi/ENVI.py:387\u001b[0m, in \u001b[0;36m<listcomp>\u001b[0;34m(.0)\u001b[0m\n\u001b[1;32m    385\u001b[0m         num_split \u001b[38;5;241m=\u001b[39m \u001b[38;5;28mint\u001b[39m(x_conf\u001b[38;5;241m.\u001b[39mshape[\u001b[38;5;241m0\u001b[39m]\u001b[38;5;241m/\u001b[39mmax_batch)\u001b[38;5;241m+\u001b[39m\u001b[38;5;241m1\u001b[39m\n\u001b[1;32m    386\u001b[0m         x_conf_split \u001b[38;5;241m=\u001b[39m np\u001b[38;5;241m.\u001b[39marray_split(x_conf, num_split)\n\u001b[0;32m--> 387\u001b[0m         dec \u001b[38;5;241m=\u001b[39m np\u001b[38;5;241m.\u001b[39mconcatenate([\u001b[38;5;28;43mself\u001b[39;49m\u001b[38;5;241;43m.\u001b[39;49m\u001b[43mmean_sc\u001b[49m\u001b[43m(\u001b[49m\u001b[38;5;28;43mself\u001b[39;49m\u001b[38;5;241;43m.\u001b[39;49m\u001b[43mmodel_decoder_exp\u001b[49m\u001b[43m(\u001b[49m\u001b[43mx_conf_split\u001b[49m\u001b[43m[\u001b[49m\u001b[43msplit_ind\u001b[49m\u001b[43m]\u001b[49m\u001b[43m)\u001b[49m\u001b[43m)\u001b[49m \u001b[38;5;28;01mfor\u001b[39;00m\n\u001b[1;32m    388\u001b[0m                               split_ind \u001b[38;5;129;01min\u001b[39;00m \u001b[38;5;28mrange\u001b[39m(num_split)], axis \u001b[38;5;241m=\u001b[39m \u001b[38;5;241m0\u001b[39m)\n\u001b[1;32m    389\u001b[0m \u001b[38;5;28;01mreturn\u001b[39;00m dec\n",
      "File \u001b[0;32m/gpfs/gibbs/project/zhao/tl688/conda_envs/envi/lib/python3.9/site-packages/scenvi/ENVI.py:179\u001b[0m, in \u001b[0;36mENVI.mean_sc\u001b[0;34m(self, sc_inp)\u001b[0m\n\u001b[1;32m    177\u001b[0m \u001b[38;5;28;01mif\u001b[39;00m(\u001b[38;5;28mself\u001b[39m\u001b[38;5;241m.\u001b[39msc_dist \u001b[38;5;241m==\u001b[39m \u001b[38;5;124m'\u001b[39m\u001b[38;5;124mnb\u001b[39m\u001b[38;5;124m'\u001b[39m):\n\u001b[1;32m    178\u001b[0m     sc_r, sc_p \u001b[38;5;241m=\u001b[39m jnp\u001b[38;5;241m.\u001b[39msplit(sc_inp, \u001b[38;5;241m2\u001b[39m, axis \u001b[38;5;241m=\u001b[39m \u001b[38;5;241m-\u001b[39m\u001b[38;5;241m1\u001b[39m)\n\u001b[0;32m--> 179\u001b[0m     \u001b[38;5;28;01mreturn\u001b[39;00m(\u001b[43mnn\u001b[49m\u001b[38;5;241;43m.\u001b[39;49m\u001b[43msoftplus\u001b[49m\u001b[43m(\u001b[49m\u001b[43msc_r\u001b[49m\u001b[43m)\u001b[49m\u001b[43m \u001b[49m\u001b[38;5;241;43m*\u001b[39;49m\u001b[43m \u001b[49m\u001b[43mjnp\u001b[49m\u001b[38;5;241;43m.\u001b[39;49m\u001b[43mexp\u001b[49m\u001b[43m(\u001b[49m\u001b[43msc_p\u001b[49m\u001b[43m)\u001b[49m)\n\u001b[1;32m    180\u001b[0m \u001b[38;5;28;01mif\u001b[39;00m(\u001b[38;5;28mself\u001b[39m\u001b[38;5;241m.\u001b[39msc_dist \u001b[38;5;241m==\u001b[39m \u001b[38;5;124m'\u001b[39m\u001b[38;5;124mpois\u001b[39m\u001b[38;5;124m'\u001b[39m):\n\u001b[1;32m    181\u001b[0m     sc_l \u001b[38;5;241m=\u001b[39m sc_neurons\n",
      "File \u001b[0;32m/gpfs/gibbs/project/zhao/tl688/conda_envs/envi/lib/python3.9/site-packages/jax/_src/numpy/array_methods.py:271\u001b[0m, in \u001b[0;36m_defer_to_unrecognized_arg.<locals>.deferring_binary_op\u001b[0;34m(self, other)\u001b[0m\n\u001b[1;32m    269\u001b[0m args \u001b[38;5;241m=\u001b[39m (other, \u001b[38;5;28mself\u001b[39m) \u001b[38;5;28;01mif\u001b[39;00m swap \u001b[38;5;28;01melse\u001b[39;00m (\u001b[38;5;28mself\u001b[39m, other)\n\u001b[1;32m    270\u001b[0m \u001b[38;5;28;01mif\u001b[39;00m \u001b[38;5;28misinstance\u001b[39m(other, _accepted_binop_types):\n\u001b[0;32m--> 271\u001b[0m   \u001b[38;5;28;01mreturn\u001b[39;00m \u001b[43mbinary_op\u001b[49m\u001b[43m(\u001b[49m\u001b[38;5;241;43m*\u001b[39;49m\u001b[43margs\u001b[49m\u001b[43m)\u001b[49m\n\u001b[1;32m    272\u001b[0m \u001b[38;5;66;03m# Note: don't use isinstance here, because we don't want to raise for\u001b[39;00m\n\u001b[1;32m    273\u001b[0m \u001b[38;5;66;03m# subclasses, e.g. NamedTuple objects that may override operators.\u001b[39;00m\n\u001b[1;32m    274\u001b[0m \u001b[38;5;28;01mif\u001b[39;00m \u001b[38;5;28mtype\u001b[39m(other) \u001b[38;5;129;01min\u001b[39;00m _rejected_binop_types:\n",
      "\u001b[0;31mValueError\u001b[0m: RESOURCE_EXHAUSTED: Out of memory while trying to allocate 18515968 bytes.\nBufferAssignment OOM Debugging.\nBufferAssignment stats:\n             parameter allocation:   35.32MiB\n              constant allocation:         0B\n        maybe_live_out allocation:   17.66MiB\n     preallocated temp allocation:         0B\n                 total allocation:   52.97MiB\n              total fragmentation:         0B (0.00%)\nPeak buffers:\n\tBuffer 1:\n\t\tSize: 17.66MiB\n\t\tEntry Parameter Subshape: f32[256,18082]\n\t\t==========================\n\n\tBuffer 2:\n\t\tSize: 17.66MiB\n\t\tEntry Parameter Subshape: f32[256,18082]\n\t\t==========================\n\n\tBuffer 3:\n\t\tSize: 17.66MiB\n\t\tOperator: op_name=\"jit(fn)/jit(main)/mul\" source_file=\"/tmp/ipykernel_2067853/3202982017.py\" source_line=8\n\t\tXLA Label: fusion\n\t\tShape: f32[256,18082]\n\t\t==========================\n\n"
     ]
    }
   ],
   "source": [
    "from jax import random\n",
    "\n",
    "import scenvi \n",
    "\n",
    "envi_model = scenvi.ENVI(spatial_data = spatial_data_partial, sc_data = seq_data, num_HVG = len(seq_data.var_names))\n",
    "\n",
    "envi_model.train(key = random.key(0))\n",
    "envi_model.impute_genes()\n",
    "envi_model.infer_niche()\n",
    "\n",
    "envi_model.spatial_data.obsm['imputation']\n",
    "\n",
    "seq_data.var_names\n",
    "\n",
    "spatial_data.obsm['impute'] = envi_model.spatial_data.obsm['imputation'].values\n",
    "\n",
    "\n",
    "spatial_data_imputed = sc.AnnData(spatial_data.obsm['impute'], obs = spatial_data_partial.obs)\n",
    "spatial_data_imputed.var_names = envi_model.spatial_data.obsm['imputation'].columns\n",
    "\n",
    "\n",
    "#     spatial_data_imputed.write_h5ad(f\"/gpfs/gibbs/pi/zhao/tl688/tangram/data_smfish/gimvigat_default_zsampleinference{i}.h5ad\")\n",
    "spatial_data_imputed.write_h5ad(f\"/gpfs/gibbs/pi/zhao/tl688/tangram/data_humanbreast/alldatafolder/envi_imputehumanbreast_alldata.h5ad\")\n",
    "\n",
    "spatial_data_imputed"
   ]
  },
  {
   "cell_type": "code",
   "execution_count": null,
   "id": "e853f74b",
   "metadata": {},
   "outputs": [],
   "source": []
  },
  {
   "cell_type": "code",
   "execution_count": null,
   "id": "c741da43",
   "metadata": {},
   "outputs": [],
   "source": []
  },
  {
   "cell_type": "code",
   "execution_count": null,
   "id": "a9205498",
   "metadata": {},
   "outputs": [],
   "source": []
  },
  {
   "cell_type": "code",
   "execution_count": null,
   "id": "aca11415",
   "metadata": {},
   "outputs": [],
   "source": [
    "import scenvi \n",
    "import scanpy as sc\n",
    "from scipy import stats\n",
    "import scipy.stats as st\n",
    "import scipy\n",
    "import pandas as pd\n",
    "from sklearn.model_selection import train_test_split\n",
    "import numpy as np\n",
    "\n",
    "\n",
    "import random \n",
    "random.seed(2023)\n",
    "\n",
    "from scipy import stats\n",
    "import scipy.stats as st\n",
    "import scipy\n",
    "\n",
    "def calcualte_pse_correlation(adata_sc, adata_st, celltype, p_value_threshold = 0.05, cor_threshold = 0.5):\n",
    "    overlap_gene = overlap_gene = list(set(adata_sc.var_names).intersection(adata_st.var_names))\n",
    "    adata_sc = adata_sc[:,overlap_gene]\n",
    "    adata_st = adata_st[:,overlap_gene]\n",
    "    \n",
    "    cell_type_common = list(set(adata_sc.obs[celltype].unique()).intersection(adata_st.obs[celltype].unique()))\n",
    "    \n",
    "    pseudo_st = []\n",
    "    pseudo_sc = []\n",
    "    for i in cell_type_common:\n",
    "        adata1 = adata_st[adata_st.obs[celltype] == i]\n",
    "        adata2 = adata_sc[adata_sc.obs[celltype] == i]\n",
    "\n",
    "        pseudo_st.append(np.mean(adata1.X.toarray(), axis = 0))\n",
    "        pseudo_sc.append(np.mean(adata2.X.toarray(), axis = 0))\n",
    "    \n",
    "    pseudo_st = np.array(pseudo_st)\n",
    "    pseudo_sc = np.array(pseudo_sc)\n",
    "\n",
    "    cor_pearson = []\n",
    "    cor_pvalue = []\n",
    "    for i in range(pseudo_st.shape[1]):\n",
    "        cor, pval = st.pearsonr(pseudo_st[:,i], pseudo_sc[:,i])\n",
    "        cor_pearson.append(cor)\n",
    "        cor_pvalue.append(pval)\n",
    "        \n",
    "    information_stat = pd.DataFrame()\n",
    "\n",
    "    information_stat['pearson'] = cor_pearson\n",
    "    information_stat['pvalue'] = cor_pvalue\n",
    "    information_stat.index = adata_st.var_names\n",
    "\n",
    "    information_stat_update = information_stat.loc[((information_stat['pvalue']<p_value_threshold) & (information_stat['pearson']>cor_threshold))]\n",
    "    \n",
    "    return information_stat_update.index\n",
    "\n",
    "seq_data = sc.read_h5ad(\"/gpfs/gibbs/pi/zhao/tl688/deconvdatasets/spatial_dataset/xenium_brain/aibs_mouse_ctx-hpf_smartseq_sce.h5ad\")\n",
    "spatial_data = sc.read_h5ad(\"/gpfs/gibbs/pi/zhao/tl688/deconvdatasets/spatial_dataset/xenium_brain/spe_xenium.h5ad\")\n",
    "seq_data.obs['scClassify'] = seq_data.obs['cell_type_alias_label2'].copy()\n",
    "seq_data.var_names_make_unique()\n",
    "spatial_data.obsm['spatial'] = spatial_data.obsm['X_spatial']\n",
    "\n",
    "spatial_data\n",
    "\n",
    "info_gene = calcualte_pse_correlation(seq_data, spatial_data, 'scClassify')\n",
    "\n",
    "import random \n",
    "random.seed(2023)\n",
    "gene_for_impute = seq_data.var_names\n",
    "\n",
    "seq_data = seq_data[:,gene_for_impute]\n",
    "spatial_data = spatial_data[:,info_gene]\n",
    "\n",
    "spatial_data.layers['raw'] = spatial_data.X.toarray()\n",
    "\n",
    "spatial_data.X = spatial_data.layers['raw'].copy()\n",
    "\n",
    "spatial_data_partial = spatial_data.copy()\n",
    "seq_data = seq_data.copy()\n",
    "\n",
    "seq_gene_names = seq_data.var_names\n",
    "n_genes = seq_data.n_vars\n",
    "\n",
    "# spatial_data_partial has a subset of the genes to train on\n",
    "spatial_data_partial = spatial_data_partial\n",
    "spatial_data = spatial_data[spatial_data_partial.obs_names]\n",
    "\n",
    "seq_data.X = seq_data.X.toarray()\n",
    "spatial_data.X = spatial_data.X.toarray()\n",
    "\n",
    "spatial_data\n",
    "\n",
    "sc.pp.subsample(spatial_data, fraction=0.0001)\n",
    "\n",
    "spatial_data\n",
    "\n",
    "\n",
    "\n",
    "\n",
    "\n",
    "from jax import random\n",
    "\n",
    "import scenvi \n",
    "\n",
    "envi_model = scenvi.ENVI(spatial_data = spatial_data_partial, sc_data = seq_data, num_HVG = len(seq_data.var_names))\n",
    "\n",
    "envi_model.train(epochs=1, key = random.key(0))\n",
    "envi_model.impute_genes()\n",
    "envi_model.infer_niche()\n",
    "\n",
    "envi_model.spatial_data.obsm['imputation']\n",
    "\n",
    "seq_data.var_names\n",
    "\n",
    "spatial_data.obsm['impute'] = envi_model.spatial_data.obsm['imputation'].values\n",
    "\n",
    "\n",
    "spatial_data_imputed = sc.AnnData(spatial_data.obsm['impute'], obs = spatial_data_partial.obs)\n",
    "spatial_data_imputed.var_names = envi_model.spatial_data.obsm['imputation'].columns\n",
    "\n",
    "\n",
    "#     spatial_data_imputed.write_h5ad(f\"/gpfs/gibbs/pi/zhao/tl688/tangram/data_smfish/gimvigat_default_zsampleinference{i}.h5ad\")\n",
    "spatial_data_imputed.write_h5ad(f\"/gpfs/gibbs/pi/zhao/tl688/tangram/data_mousebrain/alldatafolder/envi_imputehumanbreast_alldata.h5ad\")\n",
    "\n",
    "spatial_data_imputed\n",
    "\n"
   ]
  },
  {
   "cell_type": "code",
   "execution_count": null,
   "id": "c41be084",
   "metadata": {},
   "outputs": [],
   "source": []
  },
  {
   "cell_type": "code",
   "execution_count": null,
   "id": "caebb006",
   "metadata": {},
   "outputs": [],
   "source": []
  },
  {
   "cell_type": "code",
   "execution_count": 11,
   "id": "6e614971",
   "metadata": {},
   "outputs": [],
   "source": [
    "import scenvi \n",
    "\n",
    "scenvi \n",
    "\n",
    "import scanpy as sc\n",
    "from scipy import stats\n",
    "import scipy.stats as st\n",
    "import scipy\n",
    "import pandas as pd\n",
    "from sklearn.model_selection import train_test_split\n",
    "import numpy as np\n",
    "\n",
    "\n",
    "import random \n",
    "random.seed(2023)\n",
    "import jax"
   ]
  },
  {
   "cell_type": "code",
   "execution_count": 12,
   "id": "8bbd53cb",
   "metadata": {},
   "outputs": [],
   "source": [
    "from scipy import stats\n",
    "import scipy.stats as st\n",
    "import scipy"
   ]
  },
  {
   "cell_type": "code",
   "execution_count": 13,
   "id": "c0198a85",
   "metadata": {},
   "outputs": [],
   "source": [
    "def calcualte_pse_correlation(adata_sc, adata_st, celltype, p_value_threshold = 0.05, cor_threshold = 0.5):\n",
    "    overlap_gene = overlap_gene = list(set(adata_sc.var_names).intersection(adata_st.var_names))\n",
    "    adata_sc = adata_sc[:,overlap_gene]\n",
    "    adata_st = adata_st[:,overlap_gene]\n",
    "    \n",
    "    cell_type_common = list(set(adata_sc.obs[celltype].unique()).intersection(adata_st.obs[celltype].unique()))\n",
    "    \n",
    "    pseudo_st = []\n",
    "    pseudo_sc = []\n",
    "    for i in cell_type_common:\n",
    "        adata1 = adata_st[adata_st.obs[celltype] == i]\n",
    "        adata2 = adata_sc[adata_sc.obs[celltype] == i]\n",
    "\n",
    "        pseudo_st.append(np.mean(adata1.X.toarray(), axis = 0))\n",
    "        pseudo_sc.append(np.mean(adata2.X.toarray(), axis = 0))\n",
    "    \n",
    "    pseudo_st = np.array(pseudo_st)\n",
    "    pseudo_sc = np.array(pseudo_sc)\n",
    "\n",
    "    cor_pearson = []\n",
    "    cor_pvalue = []\n",
    "    for i in range(pseudo_st.shape[1]):\n",
    "        cor, pval = st.pearsonr(pseudo_st[:,i], pseudo_sc[:,i])\n",
    "        cor_pearson.append(cor)\n",
    "        cor_pvalue.append(pval)\n",
    "        \n",
    "    information_stat = pd.DataFrame()\n",
    "\n",
    "    information_stat['pearson'] = cor_pearson\n",
    "    information_stat['pvalue'] = cor_pvalue\n",
    "    information_stat.index = adata_st.var_names\n",
    "\n",
    "    information_stat_update = information_stat.loc[((information_stat['pvalue']<p_value_threshold) & (information_stat['pearson']>cor_threshold))]\n",
    "    \n",
    "    return information_stat_update.index"
   ]
  },
  {
   "cell_type": "code",
   "execution_count": 16,
   "id": "0c717f53",
   "metadata": {},
   "outputs": [],
   "source": [
    "# spatial_data =sc.read_h5ad(\"/gpfs/gibbs/pi/zhao/yl2687/data/spatial_fish_data/xenium_breast/spe_xenium_withMetrics.h5ad\")\n",
    "# seq_data = sc.read_h5ad(\"/gpfs/gibbs/pi/zhao/tl688/deconvdatasets/spatial_dataset/xenium_breast/sce_FFPE_full.h5ad\")\n",
    "import gc"
   ]
  },
  {
   "cell_type": "code",
   "execution_count": 18,
   "id": "e065d17e",
   "metadata": {},
   "outputs": [
    {
     "name": "stderr",
     "output_type": "stream",
     "text": [
      "/gpfs/gibbs/project/zhao/tl688/conda_envs/envi/lib/python3.9/site-packages/anndata/_core/anndata.py:1820: UserWarning: Variable names are not unique. To make them unique, call `.var_names_make_unique`.\n",
      "  utils.warn_names_duplicates(\"var\")\n",
      "/tmp/ipykernel_2322744/1732007094.py:23: ConstantInputWarning: An input array is constant; the correlation coefficient is not defined.\n",
      "  cor, pval = st.pearsonr(pseudo_st[:,i], pseudo_sc[:,i])\n"
     ]
    },
    {
     "name": "stdout",
     "output_type": "stream",
     "text": [
      "Computing Niche Covariance Matrices\n"
     ]
    },
    {
     "name": "stderr",
     "output_type": "stream",
     "text": [
      "/gpfs/gibbs/project/zhao/tl688/conda_envs/envi/lib/python3.9/site-packages/scenvi/utils.py:226: ImplicitModificationWarning: Setting element `.layers['log']` of view, initializing view as actual.\n",
      "  spatial_data.layers['log'] = np.log(spatial_data.X+1)\n"
     ]
    },
    {
     "name": "stdout",
     "output_type": "stream",
     "text": [
      "Initializing VAE\n",
      "Finished Initializing ENVI\n"
     ]
    },
    {
     "name": "stderr",
     "output_type": "stream",
     "text": [
      " spatial: -3.904e-01 sc: -3.651e-01 cov: -3.063e-03 kl: 7.041e-01: 100%|██████████| 16000/16000 [01:15<00:00, 213.03it/s]\n",
      "/gpfs/gibbs/project/zhao/tl688/conda_envs/envi/lib/python3.9/site-packages/scenvi/ENVI.py:416: ImplicitModificationWarning: Setting element `.obsm['envi_latent']` of view, initializing view as actual.\n",
      "  self.sc_data.obsm['envi_latent'] = self.encode(self.sc_data[:, self.spatial_data.var_names].X, mode = 'sc')\n"
     ]
    },
    {
     "name": "stdout",
     "output_type": "stream",
     "text": [
      "Finished imputing missing gene for spatial data! See 'imputation' in obsm of ENVI.spatial_data\n"
     ]
    },
    {
     "name": "stderr",
     "output_type": "stream",
     "text": [
      "/tmp/ipykernel_2322744/3284622178.py:43: ImplicitModificationWarning: Setting element `.obsm['impute']` of view, initializing view as actual.\n",
      "  spatial_data.obsm['impute'] = envi_model.spatial_data.obsm['imputation'][list(spatial_data.var_names)].values\n",
      "/gpfs/gibbs/project/zhao/tl688/conda_envs/envi/lib/python3.9/site-packages/anndata/_core/anndata.py:1820: UserWarning: Variable names are not unique. To make them unique, call `.var_names_make_unique`.\n",
      "  utils.warn_names_duplicates(\"var\")\n",
      "/tmp/ipykernel_2322744/1732007094.py:23: ConstantInputWarning: An input array is constant; the correlation coefficient is not defined.\n",
      "  cor, pval = st.pearsonr(pseudo_st[:,i], pseudo_sc[:,i])\n"
     ]
    },
    {
     "name": "stdout",
     "output_type": "stream",
     "text": [
      "Computing Niche Covariance Matrices\n"
     ]
    },
    {
     "name": "stderr",
     "output_type": "stream",
     "text": [
      "/gpfs/gibbs/project/zhao/tl688/conda_envs/envi/lib/python3.9/site-packages/scenvi/utils.py:226: ImplicitModificationWarning: Setting element `.layers['log']` of view, initializing view as actual.\n",
      "  spatial_data.layers['log'] = np.log(spatial_data.X+1)\n"
     ]
    },
    {
     "name": "stdout",
     "output_type": "stream",
     "text": [
      "Initializing VAE\n",
      "Finished Initializing ENVI\n"
     ]
    },
    {
     "name": "stderr",
     "output_type": "stream",
     "text": [
      " spatial: -3.980e-01 sc: -3.611e-01 cov: -3.155e-03 kl: 7.054e-01: 100%|██████████| 16000/16000 [01:16<00:00, 207.81it/s]\n",
      "/gpfs/gibbs/project/zhao/tl688/conda_envs/envi/lib/python3.9/site-packages/scenvi/ENVI.py:416: ImplicitModificationWarning: Setting element `.obsm['envi_latent']` of view, initializing view as actual.\n",
      "  self.sc_data.obsm['envi_latent'] = self.encode(self.sc_data[:, self.spatial_data.var_names].X, mode = 'sc')\n"
     ]
    },
    {
     "name": "stdout",
     "output_type": "stream",
     "text": [
      "Finished imputing missing gene for spatial data! See 'imputation' in obsm of ENVI.spatial_data\n"
     ]
    },
    {
     "name": "stderr",
     "output_type": "stream",
     "text": [
      "/tmp/ipykernel_2322744/3284622178.py:43: ImplicitModificationWarning: Setting element `.obsm['impute']` of view, initializing view as actual.\n",
      "  spatial_data.obsm['impute'] = envi_model.spatial_data.obsm['imputation'][list(spatial_data.var_names)].values\n",
      "/gpfs/gibbs/project/zhao/tl688/conda_envs/envi/lib/python3.9/site-packages/anndata/_core/anndata.py:1820: UserWarning: Variable names are not unique. To make them unique, call `.var_names_make_unique`.\n",
      "  utils.warn_names_duplicates(\"var\")\n",
      "/tmp/ipykernel_2322744/1732007094.py:23: ConstantInputWarning: An input array is constant; the correlation coefficient is not defined.\n",
      "  cor, pval = st.pearsonr(pseudo_st[:,i], pseudo_sc[:,i])\n"
     ]
    },
    {
     "name": "stdout",
     "output_type": "stream",
     "text": [
      "Computing Niche Covariance Matrices\n"
     ]
    },
    {
     "name": "stderr",
     "output_type": "stream",
     "text": [
      "/gpfs/gibbs/project/zhao/tl688/conda_envs/envi/lib/python3.9/site-packages/scenvi/utils.py:226: ImplicitModificationWarning: Setting element `.layers['log']` of view, initializing view as actual.\n",
      "  spatial_data.layers['log'] = np.log(spatial_data.X+1)\n"
     ]
    },
    {
     "name": "stdout",
     "output_type": "stream",
     "text": [
      "Initializing VAE\n",
      "Finished Initializing ENVI\n"
     ]
    },
    {
     "name": "stderr",
     "output_type": "stream",
     "text": [
      " spatial: -3.760e-01 sc: -3.715e-01 cov: -3.311e-03 kl: 7.072e-01: 100%|██████████| 16000/16000 [01:17<00:00, 207.18it/s]\n",
      "/gpfs/gibbs/project/zhao/tl688/conda_envs/envi/lib/python3.9/site-packages/scenvi/ENVI.py:416: ImplicitModificationWarning: Setting element `.obsm['envi_latent']` of view, initializing view as actual.\n",
      "  self.sc_data.obsm['envi_latent'] = self.encode(self.sc_data[:, self.spatial_data.var_names].X, mode = 'sc')\n"
     ]
    },
    {
     "name": "stdout",
     "output_type": "stream",
     "text": [
      "Finished imputing missing gene for spatial data! See 'imputation' in obsm of ENVI.spatial_data\n"
     ]
    },
    {
     "name": "stderr",
     "output_type": "stream",
     "text": [
      "/tmp/ipykernel_2322744/3284622178.py:43: ImplicitModificationWarning: Setting element `.obsm['impute']` of view, initializing view as actual.\n",
      "  spatial_data.obsm['impute'] = envi_model.spatial_data.obsm['imputation'][list(spatial_data.var_names)].values\n",
      "/gpfs/gibbs/project/zhao/tl688/conda_envs/envi/lib/python3.9/site-packages/anndata/_core/anndata.py:1820: UserWarning: Variable names are not unique. To make them unique, call `.var_names_make_unique`.\n",
      "  utils.warn_names_duplicates(\"var\")\n",
      "/tmp/ipykernel_2322744/1732007094.py:23: ConstantInputWarning: An input array is constant; the correlation coefficient is not defined.\n",
      "  cor, pval = st.pearsonr(pseudo_st[:,i], pseudo_sc[:,i])\n"
     ]
    },
    {
     "name": "stdout",
     "output_type": "stream",
     "text": [
      "Computing Niche Covariance Matrices\n"
     ]
    },
    {
     "name": "stderr",
     "output_type": "stream",
     "text": [
      "/gpfs/gibbs/project/zhao/tl688/conda_envs/envi/lib/python3.9/site-packages/scenvi/utils.py:226: ImplicitModificationWarning: Setting element `.layers['log']` of view, initializing view as actual.\n",
      "  spatial_data.layers['log'] = np.log(spatial_data.X+1)\n"
     ]
    },
    {
     "name": "stdout",
     "output_type": "stream",
     "text": [
      "Initializing VAE\n",
      "Finished Initializing ENVI\n"
     ]
    },
    {
     "name": "stderr",
     "output_type": "stream",
     "text": [
      " spatial: -3.848e-01 sc: -3.619e-01 cov: -2.849e-03 kl: 7.002e-01: 100%|██████████| 16000/16000 [01:17<00:00, 206.02it/s]\n",
      "/gpfs/gibbs/project/zhao/tl688/conda_envs/envi/lib/python3.9/site-packages/scenvi/ENVI.py:416: ImplicitModificationWarning: Setting element `.obsm['envi_latent']` of view, initializing view as actual.\n",
      "  self.sc_data.obsm['envi_latent'] = self.encode(self.sc_data[:, self.spatial_data.var_names].X, mode = 'sc')\n"
     ]
    },
    {
     "name": "stdout",
     "output_type": "stream",
     "text": [
      "Finished imputing missing gene for spatial data! See 'imputation' in obsm of ENVI.spatial_data\n"
     ]
    },
    {
     "name": "stderr",
     "output_type": "stream",
     "text": [
      "/tmp/ipykernel_2322744/3284622178.py:43: ImplicitModificationWarning: Setting element `.obsm['impute']` of view, initializing view as actual.\n",
      "  spatial_data.obsm['impute'] = envi_model.spatial_data.obsm['imputation'][list(spatial_data.var_names)].values\n",
      "/gpfs/gibbs/project/zhao/tl688/conda_envs/envi/lib/python3.9/site-packages/anndata/_core/anndata.py:1820: UserWarning: Variable names are not unique. To make them unique, call `.var_names_make_unique`.\n",
      "  utils.warn_names_duplicates(\"var\")\n",
      "/tmp/ipykernel_2322744/1732007094.py:23: ConstantInputWarning: An input array is constant; the correlation coefficient is not defined.\n",
      "  cor, pval = st.pearsonr(pseudo_st[:,i], pseudo_sc[:,i])\n"
     ]
    },
    {
     "name": "stdout",
     "output_type": "stream",
     "text": [
      "Computing Niche Covariance Matrices\n"
     ]
    },
    {
     "name": "stderr",
     "output_type": "stream",
     "text": [
      "/gpfs/gibbs/project/zhao/tl688/conda_envs/envi/lib/python3.9/site-packages/scenvi/utils.py:226: ImplicitModificationWarning: Setting element `.layers['log']` of view, initializing view as actual.\n",
      "  spatial_data.layers['log'] = np.log(spatial_data.X+1)\n"
     ]
    },
    {
     "name": "stdout",
     "output_type": "stream",
     "text": [
      "Initializing VAE\n",
      "Finished Initializing ENVI\n"
     ]
    },
    {
     "name": "stderr",
     "output_type": "stream",
     "text": [
      " spatial: -3.773e-01 sc: -3.677e-01 cov: -3.182e-03 kl: 7.004e-01: 100%|██████████| 16000/16000 [01:15<00:00, 212.41it/s]\n",
      "/gpfs/gibbs/project/zhao/tl688/conda_envs/envi/lib/python3.9/site-packages/scenvi/ENVI.py:416: ImplicitModificationWarning: Setting element `.obsm['envi_latent']` of view, initializing view as actual.\n",
      "  self.sc_data.obsm['envi_latent'] = self.encode(self.sc_data[:, self.spatial_data.var_names].X, mode = 'sc')\n"
     ]
    },
    {
     "name": "stdout",
     "output_type": "stream",
     "text": [
      "Finished imputing missing gene for spatial data! See 'imputation' in obsm of ENVI.spatial_data\n"
     ]
    },
    {
     "name": "stderr",
     "output_type": "stream",
     "text": [
      "/tmp/ipykernel_2322744/3284622178.py:43: ImplicitModificationWarning: Setting element `.obsm['impute']` of view, initializing view as actual.\n",
      "  spatial_data.obsm['impute'] = envi_model.spatial_data.obsm['imputation'][list(spatial_data.var_names)].values\n",
      "/gpfs/gibbs/project/zhao/tl688/conda_envs/envi/lib/python3.9/site-packages/anndata/_core/anndata.py:1820: UserWarning: Variable names are not unique. To make them unique, call `.var_names_make_unique`.\n",
      "  utils.warn_names_duplicates(\"var\")\n",
      "/tmp/ipykernel_2322744/1732007094.py:23: ConstantInputWarning: An input array is constant; the correlation coefficient is not defined.\n",
      "  cor, pval = st.pearsonr(pseudo_st[:,i], pseudo_sc[:,i])\n"
     ]
    },
    {
     "name": "stdout",
     "output_type": "stream",
     "text": [
      "Computing Niche Covariance Matrices\n"
     ]
    },
    {
     "name": "stderr",
     "output_type": "stream",
     "text": [
      "/gpfs/gibbs/project/zhao/tl688/conda_envs/envi/lib/python3.9/site-packages/scenvi/utils.py:226: ImplicitModificationWarning: Setting element `.layers['log']` of view, initializing view as actual.\n",
      "  spatial_data.layers['log'] = np.log(spatial_data.X+1)\n"
     ]
    },
    {
     "name": "stdout",
     "output_type": "stream",
     "text": [
      "Initializing VAE\n",
      "Finished Initializing ENVI\n"
     ]
    },
    {
     "name": "stderr",
     "output_type": "stream",
     "text": [
      " spatial: -4.016e-01 sc: -3.659e-01 cov: -3.324e-03 kl: 7.084e-01: 100%|██████████| 16000/16000 [01:16<00:00, 208.08it/s]\n",
      "/gpfs/gibbs/project/zhao/tl688/conda_envs/envi/lib/python3.9/site-packages/scenvi/ENVI.py:416: ImplicitModificationWarning: Setting element `.obsm['envi_latent']` of view, initializing view as actual.\n",
      "  self.sc_data.obsm['envi_latent'] = self.encode(self.sc_data[:, self.spatial_data.var_names].X, mode = 'sc')\n"
     ]
    },
    {
     "name": "stdout",
     "output_type": "stream",
     "text": [
      "Finished imputing missing gene for spatial data! See 'imputation' in obsm of ENVI.spatial_data\n"
     ]
    },
    {
     "name": "stderr",
     "output_type": "stream",
     "text": [
      "/tmp/ipykernel_2322744/3284622178.py:43: ImplicitModificationWarning: Setting element `.obsm['impute']` of view, initializing view as actual.\n",
      "  spatial_data.obsm['impute'] = envi_model.spatial_data.obsm['imputation'][list(spatial_data.var_names)].values\n",
      "/gpfs/gibbs/project/zhao/tl688/conda_envs/envi/lib/python3.9/site-packages/anndata/_core/anndata.py:1820: UserWarning: Variable names are not unique. To make them unique, call `.var_names_make_unique`.\n",
      "  utils.warn_names_duplicates(\"var\")\n",
      "/tmp/ipykernel_2322744/1732007094.py:23: ConstantInputWarning: An input array is constant; the correlation coefficient is not defined.\n",
      "  cor, pval = st.pearsonr(pseudo_st[:,i], pseudo_sc[:,i])\n"
     ]
    },
    {
     "name": "stdout",
     "output_type": "stream",
     "text": [
      "Computing Niche Covariance Matrices\n"
     ]
    },
    {
     "name": "stderr",
     "output_type": "stream",
     "text": [
      "/gpfs/gibbs/project/zhao/tl688/conda_envs/envi/lib/python3.9/site-packages/scenvi/utils.py:226: ImplicitModificationWarning: Setting element `.layers['log']` of view, initializing view as actual.\n",
      "  spatial_data.layers['log'] = np.log(spatial_data.X+1)\n"
     ]
    },
    {
     "name": "stdout",
     "output_type": "stream",
     "text": [
      "Initializing VAE\n",
      "Finished Initializing ENVI\n"
     ]
    },
    {
     "name": "stderr",
     "output_type": "stream",
     "text": [
      " spatial: -4.033e-01 sc: -3.575e-01 cov: -3.300e-03 kl: 7.059e-01: 100%|██████████| 16000/16000 [01:17<00:00, 207.17it/s]\n",
      "/gpfs/gibbs/project/zhao/tl688/conda_envs/envi/lib/python3.9/site-packages/scenvi/ENVI.py:416: ImplicitModificationWarning: Setting element `.obsm['envi_latent']` of view, initializing view as actual.\n",
      "  self.sc_data.obsm['envi_latent'] = self.encode(self.sc_data[:, self.spatial_data.var_names].X, mode = 'sc')\n"
     ]
    },
    {
     "name": "stdout",
     "output_type": "stream",
     "text": [
      "Finished imputing missing gene for spatial data! See 'imputation' in obsm of ENVI.spatial_data\n"
     ]
    },
    {
     "name": "stderr",
     "output_type": "stream",
     "text": [
      "/tmp/ipykernel_2322744/3284622178.py:43: ImplicitModificationWarning: Setting element `.obsm['impute']` of view, initializing view as actual.\n",
      "  spatial_data.obsm['impute'] = envi_model.spatial_data.obsm['imputation'][list(spatial_data.var_names)].values\n",
      "/gpfs/gibbs/project/zhao/tl688/conda_envs/envi/lib/python3.9/site-packages/anndata/_core/anndata.py:1820: UserWarning: Variable names are not unique. To make them unique, call `.var_names_make_unique`.\n",
      "  utils.warn_names_duplicates(\"var\")\n",
      "/tmp/ipykernel_2322744/1732007094.py:23: ConstantInputWarning: An input array is constant; the correlation coefficient is not defined.\n",
      "  cor, pval = st.pearsonr(pseudo_st[:,i], pseudo_sc[:,i])\n"
     ]
    },
    {
     "name": "stdout",
     "output_type": "stream",
     "text": [
      "Computing Niche Covariance Matrices\n"
     ]
    },
    {
     "name": "stderr",
     "output_type": "stream",
     "text": [
      "/gpfs/gibbs/project/zhao/tl688/conda_envs/envi/lib/python3.9/site-packages/scenvi/utils.py:226: ImplicitModificationWarning: Setting element `.layers['log']` of view, initializing view as actual.\n",
      "  spatial_data.layers['log'] = np.log(spatial_data.X+1)\n"
     ]
    },
    {
     "name": "stdout",
     "output_type": "stream",
     "text": [
      "Initializing VAE\n",
      "Finished Initializing ENVI\n"
     ]
    },
    {
     "name": "stderr",
     "output_type": "stream",
     "text": [
      " spatial: -4.087e-01 sc: -3.715e-01 cov: -3.318e-03 kl: 7.180e-01: 100%|██████████| 16000/16000 [01:15<00:00, 212.46it/s]\n",
      "/gpfs/gibbs/project/zhao/tl688/conda_envs/envi/lib/python3.9/site-packages/scenvi/ENVI.py:416: ImplicitModificationWarning: Setting element `.obsm['envi_latent']` of view, initializing view as actual.\n",
      "  self.sc_data.obsm['envi_latent'] = self.encode(self.sc_data[:, self.spatial_data.var_names].X, mode = 'sc')\n"
     ]
    },
    {
     "name": "stdout",
     "output_type": "stream",
     "text": [
      "Finished imputing missing gene for spatial data! See 'imputation' in obsm of ENVI.spatial_data\n"
     ]
    },
    {
     "name": "stderr",
     "output_type": "stream",
     "text": [
      "/tmp/ipykernel_2322744/3284622178.py:43: ImplicitModificationWarning: Setting element `.obsm['impute']` of view, initializing view as actual.\n",
      "  spatial_data.obsm['impute'] = envi_model.spatial_data.obsm['imputation'][list(spatial_data.var_names)].values\n",
      "/gpfs/gibbs/project/zhao/tl688/conda_envs/envi/lib/python3.9/site-packages/anndata/_core/anndata.py:1820: UserWarning: Variable names are not unique. To make them unique, call `.var_names_make_unique`.\n",
      "  utils.warn_names_duplicates(\"var\")\n",
      "/tmp/ipykernel_2322744/1732007094.py:23: ConstantInputWarning: An input array is constant; the correlation coefficient is not defined.\n",
      "  cor, pval = st.pearsonr(pseudo_st[:,i], pseudo_sc[:,i])\n"
     ]
    },
    {
     "name": "stdout",
     "output_type": "stream",
     "text": [
      "Computing Niche Covariance Matrices\n"
     ]
    },
    {
     "name": "stderr",
     "output_type": "stream",
     "text": [
      "/gpfs/gibbs/project/zhao/tl688/conda_envs/envi/lib/python3.9/site-packages/scenvi/utils.py:226: ImplicitModificationWarning: Setting element `.layers['log']` of view, initializing view as actual.\n",
      "  spatial_data.layers['log'] = np.log(spatial_data.X+1)\n"
     ]
    },
    {
     "name": "stdout",
     "output_type": "stream",
     "text": [
      "Initializing VAE\n",
      "Finished Initializing ENVI\n"
     ]
    },
    {
     "name": "stderr",
     "output_type": "stream",
     "text": [
      " spatial: -4.071e-01 sc: -3.612e-01 cov: -3.210e-03 kl: 7.098e-01: 100%|██████████| 16000/16000 [01:16<00:00, 209.48it/s]\n",
      "/gpfs/gibbs/project/zhao/tl688/conda_envs/envi/lib/python3.9/site-packages/scenvi/ENVI.py:416: ImplicitModificationWarning: Setting element `.obsm['envi_latent']` of view, initializing view as actual.\n",
      "  self.sc_data.obsm['envi_latent'] = self.encode(self.sc_data[:, self.spatial_data.var_names].X, mode = 'sc')\n"
     ]
    },
    {
     "name": "stdout",
     "output_type": "stream",
     "text": [
      "Finished imputing missing gene for spatial data! See 'imputation' in obsm of ENVI.spatial_data\n"
     ]
    },
    {
     "name": "stderr",
     "output_type": "stream",
     "text": [
      "/tmp/ipykernel_2322744/3284622178.py:43: ImplicitModificationWarning: Setting element `.obsm['impute']` of view, initializing view as actual.\n",
      "  spatial_data.obsm['impute'] = envi_model.spatial_data.obsm['imputation'][list(spatial_data.var_names)].values\n",
      "/gpfs/gibbs/project/zhao/tl688/conda_envs/envi/lib/python3.9/site-packages/anndata/_core/anndata.py:1820: UserWarning: Variable names are not unique. To make them unique, call `.var_names_make_unique`.\n",
      "  utils.warn_names_duplicates(\"var\")\n",
      "/tmp/ipykernel_2322744/1732007094.py:23: ConstantInputWarning: An input array is constant; the correlation coefficient is not defined.\n",
      "  cor, pval = st.pearsonr(pseudo_st[:,i], pseudo_sc[:,i])\n"
     ]
    },
    {
     "name": "stdout",
     "output_type": "stream",
     "text": [
      "Computing Niche Covariance Matrices\n"
     ]
    },
    {
     "name": "stderr",
     "output_type": "stream",
     "text": [
      "/gpfs/gibbs/project/zhao/tl688/conda_envs/envi/lib/python3.9/site-packages/scenvi/utils.py:226: ImplicitModificationWarning: Setting element `.layers['log']` of view, initializing view as actual.\n",
      "  spatial_data.layers['log'] = np.log(spatial_data.X+1)\n"
     ]
    },
    {
     "name": "stdout",
     "output_type": "stream",
     "text": [
      "Initializing VAE\n",
      "Finished Initializing ENVI\n"
     ]
    },
    {
     "name": "stderr",
     "output_type": "stream",
     "text": [
      " spatial: -3.880e-01 sc: -3.581e-01 cov: -3.247e-03 kl: 7.047e-01: 100%|██████████| 16000/16000 [01:14<00:00, 213.73it/s]\n",
      "/gpfs/gibbs/project/zhao/tl688/conda_envs/envi/lib/python3.9/site-packages/scenvi/ENVI.py:416: ImplicitModificationWarning: Setting element `.obsm['envi_latent']` of view, initializing view as actual.\n",
      "  self.sc_data.obsm['envi_latent'] = self.encode(self.sc_data[:, self.spatial_data.var_names].X, mode = 'sc')\n"
     ]
    },
    {
     "name": "stdout",
     "output_type": "stream",
     "text": [
      "Finished imputing missing gene for spatial data! See 'imputation' in obsm of ENVI.spatial_data\n"
     ]
    },
    {
     "name": "stderr",
     "output_type": "stream",
     "text": [
      "/tmp/ipykernel_2322744/3284622178.py:43: ImplicitModificationWarning: Setting element `.obsm['impute']` of view, initializing view as actual.\n",
      "  spatial_data.obsm['impute'] = envi_model.spatial_data.obsm['imputation'][list(spatial_data.var_names)].values\n"
     ]
    }
   ],
   "source": [
    "for sample_index in range(0,10):\n",
    "    seq_data = sc.read_h5ad(\"/gpfs/gibbs/pi/zhao/tl688/deconvdatasets/spatial_dataset/xenium_breast/sce_FFPE_full.h5ad\")\n",
    "    spatial_data = sc.read_h5ad(f\"/gpfs/gibbs/pi/zhao/tl688/tangram/human_breast_simulation/spe_xenium_data_0.1_seed{sample_index}.h5ad\")\n",
    "    seq_data.var_names_make_unique()\n",
    "    spatial_data.var_names_make_unique()\n",
    "    spatial_data.X = spatial_data.X.toarray()\n",
    "    seq_data.X = seq_data.X.toarray()\n",
    "    seq_data.obs['names'] = [i for i in range(len(seq_data))]\n",
    "    spatial_data.obs['names'] = [i for i in range(len(spatial_data))]\n",
    "    \n",
    "    seq_data.obs['ind_x'] = [i for i in range(len(seq_data))]\n",
    "    spatial_data.obs['ind_x'] = [i for i in range(len(spatial_data))]\n",
    "    spatial_data.obsm['spatial'] = spatial_data.obsm['coord']\n",
    "\n",
    "    seq_data.obs['scClassify'] = seq_data.obs['graph_cluster_anno'].copy() \n",
    "\n",
    "    info_gene = calcualte_pse_correlation(seq_data, spatial_data, 'scClassify')\n",
    "\n",
    "    seq_data = seq_data[:,info_gene]\n",
    "    spatial_data = spatial_data[:,info_gene]\n",
    "\n",
    "    import random \n",
    "    random.seed(2023)\n",
    "    g1 = list(set(spatial_data .var_names).intersection(seq_data.var_names))\n",
    "    g1  = sorted(g1)\n",
    "    train_g, test_g = train_test_split(g1, test_size=0.33, random_state=2023)\n",
    "    spatial_data_partial = spatial_data[:, train_g].copy()\n",
    "    seq_data = seq_data.copy()\n",
    "\n",
    "    seq_gene_names = seq_data.var_names\n",
    "    n_genes = seq_data.n_vars\n",
    "\n",
    "    # spatial_data_partial has a subset of the genes to train on\n",
    "    spatial_data_partial = spatial_data_partial\n",
    "\n",
    "    spatial_data = spatial_data[spatial_data_partial.obs_names]\n",
    "    \n",
    "    envi_model = scenvi.ENVI(spatial_data = spatial_data_partial, sc_data = seq_data)\n",
    "    envi_model.train(key = jax.random.key(sample_index))\n",
    "    envi_model.impute_genes()\n",
    "    envi_model.infer_niche()\n",
    "    \n",
    "    spatial_data.obsm['impute'] = envi_model.spatial_data.obsm['imputation'][list(spatial_data.var_names)].values\n",
    "\n",
    "    gc.collect()\n",
    "    spatial_data.write_h5ad(f\"/gpfs/gibbs/pi/zhao/tl688/tangram/envi_humanbreast_seed{sample_index}.h5ad\")"
   ]
  },
  {
   "cell_type": "code",
   "execution_count": 19,
   "id": "d549b8c6",
   "metadata": {},
   "outputs": [
    {
     "data": {
      "text/plain": [
       "AnnData object with n_obs × n_vars = 30365 × 276\n",
       "    obs: 'Barcode', 'sizeFactor', 'cluster', 'graph_cluster', 'ffpe_celltype', 'graph_cluster_anno', 'names', 'ind_x', 'scClassify'\n",
       "    var: 'ID', 'Symbol', 'Type', 'highly_variable', 'means', 'dispersions', 'dispersions_norm'\n",
       "    uns: 'hvg'\n",
       "    obsm: 'X_pca', 'X_umap'\n",
       "    layers: 'logcounts', 'log'"
      ]
     },
     "execution_count": 19,
     "metadata": {},
     "output_type": "execute_result"
    }
   ],
   "source": [
    "seq_data"
   ]
  },
  {
   "cell_type": "code",
   "execution_count": 20,
   "id": "c6905afe",
   "metadata": {},
   "outputs": [],
   "source": [
    "a  = 1"
   ]
  },
  {
   "cell_type": "code",
   "execution_count": null,
   "id": "e508c82c",
   "metadata": {},
   "outputs": [],
   "source": []
  },
  {
   "cell_type": "code",
   "execution_count": 1,
   "id": "356ea4ef",
   "metadata": {},
   "outputs": [
    {
     "name": "stderr",
     "output_type": "stream",
     "text": [
      "2024-04-09 01:03:26.566711: W external/xla/xla/service/gpu/nvptx_compiler.cc:698] The NVIDIA driver's CUDA version is 12.3 which is older than the ptxas CUDA version (12.4.131). Because the driver is older than the ptxas version, XLA is disabling parallel compilation, which may slow down compilation. You should update your NVIDIA driver or use the NVIDIA-provided CUDA forward compatibility packages.\n"
     ]
    }
   ],
   "source": [
    "import scenvi \n",
    "\n",
    "scenvi \n",
    "\n",
    "import scanpy as sc\n",
    "from scipy import stats\n",
    "import scipy.stats as st\n",
    "import scipy\n",
    "import pandas as pd\n",
    "from sklearn.model_selection import train_test_split\n",
    "import numpy as np\n",
    "\n",
    "\n",
    "import random \n",
    "random.seed(2023)\n",
    "import jax\n",
    "\n",
    "from scipy import stats\n",
    "import scipy.stats as st\n",
    "import scipy"
   ]
  },
  {
   "cell_type": "code",
   "execution_count": null,
   "id": "61079ee3",
   "metadata": {},
   "outputs": [],
   "source": []
  },
  {
   "cell_type": "code",
   "execution_count": 2,
   "id": "19ad24ed",
   "metadata": {},
   "outputs": [],
   "source": [
    "def calcualte_pse_correlation(adata_sc, adata_st, celltype, p_value_threshold = 0.05, cor_threshold = 0.5):\n",
    "    overlap_gene = overlap_gene = list(set(adata_sc.var_names).intersection(adata_st.var_names))\n",
    "    adata_sc = adata_sc[:,overlap_gene]\n",
    "    adata_st = adata_st[:,overlap_gene]\n",
    "    \n",
    "    cell_type_common = list(set(adata_sc.obs[celltype].unique()).intersection(adata_st.obs[celltype].unique()))\n",
    "    \n",
    "    pseudo_st = []\n",
    "    pseudo_sc = []\n",
    "    for i in cell_type_common:\n",
    "        adata1 = adata_st[adata_st.obs[celltype] == i]\n",
    "        adata2 = adata_sc[adata_sc.obs[celltype] == i]\n",
    "\n",
    "        pseudo_st.append(np.mean(adata1.X.toarray(), axis = 0))\n",
    "        pseudo_sc.append(np.mean(adata2.X.toarray(), axis = 0))\n",
    "    \n",
    "    pseudo_st = np.array(pseudo_st)\n",
    "    pseudo_sc = np.array(pseudo_sc)\n",
    "\n",
    "    cor_pearson = []\n",
    "    cor_pvalue = []\n",
    "    for i in range(pseudo_st.shape[1]):\n",
    "        cor, pval = st.pearsonr(pseudo_st[:,i], pseudo_sc[:,i])\n",
    "        cor_pearson.append(cor)\n",
    "        cor_pvalue.append(pval)\n",
    "        \n",
    "    information_stat = pd.DataFrame()\n",
    "\n",
    "    information_stat['pearson'] = cor_pearson\n",
    "    information_stat['pvalue'] = cor_pvalue\n",
    "    information_stat.index = adata_st.var_names\n",
    "\n",
    "    information_stat_update = information_stat.loc[((information_stat['pvalue']<p_value_threshold) & (information_stat['pearson']>cor_threshold))]\n",
    "    \n",
    "    return information_stat_update.index"
   ]
  },
  {
   "cell_type": "code",
   "execution_count": 3,
   "id": "fe5f0463",
   "metadata": {},
   "outputs": [],
   "source": [
    "# spatial_data =sc.read_h5ad(\"/gpfs/gibbs/pi/zhao/yl2687/data/spatial_fish_data/xenium_breast/spe_xenium_withMetrics.h5ad\")\n",
    "# seq_data = sc.read_h5ad(\"/gpfs/gibbs/pi/zhao/tl688/deconvdatasets/spatial_dataset/xenium_breast/sce_FFPE_full.h5ad\")"
   ]
  },
  {
   "cell_type": "code",
   "execution_count": 4,
   "id": "312e62bf",
   "metadata": {},
   "outputs": [],
   "source": [
    "import gc"
   ]
  },
  {
   "cell_type": "code",
   "execution_count": 5,
   "id": "d0e7a80e",
   "metadata": {},
   "outputs": [],
   "source": [
    "seq_data = sc.read_h5ad(\"/gpfs/gibbs/pi/zhao/tl688/deconvdatasets/spatial_dataset/xenium_brain/aibs_mouse_ctx-hpf_smartseq_sce.h5ad\")"
   ]
  },
  {
   "cell_type": "code",
   "execution_count": 6,
   "id": "d8bc9a25",
   "metadata": {},
   "outputs": [],
   "source": [
    "spatial_data = sc.read_h5ad(f\"/gpfs/gibbs/pi/zhao/tl688/tangram/data_brain/spe_xenium_data_0.1_seed0.h5ad\")"
   ]
  },
  {
   "cell_type": "code",
   "execution_count": 7,
   "id": "b6a05f22",
   "metadata": {},
   "outputs": [],
   "source": [
    "a = 2"
   ]
  },
  {
   "cell_type": "code",
   "execution_count": null,
   "id": "89458b27",
   "metadata": {},
   "outputs": [
    {
     "name": "stderr",
     "output_type": "stream",
     "text": [
      "/tmp/ipykernel_757458/1732007094.py:23: ConstantInputWarning: An input array is constant; the correlation coefficient is not defined.\n",
      "  cor, pval = st.pearsonr(pseudo_st[:,i], pseudo_sc[:,i])\n",
      "/tmp/ipykernel_757458/3194952597.py:16: ImplicitModificationWarning: Trying to modify attribute `.obs` of view, initializing view as actual.\n",
      "  seq_data.obs['names'] = [i for i in range(len(seq_data))]\n",
      "/tmp/ipykernel_757458/3194952597.py:17: ImplicitModificationWarning: Trying to modify attribute `.obs` of view, initializing view as actual.\n",
      "  spatial_data.obs['names'] = [i for i in range(len(spatial_data))]\n"
     ]
    },
    {
     "name": "stdout",
     "output_type": "stream",
     "text": [
      "Computing Niche Covariance Matrices\n"
     ]
    },
    {
     "name": "stderr",
     "output_type": "stream",
     "text": [
      "/gpfs/gibbs/project/zhao/tl688/conda_envs/envi/lib/python3.9/site-packages/scenvi/utils.py:226: ImplicitModificationWarning: Setting element `.layers['log']` of view, initializing view as actual.\n",
      "  spatial_data.layers['log'] = np.log(spatial_data.X+1)\n"
     ]
    },
    {
     "name": "stdout",
     "output_type": "stream",
     "text": [
      "Initializing VAE\n",
      "Finished Initializing ENVI\n"
     ]
    },
    {
     "name": "stderr",
     "output_type": "stream",
     "text": [
      " spatial: -5.695e-01 sc: -1.695e+00 cov: -5.089e-03 kl: 9.544e-01: 100%|██████████| 16000/16000 [01:45<00:00, 151.90it/s]\n",
      "/gpfs/gibbs/project/zhao/tl688/conda_envs/envi/lib/python3.9/site-packages/scenvi/ENVI.py:416: ImplicitModificationWarning: Setting element `.obsm['envi_latent']` of view, initializing view as actual.\n",
      "  self.sc_data.obsm['envi_latent'] = self.encode(self.sc_data[:, self.spatial_data.var_names].X, mode = 'sc')\n"
     ]
    },
    {
     "name": "stdout",
     "output_type": "stream",
     "text": [
      "Finished imputing missing gene for spatial data! See 'imputation' in obsm of ENVI.spatial_data\n"
     ]
    }
   ],
   "source": [
    "for sample_index in range(0,10):\n",
    "    seq_data = sc.read_h5ad(\"/gpfs/gibbs/pi/zhao/tl688/deconvdatasets/spatial_dataset/xenium_brain/aibs_mouse_ctx-hpf_smartseq_sce.h5ad\")\n",
    "    spatial_data = sc.read_h5ad(f\"/gpfs/gibbs/pi/zhao/tl688/tangram/data_brain/spe_xenium_data_0.1_seed{sample_index}.h5ad\")\n",
    "    seq_data.X = seq_data.X.toarray()\n",
    "    seq_data.obs['scClassify'] = list(seq_data.obs['cell_type_alias_label2'])\n",
    "    seq_data.obs['scClassify'] = seq_data.obs['scClassify'].astype('category')\n",
    "    \n",
    "    spatial_data.obsm['spatial'] = spatial_data.obsm['X_spatial']\n",
    "    spatial_data.X = spatial_data.X.toarray()\n",
    "\n",
    "    \n",
    "    info_gene = calcualte_pse_correlation(seq_data, spatial_data, 'scClassify')\n",
    "    seq_data = seq_data[:,info_gene]\n",
    "    spatial_data = spatial_data[:,info_gene]\n",
    "    \n",
    "    seq_data.obs['names'] = [i for i in range(len(seq_data))]\n",
    "    spatial_data.obs['names'] = [i for i in range(len(spatial_data))]\n",
    "\n",
    "    import random \n",
    "    random.seed(2023)\n",
    "    g1 = list(set(spatial_data.var_names).intersection(seq_data.var_names))\n",
    "    g1  = sorted(g1)\n",
    "    train_g, test_g = train_test_split(g1, test_size=0.33, random_state=2023)\n",
    "\n",
    "    spatial_data_partial = spatial_data[:, train_g].copy()\n",
    "    seq_data = seq_data[:,g1]\n",
    "    seq_data = seq_data.copy()\n",
    "\n",
    "    seq_gene_names = seq_data.var_names\n",
    "    n_genes = seq_data.n_vars\n",
    "\n",
    "    spatial_data = spatial_data[spatial_data_partial.obs_names]\n",
    "\n",
    "\n",
    "    envi_model = scenvi.ENVI(spatial_data = spatial_data_partial, sc_data = seq_data)\n",
    "    envi_model.train(key = jax.random.key(sample_index))\n",
    "    envi_model.impute_genes()\n",
    "    envi_model.infer_niche()\n",
    "    \n",
    "    spatial_data.obsm['impute'] = envi_model.spatial_data.obsm['imputation'][list(spatial_data.var_names)].values\n",
    "\n",
    "    gc.collect()\n",
    "    spatial_data.write_h5ad(f\"/gpfs/gibbs/pi/zhao/tl688/tangram/data_brain/envi_mousebrain_seed{sample_index}.h5ad\")\n"
   ]
  },
  {
   "cell_type": "code",
   "execution_count": null,
   "id": "8154ef0c",
   "metadata": {},
   "outputs": [],
   "source": []
  },
  {
   "cell_type": "code",
   "execution_count": 7,
   "id": "bbc0213a",
   "metadata": {},
   "outputs": [],
   "source": [
    "import scenvi \n",
    "\n",
    "scenvi \n",
    "\n",
    "import scanpy as sc\n",
    "from scipy import stats\n",
    "import scipy.stats as st\n",
    "import scipy\n",
    "import pandas as pd\n",
    "from sklearn.model_selection import train_test_split\n",
    "import numpy as np\n",
    "\n",
    "\n",
    "import random \n",
    "random.seed(2023)\n",
    "import jax\n",
    "\n",
    "from scipy import stats\n",
    "import scipy.stats as st\n",
    "import scipy\n",
    "import gc"
   ]
  },
  {
   "cell_type": "code",
   "execution_count": null,
   "id": "8b4e381c",
   "metadata": {},
   "outputs": [],
   "source": []
  },
  {
   "cell_type": "code",
   "execution_count": 8,
   "id": "4b5844af",
   "metadata": {},
   "outputs": [],
   "source": [
    "def calcualte_pse_correlation(adata_sc, adata_st, celltype, p_value_threshold = 0.05, cor_threshold = 0.5):\n",
    "    overlap_gene = overlap_gene = list(set(adata_sc.var_names).intersection(adata_st.var_names))\n",
    "    adata_sc = adata_sc[:,overlap_gene]\n",
    "    adata_st = adata_st[:,overlap_gene]\n",
    "    \n",
    "    cell_type_common = list(set(adata_sc.obs[celltype].unique()).intersection(adata_st.obs[celltype].unique()))\n",
    "    \n",
    "    pseudo_st = []\n",
    "    pseudo_sc = []\n",
    "    for i in cell_type_common:\n",
    "        adata1 = adata_st[adata_st.obs[celltype] == i]\n",
    "        adata2 = adata_sc[adata_sc.obs[celltype] == i]\n",
    "\n",
    "        pseudo_st.append(np.mean(adata1.X.toarray(), axis = 0))\n",
    "        pseudo_sc.append(np.mean(adata2.X.toarray(), axis = 0))\n",
    "    \n",
    "    pseudo_st = np.array(pseudo_st)\n",
    "    pseudo_sc = np.array(pseudo_sc)\n",
    "\n",
    "    cor_pearson = []\n",
    "    cor_pvalue = []\n",
    "    for i in range(pseudo_st.shape[1]):\n",
    "        cor, pval = st.pearsonr(pseudo_st[:,i], pseudo_sc[:,i])\n",
    "        cor_pearson.append(cor)\n",
    "        cor_pvalue.append(pval)\n",
    "        \n",
    "    information_stat = pd.DataFrame()\n",
    "\n",
    "    information_stat['pearson'] = cor_pearson\n",
    "    information_stat['pvalue'] = cor_pvalue\n",
    "    information_stat.index = adata_st.var_names\n",
    "\n",
    "    information_stat_update = information_stat.loc[((information_stat['pvalue']<p_value_threshold) & (information_stat['pearson']>cor_threshold))]\n",
    "    \n",
    "    return information_stat_update.index"
   ]
  },
  {
   "cell_type": "code",
   "execution_count": 9,
   "id": "a4759f4d",
   "metadata": {},
   "outputs": [],
   "source": [
    "# spatial_data =sc.read_h5ad(\"/gpfs/gibbs/pi/zhao/yl2687/data/spatial_fish_data/xenium_breast/spe_xenium_withMetrics.h5ad\")\n",
    "# seq_data = sc.read_h5ad(\"/gpfs/gibbs/pi/zhao/tl688/deconvdatasets/spatial_dataset/xenium_breast/sce_FFPE_full.h5ad\")"
   ]
  },
  {
   "cell_type": "code",
   "execution_count": 10,
   "id": "3e4ac373",
   "metadata": {},
   "outputs": [
    {
     "name": "stdout",
     "output_type": "stream",
     "text": [
      "Computing Niche Covariance Matrices\n"
     ]
    },
    {
     "name": "stderr",
     "output_type": "stream",
     "text": [
      "/gpfs/gibbs/project/zhao/tl688/conda_envs/envi/lib/python3.9/site-packages/scenvi/utils.py:226: ImplicitModificationWarning: Setting element `.layers['log']` of view, initializing view as actual.\n",
      "  spatial_data.layers['log'] = np.log(spatial_data.X+1)\n"
     ]
    },
    {
     "name": "stdout",
     "output_type": "stream",
     "text": [
      "Initializing VAE\n",
      "Finished Initializing ENVI\n"
     ]
    },
    {
     "name": "stderr",
     "output_type": "stream",
     "text": [
      " spatial: -4.195e-01 sc: -3.458e-01 cov: -6.932e-03 kl: 7.259e-01: 100%|██████████| 16000/16000 [01:40<00:00, 158.84it/s]\n",
      "/gpfs/gibbs/project/zhao/tl688/conda_envs/envi/lib/python3.9/site-packages/scenvi/ENVI.py:416: ImplicitModificationWarning: Setting element `.obsm['envi_latent']` of view, initializing view as actual.\n",
      "  self.sc_data.obsm['envi_latent'] = self.encode(self.sc_data[:, self.spatial_data.var_names].X, mode = 'sc')\n"
     ]
    },
    {
     "name": "stdout",
     "output_type": "stream",
     "text": [
      "Finished imputing missing gene for spatial data! See 'imputation' in obsm of ENVI.spatial_data\n"
     ]
    },
    {
     "name": "stderr",
     "output_type": "stream",
     "text": [
      "/tmp/ipykernel_2148352/1686206436.py:40: ImplicitModificationWarning: Setting element `.obsm['impute']` of view, initializing view as actual.\n",
      "  spatial_data.obsm['impute'] = envi_model.spatial_data.obsm['imputation'][list(spatial_data.var_names)].values\n"
     ]
    },
    {
     "name": "stdout",
     "output_type": "stream",
     "text": [
      "Computing Niche Covariance Matrices\n"
     ]
    },
    {
     "name": "stderr",
     "output_type": "stream",
     "text": [
      "/gpfs/gibbs/project/zhao/tl688/conda_envs/envi/lib/python3.9/site-packages/scenvi/utils.py:226: ImplicitModificationWarning: Setting element `.layers['log']` of view, initializing view as actual.\n",
      "  spatial_data.layers['log'] = np.log(spatial_data.X+1)\n"
     ]
    },
    {
     "name": "stdout",
     "output_type": "stream",
     "text": [
      "Initializing VAE\n",
      "Finished Initializing ENVI\n"
     ]
    },
    {
     "name": "stderr",
     "output_type": "stream",
     "text": [
      " spatial: -4.287e-01 sc: -3.323e-01 cov: -3.598e-03 kl: 7.186e-01: 100%|██████████| 16000/16000 [01:42<00:00, 156.47it/s]\n",
      "/gpfs/gibbs/project/zhao/tl688/conda_envs/envi/lib/python3.9/site-packages/scenvi/ENVI.py:416: ImplicitModificationWarning: Setting element `.obsm['envi_latent']` of view, initializing view as actual.\n",
      "  self.sc_data.obsm['envi_latent'] = self.encode(self.sc_data[:, self.spatial_data.var_names].X, mode = 'sc')\n"
     ]
    },
    {
     "name": "stdout",
     "output_type": "stream",
     "text": [
      "Finished imputing missing gene for spatial data! See 'imputation' in obsm of ENVI.spatial_data\n"
     ]
    },
    {
     "name": "stderr",
     "output_type": "stream",
     "text": [
      "/tmp/ipykernel_2148352/1686206436.py:40: ImplicitModificationWarning: Setting element `.obsm['impute']` of view, initializing view as actual.\n",
      "  spatial_data.obsm['impute'] = envi_model.spatial_data.obsm['imputation'][list(spatial_data.var_names)].values\n"
     ]
    },
    {
     "name": "stdout",
     "output_type": "stream",
     "text": [
      "Computing Niche Covariance Matrices\n"
     ]
    },
    {
     "name": "stderr",
     "output_type": "stream",
     "text": [
      "/gpfs/gibbs/project/zhao/tl688/conda_envs/envi/lib/python3.9/site-packages/scenvi/utils.py:226: ImplicitModificationWarning: Setting element `.layers['log']` of view, initializing view as actual.\n",
      "  spatial_data.layers['log'] = np.log(spatial_data.X+1)\n"
     ]
    },
    {
     "name": "stdout",
     "output_type": "stream",
     "text": [
      "Initializing VAE\n",
      "Finished Initializing ENVI\n"
     ]
    },
    {
     "name": "stderr",
     "output_type": "stream",
     "text": [
      " spatial: -3.979e-01 sc: -3.370e-01 cov: -3.604e-03 kl: 7.105e-01: 100%|██████████| 16000/16000 [01:40<00:00, 158.51it/s]\n",
      "/gpfs/gibbs/project/zhao/tl688/conda_envs/envi/lib/python3.9/site-packages/scenvi/ENVI.py:416: ImplicitModificationWarning: Setting element `.obsm['envi_latent']` of view, initializing view as actual.\n",
      "  self.sc_data.obsm['envi_latent'] = self.encode(self.sc_data[:, self.spatial_data.var_names].X, mode = 'sc')\n"
     ]
    },
    {
     "name": "stdout",
     "output_type": "stream",
     "text": [
      "Finished imputing missing gene for spatial data! See 'imputation' in obsm of ENVI.spatial_data\n"
     ]
    },
    {
     "name": "stderr",
     "output_type": "stream",
     "text": [
      "/tmp/ipykernel_2148352/1686206436.py:40: ImplicitModificationWarning: Setting element `.obsm['impute']` of view, initializing view as actual.\n",
      "  spatial_data.obsm['impute'] = envi_model.spatial_data.obsm['imputation'][list(spatial_data.var_names)].values\n"
     ]
    },
    {
     "name": "stdout",
     "output_type": "stream",
     "text": [
      "Computing Niche Covariance Matrices\n"
     ]
    },
    {
     "name": "stderr",
     "output_type": "stream",
     "text": [
      "/gpfs/gibbs/project/zhao/tl688/conda_envs/envi/lib/python3.9/site-packages/scenvi/utils.py:226: ImplicitModificationWarning: Setting element `.layers['log']` of view, initializing view as actual.\n",
      "  spatial_data.layers['log'] = np.log(spatial_data.X+1)\n"
     ]
    },
    {
     "name": "stdout",
     "output_type": "stream",
     "text": [
      "Initializing VAE\n",
      "Finished Initializing ENVI\n"
     ]
    },
    {
     "name": "stderr",
     "output_type": "stream",
     "text": [
      " spatial: -4.286e-01 sc: -3.164e-01 cov: -3.582e-03 kl: 7.147e-01: 100%|██████████| 16000/16000 [01:41<00:00, 158.40it/s]\n",
      "/gpfs/gibbs/project/zhao/tl688/conda_envs/envi/lib/python3.9/site-packages/scenvi/ENVI.py:416: ImplicitModificationWarning: Setting element `.obsm['envi_latent']` of view, initializing view as actual.\n",
      "  self.sc_data.obsm['envi_latent'] = self.encode(self.sc_data[:, self.spatial_data.var_names].X, mode = 'sc')\n"
     ]
    },
    {
     "name": "stdout",
     "output_type": "stream",
     "text": [
      "Finished imputing missing gene for spatial data! See 'imputation' in obsm of ENVI.spatial_data\n"
     ]
    },
    {
     "name": "stderr",
     "output_type": "stream",
     "text": [
      "/tmp/ipykernel_2148352/1686206436.py:40: ImplicitModificationWarning: Setting element `.obsm['impute']` of view, initializing view as actual.\n",
      "  spatial_data.obsm['impute'] = envi_model.spatial_data.obsm['imputation'][list(spatial_data.var_names)].values\n"
     ]
    },
    {
     "name": "stdout",
     "output_type": "stream",
     "text": [
      "Computing Niche Covariance Matrices\n"
     ]
    },
    {
     "name": "stderr",
     "output_type": "stream",
     "text": [
      "/gpfs/gibbs/project/zhao/tl688/conda_envs/envi/lib/python3.9/site-packages/scenvi/utils.py:226: ImplicitModificationWarning: Setting element `.layers['log']` of view, initializing view as actual.\n",
      "  spatial_data.layers['log'] = np.log(spatial_data.X+1)\n"
     ]
    },
    {
     "name": "stdout",
     "output_type": "stream",
     "text": [
      "Initializing VAE\n",
      "Finished Initializing ENVI\n"
     ]
    },
    {
     "name": "stderr",
     "output_type": "stream",
     "text": [
      " spatial: -4.350e-01 sc: -3.250e-01 cov: -3.533e-03 kl: 7.307e-01: 100%|██████████| 16000/16000 [01:40<00:00, 158.81it/s]\n",
      "/gpfs/gibbs/project/zhao/tl688/conda_envs/envi/lib/python3.9/site-packages/scenvi/ENVI.py:416: ImplicitModificationWarning: Setting element `.obsm['envi_latent']` of view, initializing view as actual.\n",
      "  self.sc_data.obsm['envi_latent'] = self.encode(self.sc_data[:, self.spatial_data.var_names].X, mode = 'sc')\n"
     ]
    },
    {
     "name": "stdout",
     "output_type": "stream",
     "text": [
      "Finished imputing missing gene for spatial data! See 'imputation' in obsm of ENVI.spatial_data\n"
     ]
    },
    {
     "name": "stderr",
     "output_type": "stream",
     "text": [
      "/tmp/ipykernel_2148352/1686206436.py:40: ImplicitModificationWarning: Setting element `.obsm['impute']` of view, initializing view as actual.\n",
      "  spatial_data.obsm['impute'] = envi_model.spatial_data.obsm['imputation'][list(spatial_data.var_names)].values\n"
     ]
    },
    {
     "name": "stdout",
     "output_type": "stream",
     "text": [
      "Computing Niche Covariance Matrices\n"
     ]
    },
    {
     "name": "stderr",
     "output_type": "stream",
     "text": [
      "/gpfs/gibbs/project/zhao/tl688/conda_envs/envi/lib/python3.9/site-packages/scenvi/utils.py:226: ImplicitModificationWarning: Setting element `.layers['log']` of view, initializing view as actual.\n",
      "  spatial_data.layers['log'] = np.log(spatial_data.X+1)\n"
     ]
    },
    {
     "name": "stdout",
     "output_type": "stream",
     "text": [
      "Initializing VAE\n",
      "Finished Initializing ENVI\n"
     ]
    },
    {
     "name": "stderr",
     "output_type": "stream",
     "text": [
      " spatial: -4.403e-01 sc: -3.374e-01 cov: -3.676e-03 kl: 7.260e-01: 100%|██████████| 16000/16000 [01:41<00:00, 157.63it/s]\n",
      "/gpfs/gibbs/project/zhao/tl688/conda_envs/envi/lib/python3.9/site-packages/scenvi/ENVI.py:416: ImplicitModificationWarning: Setting element `.obsm['envi_latent']` of view, initializing view as actual.\n",
      "  self.sc_data.obsm['envi_latent'] = self.encode(self.sc_data[:, self.spatial_data.var_names].X, mode = 'sc')\n"
     ]
    },
    {
     "name": "stdout",
     "output_type": "stream",
     "text": [
      "Finished imputing missing gene for spatial data! See 'imputation' in obsm of ENVI.spatial_data\n"
     ]
    },
    {
     "name": "stderr",
     "output_type": "stream",
     "text": [
      "/tmp/ipykernel_2148352/1686206436.py:40: ImplicitModificationWarning: Setting element `.obsm['impute']` of view, initializing view as actual.\n",
      "  spatial_data.obsm['impute'] = envi_model.spatial_data.obsm['imputation'][list(spatial_data.var_names)].values\n"
     ]
    },
    {
     "name": "stdout",
     "output_type": "stream",
     "text": [
      "Computing Niche Covariance Matrices\n"
     ]
    },
    {
     "name": "stderr",
     "output_type": "stream",
     "text": [
      "/gpfs/gibbs/project/zhao/tl688/conda_envs/envi/lib/python3.9/site-packages/scenvi/utils.py:226: ImplicitModificationWarning: Setting element `.layers['log']` of view, initializing view as actual.\n",
      "  spatial_data.layers['log'] = np.log(spatial_data.X+1)\n"
     ]
    },
    {
     "name": "stdout",
     "output_type": "stream",
     "text": [
      "Initializing VAE\n",
      "Finished Initializing ENVI\n"
     ]
    },
    {
     "name": "stderr",
     "output_type": "stream",
     "text": [
      " spatial: -4.131e-01 sc: -3.303e-01 cov: -3.735e-03 kl: 7.141e-01: 100%|██████████| 16000/16000 [01:39<00:00, 160.01it/s]\n",
      "/gpfs/gibbs/project/zhao/tl688/conda_envs/envi/lib/python3.9/site-packages/scenvi/ENVI.py:416: ImplicitModificationWarning: Setting element `.obsm['envi_latent']` of view, initializing view as actual.\n",
      "  self.sc_data.obsm['envi_latent'] = self.encode(self.sc_data[:, self.spatial_data.var_names].X, mode = 'sc')\n"
     ]
    },
    {
     "name": "stdout",
     "output_type": "stream",
     "text": [
      "Finished imputing missing gene for spatial data! See 'imputation' in obsm of ENVI.spatial_data\n"
     ]
    },
    {
     "name": "stderr",
     "output_type": "stream",
     "text": [
      "/tmp/ipykernel_2148352/1686206436.py:40: ImplicitModificationWarning: Setting element `.obsm['impute']` of view, initializing view as actual.\n",
      "  spatial_data.obsm['impute'] = envi_model.spatial_data.obsm['imputation'][list(spatial_data.var_names)].values\n"
     ]
    },
    {
     "name": "stdout",
     "output_type": "stream",
     "text": [
      "Computing Niche Covariance Matrices\n"
     ]
    },
    {
     "name": "stderr",
     "output_type": "stream",
     "text": [
      "/gpfs/gibbs/project/zhao/tl688/conda_envs/envi/lib/python3.9/site-packages/scenvi/utils.py:226: ImplicitModificationWarning: Setting element `.layers['log']` of view, initializing view as actual.\n",
      "  spatial_data.layers['log'] = np.log(spatial_data.X+1)\n"
     ]
    },
    {
     "name": "stdout",
     "output_type": "stream",
     "text": [
      "Initializing VAE\n",
      "Finished Initializing ENVI\n"
     ]
    },
    {
     "name": "stderr",
     "output_type": "stream",
     "text": [
      " spatial: -4.209e-01 sc: -3.399e-01 cov: -3.675e-03 kl: 7.117e-01: 100%|██████████| 16000/16000 [01:40<00:00, 159.21it/s]\n",
      "/gpfs/gibbs/project/zhao/tl688/conda_envs/envi/lib/python3.9/site-packages/scenvi/ENVI.py:416: ImplicitModificationWarning: Setting element `.obsm['envi_latent']` of view, initializing view as actual.\n",
      "  self.sc_data.obsm['envi_latent'] = self.encode(self.sc_data[:, self.spatial_data.var_names].X, mode = 'sc')\n"
     ]
    },
    {
     "name": "stdout",
     "output_type": "stream",
     "text": [
      "Finished imputing missing gene for spatial data! See 'imputation' in obsm of ENVI.spatial_data\n"
     ]
    },
    {
     "name": "stderr",
     "output_type": "stream",
     "text": [
      "/tmp/ipykernel_2148352/1686206436.py:40: ImplicitModificationWarning: Setting element `.obsm['impute']` of view, initializing view as actual.\n",
      "  spatial_data.obsm['impute'] = envi_model.spatial_data.obsm['imputation'][list(spatial_data.var_names)].values\n"
     ]
    },
    {
     "name": "stdout",
     "output_type": "stream",
     "text": [
      "Computing Niche Covariance Matrices\n"
     ]
    },
    {
     "name": "stderr",
     "output_type": "stream",
     "text": [
      "/gpfs/gibbs/project/zhao/tl688/conda_envs/envi/lib/python3.9/site-packages/scenvi/utils.py:226: ImplicitModificationWarning: Setting element `.layers['log']` of view, initializing view as actual.\n",
      "  spatial_data.layers['log'] = np.log(spatial_data.X+1)\n"
     ]
    },
    {
     "name": "stdout",
     "output_type": "stream",
     "text": [
      "Initializing VAE\n",
      "Finished Initializing ENVI\n"
     ]
    },
    {
     "name": "stderr",
     "output_type": "stream",
     "text": [
      " spatial: -4.137e-01 sc: -3.223e-01 cov: -3.560e-03 kl: 7.052e-01: 100%|██████████| 16000/16000 [01:40<00:00, 159.30it/s]\n",
      "/gpfs/gibbs/project/zhao/tl688/conda_envs/envi/lib/python3.9/site-packages/scenvi/ENVI.py:416: ImplicitModificationWarning: Setting element `.obsm['envi_latent']` of view, initializing view as actual.\n",
      "  self.sc_data.obsm['envi_latent'] = self.encode(self.sc_data[:, self.spatial_data.var_names].X, mode = 'sc')\n"
     ]
    },
    {
     "name": "stdout",
     "output_type": "stream",
     "text": [
      "Finished imputing missing gene for spatial data! See 'imputation' in obsm of ENVI.spatial_data\n"
     ]
    },
    {
     "name": "stderr",
     "output_type": "stream",
     "text": [
      "/tmp/ipykernel_2148352/1686206436.py:40: ImplicitModificationWarning: Setting element `.obsm['impute']` of view, initializing view as actual.\n",
      "  spatial_data.obsm['impute'] = envi_model.spatial_data.obsm['imputation'][list(spatial_data.var_names)].values\n"
     ]
    },
    {
     "name": "stdout",
     "output_type": "stream",
     "text": [
      "Computing Niche Covariance Matrices\n"
     ]
    },
    {
     "name": "stderr",
     "output_type": "stream",
     "text": [
      "/gpfs/gibbs/project/zhao/tl688/conda_envs/envi/lib/python3.9/site-packages/scenvi/utils.py:226: ImplicitModificationWarning: Setting element `.layers['log']` of view, initializing view as actual.\n",
      "  spatial_data.layers['log'] = np.log(spatial_data.X+1)\n"
     ]
    },
    {
     "name": "stdout",
     "output_type": "stream",
     "text": [
      "Initializing VAE\n",
      "Finished Initializing ENVI\n"
     ]
    },
    {
     "name": "stderr",
     "output_type": "stream",
     "text": [
      " spatial: -4.371e-01 sc: -3.405e-01 cov: -3.815e-03 kl: 7.203e-01: 100%|██████████| 16000/16000 [01:41<00:00, 157.17it/s]\n",
      "/gpfs/gibbs/project/zhao/tl688/conda_envs/envi/lib/python3.9/site-packages/scenvi/ENVI.py:416: ImplicitModificationWarning: Setting element `.obsm['envi_latent']` of view, initializing view as actual.\n",
      "  self.sc_data.obsm['envi_latent'] = self.encode(self.sc_data[:, self.spatial_data.var_names].X, mode = 'sc')\n"
     ]
    },
    {
     "name": "stdout",
     "output_type": "stream",
     "text": [
      "Finished imputing missing gene for spatial data! See 'imputation' in obsm of ENVI.spatial_data\n"
     ]
    },
    {
     "name": "stderr",
     "output_type": "stream",
     "text": [
      "/tmp/ipykernel_2148352/1686206436.py:40: ImplicitModificationWarning: Setting element `.obsm['impute']` of view, initializing view as actual.\n",
      "  spatial_data.obsm['impute'] = envi_model.spatial_data.obsm['imputation'][list(spatial_data.var_names)].values\n"
     ]
    }
   ],
   "source": [
    "for sample_index in range(0,10):\n",
    "    seq_data = sc.read_h5ad(\"/gpfs/gibbs/pi/zhao/tl688/seqfishdata/data/scRNAseq/seqfish/scRNAseq_seqfish.h5ad\")\n",
    "    spatial_data = sc.read_h5ad(f\"/gpfs/gibbs/pi/zhao/tl688/tangram/data_seqfish/seqfish_data_seed{sample_index}.h5ad\")\n",
    "    seq_data.X = seq_data.X.toarray()\n",
    "    spatial_data.X = spatial_data.X.toarray()\n",
    "    seq_data.var_names_make_unique()\n",
    "    \n",
    "    seq_data.obs['scClassify'] = seq_data.obs['celltype'].copy() \n",
    "    spatial_data.obs['scClassify'] = spatial_data.obs['celltype_mapped_refined'].copy() \n",
    "    \n",
    "    seq_data.obs['names'] = [i for i in range(len(seq_data))]\n",
    "    spatial_data.obs['names'] = [i for i in range(len(spatial_data))]\n",
    "\n",
    "    info_gene = calcualte_pse_correlation(seq_data, spatial_data, 'scClassify')\n",
    "\n",
    "    seq_data = seq_data[:,info_gene]\n",
    "    spatial_data = spatial_data[:,info_gene]\n",
    "\n",
    "    import random \n",
    "    random.seed(2023)\n",
    "    g1 = list(set(spatial_data.var_names).intersection(seq_data.var_names))\n",
    "    g1  = sorted(g1)\n",
    "    train_g, test_g = train_test_split(g1, test_size=0.33, random_state=2023)\n",
    "\n",
    "    spatial_data_partial = spatial_data[:, train_g].copy()\n",
    "    seq_data = seq_data[:,g1]\n",
    "    seq_data = seq_data.copy()\n",
    "\n",
    "    seq_gene_names = seq_data.var_names\n",
    "    n_genes = seq_data.n_vars\n",
    "\n",
    "    spatial_data = spatial_data[spatial_data_partial.obs_names]\n",
    "\n",
    "\n",
    "    envi_model = scenvi.ENVI(spatial_data = spatial_data_partial, sc_data = seq_data)\n",
    "    envi_model.train(key = jax.random.key(sample_index))\n",
    "    envi_model.impute_genes()\n",
    "    envi_model.infer_niche()\n",
    "    \n",
    "    spatial_data.obsm['impute'] = envi_model.spatial_data.obsm['imputation'][list(spatial_data.var_names)].values\n",
    "\n",
    "    gc.collect()\n",
    "    spatial_data.write_h5ad(f\"/gpfs/gibbs/pi/zhao/tl688/tangram/data_seqfish/envi_seqfish_seed{sample_index}.h5ad\")\n"
   ]
  },
  {
   "cell_type": "code",
   "execution_count": null,
   "id": "7d8d26c9",
   "metadata": {},
   "outputs": [],
   "source": []
  },
  {
   "cell_type": "code",
   "execution_count": 22,
   "id": "442c438d",
   "metadata": {},
   "outputs": [],
   "source": [
    "import scenvi \n",
    "\n",
    "scenvi \n",
    "\n",
    "import scanpy as sc\n",
    "from scipy import stats\n",
    "import scipy.stats as st\n",
    "import scipy\n",
    "import pandas as pd\n",
    "from sklearn.model_selection import train_test_split\n",
    "import numpy as np\n",
    "\n",
    "\n",
    "import random \n",
    "random.seed(2023)\n",
    "import jax\n",
    "\n",
    "from scipy import stats\n",
    "import scipy.stats as st\n",
    "import scipy\n",
    "import gc"
   ]
  },
  {
   "cell_type": "code",
   "execution_count": 23,
   "id": "8f2e9761",
   "metadata": {},
   "outputs": [],
   "source": [
    "def calcualte_pse_correlation(adata_sc, adata_st, celltype, p_value_threshold = 0.05, cor_threshold = 0.5):\n",
    "    import random \n",
    "    random.seed(2023)\n",
    "    overlap_gene = list(set(adata_sc.var_names).intersection(adata_st.var_names))\n",
    "    overlap_gene = sorted(overlap_gene)\n",
    "    adata_sc = adata_sc[:,overlap_gene]\n",
    "    adata_st = adata_st[:,overlap_gene]\n",
    "    \n",
    "    cell_type_common = list(set(adata_sc.obs[celltype].unique()).intersection(adata_st.obs[celltype].unique()))\n",
    "    \n",
    "    pseudo_st = []\n",
    "    pseudo_sc = []\n",
    "    for i in cell_type_common:\n",
    "        adata1 = adata_st[adata_st.obs[celltype] == i]\n",
    "        adata2 = adata_sc[adata_sc.obs[celltype] == i]\n",
    "\n",
    "        pseudo_st.append(np.mean(adata1.X.toarray(), axis = 0))\n",
    "        pseudo_sc.append(np.mean(adata2.X.toarray(), axis = 0))\n",
    "    \n",
    "    pseudo_st = np.array(pseudo_st)\n",
    "    pseudo_sc = np.array(pseudo_sc)\n",
    "\n",
    "    cor_pearson = []\n",
    "    cor_pvalue = []\n",
    "    for i in range(pseudo_st.shape[1]):\n",
    "        cor, pval = st.pearsonr(pseudo_st[:,i], pseudo_sc[:,i])\n",
    "        cor_pearson.append(cor)\n",
    "        cor_pvalue.append(pval)\n",
    "        \n",
    "    information_stat = pd.DataFrame()\n",
    "\n",
    "    information_stat['pearson'] = cor_pearson\n",
    "    information_stat['pvalue'] = cor_pvalue\n",
    "    information_stat.index = adata_st.var_names\n",
    "\n",
    "    information_stat_update = information_stat.loc[((information_stat['pvalue']<p_value_threshold) & (information_stat['pearson']>cor_threshold))]\n",
    "    \n",
    "    return information_stat_update.index"
   ]
  },
  {
   "cell_type": "code",
   "execution_count": 24,
   "id": "ab4582bd",
   "metadata": {},
   "outputs": [],
   "source": [
    "seq_data = sc.read_h5ad(\"/gpfs/gibbs/pi/zhao/tl688/tangram/data_smfish/scrnaseq_data.h5ad\")\n",
    "spatial_data = sc.read_h5ad(\"/gpfs/gibbs/pi/zhao/tl688/tangram/data_smfish/spatial_data.h5ad\")"
   ]
  },
  {
   "cell_type": "code",
   "execution_count": 25,
   "id": "d58c6241",
   "metadata": {},
   "outputs": [],
   "source": [
    "info_gene = calcualte_pse_correlation(seq_data, spatial_data, 'scClassify')"
   ]
  },
  {
   "cell_type": "code",
   "execution_count": 26,
   "id": "a6529977",
   "metadata": {},
   "outputs": [],
   "source": [
    "seq_data = seq_data[:,info_gene]\n",
    "spatial_data = spatial_data[:,info_gene]"
   ]
  },
  {
   "cell_type": "code",
   "execution_count": 27,
   "id": "f46e3091",
   "metadata": {},
   "outputs": [],
   "source": [
    "# scanpy.pp.filter_cells(spatial_data, min_counts=1)\n",
    "# scanpy.pp.filter_cells(seq_data, min_counts=1)"
   ]
  },
  {
   "cell_type": "code",
   "execution_count": 28,
   "id": "e498e751",
   "metadata": {},
   "outputs": [
    {
     "name": "stderr",
     "output_type": "stream",
     "text": [
      "/tmp/ipykernel_3525366/2654861310.py:1: ImplicitModificationWarning: Trying to modify attribute `.obs` of view, initializing view as actual.\n",
      "  seq_data.obs['names'] = seq_data.obs_names\n",
      "/tmp/ipykernel_3525366/2654861310.py:2: ImplicitModificationWarning: Trying to modify attribute `.obs` of view, initializing view as actual.\n",
      "  spatial_data.obs['names'] = spatial_data.obs_names\n"
     ]
    }
   ],
   "source": [
    "seq_data.obs['names'] = seq_data.obs_names\n",
    "spatial_data.obs['names'] = spatial_data.obs_names\n",
    "\n",
    "seq_data.obs['ind_x'] = seq_data.obs_names\n",
    "spatial_data.obs['ind_x'] = spatial_data.obs_names\n",
    "\n",
    "spatial_index = [list(spatial_data.obs['x_coord']), list(spatial_data.obs['y_coord'])]\n",
    "spatial_data.obsm['spatial'] = np.array(spatial_index).T.astype('int')"
   ]
  },
  {
   "cell_type": "code",
   "execution_count": 29,
   "id": "b882df1e",
   "metadata": {},
   "outputs": [],
   "source": [
    "import random \n",
    "random.seed(2023)\n",
    "g1 = list(set(spatial_data.var_names).intersection(seq_data.var_names))\n",
    "g1 = sorted(g1)\n",
    "train_g, test_g = train_test_split(g1, test_size=0.33, random_state=2023)"
   ]
  },
  {
   "cell_type": "code",
   "execution_count": null,
   "id": "e88c82e8",
   "metadata": {},
   "outputs": [],
   "source": []
  },
  {
   "cell_type": "code",
   "execution_count": 30,
   "id": "9e869c7c",
   "metadata": {},
   "outputs": [],
   "source": [
    "# spatial_data_old = spatial_data.copy()\n",
    "scrna_data_old = seq_data.copy()"
   ]
  },
  {
   "cell_type": "code",
   "execution_count": 32,
   "id": "cee0b8e2",
   "metadata": {},
   "outputs": [
    {
     "name": "stdout",
     "output_type": "stream",
     "text": [
      "AnnData object with n_obs × n_vars = 300 × 20\n",
      "    obs: 'labels', 'precise_labels', 'cell_type', 'scClassify', 'names', 'ind_x'\n",
      "Computing Niche Covariance Matrices\n",
      "Initializing VAE\n",
      "Finished Initializing ENVI\n"
     ]
    },
    {
     "name": "stderr",
     "output_type": "stream",
     "text": [
      "/gpfs/gibbs/project/zhao/tl688/conda_envs/envi/lib/python3.9/site-packages/scenvi/utils.py:226: ImplicitModificationWarning: Setting element `.layers['log']` of view, initializing view as actual.\n",
      "  spatial_data.layers['log'] = np.log(spatial_data.X+1)\n",
      " spatial: -1.287e+00 sc: -4.296e-01 cov: -3.546e-02 kl: 6.690e-01: 100%|██████████| 16000/16000 [01:06<00:00, 240.10it/s]\n",
      "/gpfs/gibbs/project/zhao/tl688/conda_envs/envi/lib/python3.9/site-packages/scenvi/ENVI.py:416: ImplicitModificationWarning: Setting element `.obsm['envi_latent']` of view, initializing view as actual.\n",
      "  self.sc_data.obsm['envi_latent'] = self.encode(self.sc_data[:, self.spatial_data.var_names].X, mode = 'sc')\n"
     ]
    },
    {
     "name": "stdout",
     "output_type": "stream",
     "text": [
      "Finished imputing missing gene for spatial data! See 'imputation' in obsm of ENVI.spatial_data\n"
     ]
    },
    {
     "name": "stderr",
     "output_type": "stream",
     "text": [
      "/tmp/ipykernel_3525366/4106947776.py:50: ImplicitModificationWarning: Setting element `.obsm['impute']` of view, initializing view as actual.\n",
      "  spatial_data.obsm['impute'] = envi_model.spatial_data.obsm['imputation'][list(spatial_data.var_names)].values\n",
      "/gpfs/gibbs/project/zhao/tl688/conda_envs/envi/lib/python3.9/site-packages/scenvi/utils.py:226: ImplicitModificationWarning: Setting element `.layers['log']` of view, initializing view as actual.\n",
      "  spatial_data.layers['log'] = np.log(spatial_data.X+1)\n"
     ]
    },
    {
     "name": "stdout",
     "output_type": "stream",
     "text": [
      "AnnData object with n_obs × n_vars = 601 × 20\n",
      "    obs: 'labels', 'precise_labels', 'cell_type', 'scClassify', 'names', 'ind_x'\n",
      "Computing Niche Covariance Matrices\n",
      "Initializing VAE\n",
      "Finished Initializing ENVI\n"
     ]
    },
    {
     "name": "stderr",
     "output_type": "stream",
     "text": [
      " spatial: -1.288e+00 sc: -4.787e-01 cov: -3.544e-02 kl: 6.690e-01: 100%|██████████| 16000/16000 [01:05<00:00, 244.96it/s]\n",
      "/gpfs/gibbs/project/zhao/tl688/conda_envs/envi/lib/python3.9/site-packages/scenvi/ENVI.py:416: ImplicitModificationWarning: Setting element `.obsm['envi_latent']` of view, initializing view as actual.\n",
      "  self.sc_data.obsm['envi_latent'] = self.encode(self.sc_data[:, self.spatial_data.var_names].X, mode = 'sc')\n"
     ]
    },
    {
     "name": "stdout",
     "output_type": "stream",
     "text": [
      "Finished imputing missing gene for spatial data! See 'imputation' in obsm of ENVI.spatial_data\n"
     ]
    },
    {
     "name": "stderr",
     "output_type": "stream",
     "text": [
      "/tmp/ipykernel_3525366/4106947776.py:50: ImplicitModificationWarning: Setting element `.obsm['impute']` of view, initializing view as actual.\n",
      "  spatial_data.obsm['impute'] = envi_model.spatial_data.obsm['imputation'][list(spatial_data.var_names)].values\n",
      "/gpfs/gibbs/project/zhao/tl688/conda_envs/envi/lib/python3.9/site-packages/scenvi/utils.py:226: ImplicitModificationWarning: Setting element `.layers['log']` of view, initializing view as actual.\n",
      "  spatial_data.layers['log'] = np.log(spatial_data.X+1)\n"
     ]
    },
    {
     "name": "stdout",
     "output_type": "stream",
     "text": [
      "AnnData object with n_obs × n_vars = 901 × 20\n",
      "    obs: 'labels', 'precise_labels', 'cell_type', 'scClassify', 'names', 'ind_x'\n",
      "Computing Niche Covariance Matrices\n",
      "Initializing VAE\n",
      "Finished Initializing ENVI\n"
     ]
    },
    {
     "name": "stderr",
     "output_type": "stream",
     "text": [
      " spatial: -1.288e+00 sc: -4.969e-01 cov: -3.541e-02 kl: 6.710e-01: 100%|██████████| 16000/16000 [01:05<00:00, 243.85it/s]\n",
      "/gpfs/gibbs/project/zhao/tl688/conda_envs/envi/lib/python3.9/site-packages/scenvi/ENVI.py:416: ImplicitModificationWarning: Setting element `.obsm['envi_latent']` of view, initializing view as actual.\n",
      "  self.sc_data.obsm['envi_latent'] = self.encode(self.sc_data[:, self.spatial_data.var_names].X, mode = 'sc')\n"
     ]
    },
    {
     "name": "stdout",
     "output_type": "stream",
     "text": [
      "Finished imputing missing gene for spatial data! See 'imputation' in obsm of ENVI.spatial_data\n"
     ]
    },
    {
     "name": "stderr",
     "output_type": "stream",
     "text": [
      "/tmp/ipykernel_3525366/4106947776.py:50: ImplicitModificationWarning: Setting element `.obsm['impute']` of view, initializing view as actual.\n",
      "  spatial_data.obsm['impute'] = envi_model.spatial_data.obsm['imputation'][list(spatial_data.var_names)].values\n",
      "/gpfs/gibbs/project/zhao/tl688/conda_envs/envi/lib/python3.9/site-packages/scenvi/utils.py:226: ImplicitModificationWarning: Setting element `.layers['log']` of view, initializing view as actual.\n",
      "  spatial_data.layers['log'] = np.log(spatial_data.X+1)\n"
     ]
    },
    {
     "name": "stdout",
     "output_type": "stream",
     "text": [
      "AnnData object with n_obs × n_vars = 1202 × 20\n",
      "    obs: 'labels', 'precise_labels', 'cell_type', 'scClassify', 'names', 'ind_x'\n",
      "Computing Niche Covariance Matrices\n",
      "Initializing VAE\n",
      "Finished Initializing ENVI\n"
     ]
    },
    {
     "name": "stderr",
     "output_type": "stream",
     "text": [
      " spatial: -1.287e+00 sc: -5.083e-01 cov: -3.546e-02 kl: 6.616e-01: 100%|██████████| 16000/16000 [01:05<00:00, 243.41it/s]\n",
      "/gpfs/gibbs/project/zhao/tl688/conda_envs/envi/lib/python3.9/site-packages/scenvi/ENVI.py:416: ImplicitModificationWarning: Setting element `.obsm['envi_latent']` of view, initializing view as actual.\n",
      "  self.sc_data.obsm['envi_latent'] = self.encode(self.sc_data[:, self.spatial_data.var_names].X, mode = 'sc')\n"
     ]
    },
    {
     "name": "stdout",
     "output_type": "stream",
     "text": [
      "Finished imputing missing gene for spatial data! See 'imputation' in obsm of ENVI.spatial_data\n"
     ]
    },
    {
     "name": "stderr",
     "output_type": "stream",
     "text": [
      "/tmp/ipykernel_3525366/4106947776.py:50: ImplicitModificationWarning: Setting element `.obsm['impute']` of view, initializing view as actual.\n",
      "  spatial_data.obsm['impute'] = envi_model.spatial_data.obsm['imputation'][list(spatial_data.var_names)].values\n",
      "/gpfs/gibbs/project/zhao/tl688/conda_envs/envi/lib/python3.9/site-packages/scenvi/utils.py:226: ImplicitModificationWarning: Setting element `.layers['log']` of view, initializing view as actual.\n",
      "  spatial_data.layers['log'] = np.log(spatial_data.X+1)\n"
     ]
    },
    {
     "name": "stdout",
     "output_type": "stream",
     "text": [
      "AnnData object with n_obs × n_vars = 1502 × 20\n",
      "    obs: 'labels', 'precise_labels', 'cell_type', 'scClassify', 'names', 'ind_x'\n",
      "Computing Niche Covariance Matrices\n",
      "Initializing VAE\n",
      "Finished Initializing ENVI\n"
     ]
    },
    {
     "name": "stderr",
     "output_type": "stream",
     "text": [
      " spatial: -1.287e+00 sc: -5.142e-01 cov: -3.543e-02 kl: 6.602e-01: 100%|██████████| 16000/16000 [01:05<00:00, 244.37it/s]\n",
      "/gpfs/gibbs/project/zhao/tl688/conda_envs/envi/lib/python3.9/site-packages/scenvi/ENVI.py:416: ImplicitModificationWarning: Setting element `.obsm['envi_latent']` of view, initializing view as actual.\n",
      "  self.sc_data.obsm['envi_latent'] = self.encode(self.sc_data[:, self.spatial_data.var_names].X, mode = 'sc')\n"
     ]
    },
    {
     "name": "stdout",
     "output_type": "stream",
     "text": [
      "Finished imputing missing gene for spatial data! See 'imputation' in obsm of ENVI.spatial_data\n"
     ]
    },
    {
     "name": "stderr",
     "output_type": "stream",
     "text": [
      "/tmp/ipykernel_3525366/4106947776.py:50: ImplicitModificationWarning: Setting element `.obsm['impute']` of view, initializing view as actual.\n",
      "  spatial_data.obsm['impute'] = envi_model.spatial_data.obsm['imputation'][list(spatial_data.var_names)].values\n",
      "/gpfs/gibbs/project/zhao/tl688/conda_envs/envi/lib/python3.9/site-packages/scenvi/utils.py:226: ImplicitModificationWarning: Setting element `.layers['log']` of view, initializing view as actual.\n",
      "  spatial_data.layers['log'] = np.log(spatial_data.X+1)\n"
     ]
    },
    {
     "name": "stdout",
     "output_type": "stream",
     "text": [
      "AnnData object with n_obs × n_vars = 1803 × 20\n",
      "    obs: 'labels', 'precise_labels', 'cell_type', 'scClassify', 'names', 'ind_x'\n",
      "Computing Niche Covariance Matrices\n",
      "Initializing VAE\n",
      "Finished Initializing ENVI\n"
     ]
    },
    {
     "name": "stderr",
     "output_type": "stream",
     "text": [
      " spatial: -1.287e+00 sc: -5.268e-01 cov: -3.543e-02 kl: 6.601e-01: 100%|██████████| 16000/16000 [01:06<00:00, 241.38it/s]\n",
      "/gpfs/gibbs/project/zhao/tl688/conda_envs/envi/lib/python3.9/site-packages/scenvi/ENVI.py:416: ImplicitModificationWarning: Setting element `.obsm['envi_latent']` of view, initializing view as actual.\n",
      "  self.sc_data.obsm['envi_latent'] = self.encode(self.sc_data[:, self.spatial_data.var_names].X, mode = 'sc')\n"
     ]
    },
    {
     "name": "stdout",
     "output_type": "stream",
     "text": [
      "Finished imputing missing gene for spatial data! See 'imputation' in obsm of ENVI.spatial_data\n"
     ]
    },
    {
     "name": "stderr",
     "output_type": "stream",
     "text": [
      "/tmp/ipykernel_3525366/4106947776.py:50: ImplicitModificationWarning: Setting element `.obsm['impute']` of view, initializing view as actual.\n",
      "  spatial_data.obsm['impute'] = envi_model.spatial_data.obsm['imputation'][list(spatial_data.var_names)].values\n",
      "/gpfs/gibbs/project/zhao/tl688/conda_envs/envi/lib/python3.9/site-packages/scenvi/utils.py:226: ImplicitModificationWarning: Setting element `.layers['log']` of view, initializing view as actual.\n",
      "  spatial_data.layers['log'] = np.log(spatial_data.X+1)\n"
     ]
    },
    {
     "name": "stdout",
     "output_type": "stream",
     "text": [
      "AnnData object with n_obs × n_vars = 2103 × 20\n",
      "    obs: 'labels', 'precise_labels', 'cell_type', 'scClassify', 'names', 'ind_x'\n",
      "Computing Niche Covariance Matrices\n",
      "Initializing VAE\n",
      "Finished Initializing ENVI\n"
     ]
    },
    {
     "name": "stderr",
     "output_type": "stream",
     "text": [
      " spatial: -1.287e+00 sc: -5.377e-01 cov: -3.542e-02 kl: 6.562e-01: 100%|██████████| 16000/16000 [01:07<00:00, 238.21it/s]\n",
      "/gpfs/gibbs/project/zhao/tl688/conda_envs/envi/lib/python3.9/site-packages/scenvi/ENVI.py:416: ImplicitModificationWarning: Setting element `.obsm['envi_latent']` of view, initializing view as actual.\n",
      "  self.sc_data.obsm['envi_latent'] = self.encode(self.sc_data[:, self.spatial_data.var_names].X, mode = 'sc')\n"
     ]
    },
    {
     "name": "stdout",
     "output_type": "stream",
     "text": [
      "Finished imputing missing gene for spatial data! See 'imputation' in obsm of ENVI.spatial_data\n"
     ]
    },
    {
     "name": "stderr",
     "output_type": "stream",
     "text": [
      "/tmp/ipykernel_3525366/4106947776.py:50: ImplicitModificationWarning: Setting element `.obsm['impute']` of view, initializing view as actual.\n",
      "  spatial_data.obsm['impute'] = envi_model.spatial_data.obsm['imputation'][list(spatial_data.var_names)].values\n",
      "/gpfs/gibbs/project/zhao/tl688/conda_envs/envi/lib/python3.9/site-packages/scenvi/utils.py:226: ImplicitModificationWarning: Setting element `.layers['log']` of view, initializing view as actual.\n",
      "  spatial_data.layers['log'] = np.log(spatial_data.X+1)\n"
     ]
    },
    {
     "name": "stdout",
     "output_type": "stream",
     "text": [
      "AnnData object with n_obs × n_vars = 2404 × 20\n",
      "    obs: 'labels', 'precise_labels', 'cell_type', 'scClassify', 'names', 'ind_x'\n",
      "Computing Niche Covariance Matrices\n",
      "Initializing VAE\n",
      "Finished Initializing ENVI\n"
     ]
    },
    {
     "name": "stderr",
     "output_type": "stream",
     "text": [
      " spatial: -1.288e+00 sc: -5.356e-01 cov: -3.539e-02 kl: 6.598e-01: 100%|██████████| 16000/16000 [01:07<00:00, 238.41it/s]\n",
      "/gpfs/gibbs/project/zhao/tl688/conda_envs/envi/lib/python3.9/site-packages/scenvi/ENVI.py:416: ImplicitModificationWarning: Setting element `.obsm['envi_latent']` of view, initializing view as actual.\n",
      "  self.sc_data.obsm['envi_latent'] = self.encode(self.sc_data[:, self.spatial_data.var_names].X, mode = 'sc')\n"
     ]
    },
    {
     "name": "stdout",
     "output_type": "stream",
     "text": [
      "Finished imputing missing gene for spatial data! See 'imputation' in obsm of ENVI.spatial_data\n"
     ]
    },
    {
     "name": "stderr",
     "output_type": "stream",
     "text": [
      "/tmp/ipykernel_3525366/4106947776.py:50: ImplicitModificationWarning: Setting element `.obsm['impute']` of view, initializing view as actual.\n",
      "  spatial_data.obsm['impute'] = envi_model.spatial_data.obsm['imputation'][list(spatial_data.var_names)].values\n",
      "/gpfs/gibbs/project/zhao/tl688/conda_envs/envi/lib/python3.9/site-packages/scenvi/utils.py:226: ImplicitModificationWarning: Setting element `.layers['log']` of view, initializing view as actual.\n",
      "  spatial_data.layers['log'] = np.log(spatial_data.X+1)\n"
     ]
    },
    {
     "name": "stdout",
     "output_type": "stream",
     "text": [
      "AnnData object with n_obs × n_vars = 2704 × 20\n",
      "    obs: 'labels', 'precise_labels', 'cell_type', 'scClassify', 'names', 'ind_x'\n",
      "Computing Niche Covariance Matrices\n",
      "Initializing VAE\n",
      "Finished Initializing ENVI\n"
     ]
    },
    {
     "name": "stderr",
     "output_type": "stream",
     "text": [
      " spatial: -1.287e+00 sc: -5.517e-01 cov: -3.540e-02 kl: 6.556e-01: 100%|██████████| 16000/16000 [01:07<00:00, 237.30it/s]\n",
      "/gpfs/gibbs/project/zhao/tl688/conda_envs/envi/lib/python3.9/site-packages/scenvi/ENVI.py:416: ImplicitModificationWarning: Setting element `.obsm['envi_latent']` of view, initializing view as actual.\n",
      "  self.sc_data.obsm['envi_latent'] = self.encode(self.sc_data[:, self.spatial_data.var_names].X, mode = 'sc')\n"
     ]
    },
    {
     "name": "stdout",
     "output_type": "stream",
     "text": [
      "Finished imputing missing gene for spatial data! See 'imputation' in obsm of ENVI.spatial_data\n"
     ]
    },
    {
     "name": "stderr",
     "output_type": "stream",
     "text": [
      "/tmp/ipykernel_3525366/4106947776.py:50: ImplicitModificationWarning: Setting element `.obsm['impute']` of view, initializing view as actual.\n",
      "  spatial_data.obsm['impute'] = envi_model.spatial_data.obsm['imputation'][list(spatial_data.var_names)].values\n"
     ]
    }
   ],
   "source": [
    "# for prop in [0.1, 0.2, 0.3, 0.4, 0.5, 0.6, 0.7, 0.8, 0.9]:\n",
    "#     sample_index = 0\n",
    "#     spatial_data = spatial_data_old.copy()\n",
    "\n",
    "#     sc.pp.subsample(spatial_data, fraction = prop, random_state = 0)\n",
    "#     print(spatial_data)\n",
    "#     spatial_data_partial = spatial_data[:, train_g].copy()\n",
    "#     seq_data = seq_data.copy()\n",
    "\n",
    "#     seq_gene_names = seq_data.var_names\n",
    "#     n_genes = seq_data.n_vars\n",
    "    \n",
    "#     # spatial_data_partial has a subset of the genes to train on\n",
    "#     spatial_data_partial = spatial_data_partial\n",
    "\n",
    "#     spatial_data = spatial_data[spatial_data_partial.obs_names]\n",
    "    \n",
    "#     envi_model = scenvi.ENVI(spatial_data = spatial_data_partial, sc_data = seq_data)\n",
    "#     envi_model.train(key = jax.random.key(sample_index))\n",
    "#     envi_model.impute_genes()\n",
    "#     envi_model.infer_niche()\n",
    "    \n",
    "#     spatial_data.obsm['impute'] = envi_model.spatial_data.obsm['imputation'][list(spatial_data.var_names)].values\n",
    "\n",
    "#     gc.collect()\n",
    "#     spatial_data.write_h5ad(f\"/gpfs/gibbs/pi/zhao/tl688/tangram/data_smfish/envi_changespatial_{prop}.h5ad\")\n",
    "\n",
    "for prop in [0.1, 0.2, 0.3, 0.4, 0.5, 0.6, 0.7, 0.8, 0.9]:\n",
    "    sample_index = 0\n",
    "    seq_data = scrna_data_old.copy()\n",
    "\n",
    "    sc.pp.subsample( seq_data, fraction = prop, random_state = 0)\n",
    "    print(seq_data)\n",
    "    spatial_data_partial = spatial_data[:, train_g].copy()\n",
    "    seq_data = seq_data.copy()\n",
    "\n",
    "    seq_gene_names = seq_data.var_names\n",
    "    n_genes = seq_data.n_vars\n",
    "    \n",
    "    # spatial_data_partial has a subset of the genes to train on\n",
    "    spatial_data_partial = spatial_data_partial\n",
    "\n",
    "    spatial_data = spatial_data[spatial_data_partial.obs_names]\n",
    "    \n",
    "    envi_model = scenvi.ENVI(spatial_data = spatial_data_partial, sc_data = seq_data)\n",
    "    envi_model.train(key = jax.random.key(sample_index))\n",
    "    envi_model.impute_genes()\n",
    "    envi_model.infer_niche()\n",
    "    \n",
    "    spatial_data.obsm['impute'] = envi_model.spatial_data.obsm['imputation'][list(spatial_data.var_names)].values\n",
    "\n",
    "    gc.collect()\n",
    "    spatial_data.write_h5ad(f\"/gpfs/gibbs/pi/zhao/tl688/tangram/data_smfish/envi_changernaseq_{prop}.h5ad\")\n",
    "    "
   ]
  },
  {
   "cell_type": "code",
   "execution_count": 33,
   "id": "afabbe9c",
   "metadata": {},
   "outputs": [
    {
     "data": {
      "text/plain": [
       "AnnData object with n_obs × n_vars = 4530 × 13\n",
       "    obs: 'x_coord', 'y_coord', 'labels', 'str_labels', 'batch', 'scClassify', 'names', 'ind_x'\n",
       "    obsm: 'spatial', 'impute'"
      ]
     },
     "execution_count": 33,
     "metadata": {},
     "output_type": "execute_result"
    }
   ],
   "source": [
    "spatial_data_partial"
   ]
  },
  {
   "cell_type": "code",
   "execution_count": null,
   "id": "3d902bcf",
   "metadata": {},
   "outputs": [],
   "source": []
  }
 ],
 "metadata": {
  "kernelspec": {
   "display_name": "Python 3 (ipykernel)",
   "language": "python",
   "name": "python3"
  },
  "language_info": {
   "codemirror_mode": {
    "name": "ipython",
    "version": 3
   },
   "file_extension": ".py",
   "mimetype": "text/x-python",
   "name": "python",
   "nbconvert_exporter": "python",
   "pygments_lexer": "ipython3",
   "version": "3.8.18"
  },
  "widgets": {
   "application/vnd.jupyter.widget-state+json": {
    "state": {},
    "version_major": 2,
    "version_minor": 0
   }
  }
 },
 "nbformat": 4,
 "nbformat_minor": 5
}
