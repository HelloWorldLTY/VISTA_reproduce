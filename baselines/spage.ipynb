{
 "cells": [
  {
   "cell_type": "code",
   "execution_count": 1,
   "id": "6fdf98b1",
   "metadata": {},
   "outputs": [],
   "source": [
    "import numpy as np\n",
    "import pandas as pd\n",
    "import loompy\n",
    "import matplotlib.pyplot as plt\n",
    "import scipy.stats as st\n",
    "from SpaGE.main import SpaGE\n",
    "import warnings\n",
    "import lightning\n",
    "warnings.filterwarnings('ignore')"
   ]
  },
  {
   "cell_type": "code",
   "execution_count": 2,
   "id": "479ee70c-a77f-4968-8f0a-a0a954d43efc",
   "metadata": {},
   "outputs": [],
   "source": [
    "# !pip install loompy"
   ]
  },
  {
   "cell_type": "code",
   "execution_count": 3,
   "id": "2f7c49ad",
   "metadata": {},
   "outputs": [],
   "source": [
    "def Log_Norm_cpm(x):\n",
    "    return np.log(((x/np.sum(x))*1000000) + 1)\n",
    "def Log_Norm_spatial(x):\n",
    "    return np.log(((x/np.sum(x))*np.median(cell_count)) + 1)"
   ]
  },
  {
   "cell_type": "code",
   "execution_count": 4,
   "id": "50a75358",
   "metadata": {},
   "outputs": [],
   "source": [
    "\n",
    "from sklearn.model_selection import train_test_split"
   ]
  },
  {
   "cell_type": "code",
   "execution_count": 5,
   "id": "d0710e7b",
   "metadata": {},
   "outputs": [],
   "source": [
    "import scanpy as sc"
   ]
  },
  {
   "cell_type": "code",
   "execution_count": 6,
   "id": "78489df6",
   "metadata": {},
   "outputs": [],
   "source": [
    "# pip install loompy"
   ]
  },
  {
   "cell_type": "code",
   "execution_count": 7,
   "id": "8d3fc102",
   "metadata": {},
   "outputs": [],
   "source": [
    "adata_sc = sc.read(\"/gpfs/gibbs/pi/zhao/tl688/tangram/data_smfish/scrnaseq_data.h5ad\")\n",
    "adata_st = sc.read(\"/gpfs/gibbs/pi/zhao/tl688/tangram/data_smfish/spatial_data.h5ad\")\n",
    "\n",
    "# adata_sc = sc.read_h5ad(\"/gpfs/gibbs/pi/zhao/tl688/deconvdatasets/spatial_dataset/xenium_brain/aibs_mouse_ctx-hpf_smartseq_sce.h5ad\")\n",
    "# adata_st = sc.read_h5ad(\"/gpfs/gibbs/pi/zhao/tl688/deconvdatasets/spatial_dataset/xenium_brain/spe_xenium.h5ad\")"
   ]
  },
  {
   "cell_type": "code",
   "execution_count": 8,
   "id": "37cc9dce",
   "metadata": {},
   "outputs": [
    {
     "data": {
      "text/plain": [
       "AnnData object with n_obs × n_vars = 3005 × 19972\n",
       "    obs: 'labels', 'precise_labels', 'cell_type', 'scClassify'"
      ]
     },
     "execution_count": 8,
     "metadata": {},
     "output_type": "execute_result"
    }
   ],
   "source": [
    "adata_sc"
   ]
  },
  {
   "cell_type": "code",
   "execution_count": 9,
   "id": "4ca3e3fa",
   "metadata": {},
   "outputs": [
    {
     "data": {
      "text/plain": [
       "AnnData object with n_obs × n_vars = 4530 × 33\n",
       "    obs: 'x_coord', 'y_coord', 'labels', 'str_labels', 'batch', 'scClassify'"
      ]
     },
     "execution_count": 9,
     "metadata": {},
     "output_type": "execute_result"
    }
   ],
   "source": [
    "adata_st"
   ]
  },
  {
   "cell_type": "code",
   "execution_count": 10,
   "id": "d9fbe144",
   "metadata": {},
   "outputs": [],
   "source": [
    "def calcualte_pse_correlation(adata_sc, adata_st, celltype, p_value_threshold = 0.05, cor_threshold = 0.5):\n",
    "    overlap_gene = overlap_gene = list(set(adata_sc.var_names).intersection(adata_st.var_names))\n",
    "    adata_sc = adata_sc[:,overlap_gene]\n",
    "    adata_st = adata_st[:,overlap_gene]\n",
    "    \n",
    "    cell_type_common = list(set(adata_sc.obs[celltype].unique()).intersection(adata_st.obs[celltype].unique()))\n",
    "    \n",
    "    pseudo_st = []\n",
    "    pseudo_sc = []\n",
    "    for i in cell_type_common:\n",
    "        adata1 = adata_st[adata_st.obs[celltype] == i]\n",
    "        adata2 = adata_sc[adata_sc.obs[celltype] == i]\n",
    "\n",
    "        pseudo_st.append(np.mean(adata1.X.toarray(), axis = 0))\n",
    "        pseudo_sc.append(np.mean(adata2.X.toarray(), axis = 0))\n",
    "    \n",
    "    pseudo_st = np.array(pseudo_st)\n",
    "    pseudo_sc = np.array(pseudo_sc)\n",
    "\n",
    "    cor_pearson = []\n",
    "    cor_pvalue = []\n",
    "    for i in range(pseudo_st.shape[1]):\n",
    "        cor, pval = st.pearsonr(pseudo_st[:,i], pseudo_sc[:,i])\n",
    "        cor_pearson.append(cor)\n",
    "        cor_pvalue.append(pval)\n",
    "        \n",
    "    information_stat = pd.DataFrame()\n",
    "\n",
    "    information_stat['pearson'] = cor_pearson\n",
    "    information_stat['pvalue'] = cor_pvalue\n",
    "    information_stat.index = adata_st.var_names\n",
    "\n",
    "    information_stat_update = information_stat.loc[((information_stat['pvalue']<p_value_threshold) & (information_stat['pearson']>cor_threshold))]\n",
    "    \n",
    "    return information_stat_update.index"
   ]
  },
  {
   "cell_type": "code",
   "execution_count": 11,
   "id": "deb211d9-688d-4715-b1ab-686fed4eea4e",
   "metadata": {},
   "outputs": [],
   "source": [
    "info_gene = calcualte_pse_correlation(adata_sc, adata_st, 'scClassify')"
   ]
  },
  {
   "cell_type": "code",
   "execution_count": 12,
   "id": "6033dbd4-6ed6-495e-a9ff-d9dde5c1256a",
   "metadata": {},
   "outputs": [],
   "source": [
    "adata_sc = adata_sc[:,info_gene]\n",
    "adata_st = adata_st[:,info_gene]"
   ]
  },
  {
   "cell_type": "code",
   "execution_count": 13,
   "id": "8dff3db0",
   "metadata": {},
   "outputs": [],
   "source": [
    "import random \n",
    "random.seed(2023)\n",
    "g1 = list(set(adata_st.var_names).intersection(adata_sc.var_names))\n",
    "g1 = sorted(g1)"
   ]
  },
  {
   "cell_type": "code",
   "execution_count": 14,
   "id": "d5d280a9",
   "metadata": {},
   "outputs": [],
   "source": [
    "train_g, test_g = train_test_split(g1, test_size=0.33, random_state=2023)"
   ]
  },
  {
   "cell_type": "code",
   "execution_count": 15,
   "id": "316fc2c4",
   "metadata": {},
   "outputs": [
    {
     "data": {
      "text/plain": [
       "['Itpr2', 'Hexb', 'Pthlh', 'Plp1', 'Mrc1', 'Crh', 'Gfap']"
      ]
     },
     "execution_count": 15,
     "metadata": {},
     "output_type": "execute_result"
    }
   ],
   "source": [
    "test_g"
   ]
  },
  {
   "cell_type": "code",
   "execution_count": 16,
   "id": "a30974ef",
   "metadata": {},
   "outputs": [],
   "source": [
    "# sc.pp.filter_genes(adata_sc, min_counts=1)"
   ]
  },
  {
   "cell_type": "code",
   "execution_count": null,
   "id": "4e9f9e92",
   "metadata": {},
   "outputs": [],
   "source": []
  },
  {
   "cell_type": "code",
   "execution_count": 17,
   "id": "8f8851ea",
   "metadata": {},
   "outputs": [],
   "source": [
    "pv = int(len(test_g)/2)\n",
    "if pv > 100:\n",
    "    pv = 100"
   ]
  },
  {
   "cell_type": "code",
   "execution_count": 18,
   "id": "0ddab76d",
   "metadata": {},
   "outputs": [],
   "source": [
    "adata_st = adata_st[:, train_g]"
   ]
  },
  {
   "cell_type": "code",
   "execution_count": 19,
   "id": "41f53d17",
   "metadata": {},
   "outputs": [],
   "source": [
    "osmFISH_data = adata_st.to_df()\n",
    "RNA_data = adata_sc.to_df()"
   ]
  },
  {
   "cell_type": "code",
   "execution_count": 20,
   "id": "1d076795",
   "metadata": {},
   "outputs": [
    {
     "data": {
      "text/plain": [
       "0"
      ]
     },
     "execution_count": 20,
     "metadata": {},
     "output_type": "execute_result"
    }
   ],
   "source": [
    "np.sum(np.isnan(RNA_data.T.values)*1)"
   ]
  },
  {
   "cell_type": "code",
   "execution_count": 21,
   "id": "0feebbf6-6cd6-4bf1-a3df-278cda8f8800",
   "metadata": {},
   "outputs": [],
   "source": [
    "# adata_st_old = adata_st.copy()"
   ]
  },
  {
   "cell_type": "code",
   "execution_count": 22,
   "id": "1bbb1e72-6941-4b4a-9e5a-3adeec513cb3",
   "metadata": {},
   "outputs": [],
   "source": [
    "# for prop in [0.1, 0.2, 0.3, 0.4, 0.5, 0.6, 0.7, 0.8, 0.9]:\n",
    "#     lightning.seed_everything(0)\n",
    "\n",
    "#     adata_st = adata_st_old.copy()\n",
    "#     sc.pp.subsample(adata_st, fraction = prop, random_state = 0)\n",
    "    \n",
    "#     osmFISH_data = adata_st.to_df()\n",
    "\n",
    "#     Gene_set = test_g\n",
    "#     Imp_Genes = SpaGE(osmFISH_data,RNA_data,n_pv=pv,\n",
    "#                                genes_to_predict = Gene_set)\n",
    "#     Imp_Genes.to_csv(f\"spage_imputation_smfishexample_updategene_prop{prop}.csv\")"
   ]
  },
  {
   "cell_type": "code",
   "execution_count": null,
   "id": "be79ad44-d164-47b2-88cf-f600cab272a4",
   "metadata": {},
   "outputs": [],
   "source": []
  },
  {
   "cell_type": "code",
   "execution_count": 25,
   "id": "c00d87c2-92d0-468d-8cce-9f7ae008e941",
   "metadata": {},
   "outputs": [],
   "source": [
    "# adata_st_old = adata_st.copy()\n",
    "scrna_data_old = adata_sc.copy()"
   ]
  },
  {
   "cell_type": "code",
   "execution_count": 26,
   "id": "1c2d8c43-f9c3-45fe-909c-17c4d9e85377",
   "metadata": {},
   "outputs": [
    {
     "name": "stderr",
     "output_type": "stream",
     "text": [
      "[rank: 0] Global seed set to 0\n",
      "[rank: 0] Global seed set to 0\n",
      "[rank: 0] Global seed set to 0\n",
      "[rank: 0] Global seed set to 0\n",
      "[rank: 0] Global seed set to 0\n",
      "[rank: 0] Global seed set to 0\n",
      "[rank: 0] Global seed set to 0\n",
      "[rank: 0] Global seed set to 0\n",
      "[rank: 0] Global seed set to 0\n"
     ]
    }
   ],
   "source": [
    "for prop in [0.1, 0.2, 0.3, 0.4, 0.5, 0.6, 0.7, 0.8, 0.9]:\n",
    "    lightning.seed_everything(0)\n",
    "\n",
    "    adata_sc = scrna_data_old.copy()\n",
    "    sc.pp.subsample(adata_sc, fraction = prop, random_state = 0)\n",
    "    \n",
    "    osmFISH_data = adata_st.to_df()\n",
    "    RNA_data = adata_sc.to_df()\n",
    "\n",
    "    Gene_set = test_g\n",
    "    Imp_Genes = SpaGE(osmFISH_data,RNA_data,n_pv=pv,\n",
    "                               genes_to_predict = Gene_set)\n",
    "    Imp_Genes.to_csv(f\"spage_imputation_smfishexample_updategene_scprop{prop}.csv\")"
   ]
  },
  {
   "cell_type": "code",
   "execution_count": null,
   "id": "e7fbb027-9b93-482e-ad3a-af55cbe287b5",
   "metadata": {},
   "outputs": [],
   "source": []
  },
  {
   "cell_type": "code",
   "execution_count": null,
   "id": "90be06c0",
   "metadata": {},
   "outputs": [],
   "source": []
  },
  {
   "cell_type": "code",
   "execution_count": 4,
   "id": "6ed84e7c-385c-4829-aa53-1c8ecdecbd6a",
   "metadata": {},
   "outputs": [],
   "source": [
    "import numpy as np\n",
    "import pandas as pd\n",
    "import loompy\n",
    "import matplotlib.pyplot as plt\n",
    "import scipy.stats as st\n",
    "from SpaGE.main import SpaGE\n",
    "import warnings\n",
    "import lightning\n",
    "warnings.filterwarnings('ignore')"
   ]
  },
  {
   "cell_type": "code",
   "execution_count": 5,
   "id": "b990a9aa-466a-46f3-a6f7-f07764f70bce",
   "metadata": {},
   "outputs": [],
   "source": [
    "def Log_Norm_cpm(x):\n",
    "    return np.log(((x/np.sum(x))*1000000) + 1)\n",
    "def Log_Norm_spatial(x):\n",
    "    return np.log(((x/np.sum(x))*np.median(cell_count)) + 1)"
   ]
  },
  {
   "cell_type": "code",
   "execution_count": 6,
   "id": "d7199c03-58d5-496c-a2aa-4a93822169a7",
   "metadata": {},
   "outputs": [],
   "source": [
    "\n",
    "from sklearn.model_selection import train_test_split"
   ]
  },
  {
   "cell_type": "code",
   "execution_count": 7,
   "id": "8254ebc7-e504-4f77-99fe-03e3c3ba0bb1",
   "metadata": {},
   "outputs": [],
   "source": [
    "import scanpy as sc"
   ]
  },
  {
   "cell_type": "code",
   "execution_count": 8,
   "id": "4376597a-d935-49c8-a5d3-6411054155f4",
   "metadata": {},
   "outputs": [],
   "source": [
    "# adata_sc = sc.read(\"/gpfs/gibbs/pi/zhao/tl688/tangram/data_smfish/scrnaseq_data.h5ad\")\n",
    "# adata_st = sc.read(\"/gpfs/gibbs/pi/zhao/tl688/tangram/data_smfish/spatial_data.h5ad\")\n",
    "\n",
    "# # adata_sc = sc.read_h5ad(\"/gpfs/gibbs/pi/zhao/tl688/deconvdatasets/spatial_dataset/xenium_brain/aibs_mouse_ctx-hpf_smartseq_sce.h5ad\")\n",
    "# # adata_st = sc.read_h5ad(\"/gpfs/gibbs/pi/zhao/tl688/deconvdatasets/spatial_dataset/xenium_brain/spe_xenium.h5ad\")"
   ]
  },
  {
   "cell_type": "code",
   "execution_count": 9,
   "id": "0a1f1d0b-2204-4845-8bb8-82a2ea380527",
   "metadata": {},
   "outputs": [],
   "source": [
    "def calcualte_pse_correlation(adata_sc, adata_st, celltype, p_value_threshold = 0.05, cor_threshold = 0.5):\n",
    "    overlap_gene = overlap_gene = list(set(adata_sc.var_names).intersection(adata_st.var_names))\n",
    "    adata_sc = adata_sc[:,overlap_gene]\n",
    "    adata_st = adata_st[:,overlap_gene]\n",
    "    \n",
    "    cell_type_common = list(set(adata_sc.obs[celltype].unique()).intersection(adata_st.obs[celltype].unique()))\n",
    "    \n",
    "    pseudo_st = []\n",
    "    pseudo_sc = []\n",
    "    for i in cell_type_common:\n",
    "        adata1 = adata_st[adata_st.obs[celltype] == i]\n",
    "        adata2 = adata_sc[adata_sc.obs[celltype] == i]\n",
    "\n",
    "        pseudo_st.append(np.mean(adata1.X.toarray(), axis = 0))\n",
    "        pseudo_sc.append(np.mean(adata2.X.toarray(), axis = 0))\n",
    "    \n",
    "    pseudo_st = np.array(pseudo_st)\n",
    "    pseudo_sc = np.array(pseudo_sc)\n",
    "\n",
    "    cor_pearson = []\n",
    "    cor_pvalue = []\n",
    "    for i in range(pseudo_st.shape[1]):\n",
    "        cor, pval = st.pearsonr(pseudo_st[:,i], pseudo_sc[:,i])\n",
    "        cor_pearson.append(cor)\n",
    "        cor_pvalue.append(pval)\n",
    "        \n",
    "    information_stat = pd.DataFrame()\n",
    "\n",
    "    information_stat['pearson'] = cor_pearson\n",
    "    information_stat['pvalue'] = cor_pvalue\n",
    "    information_stat.index = adata_st.var_names\n",
    "\n",
    "    information_stat_update = information_stat.loc[((information_stat['pvalue']<p_value_threshold) & (information_stat['pearson']>cor_threshold))]\n",
    "    \n",
    "    return information_stat_update.index"
   ]
  },
  {
   "cell_type": "code",
   "execution_count": null,
   "id": "300b7dc9-91ea-47b4-8c53-564d7c3fb90e",
   "metadata": {},
   "outputs": [],
   "source": [
    "adata_sc = sc.read_h5ad(\"/gpfs/gibbs/pi/zhao/tl688/deconvdatasets/spatial_dataset/xenium_breast/sce_FFPE_full.h5ad\")\n",
    "adata_sc.obs['scClassify'] = adata_sc.obs['graph_cluster_anno'].copy()\n",
    "adata_sc.var_names_make_unique()"
   ]
  },
  {
   "cell_type": "code",
   "execution_count": null,
   "id": "2638bade-6fc3-4eae-89aa-650fe53dc75e",
   "metadata": {},
   "outputs": [],
   "source": [
    "for seed in range(0,10):\n",
    "    lightning.seed_everything(0)\n",
    "\n",
    "    adata_st = sc.read_h5ad(f\"/gpfs/gibbs/pi/zhao/tl688/tangram/human_breast_simulation/spe_xenium_data_0.1_seed{seed}.h5ad\")\n",
    "    info_gene = calcualte_pse_correlation(adata_sc, adata_st, 'scClassify')\n",
    "\n",
    "    adata_sc = adata_sc[:,info_gene]\n",
    "    adata_st = adata_st[:,info_gene]\n",
    "\n",
    "    import random \n",
    "    random.seed(2023)\n",
    "    g1 = list(set(adata_st.var_names).intersection(adata_sc.var_names))\n",
    "    g1 = sorted(g1)\n",
    "\n",
    "    train_g, test_g = train_test_split(g1, test_size=0.33, random_state=2023)\n",
    "\n",
    "    pv = int(len(test_g)/2)\n",
    "    if pv > 100:\n",
    "        pv = 100\n",
    "\n",
    "    adata_st = adata_st[:, train_g]\n",
    "\n",
    "    osmFISH_data = adata_st.to_df()\n",
    "    RNA_data = adata_sc.to_df()\n",
    "    \n",
    "    Gene_set = test_g\n",
    "    Imp_Genes = SpaGE(osmFISH_data,RNA_data,n_pv=pv,\n",
    "                               genes_to_predict = Gene_set)\n",
    "    Imp_Genes.to_csv(f\"/gpfs/gibbs/pi/zhao/tl688/tangram/SpaGE/spage_imputation_humanbreast_updategene_seed{seed}.csv\")"
   ]
  },
  {
   "cell_type": "code",
   "execution_count": null,
   "id": "6556b2c5-44f2-41bd-9e5c-712f8e747fea",
   "metadata": {},
   "outputs": [],
   "source": []
  },
  {
   "cell_type": "code",
   "execution_count": null,
   "id": "0bb91523-ff40-40f1-bc82-5ec9904ff90c",
   "metadata": {},
   "outputs": [],
   "source": []
  },
  {
   "cell_type": "code",
   "execution_count": 1,
   "id": "083d505b-e0b8-49aa-9a58-43d2de45a04f",
   "metadata": {},
   "outputs": [],
   "source": [
    "import numpy as np\n",
    "import pandas as pd\n",
    "import loompy\n",
    "import matplotlib.pyplot as plt\n",
    "import scipy.stats as st\n",
    "from SpaGE.main import SpaGE\n",
    "import warnings\n",
    "import lightning\n",
    "warnings.filterwarnings('ignore')"
   ]
  },
  {
   "cell_type": "code",
   "execution_count": 2,
   "id": "14d7fdc3-bffc-4a35-8900-32443c6239fb",
   "metadata": {},
   "outputs": [],
   "source": [
    "def Log_Norm_cpm(x):\n",
    "    return np.log(((x/np.sum(x))*1000000) + 1)\n",
    "def Log_Norm_spatial(x):\n",
    "    return np.log(((x/np.sum(x))*np.median(cell_count)) + 1)"
   ]
  },
  {
   "cell_type": "code",
   "execution_count": 3,
   "id": "0eef76c9-463f-4f84-a54b-3f604e0a2ce4",
   "metadata": {},
   "outputs": [],
   "source": [
    "\n",
    "from sklearn.model_selection import train_test_split"
   ]
  },
  {
   "cell_type": "code",
   "execution_count": 4,
   "id": "7a0a9cdd-e0a1-4b0e-ae14-5dfe2db0cf8a",
   "metadata": {},
   "outputs": [],
   "source": [
    "import scanpy as sc"
   ]
  },
  {
   "cell_type": "code",
   "execution_count": 5,
   "id": "8329b6bd-860d-4c27-90e7-b61756bc31cc",
   "metadata": {},
   "outputs": [],
   "source": [
    "# adata_sc = sc.read(\"/gpfs/gibbs/pi/zhao/tl688/tangram/data_smfish/scrnaseq_data.h5ad\")\n",
    "# adata_st = sc.read(\"/gpfs/gibbs/pi/zhao/tl688/tangram/data_smfish/spatial_data.h5ad\")\n",
    "\n",
    "# # adata_sc = sc.read_h5ad(\"/gpfs/gibbs/pi/zhao/tl688/deconvdatasets/spatial_dataset/xenium_brain/aibs_mouse_ctx-hpf_smartseq_sce.h5ad\")\n",
    "# # adata_st = sc.read_h5ad(\"/gpfs/gibbs/pi/zhao/tl688/deconvdatasets/spatial_dataset/xenium_brain/spe_xenium.h5ad\")"
   ]
  },
  {
   "cell_type": "code",
   "execution_count": 6,
   "id": "eaacba42-127b-4330-830b-b081f31a8a91",
   "metadata": {},
   "outputs": [],
   "source": [
    "def calcualte_pse_correlation(adata_sc, adata_st, celltype, p_value_threshold = 0.05, cor_threshold = 0.5):\n",
    "    overlap_gene = sorted(list(set(adata_sc.var_names).intersection(adata_st.var_names)))\n",
    "    adata_sc = adata_sc[:,overlap_gene]\n",
    "    adata_st = adata_st[:,overlap_gene]\n",
    "    \n",
    "    cell_type_common = list(set(adata_sc.obs[celltype].unique()).intersection(adata_st.obs[celltype].unique()))\n",
    "    \n",
    "    pseudo_st = []\n",
    "    pseudo_sc = []\n",
    "    for i in cell_type_common:\n",
    "        adata1 = adata_st[adata_st.obs[celltype] == i]\n",
    "        adata2 = adata_sc[adata_sc.obs[celltype] == i]\n",
    "\n",
    "        pseudo_st.append(np.mean(adata1.X.toarray(), axis = 0))\n",
    "        pseudo_sc.append(np.mean(adata2.X.toarray(), axis = 0))\n",
    "    \n",
    "    pseudo_st = np.array(pseudo_st)\n",
    "    pseudo_sc = np.array(pseudo_sc)\n",
    "\n",
    "    cor_pearson = []\n",
    "    cor_pvalue = []\n",
    "    for i in range(pseudo_st.shape[1]):\n",
    "        cor, pval = st.pearsonr(pseudo_st[:,i], pseudo_sc[:,i])\n",
    "        cor_pearson.append(cor)\n",
    "        cor_pvalue.append(pval)\n",
    "        \n",
    "    information_stat = pd.DataFrame()\n",
    "\n",
    "    information_stat['pearson'] = cor_pearson\n",
    "    information_stat['pvalue'] = cor_pvalue\n",
    "    information_stat.index = adata_st.var_names\n",
    "\n",
    "    information_stat_update = information_stat.loc[((information_stat['pvalue']<p_value_threshold) & (information_stat['pearson']>cor_threshold))]\n",
    "    \n",
    "    return information_stat_update.index"
   ]
  },
  {
   "cell_type": "code",
   "execution_count": null,
   "id": "26283c69-eda0-4497-b689-ae49a14b8a95",
   "metadata": {},
   "outputs": [],
   "source": []
  },
  {
   "cell_type": "code",
   "execution_count": 7,
   "id": "11c9bd1e-3b58-4429-b83f-5af4bd57245c",
   "metadata": {},
   "outputs": [
    {
     "name": "stderr",
     "output_type": "stream",
     "text": [
      "[rank: 0] Global seed set to 0\n",
      "[rank: 0] Global seed set to 0\n",
      "[rank: 0] Global seed set to 0\n",
      "[rank: 0] Global seed set to 0\n",
      "[rank: 0] Global seed set to 0\n",
      "[rank: 0] Global seed set to 0\n",
      "[rank: 0] Global seed set to 0\n",
      "[rank: 0] Global seed set to 0\n",
      "[rank: 0] Global seed set to 0\n",
      "[rank: 0] Global seed set to 0\n"
     ]
    }
   ],
   "source": [
    "for seed in range(0,10):\n",
    "    lightning.seed_everything(0)\n",
    "\n",
    "    adata_sc = sc.read_h5ad(\"/gpfs/gibbs/pi/zhao/tl688/deconvdatasets/spatial_dataset/xenium_brain/aibs_mouse_ctx-hpf_smartseq_sce.h5ad\")\n",
    "    adata_sc.obs['scClassify'] = adata_sc.obs['cell_type_alias_label2'].copy()\n",
    "    adata_sc.var_names_make_unique()\n",
    "\n",
    "    adata_st = sc.read_h5ad(f\"/gpfs/gibbs/pi/zhao/tl688/tangram/data_brain/spe_xenium_data_0.1_seed{seed}.h5ad\")\n",
    "    info_gene = calcualte_pse_correlation(adata_sc, adata_st, 'scClassify')\n",
    "\n",
    "    adata_sc = adata_sc[:,info_gene]\n",
    "    adata_st = adata_st[:,info_gene]\n",
    "\n",
    "    import random \n",
    "    random.seed(2023)\n",
    "    g1 = list(set(adata_st.var_names).intersection(adata_sc.var_names))\n",
    "    g1 = sorted(g1)\n",
    "\n",
    "    train_g, test_g = train_test_split(g1, test_size=0.33, random_state=2023)\n",
    "\n",
    "    pv = int(len(test_g)/2)\n",
    "    if pv > 100:\n",
    "        pv = 100\n",
    "\n",
    "    adata_st = adata_st[:, train_g]\n",
    "\n",
    "    osmFISH_data = adata_st.to_df()\n",
    "    RNA_data = adata_sc.to_df()\n",
    "    \n",
    "    Gene_set = test_g\n",
    "    Imp_Genes = SpaGE(osmFISH_data,RNA_data,n_pv=pv,\n",
    "                               genes_to_predict = Gene_set)\n",
    "    Imp_Genes.to_csv(f\"/gpfs/gibbs/pi/zhao/tl688/tangram/SpaGE/spage_imputation_brain_updategene_seed{seed}.csv\")"
   ]
  },
  {
   "cell_type": "code",
   "execution_count": null,
   "id": "3dc65d18-3c91-472c-bc2a-06e5218a315e",
   "metadata": {},
   "outputs": [],
   "source": []
  },
  {
   "cell_type": "code",
   "execution_count": null,
   "id": "70dd13aa-28df-44be-9613-54d268548b5e",
   "metadata": {},
   "outputs": [],
   "source": []
  },
  {
   "cell_type": "code",
   "execution_count": 11,
   "id": "f0255780-2d40-456e-8594-71670d6504bb",
   "metadata": {},
   "outputs": [],
   "source": [
    "adata_sc = sc.read(\"/gpfs/gibbs/pi/zhao/tl688/tangram/starmap/scrnaseq.h5ad\")\n",
    "adata_st = sc.read(\"/gpfs/gibbs/pi/zhao/tl688/tangram/starmap/spatialseq.h5ad\")\n",
    "\n",
    "# seq_data = sc.read_h5ad(\"/gpfs/gibbs/pi/zhao/tl688/tangram/starmap/scrnaseq.h5ad\")\n",
    "# spatial_data = sc.read_h5ad(\"/gpfs/gibbs/pi/zhao/tl688/tangram/starmap/spatialseq.h5ad\")\n",
    "\n",
    "# adata_sc = sc.read_h5ad(\"/gpfs/gibbs/pi/zhao/tl688/deconvdatasets/spatial_dataset/xenium_brain/aibs_mouse_ctx-hpf_smartseq_sce.h5ad\")\n",
    "# adata_st = sc.read_h5ad(\"/gpfs/gibbs/pi/zhao/tl688/deconvdatasets/spatial_dataset/xenium_brain/spe_xenium.h5ad\")"
   ]
  },
  {
   "cell_type": "code",
   "execution_count": 12,
   "id": "98656407-00ba-47ab-8e0b-a32478ed8521",
   "metadata": {},
   "outputs": [
    {
     "data": {
      "text/plain": [
       "AnnData object with n_obs × n_vars = 15413 × 45768\n",
       "    obs: 'sample_name', 'sample_id', 'sample_type', 'organism', 'donor', 'sex', 'age_days', 'eye_condition', 'genotype', 'driver_lines', 'reporter_lines', 'brain_hemisphere', 'brain_region', 'brain_subregion', 'injection_label_direction', 'injection_primary', 'injection_secondary', 'injection_tract', 'injection_material', 'injection_exclusion_criterion', 'facs_date', 'facs_container', 'facs_sort_criteria', 'rna_amplification_set', 'library_prep_set', 'library_prep_avg_size_bp', 'seq_name', 'seq_tube', 'seq_batch', 'total_reads', 'percent_exon_reads', 'percent_intron_reads', 'percent_intergenic_reads', 'percent_rrna_reads', 'percent_mt_exon_reads', 'percent_reads_unique', 'percent_synth_reads', 'percent_ecoli_reads', 'percent_aligned_reads_total', 'complexity_cg', 'genes_detected_cpm_criterion', 'genes_detected_fpkm_criterion', 'tdt_cpm', 'gfp_cpm', 'class', 'subclass', 'cluster', 'confusion_score', 'cluster_correlation', 'core_intermediate_call', 'scClassify'\n",
       "    var: 'gene_symbol', 'gene_id', 'chromosome', 'gene_entrez_id', 'gene_name'"
      ]
     },
     "execution_count": 12,
     "metadata": {},
     "output_type": "execute_result"
    }
   ],
   "source": [
    "adata_sc"
   ]
  },
  {
   "cell_type": "code",
   "execution_count": 13,
   "id": "05e55d87-51b7-436b-bded-01ea36bf948b",
   "metadata": {},
   "outputs": [
    {
     "data": {
      "text/plain": [
       "AnnData object with n_obs × n_vars = 1207 × 53\n",
       "    obs: 'scClassify', 'ori_label'\n",
       "    obsm: 'spatial'"
      ]
     },
     "execution_count": 13,
     "metadata": {},
     "output_type": "execute_result"
    }
   ],
   "source": [
    "adata_st"
   ]
  },
  {
   "cell_type": "code",
   "execution_count": 14,
   "id": "ee226454-4798-466d-b327-bda68c3d084e",
   "metadata": {},
   "outputs": [],
   "source": [
    "def calcualte_pse_correlation(adata_sc, adata_st, celltype, p_value_threshold = 0.05, cor_threshold = 0.5):\n",
    "    overlap_gene = overlap_gene = list(set(adata_sc.var_names).intersection(adata_st.var_names))\n",
    "    adata_sc = adata_sc[:,overlap_gene]\n",
    "    adata_st = adata_st[:,overlap_gene]\n",
    "    \n",
    "    cell_type_common = list(set(adata_sc.obs[celltype].unique()).intersection(adata_st.obs[celltype].unique()))\n",
    "    \n",
    "    pseudo_st = []\n",
    "    pseudo_sc = []\n",
    "    for i in cell_type_common:\n",
    "        adata1 = adata_st[adata_st.obs[celltype] == i]\n",
    "        adata2 = adata_sc[adata_sc.obs[celltype] == i]\n",
    "\n",
    "        pseudo_st.append(np.mean(adata1.X.toarray(), axis = 0))\n",
    "        pseudo_sc.append(np.mean(adata2.X.toarray(), axis = 0))\n",
    "    \n",
    "    pseudo_st = np.array(pseudo_st)\n",
    "    pseudo_sc = np.array(pseudo_sc)\n",
    "\n",
    "    cor_pearson = []\n",
    "    cor_pvalue = []\n",
    "    for i in range(pseudo_st.shape[1]):\n",
    "        cor, pval = st.pearsonr(pseudo_st[:,i], pseudo_sc[:,i])\n",
    "        cor_pearson.append(cor)\n",
    "        cor_pvalue.append(pval)\n",
    "        \n",
    "    information_stat = pd.DataFrame()\n",
    "\n",
    "    information_stat['pearson'] = cor_pearson\n",
    "    information_stat['pvalue'] = cor_pvalue\n",
    "    information_stat.index = adata_st.var_names\n",
    "\n",
    "    information_stat_update = information_stat.loc[((information_stat['pvalue']<p_value_threshold) & (information_stat['pearson']>cor_threshold))]\n",
    "    \n",
    "    return information_stat_update.index"
   ]
  },
  {
   "cell_type": "code",
   "execution_count": 15,
   "id": "ab7d0ef3-1baa-49db-b660-a4f3e69dd720",
   "metadata": {},
   "outputs": [],
   "source": [
    "info_gene = calcualte_pse_correlation(adata_sc, adata_st, 'scClassify')"
   ]
  },
  {
   "cell_type": "code",
   "execution_count": 16,
   "id": "1566ee4c-15fa-4e32-bafb-a5b3bf36ff4b",
   "metadata": {},
   "outputs": [],
   "source": [
    "adata_sc = adata_sc[:,info_gene]\n",
    "adata_st = adata_st[:,info_gene]"
   ]
  },
  {
   "cell_type": "code",
   "execution_count": 17,
   "id": "9bc157f4-02e0-410f-90ae-d805e9ef8871",
   "metadata": {},
   "outputs": [],
   "source": [
    "import random \n",
    "random.seed(2023)\n",
    "g1 = list(set(adata_st.var_names).intersection(adata_sc.var_names))\n",
    "g1 = sorted(g1)"
   ]
  },
  {
   "cell_type": "code",
   "execution_count": 18,
   "id": "c4329be0-c8d5-448b-b318-2bde3dd900a1",
   "metadata": {},
   "outputs": [],
   "source": [
    "train_g, test_g = train_test_split(g1, test_size=0.33, random_state=2023)"
   ]
  },
  {
   "cell_type": "code",
   "execution_count": 19,
   "id": "b63f5267-e18b-424e-8783-ef4c7d096888",
   "metadata": {},
   "outputs": [
    {
     "data": {
      "text/plain": [
       "['Pthlh',\n",
       " 'Cldn5',\n",
       " 'Cmtm5',\n",
       " 'Ctso',\n",
       " 'Slc20a1',\n",
       " '2810468N07Rik',\n",
       " 'Mt2',\n",
       " 'Ddah1',\n",
       " 'Aqp4',\n",
       " 'Tmem91',\n",
       " 'Rorb',\n",
       " 'Reln',\n",
       " 'Tusc3',\n",
       " 'Pou3f4',\n",
       " 'Acsbg1',\n",
       " 'Bsg',\n",
       " 'Ptgds',\n",
       " 'Ntsr2']"
      ]
     },
     "execution_count": 19,
     "metadata": {},
     "output_type": "execute_result"
    }
   ],
   "source": [
    "test_g"
   ]
  },
  {
   "cell_type": "code",
   "execution_count": 20,
   "id": "c2b37b7c-52d2-45ba-a1d2-d66b94879d18",
   "metadata": {},
   "outputs": [],
   "source": [
    "# sc.pp.filter_genes(adata_sc, min_counts=1)"
   ]
  },
  {
   "cell_type": "code",
   "execution_count": null,
   "id": "eb0454b1-cfce-4485-9eec-692f00bde5cf",
   "metadata": {},
   "outputs": [],
   "source": []
  },
  {
   "cell_type": "code",
   "execution_count": 21,
   "id": "be39ffc1-ad67-404d-8af3-eadc081a5e65",
   "metadata": {},
   "outputs": [],
   "source": [
    "pv = int(len(test_g)/2)\n",
    "if pv > 100:\n",
    "    pv = 100"
   ]
  },
  {
   "cell_type": "code",
   "execution_count": 22,
   "id": "a33de033-15b1-4151-933f-6bb42da3366a",
   "metadata": {},
   "outputs": [],
   "source": [
    "adata_st = adata_st[:, train_g]"
   ]
  },
  {
   "cell_type": "code",
   "execution_count": 23,
   "id": "eb844444-1bfb-49ab-856a-f32fbf530512",
   "metadata": {},
   "outputs": [],
   "source": [
    "osmFISH_data = adata_st.to_df()\n",
    "RNA_data = adata_sc.to_df()"
   ]
  },
  {
   "cell_type": "code",
   "execution_count": 24,
   "id": "6944ea6f-7131-4e6b-8471-f6d81c65dcb1",
   "metadata": {},
   "outputs": [
    {
     "data": {
      "text/plain": [
       "0"
      ]
     },
     "execution_count": 24,
     "metadata": {},
     "output_type": "execute_result"
    }
   ],
   "source": [
    "np.sum(np.isnan(RNA_data.T.values)*1)"
   ]
  },
  {
   "cell_type": "code",
   "execution_count": null,
   "id": "ed6b6bcb-b938-43c0-b02a-48ffdbc0f442",
   "metadata": {},
   "outputs": [],
   "source": []
  },
  {
   "cell_type": "code",
   "execution_count": 25,
   "id": "444ea281-a9bc-4aa9-9310-8de3e512234c",
   "metadata": {},
   "outputs": [
    {
     "name": "stderr",
     "output_type": "stream",
     "text": [
      "[rank: 0] Global seed set to 0\n",
      "[rank: 0] Global seed set to 1\n",
      "[rank: 0] Global seed set to 2\n",
      "[rank: 0] Global seed set to 3\n",
      "[rank: 0] Global seed set to 4\n",
      "[rank: 0] Global seed set to 5\n",
      "[rank: 0] Global seed set to 6\n",
      "[rank: 0] Global seed set to 7\n",
      "[rank: 0] Global seed set to 8\n",
      "[rank: 0] Global seed set to 9\n"
     ]
    }
   ],
   "source": [
    "for i in range(0,10):\n",
    "    lightning.seed_everything(i)\n",
    "    Gene_set = test_g\n",
    "    Imp_Genes = SpaGE(osmFISH_data,RNA_data,n_pv=pv,\n",
    "                               genes_to_predict = Gene_set)\n",
    "    Imp_Genes.to_csv(f\"spage_imputation_starmap_updategene_seed{i}.csv\")"
   ]
  },
  {
   "cell_type": "code",
   "execution_count": null,
   "id": "4a01c707-a2c8-45c6-819b-4b278003bb8a",
   "metadata": {},
   "outputs": [],
   "source": []
  },
  {
   "cell_type": "code",
   "execution_count": null,
   "id": "68437d48-1e0e-4c35-8ba6-06a01a7dd247",
   "metadata": {},
   "outputs": [],
   "source": []
  },
  {
   "cell_type": "code",
   "execution_count": null,
   "id": "62de8e1d-19a2-407c-b60b-34de57deda4f",
   "metadata": {},
   "outputs": [],
   "source": []
  },
  {
   "cell_type": "code",
   "execution_count": null,
   "id": "a8e1982d-fef2-4fc0-abe0-e04bea2f0fc5",
   "metadata": {},
   "outputs": [],
   "source": []
  },
  {
   "cell_type": "markdown",
   "id": "131af22d-72e1-48b4-b810-ef54d2968be3",
   "metadata": {},
   "source": [
    "# Normalized"
   ]
  },
  {
   "cell_type": "code",
   "execution_count": 31,
   "id": "ff9da6eb-27b5-41e3-abce-52e8f6fd303d",
   "metadata": {},
   "outputs": [],
   "source": [
    "import numpy as np\n",
    "import pandas as pd\n",
    "import loompy\n",
    "import matplotlib.pyplot as plt\n",
    "import scipy.stats as st\n",
    "from SpaGE.main import SpaGE\n",
    "import warnings\n",
    "import lightning\n",
    "warnings.filterwarnings('ignore')"
   ]
  },
  {
   "cell_type": "code",
   "execution_count": 32,
   "id": "366e2ab7-e22e-4825-af5a-075184fc1b28",
   "metadata": {},
   "outputs": [],
   "source": [
    "# !pip install loompy"
   ]
  },
  {
   "cell_type": "code",
   "execution_count": 33,
   "id": "e4402f75-1b2a-4536-9833-7bb080bfbf52",
   "metadata": {},
   "outputs": [],
   "source": [
    "def Log_Norm_cpm(x):\n",
    "    return np.log(((x/np.sum(x))*1000000) + 1)\n",
    "def Log_Norm_spatial(x):\n",
    "    return np.log(((x/np.sum(x))*np.median(cell_count)) + 1)"
   ]
  },
  {
   "cell_type": "code",
   "execution_count": 34,
   "id": "3fc44e36-093c-4a38-b6d1-1905ce5d2989",
   "metadata": {},
   "outputs": [],
   "source": [
    "\n",
    "from sklearn.model_selection import train_test_split"
   ]
  },
  {
   "cell_type": "code",
   "execution_count": 35,
   "id": "4813d5f2-9aea-42f7-967e-410d6344fac4",
   "metadata": {},
   "outputs": [],
   "source": [
    "import scanpy as sc"
   ]
  },
  {
   "cell_type": "code",
   "execution_count": 36,
   "id": "a81dfb09-0ab9-4cd9-a054-6c2219dce02f",
   "metadata": {},
   "outputs": [],
   "source": [
    "# pip install loompy"
   ]
  },
  {
   "cell_type": "code",
   "execution_count": 37,
   "id": "dbcdc748-ab93-4001-8996-e946eb17c8fc",
   "metadata": {},
   "outputs": [],
   "source": [
    "adata_sc = sc.read(\"/gpfs/gibbs/pi/zhao/tl688/tangram/data_smfish/scrnaseq_data.h5ad\")\n",
    "adata_st = sc.read(\"/gpfs/gibbs/pi/zhao/tl688/tangram/data_smfish/spatial_data.h5ad\")\n",
    "\n",
    "# adata_sc = sc.read_h5ad(\"/gpfs/gibbs/pi/zhao/tl688/deconvdatasets/spatial_dataset/xenium_brain/aibs_mouse_ctx-hpf_smartseq_sce.h5ad\")\n",
    "# adata_st = sc.read_h5ad(\"/gpfs/gibbs/pi/zhao/tl688/deconvdatasets/spatial_dataset/xenium_brain/spe_xenium.h5ad\")"
   ]
  },
  {
   "cell_type": "code",
   "execution_count": 38,
   "id": "ae67d229-e065-4dc1-a575-f583c963d534",
   "metadata": {},
   "outputs": [
    {
     "data": {
      "text/plain": [
       "AnnData object with n_obs × n_vars = 3005 × 19972\n",
       "    obs: 'labels', 'precise_labels', 'cell_type', 'scClassify'"
      ]
     },
     "execution_count": 38,
     "metadata": {},
     "output_type": "execute_result"
    }
   ],
   "source": [
    "adata_sc"
   ]
  },
  {
   "cell_type": "code",
   "execution_count": 39,
   "id": "51d30e07-2b74-4d3c-9fe1-ff905290d01d",
   "metadata": {},
   "outputs": [
    {
     "data": {
      "text/plain": [
       "AnnData object with n_obs × n_vars = 4530 × 33\n",
       "    obs: 'x_coord', 'y_coord', 'labels', 'str_labels', 'batch', 'scClassify'"
      ]
     },
     "execution_count": 39,
     "metadata": {},
     "output_type": "execute_result"
    }
   ],
   "source": [
    "adata_st"
   ]
  },
  {
   "cell_type": "code",
   "execution_count": 40,
   "id": "583ff9f7-6916-481d-8f15-d96c01ab542c",
   "metadata": {},
   "outputs": [],
   "source": [
    "def calcualte_pse_correlation(adata_sc, adata_st, celltype, p_value_threshold = 0.05, cor_threshold = 0.5):\n",
    "    overlap_gene = overlap_gene = list(set(adata_sc.var_names).intersection(adata_st.var_names))\n",
    "    adata_sc = adata_sc[:,overlap_gene]\n",
    "    adata_st = adata_st[:,overlap_gene]\n",
    "    \n",
    "    cell_type_common = list(set(adata_sc.obs[celltype].unique()).intersection(adata_st.obs[celltype].unique()))\n",
    "    \n",
    "    pseudo_st = []\n",
    "    pseudo_sc = []\n",
    "    for i in cell_type_common:\n",
    "        adata1 = adata_st[adata_st.obs[celltype] == i]\n",
    "        adata2 = adata_sc[adata_sc.obs[celltype] == i]\n",
    "\n",
    "        pseudo_st.append(np.mean(adata1.X.toarray(), axis = 0))\n",
    "        pseudo_sc.append(np.mean(adata2.X.toarray(), axis = 0))\n",
    "    \n",
    "    pseudo_st = np.array(pseudo_st)\n",
    "    pseudo_sc = np.array(pseudo_sc)\n",
    "\n",
    "    cor_pearson = []\n",
    "    cor_pvalue = []\n",
    "    for i in range(pseudo_st.shape[1]):\n",
    "        cor, pval = st.pearsonr(pseudo_st[:,i], pseudo_sc[:,i])\n",
    "        cor_pearson.append(cor)\n",
    "        cor_pvalue.append(pval)\n",
    "        \n",
    "    information_stat = pd.DataFrame()\n",
    "\n",
    "    information_stat['pearson'] = cor_pearson\n",
    "    information_stat['pvalue'] = cor_pvalue\n",
    "    information_stat.index = adata_st.var_names\n",
    "\n",
    "    information_stat_update = information_stat.loc[((information_stat['pvalue']<p_value_threshold) & (information_stat['pearson']>cor_threshold))]\n",
    "    \n",
    "    return information_stat_update.index"
   ]
  },
  {
   "cell_type": "code",
   "execution_count": 41,
   "id": "1cfb2d5a-2d15-4b88-a60d-34e66e86bf34",
   "metadata": {},
   "outputs": [],
   "source": [
    "info_gene = calcualte_pse_correlation(adata_sc, adata_st, 'scClassify')"
   ]
  },
  {
   "cell_type": "code",
   "execution_count": 42,
   "id": "2b9a4d16-2132-44b3-b360-4a7bee013164",
   "metadata": {},
   "outputs": [],
   "source": [
    "adata_sc = adata_sc[:,info_gene]\n",
    "adata_st = adata_st[:,info_gene]"
   ]
  },
  {
   "cell_type": "code",
   "execution_count": 43,
   "id": "f7988e6a-908e-442d-a693-60ed5194a74e",
   "metadata": {},
   "outputs": [],
   "source": [
    "import random \n",
    "random.seed(2023)\n",
    "g1 = list(set(adata_st.var_names).intersection(adata_sc.var_names))\n",
    "g1 = sorted(g1)"
   ]
  },
  {
   "cell_type": "code",
   "execution_count": 44,
   "id": "2ae41fbc-c5da-43f6-9440-fd871b0f0f88",
   "metadata": {},
   "outputs": [],
   "source": [
    "train_g, test_g = train_test_split(g1, test_size=0.33, random_state=2023)"
   ]
  },
  {
   "cell_type": "code",
   "execution_count": 45,
   "id": "a8a9085d-e12f-41b4-9ba6-bd766dd433f0",
   "metadata": {},
   "outputs": [
    {
     "data": {
      "text/plain": [
       "['Itpr2', 'Hexb', 'Pthlh', 'Plp1', 'Mrc1', 'Crh', 'Gfap']"
      ]
     },
     "execution_count": 45,
     "metadata": {},
     "output_type": "execute_result"
    }
   ],
   "source": [
    "test_g"
   ]
  },
  {
   "cell_type": "code",
   "execution_count": 46,
   "id": "914d1961-12db-4d0b-97f4-ce1cab6ba4b5",
   "metadata": {},
   "outputs": [],
   "source": [
    "# sc.pp.filter_genes(adata_sc, min_counts=1)"
   ]
  },
  {
   "cell_type": "code",
   "execution_count": null,
   "id": "ea64b909-3268-4ff8-81d1-c1d7080e1b76",
   "metadata": {},
   "outputs": [],
   "source": []
  },
  {
   "cell_type": "code",
   "execution_count": 47,
   "id": "2cb70d69-d50c-4e74-9a65-73fb21fbf030",
   "metadata": {},
   "outputs": [],
   "source": [
    "pv = int(len(test_g)/2)\n",
    "if pv > 100:\n",
    "    pv = 100"
   ]
  },
  {
   "cell_type": "code",
   "execution_count": 48,
   "id": "c6501b23-d932-413b-9b83-9d35d7836a64",
   "metadata": {},
   "outputs": [],
   "source": [
    "adata_st = adata_st[:, train_g]"
   ]
  },
  {
   "cell_type": "code",
   "execution_count": null,
   "id": "8cd0da67-e874-423f-8485-a3f1b2f2b180",
   "metadata": {},
   "outputs": [],
   "source": []
  },
  {
   "cell_type": "code",
   "execution_count": null,
   "id": "4f8b1a58-5c88-4677-b70a-8a4ef1097654",
   "metadata": {},
   "outputs": [],
   "source": []
  },
  {
   "cell_type": "code",
   "execution_count": null,
   "id": "a7159fc3-f30c-4dda-84e3-c888a62d6ead",
   "metadata": {},
   "outputs": [],
   "source": []
  },
  {
   "cell_type": "code",
   "execution_count": 49,
   "id": "eb2f517e-372f-4e61-bc9f-fea159a75161",
   "metadata": {},
   "outputs": [],
   "source": [
    "osmFISH_data = adata_st.to_df()\n",
    "RNA_data = adata_sc.to_df()"
   ]
  },
  {
   "cell_type": "code",
   "execution_count": 50,
   "id": "b9ae3eae-c478-4af2-8565-21a1658828f3",
   "metadata": {},
   "outputs": [],
   "source": [
    "# Normalization\n",
    "def Log_Norm_cpm(x):\n",
    "    return np.log(((x/np.sum(x))*1000000) + 1)\n",
    "RNA_data = RNA_data.apply(Log_Norm_cpm,axis=0)"
   ]
  },
  {
   "cell_type": "code",
   "execution_count": 51,
   "id": "cd8f9217-fe55-476a-b1d4-d8ef264d0560",
   "metadata": {},
   "outputs": [],
   "source": [
    "# Normalization\n",
    "cell_count = np.sum(osmFISH_data,axis=0)\n",
    "def Log_Norm_spatial(x):\n",
    "    return np.log(((x/np.sum(x))*np.median(cell_count)) + 1)\n",
    "osmFISH_data = osmFISH_data.apply(Log_Norm_spatial,axis=0)"
   ]
  },
  {
   "cell_type": "code",
   "execution_count": null,
   "id": "82e733f7-c085-47b4-b3aa-e847c5bd071e",
   "metadata": {},
   "outputs": [],
   "source": []
  },
  {
   "cell_type": "code",
   "execution_count": 52,
   "id": "f815920d-cbe7-4e02-8807-cf639a2fd090",
   "metadata": {},
   "outputs": [
    {
     "name": "stderr",
     "output_type": "stream",
     "text": [
      "[rank: 0] Global seed set to 0\n",
      "[rank: 0] Global seed set to 1\n",
      "[rank: 0] Global seed set to 2\n",
      "[rank: 0] Global seed set to 3\n",
      "[rank: 0] Global seed set to 4\n",
      "[rank: 0] Global seed set to 5\n",
      "[rank: 0] Global seed set to 6\n",
      "[rank: 0] Global seed set to 7\n",
      "[rank: 0] Global seed set to 8\n",
      "[rank: 0] Global seed set to 9\n"
     ]
    }
   ],
   "source": [
    "for i in range(0,10):\n",
    "    lightning.seed_everything(i)\n",
    "    Gene_set = test_g\n",
    "    Imp_Genes = SpaGE(osmFISH_data,RNA_data,n_pv=pv,\n",
    "                               genes_to_predict = Gene_set)\n",
    "    Imp_Genes.to_csv(f\"spage_imputation_smfishexample_normalized_seed{i}.csv\")"
   ]
  },
  {
   "cell_type": "code",
   "execution_count": null,
   "id": "e1a6d0a8",
   "metadata": {},
   "outputs": [],
   "source": []
  },
  {
   "cell_type": "code",
   "execution_count": null,
   "id": "dca66486",
   "metadata": {},
   "outputs": [],
   "source": []
  },
  {
   "cell_type": "code",
   "execution_count": 6,
   "id": "10198aea-2c82-4b33-9007-80fa98445272",
   "metadata": {},
   "outputs": [],
   "source": [
    "import numpy as np\n",
    "import pandas as pd\n",
    "import loompy\n",
    "import matplotlib.pyplot as plt\n",
    "import scipy.stats as st\n",
    "from SpaGE.main import SpaGE\n",
    "import warnings\n",
    "import lightning\n",
    "warnings.filterwarnings('ignore')"
   ]
  },
  {
   "cell_type": "code",
   "execution_count": 7,
   "id": "9159bc37-89e5-4bba-b2fd-4c99d4b629cf",
   "metadata": {},
   "outputs": [],
   "source": [
    "def Log_Norm_cpm(x):\n",
    "    return np.log(((x/np.sum(x))*1000000) + 1)\n",
    "def Log_Norm_spatial(x):\n",
    "    return np.log(((x/np.sum(x))*np.median(cell_count)) + 1)"
   ]
  },
  {
   "cell_type": "code",
   "execution_count": 8,
   "id": "e1137dc5-fc10-4c82-83e7-f0a360f03e28",
   "metadata": {},
   "outputs": [],
   "source": [
    "\n",
    "from sklearn.model_selection import train_test_split"
   ]
  },
  {
   "cell_type": "code",
   "execution_count": 9,
   "id": "29acfd5a-abf3-4928-b877-90c72b0c1d7c",
   "metadata": {},
   "outputs": [],
   "source": [
    "import scanpy as sc"
   ]
  },
  {
   "cell_type": "code",
   "execution_count": 10,
   "id": "d3ff799a-3489-46b8-8b61-1f8af63472d5",
   "metadata": {},
   "outputs": [],
   "source": [
    "# adata_sc = sc.read(\"/gpfs/gibbs/pi/zhao/tl688/tangram/data_smfish/scrnaseq_data.h5ad\")\n",
    "# adata_st = sc.read(\"/gpfs/gibbs/pi/zhao/tl688/tangram/data_smfish/spatial_data.h5ad\")\n",
    "\n",
    "# # adata_sc = sc.read_h5ad(\"/gpfs/gibbs/pi/zhao/tl688/deconvdatasets/spatial_dataset/xenium_brain/aibs_mouse_ctx-hpf_smartseq_sce.h5ad\")\n",
    "# # adata_st = sc.read_h5ad(\"/gpfs/gibbs/pi/zhao/tl688/deconvdatasets/spatial_dataset/xenium_brain/spe_xenium.h5ad\")"
   ]
  },
  {
   "cell_type": "code",
   "execution_count": 11,
   "id": "2f78253e-1e6a-4a58-ab1f-764690eabb84",
   "metadata": {},
   "outputs": [],
   "source": [
    "def calcualte_pse_correlation(adata_sc, adata_st, celltype, p_value_threshold = 0.05, cor_threshold = 0.5):\n",
    "    overlap_gene = sorted(list(set(adata_sc.var_names).intersection(adata_st.var_names)))\n",
    "    adata_sc = adata_sc[:,overlap_gene]\n",
    "    adata_st = adata_st[:,overlap_gene]\n",
    "    \n",
    "    cell_type_common = list(set(adata_sc.obs[celltype].unique()).intersection(adata_st.obs[celltype].unique()))\n",
    "    \n",
    "    pseudo_st = []\n",
    "    pseudo_sc = []\n",
    "    for i in cell_type_common:\n",
    "        adata1 = adata_st[adata_st.obs[celltype] == i]\n",
    "        adata2 = adata_sc[adata_sc.obs[celltype] == i]\n",
    "\n",
    "        pseudo_st.append(np.mean(adata1.X.toarray(), axis = 0))\n",
    "        pseudo_sc.append(np.mean(adata2.X.toarray(), axis = 0))\n",
    "    \n",
    "    pseudo_st = np.array(pseudo_st)\n",
    "    pseudo_sc = np.array(pseudo_sc)\n",
    "\n",
    "    cor_pearson = []\n",
    "    cor_pvalue = []\n",
    "    for i in range(pseudo_st.shape[1]):\n",
    "        cor, pval = st.pearsonr(pseudo_st[:,i], pseudo_sc[:,i])\n",
    "        cor_pearson.append(cor)\n",
    "        cor_pvalue.append(pval)\n",
    "        \n",
    "    information_stat = pd.DataFrame()\n",
    "\n",
    "    information_stat['pearson'] = cor_pearson\n",
    "    information_stat['pvalue'] = cor_pvalue\n",
    "    information_stat.index = adata_st.var_names\n",
    "\n",
    "    information_stat_update = information_stat.loc[((information_stat['pvalue']<p_value_threshold) & (information_stat['pearson']>cor_threshold))]\n",
    "    \n",
    "    return information_stat_update.index"
   ]
  },
  {
   "cell_type": "code",
   "execution_count": null,
   "id": "59a8f117-6160-4569-9dd6-b475acb78e82",
   "metadata": {},
   "outputs": [],
   "source": []
  },
  {
   "cell_type": "code",
   "execution_count": 14,
   "id": "6f693ab0-9290-4c25-a922-b3c990a7c904",
   "metadata": {},
   "outputs": [
    {
     "name": "stderr",
     "output_type": "stream",
     "text": [
      "[rank: 0] Global seed set to 0\n",
      "[rank: 0] Global seed set to 0\n",
      "[rank: 0] Global seed set to 0\n",
      "[rank: 0] Global seed set to 0\n",
      "[rank: 0] Global seed set to 0\n",
      "[rank: 0] Global seed set to 0\n",
      "[rank: 0] Global seed set to 0\n",
      "[rank: 0] Global seed set to 0\n",
      "[rank: 0] Global seed set to 0\n",
      "[rank: 0] Global seed set to 0\n"
     ]
    }
   ],
   "source": [
    "for seed in range(0,10):\n",
    "    lightning.seed_everything(0)\n",
    "\n",
    "    adata_sc = sc.read_h5ad(\"/gpfs/gibbs/pi/zhao/tl688/seqfishdata/data/scRNAseq/seqfish/scRNAseq_seqfish.h5ad\")\n",
    "    adata_st = sc.read_h5ad(f\"/gpfs/gibbs/pi/zhao/tl688/tangram/data_seqfish/seqfish_data_seed{seed}.h5ad\")\n",
    "    adata_sc.var_names_make_unique()\n",
    "    \n",
    "    adata_sc.obs['scClassify'] = adata_sc.obs['celltype'].copy() \n",
    "    adata_st.obs['scClassify'] = adata_st.obs['celltype_mapped_refined'].copy() \n",
    "    info_gene = calcualte_pse_correlation(adata_sc, adata_st, 'scClassify')\n",
    "\n",
    "    adata_sc = adata_sc[:,info_gene]\n",
    "    adata_st = adata_st[:,info_gene]\n",
    "\n",
    "    import random \n",
    "    random.seed(2023)\n",
    "    g1 = list(set(adata_st.var_names).intersection(adata_sc.var_names))\n",
    "    g1 = sorted(g1)\n",
    "\n",
    "    train_g, test_g = train_test_split(g1, test_size=0.33, random_state=2023)\n",
    "\n",
    "    pv = int(len(test_g)/2)\n",
    "    if pv > 100:\n",
    "        pv = 100\n",
    "\n",
    "    adata_st = adata_st[:, train_g]\n",
    "\n",
    "    osmFISH_data = adata_st.to_df()\n",
    "    RNA_data = adata_sc.to_df()\n",
    "    \n",
    "    Gene_set = test_g\n",
    "    Imp_Genes = SpaGE(osmFISH_data,RNA_data,n_pv=pv,\n",
    "                               genes_to_predict = Gene_set)\n",
    "    Imp_Genes.to_csv(f\"/gpfs/gibbs/pi/zhao/tl688/tangram/SpaGE/spage_imputation_seqfish_updategene_seed{seed}.csv\")"
   ]
  },
  {
   "cell_type": "code",
   "execution_count": null,
   "id": "655e4134-a7f9-4b49-bca9-e626d6903403",
   "metadata": {},
   "outputs": [],
   "source": []
  },
  {
   "cell_type": "code",
   "execution_count": null,
   "id": "68a51c3b-3661-4800-88e4-73864e4a67db",
   "metadata": {},
   "outputs": [],
   "source": []
  },
  {
   "cell_type": "code",
   "execution_count": 1,
   "id": "015db4fe-d1fd-40ff-ba16-2895546c8ef1",
   "metadata": {},
   "outputs": [],
   "source": [
    "import numpy as np\n",
    "import pandas as pd\n",
    "import loompy\n",
    "import matplotlib.pyplot as plt\n",
    "import scipy.stats as st\n",
    "from SpaGE.main import SpaGE\n",
    "import warnings\n",
    "import lightning\n",
    "warnings.filterwarnings('ignore')"
   ]
  },
  {
   "cell_type": "code",
   "execution_count": 2,
   "id": "c1807740-c699-4469-a193-6ef802da21af",
   "metadata": {},
   "outputs": [],
   "source": [
    "def Log_Norm_cpm(x):\n",
    "    return np.log(((x/np.sum(x))*1000000) + 1)\n",
    "def Log_Norm_spatial(x):\n",
    "    return np.log(((x/np.sum(x))*np.median(cell_count)) + 1)"
   ]
  },
  {
   "cell_type": "code",
   "execution_count": 3,
   "id": "66f4466b-352c-4ce1-bf34-3f4e931d8b0f",
   "metadata": {},
   "outputs": [],
   "source": [
    "\n",
    "from sklearn.model_selection import train_test_split"
   ]
  },
  {
   "cell_type": "code",
   "execution_count": 4,
   "id": "29b2105b-1856-4d37-bdd2-29df7d815c56",
   "metadata": {},
   "outputs": [],
   "source": [
    "import scanpy as sc"
   ]
  },
  {
   "cell_type": "code",
   "execution_count": 5,
   "id": "cbdf28ee-4bb2-49f7-9396-a668ff39db26",
   "metadata": {},
   "outputs": [],
   "source": [
    "# adata_sc = sc.read(\"/gpfs/gibbs/pi/zhao/tl688/tangram/data_smfish/scrnaseq_data.h5ad\")\n",
    "# adata_st = sc.read(\"/gpfs/gibbs/pi/zhao/tl688/tangram/data_smfish/spatial_data.h5ad\")\n",
    "\n",
    "# # adata_sc = sc.read_h5ad(\"/gpfs/gibbs/pi/zhao/tl688/deconvdatasets/spatial_dataset/xenium_brain/aibs_mouse_ctx-hpf_smartseq_sce.h5ad\")\n",
    "# # adata_st = sc.read_h5ad(\"/gpfs/gibbs/pi/zhao/tl688/deconvdatasets/spatial_dataset/xenium_brain/spe_xenium.h5ad\")"
   ]
  },
  {
   "cell_type": "code",
   "execution_count": 6,
   "id": "0ce80190-329e-4e21-b302-3fa858bdac58",
   "metadata": {},
   "outputs": [],
   "source": [
    "def calcualte_pse_correlation(adata_sc, adata_st, celltype, p_value_threshold = 0.05, cor_threshold = 0.5):\n",
    "    overlap_gene = sorted(list(set(adata_sc.var_names).intersection(adata_st.var_names)))\n",
    "    adata_sc = adata_sc[:,overlap_gene]\n",
    "    adata_st = adata_st[:,overlap_gene]\n",
    "    \n",
    "    cell_type_common = list(set(adata_sc.obs[celltype].unique()).intersection(adata_st.obs[celltype].unique()))\n",
    "    \n",
    "    pseudo_st = []\n",
    "    pseudo_sc = []\n",
    "    for i in cell_type_common:\n",
    "        adata1 = adata_st[adata_st.obs[celltype] == i]\n",
    "        adata2 = adata_sc[adata_sc.obs[celltype] == i]\n",
    "\n",
    "        pseudo_st.append(np.mean(adata1.X.toarray(), axis = 0))\n",
    "        pseudo_sc.append(np.mean(adata2.X.toarray(), axis = 0))\n",
    "    \n",
    "    pseudo_st = np.array(pseudo_st)\n",
    "    pseudo_sc = np.array(pseudo_sc)\n",
    "\n",
    "    cor_pearson = []\n",
    "    cor_pvalue = []\n",
    "    for i in range(pseudo_st.shape[1]):\n",
    "        cor, pval = st.pearsonr(pseudo_st[:,i], pseudo_sc[:,i])\n",
    "        cor_pearson.append(cor)\n",
    "        cor_pvalue.append(pval)\n",
    "        \n",
    "    information_stat = pd.DataFrame()\n",
    "\n",
    "    information_stat['pearson'] = cor_pearson\n",
    "    information_stat['pvalue'] = cor_pvalue\n",
    "    information_stat.index = adata_st.var_names\n",
    "\n",
    "    information_stat_update = information_stat.loc[((information_stat['pvalue']<p_value_threshold) & (information_stat['pearson']>cor_threshold))]\n",
    "    \n",
    "    return information_stat_update.index"
   ]
  },
  {
   "cell_type": "code",
   "execution_count": null,
   "id": "8331cb68-025f-4baf-9721-fe5fdbd10bad",
   "metadata": {},
   "outputs": [],
   "source": []
  },
  {
   "cell_type": "code",
   "execution_count": 7,
   "id": "a10a4758-7ea7-4c54-b779-67be5a553757",
   "metadata": {},
   "outputs": [
    {
     "name": "stderr",
     "output_type": "stream",
     "text": [
      "[rank: 0] Global seed set to 0\n",
      "[rank: 0] Global seed set to 0\n",
      "[rank: 0] Global seed set to 0\n",
      "[rank: 0] Global seed set to 0\n"
     ]
    }
   ],
   "source": [
    "for seed in range(0,10):\n",
    "    lightning.seed_everything(0)\n",
    "\n",
    "    adata_sc = sc.read_h5ad(\"/gpfs/gibbs/pi/zhao/tl688/seqfishdata/data/lungcancer/scrnaseq_lungcancer.h5ad\")\n",
    "    adata_st = sc.read_h5ad(f\"/gpfs/gibbs/pi/zhao/tl688/tangram/data_lungcancer/spatial_lungcancer_data_seed{seed}.h5ad\")\n",
    "    adata_sc.var_names_make_unique()\n",
    "    \n",
    "    adata_sc.obs['scClassify'] = adata_sc.obs['Cell_type'].copy() \n",
    "    adata_st.obs['scClassify'] = adata_st.obs['Class'].copy() \n",
    "    info_gene = calcualte_pse_correlation(adata_sc, adata_st, 'scClassify')\n",
    "\n",
    "    adata_sc = adata_sc[:,info_gene]\n",
    "    adata_st = adata_st[:,info_gene]\n",
    "\n",
    "    import random \n",
    "    random.seed(2023)\n",
    "    g1 = list(set(adata_st.var_names).intersection(adata_sc.var_names))\n",
    "    g1 = sorted(g1)\n",
    "\n",
    "    train_g, test_g = train_test_split(g1, test_size=0.33, random_state=2023)\n",
    "\n",
    "    pv = int(len(test_g)/2)\n",
    "    if pv > 100:\n",
    "        pv = 100\n",
    "\n",
    "    adata_st = adata_st[:, train_g]\n",
    "\n",
    "    osmFISH_data = adata_st.to_df()\n",
    "    RNA_data = adata_sc.to_df()\n",
    "    \n",
    "    Gene_set = test_g\n",
    "    Imp_Genes = SpaGE(osmFISH_data,RNA_data,n_pv=pv,\n",
    "                               genes_to_predict = Gene_set)\n",
    "    Imp_Genes.to_csv(f\"/gpfs/gibbs/pi/zhao/tl688/tangram/SpaGE/spage_imputation_lungcancer_updategene_seed{seed}.csv\")"
   ]
  },
  {
   "cell_type": "code",
   "execution_count": null,
   "id": "3c94a43d-3b66-4530-ace2-c65ef34d0e90",
   "metadata": {},
   "outputs": [],
   "source": []
  }
 ],
 "metadata": {
  "kernelspec": {
   "display_name": "Python 3 (ipykernel)",
   "language": "python",
   "name": "python3"
  },
  "language_info": {
   "codemirror_mode": {
    "name": "ipython",
    "version": 3
   },
   "file_extension": ".py",
   "mimetype": "text/x-python",
   "name": "python",
   "nbconvert_exporter": "python",
   "pygments_lexer": "ipython3",
   "version": "3.8.18"
  },
  "widgets": {
   "application/vnd.jupyter.widget-state+json": {
    "state": {},
    "version_major": 2,
    "version_minor": 0
   }
  }
 },
 "nbformat": 4,
 "nbformat_minor": 5
}
