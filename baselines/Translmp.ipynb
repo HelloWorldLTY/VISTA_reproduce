{
 "cells": [
  {
   "cell_type": "code",
   "execution_count": 1,
   "id": "4dcce012-6527-4379-a1e1-340b0e70d419",
   "metadata": {},
   "outputs": [],
   "source": [
    "import torch\n",
    "import warnings\n",
    "import pickle\n",
    "\n",
    "import squidpy as sq\n",
    "import numpy as np\n",
    "import pandas as pd\n",
    "import seaborn as sns\n",
    "\n",
    "from sklearn.model_selection import KFold\n",
    "from transpa.eval_util import calc_corr\n",
    "from transpa.util import expTransImp, compute_autocorr, plot_genes\n",
    "\n",
    "warnings.filterwarnings(\"ignore\")\n",
    "pre_datapath = \"../../output/preprocessed_dataset/seqFISH_single_cell.pkl\"\n",
    "\n",
    "seed = 10\n",
    "device = torch.device(\"cuda:0\") if torch.cuda.is_available() else torch.device(\"cpu\")"
   ]
  },
  {
   "cell_type": "code",
   "execution_count": 2,
   "id": "65c82be5-c232-484c-a5f7-63b951b395dc",
   "metadata": {},
   "outputs": [],
   "source": [
    "import scanpy as sc\n",
    "import scipy.stats as st\n",
    "from sklearn.model_selection import train_test_split"
   ]
  },
  {
   "cell_type": "code",
   "execution_count": 3,
   "id": "f01dfdb1-8054-4868-a544-57aad0420664",
   "metadata": {},
   "outputs": [],
   "source": [
    "spa_adata = sc.read(\"/gpfs/gibbs/pi/zhao/tl688/tangram/data_smfish/spatial_data.h5ad\")\n",
    "scrna_adata = sc.read(\"/gpfs/gibbs/pi/zhao/tl688/tangram/data_smfish/scrnaseq_data.h5ad\")"
   ]
  },
  {
   "cell_type": "code",
   "execution_count": 4,
   "id": "2a5c1cbb-4ac5-4ea8-9fdf-971d49d3b910",
   "metadata": {},
   "outputs": [],
   "source": [
    "def calcualte_pse_correlation(adata_sc, adata_st, celltype, p_value_threshold = 0.05, cor_threshold = 0.5):\n",
    "    import random \n",
    "    random.seed(2023)\n",
    "    overlap_gene = list(set(adata_sc.var_names).intersection(adata_st.var_names))\n",
    "    overlap_gene = sorted(overlap_gene)\n",
    "    adata_sc = adata_sc[:,overlap_gene]\n",
    "    adata_st = adata_st[:,overlap_gene]\n",
    "    \n",
    "    cell_type_common = list(set(adata_sc.obs[celltype].unique()).intersection(adata_st.obs[celltype].unique()))\n",
    "    \n",
    "    pseudo_st = []\n",
    "    pseudo_sc = []\n",
    "    for i in cell_type_common:\n",
    "        adata1 = adata_st[adata_st.obs[celltype] == i]\n",
    "        adata2 = adata_sc[adata_sc.obs[celltype] == i]\n",
    "\n",
    "        pseudo_st.append(np.mean(adata1.X.toarray(), axis = 0))\n",
    "        pseudo_sc.append(np.mean(adata2.X.toarray(), axis = 0))\n",
    "    \n",
    "    pseudo_st = np.array(pseudo_st)\n",
    "    pseudo_sc = np.array(pseudo_sc)\n",
    "\n",
    "    cor_pearson = []\n",
    "    cor_pvalue = []\n",
    "    for i in range(pseudo_st.shape[1]):\n",
    "        cor, pval = st.pearsonr(pseudo_st[:,i], pseudo_sc[:,i])\n",
    "        cor_pearson.append(cor)\n",
    "        cor_pvalue.append(pval)\n",
    "        \n",
    "    information_stat = pd.DataFrame()\n",
    "\n",
    "    information_stat['pearson'] = cor_pearson\n",
    "    information_stat['pvalue'] = cor_pvalue\n",
    "    information_stat.index = adata_st.var_names\n",
    "\n",
    "    information_stat_update = information_stat.loc[((information_stat['pvalue']<p_value_threshold) & (information_stat['pearson']>cor_threshold))]\n",
    "    \n",
    "    return information_stat_update.index"
   ]
  },
  {
   "cell_type": "code",
   "execution_count": null,
   "id": "8be33f44-734f-49d5-8748-1208974cfe76",
   "metadata": {},
   "outputs": [],
   "source": []
  },
  {
   "cell_type": "code",
   "execution_count": 5,
   "id": "8866cf05-aa4b-4470-b996-bf1a6489fff9",
   "metadata": {},
   "outputs": [],
   "source": [
    "info_gene = calcualte_pse_correlation(scrna_adata, spa_adata, 'scClassify')"
   ]
  },
  {
   "cell_type": "code",
   "execution_count": 6,
   "id": "d79a79f6-de67-4af0-846a-701ba565e102",
   "metadata": {},
   "outputs": [],
   "source": [
    "seq_data = scrna_adata[:,info_gene]\n",
    "spatial_data = spa_adata[:,info_gene]"
   ]
  },
  {
   "cell_type": "code",
   "execution_count": 7,
   "id": "58c2977b-614c-4179-b2ee-9ada599dd85b",
   "metadata": {},
   "outputs": [],
   "source": [
    "import random \n",
    "random.seed(2023)\n",
    "g1 = list(set(spatial_data.var_names).intersection(seq_data.var_names))\n",
    "g1 = sorted(g1)\n",
    "train_gene, test_gene = train_test_split(g1, test_size=0.33, random_state=2023)"
   ]
  },
  {
   "cell_type": "code",
   "execution_count": 8,
   "id": "73d4a125-4fa0-4089-b4ce-be0b53a14388",
   "metadata": {},
   "outputs": [],
   "source": [
    "raw_scrna_df = seq_data.to_df()\n",
    "raw_spatial_df = spatial_data.to_df()"
   ]
  },
  {
   "cell_type": "code",
   "execution_count": 9,
   "id": "8f886b6e-e5eb-46e7-bb21-1899debcb78c",
   "metadata": {},
   "outputs": [],
   "source": [
    "classes = seq_data.obs['scClassify']\n",
    "ct_list = np.unique(classes)"
   ]
  },
  {
   "cell_type": "code",
   "execution_count": null,
   "id": "79c1e8ea-2651-4dc8-aa46-f7ff60c1bd07",
   "metadata": {},
   "outputs": [],
   "source": []
  },
  {
   "cell_type": "code",
   "execution_count": null,
   "id": "e9fef4db-95fb-4fe1-9c52-4c18257ecd58",
   "metadata": {},
   "outputs": [],
   "source": []
  },
  {
   "cell_type": "code",
   "execution_count": 10,
   "id": "162768fe-a18f-4f58-a865-6d8d54998c45",
   "metadata": {},
   "outputs": [],
   "source": [
    "# transImpRes = expTransImp(\n",
    "#                 df_ref=raw_scrna_df,\n",
    "#                 df_tgt=raw_spatial_df,\n",
    "#                 train_gene=train_gene,\n",
    "#                 test_gene=test_gene,\n",
    "#                 n_simulation=200,\n",
    "#                 signature_mode='cell',\n",
    "#                 mapping_mode='lowrank',\n",
    "#                 classes=classes,\n",
    "#                 n_epochs=2000,\n",
    "#                 seed=seed,\n",
    "#                 device=device\n",
    "# )"
   ]
  },
  {
   "cell_type": "code",
   "execution_count": 11,
   "id": "b015e225-35b9-433b-b8a5-7e637961eabc",
   "metadata": {},
   "outputs": [],
   "source": [
    "# df_transImpLR = pd.DataFrame(np.zeros((spa_adata.n_obs, len(info_gene))), columns=info_gene)"
   ]
  },
  {
   "cell_type": "code",
   "execution_count": 12,
   "id": "b07e53f6-6514-4414-86da-c615544530d4",
   "metadata": {},
   "outputs": [],
   "source": [
    "# transImpRes[0]"
   ]
  },
  {
   "cell_type": "code",
   "execution_count": 13,
   "id": "fe052600-e2be-44ef-9ac9-0b80bb7e8b2c",
   "metadata": {},
   "outputs": [],
   "source": [
    "# df_transImpLR[test_gene] = transImpRes[0]"
   ]
  },
  {
   "cell_type": "code",
   "execution_count": 14,
   "id": "1b59ed5a-eef0-4e42-b1ef-4e76526b69aa",
   "metadata": {},
   "outputs": [],
   "source": [
    "# df_transImpLR[test_gene]"
   ]
  },
  {
   "cell_type": "code",
   "execution_count": 20,
   "id": "8df3e199-f9fc-4737-bd2a-6419b6ff415f",
   "metadata": {},
   "outputs": [
    {
     "name": "stderr",
     "output_type": "stream",
     "text": [
      "[TransImp] Epoch: 2000/2000, loss: 0.003520, (IMP) 0.003520: 100%|██████████| 2000/2000 [00:07<00:00, 274.68it/s]\n"
     ]
    },
    {
     "name": "stdout",
     "output_type": "stream",
     "text": [
      "Index(['Mrc1', 'Hexb', 'Itpr2'], dtype='object')\n",
      "View of AnnData object with n_obs × n_vars = 4530 × 3\n"
     ]
    }
   ],
   "source": [
    "for seed in range(0,10):\n",
    "    df_transImpLR = pd.DataFrame(np.zeros((spa_adata.n_obs, len(info_gene))), columns=info_gene)\n",
    "    transImpRes = expTransImp(\n",
    "                df_ref=raw_scrna_df,\n",
    "                df_tgt=raw_spatial_df,\n",
    "                train_gene=train_gene,\n",
    "                test_gene=test_gene,\n",
    "                n_simulation=200,\n",
    "                signature_mode='cell',\n",
    "                mapping_mode='lowrank',\n",
    "                classes=classes,\n",
    "                n_epochs=2000,\n",
    "                seed=seed,\n",
    "                device=device\n",
    "    )\n",
    "    df_transImpLR[test_gene] = transImpRes[0]\n",
    "    adata_out = sc.AnnData(df_transImpLR)\n",
    "    adata_out.write_h5ad(f\"/gpfs/gibbs/pi/zhao/tl688/tangram/transpa/smfish/transimp_smfish_2000_seed{seed}.h5ad\")"
   ]
  },
  {
   "cell_type": "code",
   "execution_count": 21,
   "id": "8e7ea566-4553-4479-9361-7013c486d7fc",
   "metadata": {},
   "outputs": [
    {
     "name": "stderr",
     "output_type": "stream",
     "text": [
      "[TransImp] Epoch: 2000/2000, loss: 0.003520, (IMP) 0.003520: 100%|██████████| 2000/2000 [00:07<00:00, 274.35it/s]\n"
     ]
    },
    {
     "name": "stdout",
     "output_type": "stream",
     "text": [
      "Index(['Mrc1', 'Hexb', 'Itpr2'], dtype='object')\n",
      "View of AnnData object with n_obs × n_vars = 4530 × 3\n"
     ]
    },
    {
     "name": "stderr",
     "output_type": "stream",
     "text": [
      "[TransImp] Epoch: 2000/2000, loss: 0.004133, (IMP) 0.004133: 100%|██████████| 2000/2000 [00:07<00:00, 274.64it/s]\n"
     ]
    },
    {
     "name": "stdout",
     "output_type": "stream",
     "text": [
      "Index(['Mrc1', 'Hexb', 'Itpr2'], dtype='object')\n",
      "View of AnnData object with n_obs × n_vars = 4530 × 3\n"
     ]
    },
    {
     "name": "stderr",
     "output_type": "stream",
     "text": [
      "[TransImp] Epoch: 2000/2000, loss: 0.003726, (IMP) 0.003726: 100%|██████████| 2000/2000 [00:07<00:00, 275.25it/s]\n"
     ]
    },
    {
     "name": "stdout",
     "output_type": "stream",
     "text": [
      "Index(['Mrc1', 'Hexb', 'Itpr2'], dtype='object')\n",
      "View of AnnData object with n_obs × n_vars = 4530 × 3\n"
     ]
    },
    {
     "name": "stderr",
     "output_type": "stream",
     "text": [
      "[TransImp] Epoch: 2000/2000, loss: 0.003432, (IMP) 0.003432: 100%|██████████| 2000/2000 [00:07<00:00, 274.36it/s]\n"
     ]
    },
    {
     "name": "stdout",
     "output_type": "stream",
     "text": [
      "Index(['Mrc1', 'Hexb', 'Itpr2'], dtype='object')\n",
      "View of AnnData object with n_obs × n_vars = 4530 × 3\n"
     ]
    },
    {
     "name": "stderr",
     "output_type": "stream",
     "text": [
      "[TransImp] Epoch: 2000/2000, loss: 0.003568, (IMP) 0.003568: 100%|██████████| 2000/2000 [00:07<00:00, 273.89it/s]\n"
     ]
    },
    {
     "name": "stdout",
     "output_type": "stream",
     "text": [
      "Index(['Mrc1', 'Hexb', 'Itpr2'], dtype='object')\n",
      "View of AnnData object with n_obs × n_vars = 4530 × 3\n"
     ]
    },
    {
     "name": "stderr",
     "output_type": "stream",
     "text": [
      "[TransImp] Epoch: 2000/2000, loss: 0.004016, (IMP) 0.004016: 100%|██████████| 2000/2000 [00:07<00:00, 275.48it/s]\n"
     ]
    },
    {
     "name": "stdout",
     "output_type": "stream",
     "text": [
      "Index(['Mrc1', 'Hexb', 'Itpr2'], dtype='object')\n",
      "View of AnnData object with n_obs × n_vars = 4530 × 3\n"
     ]
    },
    {
     "name": "stderr",
     "output_type": "stream",
     "text": [
      "[TransImp] Epoch: 2000/2000, loss: 0.004134, (IMP) 0.004134: 100%|██████████| 2000/2000 [00:07<00:00, 275.52it/s]\n"
     ]
    },
    {
     "name": "stdout",
     "output_type": "stream",
     "text": [
      "Index(['Mrc1', 'Hexb', 'Itpr2'], dtype='object')\n",
      "View of AnnData object with n_obs × n_vars = 4530 × 3\n"
     ]
    },
    {
     "name": "stderr",
     "output_type": "stream",
     "text": [
      "[TransImp] Epoch: 2000/2000, loss: 0.004343, (IMP) 0.004343: 100%|██████████| 2000/2000 [00:07<00:00, 275.54it/s]\n"
     ]
    },
    {
     "name": "stdout",
     "output_type": "stream",
     "text": [
      "Index(['Mrc1', 'Hexb', 'Itpr2'], dtype='object')\n",
      "View of AnnData object with n_obs × n_vars = 4530 × 3\n"
     ]
    },
    {
     "name": "stderr",
     "output_type": "stream",
     "text": [
      "[TransImp] Epoch: 2000/2000, loss: 0.003321, (IMP) 0.003321: 100%|██████████| 2000/2000 [00:07<00:00, 274.68it/s]\n"
     ]
    },
    {
     "name": "stdout",
     "output_type": "stream",
     "text": [
      "Index(['Mrc1', 'Hexb', 'Itpr2'], dtype='object')\n",
      "View of AnnData object with n_obs × n_vars = 4530 × 3\n"
     ]
    },
    {
     "name": "stderr",
     "output_type": "stream",
     "text": [
      "[TransImp] Epoch: 2000/2000, loss: 0.004239, (IMP) 0.004239: 100%|██████████| 2000/2000 [00:07<00:00, 274.48it/s]\n"
     ]
    },
    {
     "name": "stdout",
     "output_type": "stream",
     "text": [
      "Index(['Mrc1', 'Hexb', 'Itpr2'], dtype='object')\n",
      "View of AnnData object with n_obs × n_vars = 4530 × 3\n"
     ]
    }
   ],
   "source": [
    "for seed in range(0,10):\n",
    "    df_transImpLR = pd.DataFrame(np.zeros((spa_adata.n_obs, len(info_gene))), columns=info_gene)\n",
    "    transImpRes = expTransImp(\n",
    "                df_ref=raw_scrna_df,\n",
    "                df_tgt=raw_spatial_df,\n",
    "                train_gene=train_gene,\n",
    "                test_gene=test_gene,\n",
    "                n_simulation=200,\n",
    "                signature_mode='cell',\n",
    "                mapping_mode='lowrank',\n",
    "                classes=classes,\n",
    "                n_epochs=2000,\n",
    "                seed=seed,\n",
    "                device=device\n",
    "    )\n",
    "    df_transImpLR[test_gene] = transImpRes[0]\n",
    "    adata_out = sc.AnnData(df_transImpLR)\n",
    "    df_var = pd.DataFrame(transImpRes[1], index=np.concatenate([test_gene]), columns=['pred_var'])\n",
    "    df_var_sort = df_var.loc[test_gene].sort_values(axis=0, by='pred_var', ascending=True)\n",
    "    print(df_var_sort.index[0:len(df_var_sort)//2]) \n",
    "    adata_out_var = adata_out[:,list(df_var_sort.index[0:len(df_var_sort)//2])]\n",
    "    print(adata_out_var)\n",
    "    adata_out_var.write_h5ad(f\"/gpfs/gibbs/pi/zhao/tl688/tangram/transpa/smfish/transimp_smfish_2000_seed_cerd{seed}.h5ad\")"
   ]
  },
  {
   "cell_type": "code",
   "execution_count": null,
   "id": "32d016ee-762a-40db-8d63-21c5e96d2713",
   "metadata": {},
   "outputs": [],
   "source": []
  },
  {
   "cell_type": "code",
   "execution_count": 21,
   "id": "237e6491-c89d-45ca-8728-3ce2a8d01d96",
   "metadata": {},
   "outputs": [
    {
     "data": {
      "text/plain": [
       "array([[0.01040122, 0.04729909, 0.02260043, ..., 0.06649041, 0.02019353,\n",
       "        0.01264029],\n",
       "       [0.01454547, 0.03600146, 0.01033609, ..., 0.05045058, 0.01202893,\n",
       "        0.00695648],\n",
       "       [0.00949453, 0.03566999, 0.02917271, ..., 0.0554388 , 0.01957636,\n",
       "        0.01418971],\n",
       "       ...,\n",
       "       [0.00674083, 0.0285861 , 0.00021085, ..., 0.02758951, 0.00078108,\n",
       "        0.00091389],\n",
       "       [0.00413906, 0.0199748 , 0.0004785 , ..., 0.02863125, 0.001014  ,\n",
       "        0.0004684 ],\n",
       "       [0.00621114, 0.01868274, 0.00077729, ..., 0.02963695, 0.00075953,\n",
       "        0.00220204]], dtype=float32)"
      ]
     },
     "execution_count": 21,
     "metadata": {},
     "output_type": "execute_result"
    }
   ],
   "source": [
    "transImpRes[0]"
   ]
  },
  {
   "cell_type": "code",
   "execution_count": null,
   "id": "230638f8-a8d8-46d4-8d9a-fe5859f6f8d1",
   "metadata": {},
   "outputs": [],
   "source": []
  },
  {
   "cell_type": "code",
   "execution_count": null,
   "id": "848681d8-c580-4b61-afae-ce2a15a814a5",
   "metadata": {},
   "outputs": [],
   "source": []
  },
  {
   "cell_type": "code",
   "execution_count": null,
   "id": "452593e1-2aa0-4b6c-8b7d-fb316fc40596",
   "metadata": {},
   "outputs": [],
   "source": []
  },
  {
   "cell_type": "markdown",
   "id": "bd221064-842a-49d7-8932-0a9ea0655456",
   "metadata": {},
   "source": [
    "# Breast"
   ]
  },
  {
   "cell_type": "code",
   "execution_count": 24,
   "id": "a19ba29b-3e39-4dde-9067-8a69f8cbfb1e",
   "metadata": {},
   "outputs": [],
   "source": [
    "import torch\n",
    "import warnings\n",
    "import pickle\n",
    "\n",
    "import squidpy as sq\n",
    "import numpy as np\n",
    "import pandas as pd\n",
    "import seaborn as sns\n",
    "\n",
    "from sklearn.model_selection import KFold\n",
    "from transpa.eval_util import calc_corr\n",
    "from transpa.util import expTransImp, compute_autocorr, plot_genes\n",
    "\n",
    "warnings.filterwarnings(\"ignore\")\n",
    "pre_datapath = \"../../output/preprocessed_dataset/seqFISH_single_cell.pkl\"\n",
    "\n",
    "seed = 10\n",
    "device = torch.device(\"cuda:0\") if torch.cuda.is_available() else torch.device(\"cpu\")"
   ]
  },
  {
   "cell_type": "code",
   "execution_count": 25,
   "id": "626061c3-5401-4b3d-a096-e74c32bbad13",
   "metadata": {},
   "outputs": [],
   "source": [
    "import scanpy as sc\n",
    "import scipy.stats as st\n",
    "from sklearn.model_selection import train_test_split"
   ]
  },
  {
   "cell_type": "code",
   "execution_count": null,
   "id": "2c2697b1-3694-4c2a-b3e9-f7aecf6abc48",
   "metadata": {},
   "outputs": [],
   "source": []
  },
  {
   "cell_type": "code",
   "execution_count": 27,
   "id": "2525a9d9-a836-45dc-a338-314a52d1b723",
   "metadata": {},
   "outputs": [],
   "source": [
    "def calcualte_pse_correlation(adata_sc, adata_st, celltype, p_value_threshold = 0.05, cor_threshold = 0.5):\n",
    "    import random \n",
    "    random.seed(2023)\n",
    "    overlap_gene = list(set(adata_sc.var_names).intersection(adata_st.var_names))\n",
    "    overlap_gene = sorted(overlap_gene)\n",
    "    adata_sc = adata_sc[:,overlap_gene]\n",
    "    adata_st = adata_st[:,overlap_gene]\n",
    "    \n",
    "    cell_type_common = list(set(adata_sc.obs[celltype].unique()).intersection(adata_st.obs[celltype].unique()))\n",
    "    \n",
    "    pseudo_st = []\n",
    "    pseudo_sc = []\n",
    "    for i in cell_type_common:\n",
    "        adata1 = adata_st[adata_st.obs[celltype] == i]\n",
    "        adata2 = adata_sc[adata_sc.obs[celltype] == i]\n",
    "\n",
    "        pseudo_st.append(np.mean(adata1.X.toarray(), axis = 0))\n",
    "        pseudo_sc.append(np.mean(adata2.X.toarray(), axis = 0))\n",
    "    \n",
    "    pseudo_st = np.array(pseudo_st)\n",
    "    pseudo_sc = np.array(pseudo_sc)\n",
    "\n",
    "    cor_pearson = []\n",
    "    cor_pvalue = []\n",
    "    for i in range(pseudo_st.shape[1]):\n",
    "        cor, pval = st.pearsonr(pseudo_st[:,i], pseudo_sc[:,i])\n",
    "        cor_pearson.append(cor)\n",
    "        cor_pvalue.append(pval)\n",
    "        \n",
    "    information_stat = pd.DataFrame()\n",
    "\n",
    "    information_stat['pearson'] = cor_pearson\n",
    "    information_stat['pvalue'] = cor_pvalue\n",
    "    information_stat.index = adata_st.var_names\n",
    "\n",
    "    information_stat_update = information_stat.loc[((information_stat['pvalue']<p_value_threshold) & (information_stat['pearson']>cor_threshold))]\n",
    "    \n",
    "    return information_stat_update.index"
   ]
  },
  {
   "cell_type": "code",
   "execution_count": 32,
   "id": "8391f4c9-76ac-43f9-a162-e67134fe1b1d",
   "metadata": {},
   "outputs": [
    {
     "name": "stderr",
     "output_type": "stream",
     "text": [
      "[TransImp] Epoch: 2000/2000, loss: 0.346361, (IMP) 0.346361: 100%|██████████| 2000/2000 [00:23<00:00, 83.46it/s]\n",
      "[TransImp] Epoch: 2000/2000, loss: 0.343096, (IMP) 0.343096: 100%|██████████| 2000/2000 [00:24<00:00, 83.12it/s]\n",
      "[TransImp] Epoch: 2000/2000, loss: 0.353855, (IMP) 0.353855: 100%|██████████| 2000/2000 [00:23<00:00, 83.53it/s]\n",
      "[TransImp] Epoch: 2000/2000, loss: 0.366327, (IMP) 0.366327: 100%|██████████| 2000/2000 [00:24<00:00, 82.50it/s]\n",
      "[TransImp] Epoch: 2000/2000, loss: 0.344171, (IMP) 0.344171: 100%|██████████| 2000/2000 [00:24<00:00, 83.32it/s]\n",
      "[TransImp] Epoch: 2000/2000, loss: 0.319577, (IMP) 0.319577: 100%|██████████| 2000/2000 [00:23<00:00, 86.22it/s]\n",
      "[TransImp] Epoch: 2000/2000, loss: 0.360639, (IMP) 0.360639: 100%|██████████| 2000/2000 [00:23<00:00, 84.76it/s]\n",
      "[TransImp] Epoch: 2000/2000, loss: 0.345269, (IMP) 0.345269: 100%|██████████| 2000/2000 [00:24<00:00, 82.60it/s]\n",
      "[TransImp] Epoch: 2000/2000, loss: 0.355712, (IMP) 0.355712: 100%|██████████| 2000/2000 [00:25<00:00, 78.81it/s]\n",
      "[TransImp] Epoch: 2000/2000, loss: 0.363509, (IMP) 0.363509: 100%|██████████| 2000/2000 [00:23<00:00, 84.66it/s]\n"
     ]
    }
   ],
   "source": [
    "for sample_index in range(0,10):\n",
    "    seq_data = sc.read_h5ad(\"/gpfs/gibbs/pi/zhao/tl688/deconvdatasets/spatial_dataset/xenium_breast/sce_FFPE_full.h5ad\")\n",
    "    spatial_data = sc.read_h5ad(f\"/gpfs/gibbs/pi/zhao/tl688/tangram/human_breast_simulation/spe_xenium_data_0.1_seed{sample_index}.h5ad\")\n",
    "    seq_data.var_names_make_unique()\n",
    "    spatial_data.var_names_make_unique()\n",
    "\n",
    "    seq_data.obs['scClassify'] = seq_data.obs['graph_cluster_anno'].copy() \n",
    "    info_gene = calcualte_pse_correlation(seq_data, spatial_data, 'scClassify')\n",
    "\n",
    "    seq_data = seq_data[:,info_gene]\n",
    "    spatial_data = spatial_data[:,info_gene]\n",
    "\n",
    "    import random \n",
    "    random.seed(2023)\n",
    "    g1 = list(set(spatial_data .var_names).intersection(seq_data.var_names))\n",
    "    g1  = sorted(g1)\n",
    "    train_gene, test_gene = train_test_split(g1, test_size=0.33, random_state=2023)\n",
    "    spatial_data_partial = spatial_data[:, train_gene].copy()\n",
    "    seq_data = seq_data.copy()\n",
    "\n",
    "    classes = seq_data.obs['scClassify']\n",
    "    ct_list = np.unique(classes)\n",
    "\n",
    "    raw_scrna_df = seq_data.to_df()\n",
    "    raw_spatial_df = spatial_data_partial.to_df()\n",
    "    \n",
    "    df_transImpLR = pd.DataFrame(np.zeros((spatial_data_partial.n_obs, len(info_gene))), columns=info_gene)\n",
    "    transImpRes = expTransImp(\n",
    "                df_ref=raw_scrna_df,\n",
    "                df_tgt=raw_spatial_df,\n",
    "                train_gene=train_gene,\n",
    "                test_gene=test_gene,\n",
    "                n_simulation=200,\n",
    "                signature_mode='cell',\n",
    "                mapping_mode='lowrank',\n",
    "                classes=classes,\n",
    "                n_epochs=2000,\n",
    "                seed=seed,\n",
    "                device=device\n",
    "    )\n",
    "    df_transImpLR[test_gene] = transImpRes[0]\n",
    "    adata_out = sc.AnnData(df_transImpLR)\n",
    "    \n",
    "    adata_out.write_h5ad(f\"/gpfs/gibbs/pi/zhao/tl688/tangram/transpa/breast/transimp_breast_seed{sample_index}.h5ad\")"
   ]
  },
  {
   "cell_type": "code",
   "execution_count": 33,
   "id": "0b1bfda0-38a7-416d-8052-352dd02190d4",
   "metadata": {},
   "outputs": [
    {
     "data": {
      "text/html": [
       "<div>\n",
       "<style scoped>\n",
       "    .dataframe tbody tr th:only-of-type {\n",
       "        vertical-align: middle;\n",
       "    }\n",
       "\n",
       "    .dataframe tbody tr th {\n",
       "        vertical-align: top;\n",
       "    }\n",
       "\n",
       "    .dataframe thead th {\n",
       "        text-align: right;\n",
       "    }\n",
       "</style>\n",
       "<table border=\"1\" class=\"dataframe\">\n",
       "  <thead>\n",
       "    <tr style=\"text-align: right;\">\n",
       "      <th></th>\n",
       "      <th>HOXD9</th>\n",
       "      <th>PIGR</th>\n",
       "      <th>VWF</th>\n",
       "      <th>ADGRE5</th>\n",
       "      <th>CCDC80</th>\n",
       "      <th>CXCL16</th>\n",
       "      <th>ELF3</th>\n",
       "      <th>HOXD8</th>\n",
       "      <th>CLDN4</th>\n",
       "      <th>CCL5</th>\n",
       "      <th>...</th>\n",
       "      <th>CD93</th>\n",
       "      <th>CD79B</th>\n",
       "      <th>MMP2</th>\n",
       "      <th>AKR1C3</th>\n",
       "      <th>C6orf132</th>\n",
       "      <th>C1QA</th>\n",
       "      <th>PPARG</th>\n",
       "      <th>KDR</th>\n",
       "      <th>SVIL</th>\n",
       "      <th>EIF4EBP1</th>\n",
       "    </tr>\n",
       "  </thead>\n",
       "  <tbody>\n",
       "    <tr>\n",
       "      <th>0</th>\n",
       "      <td>0.008890</td>\n",
       "      <td>0.002796</td>\n",
       "      <td>0.081828</td>\n",
       "      <td>0.088017</td>\n",
       "      <td>0.382570</td>\n",
       "      <td>0.019902</td>\n",
       "      <td>0.078597</td>\n",
       "      <td>0.025988</td>\n",
       "      <td>0.060626</td>\n",
       "      <td>0.017476</td>\n",
       "      <td>...</td>\n",
       "      <td>0.088338</td>\n",
       "      <td>0.003149</td>\n",
       "      <td>0.562675</td>\n",
       "      <td>0.003351</td>\n",
       "      <td>0.007676</td>\n",
       "      <td>0.040858</td>\n",
       "      <td>0.064605</td>\n",
       "      <td>0.032480</td>\n",
       "      <td>0.153413</td>\n",
       "      <td>0.019302</td>\n",
       "    </tr>\n",
       "    <tr>\n",
       "      <th>1</th>\n",
       "      <td>0.093076</td>\n",
       "      <td>0.008001</td>\n",
       "      <td>0.890782</td>\n",
       "      <td>0.072491</td>\n",
       "      <td>0.327164</td>\n",
       "      <td>0.029000</td>\n",
       "      <td>0.198429</td>\n",
       "      <td>0.071965</td>\n",
       "      <td>0.141359</td>\n",
       "      <td>0.040791</td>\n",
       "      <td>...</td>\n",
       "      <td>0.493569</td>\n",
       "      <td>0.023464</td>\n",
       "      <td>0.485350</td>\n",
       "      <td>0.027805</td>\n",
       "      <td>0.020388</td>\n",
       "      <td>0.074989</td>\n",
       "      <td>0.112168</td>\n",
       "      <td>0.262443</td>\n",
       "      <td>0.167432</td>\n",
       "      <td>0.038762</td>\n",
       "    </tr>\n",
       "    <tr>\n",
       "      <th>2</th>\n",
       "      <td>0.003950</td>\n",
       "      <td>0.042791</td>\n",
       "      <td>0.044916</td>\n",
       "      <td>0.257559</td>\n",
       "      <td>0.180430</td>\n",
       "      <td>0.492387</td>\n",
       "      <td>0.331992</td>\n",
       "      <td>0.013231</td>\n",
       "      <td>0.251886</td>\n",
       "      <td>0.138886</td>\n",
       "      <td>...</td>\n",
       "      <td>0.170971</td>\n",
       "      <td>0.035714</td>\n",
       "      <td>0.408016</td>\n",
       "      <td>0.020482</td>\n",
       "      <td>0.056766</td>\n",
       "      <td>1.295562</td>\n",
       "      <td>0.148724</td>\n",
       "      <td>0.022152</td>\n",
       "      <td>0.231515</td>\n",
       "      <td>0.137983</td>\n",
       "    </tr>\n",
       "    <tr>\n",
       "      <th>3</th>\n",
       "      <td>0.078504</td>\n",
       "      <td>0.017580</td>\n",
       "      <td>0.523990</td>\n",
       "      <td>0.231010</td>\n",
       "      <td>1.570625</td>\n",
       "      <td>0.071688</td>\n",
       "      <td>0.298692</td>\n",
       "      <td>0.072918</td>\n",
       "      <td>0.204551</td>\n",
       "      <td>0.092365</td>\n",
       "      <td>...</td>\n",
       "      <td>0.406856</td>\n",
       "      <td>0.051969</td>\n",
       "      <td>1.644617</td>\n",
       "      <td>0.054219</td>\n",
       "      <td>0.037177</td>\n",
       "      <td>0.246142</td>\n",
       "      <td>0.165295</td>\n",
       "      <td>0.236070</td>\n",
       "      <td>0.579752</td>\n",
       "      <td>0.048302</td>\n",
       "    </tr>\n",
       "    <tr>\n",
       "      <th>4</th>\n",
       "      <td>0.009779</td>\n",
       "      <td>0.007493</td>\n",
       "      <td>0.041950</td>\n",
       "      <td>0.006800</td>\n",
       "      <td>0.173881</td>\n",
       "      <td>0.019256</td>\n",
       "      <td>0.137878</td>\n",
       "      <td>0.014193</td>\n",
       "      <td>0.110811</td>\n",
       "      <td>0.017441</td>\n",
       "      <td>...</td>\n",
       "      <td>0.031637</td>\n",
       "      <td>0.005307</td>\n",
       "      <td>0.174432</td>\n",
       "      <td>0.001998</td>\n",
       "      <td>0.009235</td>\n",
       "      <td>0.070200</td>\n",
       "      <td>0.017484</td>\n",
       "      <td>0.031513</td>\n",
       "      <td>0.078778</td>\n",
       "      <td>0.007346</td>\n",
       "    </tr>\n",
       "    <tr>\n",
       "      <th>...</th>\n",
       "      <td>...</td>\n",
       "      <td>...</td>\n",
       "      <td>...</td>\n",
       "      <td>...</td>\n",
       "      <td>...</td>\n",
       "      <td>...</td>\n",
       "      <td>...</td>\n",
       "      <td>...</td>\n",
       "      <td>...</td>\n",
       "      <td>...</td>\n",
       "      <td>...</td>\n",
       "      <td>...</td>\n",
       "      <td>...</td>\n",
       "      <td>...</td>\n",
       "      <td>...</td>\n",
       "      <td>...</td>\n",
       "      <td>...</td>\n",
       "      <td>...</td>\n",
       "      <td>...</td>\n",
       "      <td>...</td>\n",
       "      <td>...</td>\n",
       "    </tr>\n",
       "    <tr>\n",
       "      <th>16020</th>\n",
       "      <td>0.016019</td>\n",
       "      <td>0.001644</td>\n",
       "      <td>0.176941</td>\n",
       "      <td>0.221863</td>\n",
       "      <td>0.346012</td>\n",
       "      <td>0.020614</td>\n",
       "      <td>0.098653</td>\n",
       "      <td>0.011383</td>\n",
       "      <td>0.073834</td>\n",
       "      <td>0.436672</td>\n",
       "      <td>...</td>\n",
       "      <td>0.096923</td>\n",
       "      <td>0.027715</td>\n",
       "      <td>0.357563</td>\n",
       "      <td>0.005579</td>\n",
       "      <td>0.014055</td>\n",
       "      <td>0.067533</td>\n",
       "      <td>0.020004</td>\n",
       "      <td>0.014355</td>\n",
       "      <td>0.107310</td>\n",
       "      <td>0.017951</td>\n",
       "    </tr>\n",
       "    <tr>\n",
       "      <th>16021</th>\n",
       "      <td>0.004223</td>\n",
       "      <td>0.005470</td>\n",
       "      <td>0.032659</td>\n",
       "      <td>0.040685</td>\n",
       "      <td>0.097448</td>\n",
       "      <td>0.034254</td>\n",
       "      <td>0.514029</td>\n",
       "      <td>0.020914</td>\n",
       "      <td>0.341120</td>\n",
       "      <td>0.040918</td>\n",
       "      <td>...</td>\n",
       "      <td>0.017375</td>\n",
       "      <td>0.006079</td>\n",
       "      <td>0.054118</td>\n",
       "      <td>0.000097</td>\n",
       "      <td>0.057603</td>\n",
       "      <td>0.063697</td>\n",
       "      <td>0.014923</td>\n",
       "      <td>0.010071</td>\n",
       "      <td>0.059444</td>\n",
       "      <td>0.035629</td>\n",
       "    </tr>\n",
       "    <tr>\n",
       "      <th>16022</th>\n",
       "      <td>0.010049</td>\n",
       "      <td>0.009192</td>\n",
       "      <td>0.062292</td>\n",
       "      <td>0.066887</td>\n",
       "      <td>0.218966</td>\n",
       "      <td>0.059398</td>\n",
       "      <td>0.893084</td>\n",
       "      <td>0.039527</td>\n",
       "      <td>0.473350</td>\n",
       "      <td>0.063587</td>\n",
       "      <td>...</td>\n",
       "      <td>0.049724</td>\n",
       "      <td>0.008814</td>\n",
       "      <td>0.208358</td>\n",
       "      <td>0.001555</td>\n",
       "      <td>0.073437</td>\n",
       "      <td>0.237521</td>\n",
       "      <td>0.034408</td>\n",
       "      <td>0.024055</td>\n",
       "      <td>0.128522</td>\n",
       "      <td>0.060053</td>\n",
       "    </tr>\n",
       "    <tr>\n",
       "      <th>16023</th>\n",
       "      <td>0.006084</td>\n",
       "      <td>0.025310</td>\n",
       "      <td>0.077454</td>\n",
       "      <td>0.091341</td>\n",
       "      <td>0.514888</td>\n",
       "      <td>0.074015</td>\n",
       "      <td>0.976732</td>\n",
       "      <td>0.055640</td>\n",
       "      <td>0.617394</td>\n",
       "      <td>0.061365</td>\n",
       "      <td>...</td>\n",
       "      <td>0.044548</td>\n",
       "      <td>0.027903</td>\n",
       "      <td>0.796936</td>\n",
       "      <td>0.006261</td>\n",
       "      <td>0.120129</td>\n",
       "      <td>0.122409</td>\n",
       "      <td>0.044279</td>\n",
       "      <td>0.019980</td>\n",
       "      <td>0.213464</td>\n",
       "      <td>0.068315</td>\n",
       "    </tr>\n",
       "    <tr>\n",
       "      <th>16024</th>\n",
       "      <td>0.001138</td>\n",
       "      <td>0.002041</td>\n",
       "      <td>0.012725</td>\n",
       "      <td>0.098991</td>\n",
       "      <td>0.671382</td>\n",
       "      <td>0.026111</td>\n",
       "      <td>0.065287</td>\n",
       "      <td>0.002197</td>\n",
       "      <td>0.072830</td>\n",
       "      <td>0.085960</td>\n",
       "      <td>...</td>\n",
       "      <td>0.034147</td>\n",
       "      <td>0.222884</td>\n",
       "      <td>0.519531</td>\n",
       "      <td>0.011657</td>\n",
       "      <td>0.009926</td>\n",
       "      <td>0.086919</td>\n",
       "      <td>0.020718</td>\n",
       "      <td>0.007237</td>\n",
       "      <td>0.084060</td>\n",
       "      <td>0.022251</td>\n",
       "    </tr>\n",
       "  </tbody>\n",
       "</table>\n",
       "<p>16025 rows × 92 columns</p>\n",
       "</div>"
      ],
      "text/plain": [
       "          HOXD9      PIGR       VWF    ADGRE5    CCDC80    CXCL16      ELF3  \\\n",
       "0      0.008890  0.002796  0.081828  0.088017  0.382570  0.019902  0.078597   \n",
       "1      0.093076  0.008001  0.890782  0.072491  0.327164  0.029000  0.198429   \n",
       "2      0.003950  0.042791  0.044916  0.257559  0.180430  0.492387  0.331992   \n",
       "3      0.078504  0.017580  0.523990  0.231010  1.570625  0.071688  0.298692   \n",
       "4      0.009779  0.007493  0.041950  0.006800  0.173881  0.019256  0.137878   \n",
       "...         ...       ...       ...       ...       ...       ...       ...   \n",
       "16020  0.016019  0.001644  0.176941  0.221863  0.346012  0.020614  0.098653   \n",
       "16021  0.004223  0.005470  0.032659  0.040685  0.097448  0.034254  0.514029   \n",
       "16022  0.010049  0.009192  0.062292  0.066887  0.218966  0.059398  0.893084   \n",
       "16023  0.006084  0.025310  0.077454  0.091341  0.514888  0.074015  0.976732   \n",
       "16024  0.001138  0.002041  0.012725  0.098991  0.671382  0.026111  0.065287   \n",
       "\n",
       "          HOXD8     CLDN4      CCL5  ...      CD93     CD79B      MMP2  \\\n",
       "0      0.025988  0.060626  0.017476  ...  0.088338  0.003149  0.562675   \n",
       "1      0.071965  0.141359  0.040791  ...  0.493569  0.023464  0.485350   \n",
       "2      0.013231  0.251886  0.138886  ...  0.170971  0.035714  0.408016   \n",
       "3      0.072918  0.204551  0.092365  ...  0.406856  0.051969  1.644617   \n",
       "4      0.014193  0.110811  0.017441  ...  0.031637  0.005307  0.174432   \n",
       "...         ...       ...       ...  ...       ...       ...       ...   \n",
       "16020  0.011383  0.073834  0.436672  ...  0.096923  0.027715  0.357563   \n",
       "16021  0.020914  0.341120  0.040918  ...  0.017375  0.006079  0.054118   \n",
       "16022  0.039527  0.473350  0.063587  ...  0.049724  0.008814  0.208358   \n",
       "16023  0.055640  0.617394  0.061365  ...  0.044548  0.027903  0.796936   \n",
       "16024  0.002197  0.072830  0.085960  ...  0.034147  0.222884  0.519531   \n",
       "\n",
       "         AKR1C3  C6orf132      C1QA     PPARG       KDR      SVIL  EIF4EBP1  \n",
       "0      0.003351  0.007676  0.040858  0.064605  0.032480  0.153413  0.019302  \n",
       "1      0.027805  0.020388  0.074989  0.112168  0.262443  0.167432  0.038762  \n",
       "2      0.020482  0.056766  1.295562  0.148724  0.022152  0.231515  0.137983  \n",
       "3      0.054219  0.037177  0.246142  0.165295  0.236070  0.579752  0.048302  \n",
       "4      0.001998  0.009235  0.070200  0.017484  0.031513  0.078778  0.007346  \n",
       "...         ...       ...       ...       ...       ...       ...       ...  \n",
       "16020  0.005579  0.014055  0.067533  0.020004  0.014355  0.107310  0.017951  \n",
       "16021  0.000097  0.057603  0.063697  0.014923  0.010071  0.059444  0.035629  \n",
       "16022  0.001555  0.073437  0.237521  0.034408  0.024055  0.128522  0.060053  \n",
       "16023  0.006261  0.120129  0.122409  0.044279  0.019980  0.213464  0.068315  \n",
       "16024  0.011657  0.009926  0.086919  0.020718  0.007237  0.084060  0.022251  \n",
       "\n",
       "[16025 rows x 92 columns]"
      ]
     },
     "execution_count": 33,
     "metadata": {},
     "output_type": "execute_result"
    }
   ],
   "source": [
    "df_transImpLR[test_gene]"
   ]
  },
  {
   "cell_type": "code",
   "execution_count": null,
   "id": "f2f824c1-54ff-4ffe-9354-8cddaa68c53e",
   "metadata": {},
   "outputs": [],
   "source": []
  },
  {
   "cell_type": "markdown",
   "id": "173c64dc-7166-4aa8-b7f2-de4d8e4a48f1",
   "metadata": {},
   "source": [
    "# Brain"
   ]
  },
  {
   "cell_type": "code",
   "execution_count": 1,
   "id": "a4925b68-16b1-44c9-afa2-f0c4806ed338",
   "metadata": {},
   "outputs": [],
   "source": [
    "import torch\n",
    "import warnings\n",
    "import pickle\n",
    "\n",
    "import squidpy as sq\n",
    "import numpy as np\n",
    "import pandas as pd\n",
    "import seaborn as sns\n",
    "\n",
    "from sklearn.model_selection import KFold\n",
    "from transpa.eval_util import calc_corr\n",
    "from transpa.util import expTransImp, compute_autocorr, plot_genes\n",
    "\n",
    "warnings.filterwarnings(\"ignore\")\n",
    "pre_datapath = \"../../output/preprocessed_dataset/seqFISH_single_cell.pkl\"\n",
    "\n",
    "seed = 10\n",
    "device = torch.device(\"cuda:0\") if torch.cuda.is_available() else torch.device(\"cpu\")"
   ]
  },
  {
   "cell_type": "code",
   "execution_count": 2,
   "id": "0098cf70-5e19-4abb-8624-96c10fb23d39",
   "metadata": {},
   "outputs": [],
   "source": [
    "import scanpy as sc\n",
    "import scipy.stats as st\n",
    "from sklearn.model_selection import train_test_split"
   ]
  },
  {
   "cell_type": "code",
   "execution_count": null,
   "id": "946e4369-9697-4058-a9e5-9a3908fc318f",
   "metadata": {},
   "outputs": [],
   "source": []
  },
  {
   "cell_type": "code",
   "execution_count": 3,
   "id": "1a6b089a-4cee-488d-a3b8-eb9996c58946",
   "metadata": {},
   "outputs": [],
   "source": [
    "def calcualte_pse_correlation(adata_sc, adata_st, celltype, p_value_threshold = 0.05, cor_threshold = 0.5):\n",
    "    import random \n",
    "    random.seed(2023)\n",
    "    overlap_gene = list(set(adata_sc.var_names).intersection(adata_st.var_names))\n",
    "    overlap_gene = sorted(overlap_gene)\n",
    "    adata_sc = adata_sc[:,overlap_gene]\n",
    "    adata_st = adata_st[:,overlap_gene]\n",
    "    \n",
    "    cell_type_common = list(set(adata_sc.obs[celltype].unique()).intersection(adata_st.obs[celltype].unique()))\n",
    "    \n",
    "    pseudo_st = []\n",
    "    pseudo_sc = []\n",
    "    for i in cell_type_common:\n",
    "        adata1 = adata_st[adata_st.obs[celltype] == i]\n",
    "        adata2 = adata_sc[adata_sc.obs[celltype] == i]\n",
    "\n",
    "        pseudo_st.append(np.mean(adata1.X.toarray(), axis = 0))\n",
    "        pseudo_sc.append(np.mean(adata2.X.toarray(), axis = 0))\n",
    "    \n",
    "    pseudo_st = np.array(pseudo_st)\n",
    "    pseudo_sc = np.array(pseudo_sc)\n",
    "\n",
    "    cor_pearson = []\n",
    "    cor_pvalue = []\n",
    "    for i in range(pseudo_st.shape[1]):\n",
    "        cor, pval = st.pearsonr(pseudo_st[:,i], pseudo_sc[:,i])\n",
    "        cor_pearson.append(cor)\n",
    "        cor_pvalue.append(pval)\n",
    "        \n",
    "    information_stat = pd.DataFrame()\n",
    "\n",
    "    information_stat['pearson'] = cor_pearson\n",
    "    information_stat['pvalue'] = cor_pvalue\n",
    "    information_stat.index = adata_st.var_names\n",
    "\n",
    "    information_stat_update = information_stat.loc[((information_stat['pvalue']<p_value_threshold) & (information_stat['pearson']>cor_threshold))]\n",
    "    \n",
    "    return information_stat_update.index"
   ]
  },
  {
   "cell_type": "code",
   "execution_count": 4,
   "id": "19841419-b271-491d-8de7-9f1d97182625",
   "metadata": {},
   "outputs": [],
   "source": [
    "import gc"
   ]
  },
  {
   "cell_type": "code",
   "execution_count": 5,
   "id": "3c3b6f46-ddb9-4e12-a082-4b9644416f99",
   "metadata": {},
   "outputs": [
    {
     "name": "stderr",
     "output_type": "stream",
     "text": [
      "[TransImp] Epoch: 2000/2000, loss: 0.283279, (IMP) 0.283279: 100%|██████████| 2000/2000 [00:33<00:00, 59.26it/s]\n",
      "[TransImp] Epoch: 2000/2000, loss: 0.353030, (IMP) 0.353030: 100%|██████████| 2000/2000 [00:30<00:00, 64.93it/s]\n",
      "[TransImp] Epoch: 2000/2000, loss: 0.299047, (IMP) 0.299047: 100%|██████████| 2000/2000 [00:31<00:00, 63.39it/s]\n",
      "[TransImp] Epoch: 2000/2000, loss: 0.312734, (IMP) 0.312734: 100%|██████████| 2000/2000 [00:31<00:00, 63.65it/s]\n",
      "[TransImp] Epoch: 2000/2000, loss: 0.303013, (IMP) 0.303013: 100%|██████████| 2000/2000 [00:31<00:00, 63.59it/s]\n",
      "[TransImp] Epoch: 2000/2000, loss: 0.304878, (IMP) 0.304878: 100%|██████████| 2000/2000 [00:31<00:00, 63.79it/s]\n"
     ]
    }
   ],
   "source": [
    "for sample_index in range(4,10):\n",
    "    seq_data = sc.read_h5ad(\"/gpfs/gibbs/pi/zhao/tl688/deconvdatasets/spatial_dataset/xenium_brain/aibs_mouse_ctx-hpf_smartseq_sce.h5ad\")\n",
    "    spatial_data = sc.read_h5ad(f\"/gpfs/gibbs/pi/zhao/tl688/tangram/data_brain/spe_xenium_data_0.1_seed{sample_index}.h5ad\")\n",
    "    seq_data.var_names_make_unique()\n",
    "    seq_data.obs['scClassify'] = seq_data.obs['cell_type_alias_label2'].copy() \n",
    "\n",
    "    classes = seq_data.obs['scClassify']\n",
    "    ct_list = np.unique(classes)\n",
    "\n",
    "    info_gene = calcualte_pse_correlation(seq_data, spatial_data, 'scClassify')\n",
    "\n",
    "    seq_data = seq_data[:,info_gene]\n",
    "    spatial_data = spatial_data[:,info_gene]\n",
    "\n",
    "    import random \n",
    "    random.seed(2023)\n",
    "    g1 = list(set(spatial_data.var_names).intersection(seq_data.var_names))\n",
    "    g1  = sorted(g1)\n",
    "    train_gene, test_gene = train_test_split(g1, test_size=0.33, random_state=2023)\n",
    "    spatial_data_partial = spatial_data[:, train_gene].copy()\n",
    "    seq_data = seq_data.copy()\n",
    "\n",
    "    raw_scrna_df = seq_data.to_df()\n",
    "    raw_spatial_df = spatial_data_partial.to_df()\n",
    "    \n",
    "    df_transImpLR = pd.DataFrame(np.zeros((spatial_data_partial.n_obs, len(info_gene))), columns=info_gene)\n",
    "    transImpRes = expTransImp(\n",
    "                df_ref=raw_scrna_df,\n",
    "                df_tgt=raw_spatial_df,\n",
    "                train_gene=train_gene,\n",
    "                test_gene=test_gene,\n",
    "                n_simulation=200,\n",
    "                signature_mode='cell',\n",
    "                mapping_mode='lowrank',\n",
    "                classes=classes,\n",
    "                n_epochs=2000,\n",
    "                seed=seed,\n",
    "                device=device\n",
    "    )\n",
    "    df_transImpLR[test_gene] = transImpRes[0]\n",
    "    adata_out = sc.AnnData(df_transImpLR)\n",
    "    gc.collect()\n",
    "    adata_out.write_h5ad(f\"/gpfs/gibbs/pi/zhao/tl688/tangram/transpa/brain/transimp_brain_seed{sample_index}.h5ad\")"
   ]
  },
  {
   "cell_type": "code",
   "execution_count": null,
   "id": "3ffb9278-e43e-4700-b9ba-f45441e920da",
   "metadata": {},
   "outputs": [],
   "source": []
  },
  {
   "cell_type": "code",
   "execution_count": null,
   "id": "4975a3f1-3b36-4de8-a46e-2bda5acbc63c",
   "metadata": {},
   "outputs": [],
   "source": []
  },
  {
   "cell_type": "code",
   "execution_count": null,
   "id": "0eb233d0-fc2f-473d-bd1e-ef0d5e7adea9",
   "metadata": {},
   "outputs": [],
   "source": []
  },
  {
   "cell_type": "code",
   "execution_count": null,
   "id": "bbb50653-91cf-471f-b863-ecf4d4d00006",
   "metadata": {},
   "outputs": [],
   "source": []
  },
  {
   "cell_type": "code",
   "execution_count": null,
   "id": "3024ebcc-4f0f-4b56-920a-d969b770718b",
   "metadata": {},
   "outputs": [],
   "source": []
  },
  {
   "cell_type": "code",
   "execution_count": null,
   "id": "c5ae1385-ff2b-4236-bfc9-19b9c2c6ce3f",
   "metadata": {},
   "outputs": [],
   "source": []
  },
  {
   "cell_type": "code",
   "execution_count": null,
   "id": "d32cd50e-e2d3-48d6-b605-f77c0d30fe6c",
   "metadata": {},
   "outputs": [],
   "source": []
  },
  {
   "cell_type": "code",
   "execution_count": 20,
   "id": "b6c90d44-ea8d-463d-8797-2f9208189592",
   "metadata": {},
   "outputs": [],
   "source": [
    "info_gene = calcualte_pse_correlation(scrna_adata, spa_adata, 'scClassify')"
   ]
  },
  {
   "cell_type": "code",
   "execution_count": 21,
   "id": "7b92e16f-383f-4e37-a963-b78640f81c7c",
   "metadata": {},
   "outputs": [],
   "source": [
    "seq_data = scrna_adata[:,info_gene]\n",
    "spatial_data = spa_adata[:,info_gene]"
   ]
  },
  {
   "cell_type": "code",
   "execution_count": 22,
   "id": "39fdf7ba-52d1-4849-959e-f70d8ff1fad4",
   "metadata": {},
   "outputs": [],
   "source": [
    "import random \n",
    "random.seed(2023)\n",
    "g1 = list(set(spatial_data.var_names).intersection(seq_data.var_names))\n",
    "g1 = sorted(g1)\n",
    "train_gene, test_gene = train_test_split(g1, test_size=0.33, random_state=2023)"
   ]
  },
  {
   "cell_type": "code",
   "execution_count": 23,
   "id": "82b285e6-744b-4df3-a8e5-a180e617a391",
   "metadata": {},
   "outputs": [],
   "source": [
    "raw_scrna_df = seq_data.to_df()\n",
    "raw_spatial_df = spatial_data.to_df()"
   ]
  },
  {
   "cell_type": "code",
   "execution_count": 25,
   "id": "58a7b4e1-268f-4dee-a06e-69d258f1ce2e",
   "metadata": {},
   "outputs": [],
   "source": [
    "classes = seq_data.obs['scClassify']\n",
    "ct_list = np.unique(classes)"
   ]
  },
  {
   "cell_type": "code",
   "execution_count": null,
   "id": "8534a5e1-529c-437e-ba8d-03b269933e2a",
   "metadata": {},
   "outputs": [],
   "source": []
  },
  {
   "cell_type": "code",
   "execution_count": null,
   "id": "fa63e7e2-e7b1-4dcf-bbe1-4377441d9cb1",
   "metadata": {},
   "outputs": [],
   "source": []
  },
  {
   "cell_type": "code",
   "execution_count": 26,
   "id": "4711121f-235b-4ac4-a4aa-28f42af14d7a",
   "metadata": {},
   "outputs": [
    {
     "name": "stderr",
     "output_type": "stream",
     "text": [
      "[TransImp] Epoch: 2000/2000, loss: 0.003844, (IMP) 0.003844: 100%|██████████| 2000/2000 [01:21<00:00, 24.41it/s]\n"
     ]
    }
   ],
   "source": [
    "transImpRes = expTransImp(\n",
    "                df_ref=raw_scrna_df,\n",
    "                df_tgt=raw_spatial_df,\n",
    "                train_gene=train_gene,\n",
    "                test_gene=test_gene,\n",
    "                n_simulation=200,\n",
    "                signature_mode='cell',\n",
    "                mapping_mode='lowrank',\n",
    "                classes=classes,\n",
    "                n_epochs=2000,\n",
    "                seed=seed,\n",
    "                device=device\n",
    ")"
   ]
  },
  {
   "cell_type": "code",
   "execution_count": 31,
   "id": "894a0363-8da0-45ce-b23a-67ec31ab1d06",
   "metadata": {},
   "outputs": [],
   "source": [
    "df_transImpLR = pd.DataFrame(np.zeros((spa_adata.n_obs, len(info_gene))), columns=info_gene)"
   ]
  },
  {
   "cell_type": "code",
   "execution_count": 32,
   "id": "9e8c3f24-5294-4f73-b2d4-270e8ccfc33b",
   "metadata": {},
   "outputs": [
    {
     "data": {
      "text/plain": [
       "array([[0.01008041, 0.05050546, 0.02460364, ..., 0.05231228, 0.02780909,\n",
       "        0.01175085],\n",
       "       [0.00987022, 0.0271963 , 0.01161936, ..., 0.0430636 , 0.01219665,\n",
       "        0.00620246],\n",
       "       [0.00967101, 0.04951893, 0.0244266 , ..., 0.06738168, 0.02638319,\n",
       "        0.01242517],\n",
       "       ...,\n",
       "       [0.00683271, 0.02847621, 0.00018988, ..., 0.03571602, 0.00078927,\n",
       "        0.00090942],\n",
       "       [0.00491358, 0.04003397, 0.00018913, ..., 0.03880098, 0.00057765,\n",
       "        0.00049592],\n",
       "       [0.00669112, 0.02591524, 0.00102373, ..., 0.03220956, 0.00063202,\n",
       "        0.00140854]], dtype=float32)"
      ]
     },
     "execution_count": 32,
     "metadata": {},
     "output_type": "execute_result"
    }
   ],
   "source": [
    "transImpRes[0]"
   ]
  },
  {
   "cell_type": "code",
   "execution_count": 33,
   "id": "192d44ec-a12d-4156-bee5-ea1792effbb1",
   "metadata": {},
   "outputs": [],
   "source": [
    "df_transImpLR[test_gene] = transImpRes[0]"
   ]
  },
  {
   "cell_type": "code",
   "execution_count": 34,
   "id": "b01689ce-6cd0-4ef0-89a2-aa85e76b6524",
   "metadata": {},
   "outputs": [
    {
     "data": {
      "text/html": [
       "<div>\n",
       "<style scoped>\n",
       "    .dataframe tbody tr th:only-of-type {\n",
       "        vertical-align: middle;\n",
       "    }\n",
       "\n",
       "    .dataframe tbody tr th {\n",
       "        vertical-align: top;\n",
       "    }\n",
       "\n",
       "    .dataframe thead th {\n",
       "        text-align: right;\n",
       "    }\n",
       "</style>\n",
       "<table border=\"1\" class=\"dataframe\">\n",
       "  <thead>\n",
       "    <tr style=\"text-align: right;\">\n",
       "      <th></th>\n",
       "      <th>Itpr2</th>\n",
       "      <th>Hexb</th>\n",
       "      <th>Pthlh</th>\n",
       "      <th>Plp1</th>\n",
       "      <th>Mrc1</th>\n",
       "      <th>Crh</th>\n",
       "      <th>Gfap</th>\n",
       "    </tr>\n",
       "  </thead>\n",
       "  <tbody>\n",
       "    <tr>\n",
       "      <th>0</th>\n",
       "      <td>0.010080</td>\n",
       "      <td>0.050505</td>\n",
       "      <td>0.024604</td>\n",
       "      <td>2.502050</td>\n",
       "      <td>0.052312</td>\n",
       "      <td>0.027809</td>\n",
       "      <td>0.011751</td>\n",
       "    </tr>\n",
       "    <tr>\n",
       "      <th>1</th>\n",
       "      <td>0.009870</td>\n",
       "      <td>0.027196</td>\n",
       "      <td>0.011619</td>\n",
       "      <td>2.834172</td>\n",
       "      <td>0.043064</td>\n",
       "      <td>0.012197</td>\n",
       "      <td>0.006202</td>\n",
       "    </tr>\n",
       "    <tr>\n",
       "      <th>2</th>\n",
       "      <td>0.009671</td>\n",
       "      <td>0.049519</td>\n",
       "      <td>0.024427</td>\n",
       "      <td>2.048846</td>\n",
       "      <td>0.067382</td>\n",
       "      <td>0.026383</td>\n",
       "      <td>0.012425</td>\n",
       "    </tr>\n",
       "    <tr>\n",
       "      <th>3</th>\n",
       "      <td>0.005823</td>\n",
       "      <td>0.018915</td>\n",
       "      <td>0.021167</td>\n",
       "      <td>0.977459</td>\n",
       "      <td>0.046649</td>\n",
       "      <td>0.007997</td>\n",
       "      <td>0.000052</td>\n",
       "    </tr>\n",
       "    <tr>\n",
       "      <th>4</th>\n",
       "      <td>0.006843</td>\n",
       "      <td>0.024053</td>\n",
       "      <td>0.027172</td>\n",
       "      <td>1.973019</td>\n",
       "      <td>0.037029</td>\n",
       "      <td>0.022219</td>\n",
       "      <td>0.000089</td>\n",
       "    </tr>\n",
       "    <tr>\n",
       "      <th>...</th>\n",
       "      <td>...</td>\n",
       "      <td>...</td>\n",
       "      <td>...</td>\n",
       "      <td>...</td>\n",
       "      <td>...</td>\n",
       "      <td>...</td>\n",
       "      <td>...</td>\n",
       "    </tr>\n",
       "    <tr>\n",
       "      <th>4525</th>\n",
       "      <td>0.004952</td>\n",
       "      <td>0.037006</td>\n",
       "      <td>0.000247</td>\n",
       "      <td>0.682299</td>\n",
       "      <td>0.035568</td>\n",
       "      <td>0.000251</td>\n",
       "      <td>0.001046</td>\n",
       "    </tr>\n",
       "    <tr>\n",
       "      <th>4526</th>\n",
       "      <td>0.005467</td>\n",
       "      <td>0.035986</td>\n",
       "      <td>0.000342</td>\n",
       "      <td>1.456438</td>\n",
       "      <td>0.038851</td>\n",
       "      <td>0.000730</td>\n",
       "      <td>0.000314</td>\n",
       "    </tr>\n",
       "    <tr>\n",
       "      <th>4527</th>\n",
       "      <td>0.006833</td>\n",
       "      <td>0.028476</td>\n",
       "      <td>0.000190</td>\n",
       "      <td>1.709622</td>\n",
       "      <td>0.035716</td>\n",
       "      <td>0.000789</td>\n",
       "      <td>0.000909</td>\n",
       "    </tr>\n",
       "    <tr>\n",
       "      <th>4528</th>\n",
       "      <td>0.004914</td>\n",
       "      <td>0.040034</td>\n",
       "      <td>0.000189</td>\n",
       "      <td>1.127144</td>\n",
       "      <td>0.038801</td>\n",
       "      <td>0.000578</td>\n",
       "      <td>0.000496</td>\n",
       "    </tr>\n",
       "    <tr>\n",
       "      <th>4529</th>\n",
       "      <td>0.006691</td>\n",
       "      <td>0.025915</td>\n",
       "      <td>0.001024</td>\n",
       "      <td>1.258787</td>\n",
       "      <td>0.032210</td>\n",
       "      <td>0.000632</td>\n",
       "      <td>0.001409</td>\n",
       "    </tr>\n",
       "  </tbody>\n",
       "</table>\n",
       "<p>4530 rows × 7 columns</p>\n",
       "</div>"
      ],
      "text/plain": [
       "         Itpr2      Hexb     Pthlh      Plp1      Mrc1       Crh      Gfap\n",
       "0     0.010080  0.050505  0.024604  2.502050  0.052312  0.027809  0.011751\n",
       "1     0.009870  0.027196  0.011619  2.834172  0.043064  0.012197  0.006202\n",
       "2     0.009671  0.049519  0.024427  2.048846  0.067382  0.026383  0.012425\n",
       "3     0.005823  0.018915  0.021167  0.977459  0.046649  0.007997  0.000052\n",
       "4     0.006843  0.024053  0.027172  1.973019  0.037029  0.022219  0.000089\n",
       "...        ...       ...       ...       ...       ...       ...       ...\n",
       "4525  0.004952  0.037006  0.000247  0.682299  0.035568  0.000251  0.001046\n",
       "4526  0.005467  0.035986  0.000342  1.456438  0.038851  0.000730  0.000314\n",
       "4527  0.006833  0.028476  0.000190  1.709622  0.035716  0.000789  0.000909\n",
       "4528  0.004914  0.040034  0.000189  1.127144  0.038801  0.000578  0.000496\n",
       "4529  0.006691  0.025915  0.001024  1.258787  0.032210  0.000632  0.001409\n",
       "\n",
       "[4530 rows x 7 columns]"
      ]
     },
     "execution_count": 34,
     "metadata": {},
     "output_type": "execute_result"
    }
   ],
   "source": [
    "df_transImpLR[test_gene]"
   ]
  },
  {
   "cell_type": "code",
   "execution_count": 35,
   "id": "bddcd62d-2b19-4a57-85f1-dd300580e2a5",
   "metadata": {},
   "outputs": [
    {
     "name": "stderr",
     "output_type": "stream",
     "text": [
      "[TransImp] Epoch: 2000/2000, loss: 0.003537, (IMP) 0.003537: 100%|██████████| 2000/2000 [01:22<00:00, 24.35it/s]\n",
      "[TransImp] Epoch: 2000/2000, loss: 0.004132, (IMP) 0.004132: 100%|██████████| 2000/2000 [01:15<00:00, 26.54it/s]\n",
      "[TransImp] Epoch: 2000/2000, loss: 0.003828, (IMP) 0.003828: 100%|██████████| 2000/2000 [01:21<00:00, 24.55it/s]\n",
      "[TransImp] Epoch: 2000/2000, loss: 0.003433, (IMP) 0.003433: 100%|██████████| 2000/2000 [01:21<00:00, 24.59it/s]\n",
      "[TransImp] Epoch: 2000/2000, loss: 0.003561, (IMP) 0.003561: 100%|██████████| 2000/2000 [01:21<00:00, 24.63it/s]\n",
      "[TransImp] Epoch: 2000/2000, loss: 0.004002, (IMP) 0.004002: 100%|██████████| 2000/2000 [01:23<00:00, 24.09it/s]\n",
      "[TransImp] Epoch: 2000/2000, loss: 0.004122, (IMP) 0.004122: 100%|██████████| 2000/2000 [01:15<00:00, 26.44it/s]\n",
      "[TransImp] Epoch: 2000/2000, loss: 0.004345, (IMP) 0.004345: 100%|██████████| 2000/2000 [01:14<00:00, 26.77it/s]\n",
      "[TransImp] Epoch: 2000/2000, loss: 0.003326, (IMP) 0.003326: 100%|██████████| 2000/2000 [01:15<00:00, 26.50it/s]\n",
      "[TransImp] Epoch: 2000/2000, loss: 0.004253, (IMP) 0.004253: 100%|██████████| 2000/2000 [01:15<00:00, 26.40it/s]\n"
     ]
    }
   ],
   "source": [
    "for seed in range(0,10):\n",
    "    df_transImpLR = pd.DataFrame(np.zeros((spa_adata.n_obs, len(info_gene))), columns=info_gene)\n",
    "    transImpRes = expTransImp(\n",
    "                df_ref=raw_scrna_df,\n",
    "                df_tgt=raw_spatial_df,\n",
    "                train_gene=train_gene,\n",
    "                test_gene=test_gene,\n",
    "                n_simulation=200,\n",
    "                signature_mode='cell',\n",
    "                mapping_mode='lowrank',\n",
    "                classes=classes,\n",
    "                n_epochs=2000,\n",
    "                seed=seed,\n",
    "                device=device\n",
    "    )\n",
    "    df_transImpLR[test_gene] = transImpRes[0]\n",
    "    adata_out = sc.AnnData(df_transImpLR)\n",
    "    adata_out.write_h5ad(f\"/gpfs/gibbs/pi/zhao/tl688/tangram/transpa/smfish/transimp_smfish_seed{seed}.h5ad\")"
   ]
  },
  {
   "cell_type": "code",
   "execution_count": 37,
   "id": "564094a7-7d98-4a53-b676-d842e37c3ca4",
   "metadata": {},
   "outputs": [
    {
     "data": {
      "text/plain": [
       "array([[0.01026535, 0.04710996, 0.02292576, ..., 0.06517296, 0.0200364 ,\n",
       "        0.01253883],\n",
       "       [0.0146467 , 0.03590734, 0.01032561, ..., 0.05029929, 0.01200929,\n",
       "        0.00694228],\n",
       "       [0.00948082, 0.03555085, 0.02914999, ..., 0.05524319, 0.01959631,\n",
       "        0.01420537],\n",
       "       ...,\n",
       "       [0.00674488, 0.02863701, 0.00021149, ..., 0.02759529, 0.00078623,\n",
       "        0.00091469],\n",
       "       [0.00413624, 0.01995281, 0.00047814, ..., 0.02856422, 0.00102261,\n",
       "        0.00047131],\n",
       "       [0.00619856, 0.01864921, 0.00077844, ..., 0.02953735, 0.00075872,\n",
       "        0.00220262]], dtype=float32)"
      ]
     },
     "execution_count": 37,
     "metadata": {},
     "output_type": "execute_result"
    }
   ],
   "source": [
    "transImpRes[0]"
   ]
  }
 ],
 "metadata": {
  "kernelspec": {
   "display_name": "Python 3 (ipykernel)",
   "language": "python",
   "name": "python3"
  },
  "language_info": {
   "codemirror_mode": {
    "name": "ipython",
    "version": 3
   },
   "file_extension": ".py",
   "mimetype": "text/x-python",
   "name": "python",
   "nbconvert_exporter": "python",
   "pygments_lexer": "ipython3",
   "version": "3.8.18"
  },
  "widgets": {
   "application/vnd.jupyter.widget-state+json": {
    "state": {},
    "version_major": 2,
    "version_minor": 0
   }
  }
 },
 "nbformat": 4,
 "nbformat_minor": 5
}
