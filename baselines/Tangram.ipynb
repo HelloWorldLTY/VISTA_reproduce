{
 "cells": [
  {
   "cell_type": "code",
   "execution_count": 1,
   "id": "1ff7eec0-f374-4821-9e70-28c4ad786771",
   "metadata": {},
   "outputs": [
    {
     "name": "stdout",
     "output_type": "stream",
     "text": [
      "scanpy==1.9.5 anndata==0.9.2 umap==0.5.4 numpy==1.22.0 scipy==1.10.1 pandas==1.5.0 scikit-learn==1.3.1 statsmodels==0.14.0 igraph==0.10.8 pynndescent==0.5.10\n",
      "squidpy==1.2.3\n"
     ]
    }
   ],
   "source": [
    "import scanpy as sc\n",
    "import squidpy as sq\n",
    "import numpy as np\n",
    "import pandas as pd\n",
    "from anndata import AnnData\n",
    "import pathlib\n",
    "import matplotlib.pyplot as plt\n",
    "import matplotlib as mpl\n",
    "import skimage\n",
    "import seaborn as sns\n",
    "import tangram as tg\n",
    "import gc\n",
    "\n",
    "import cosg\n",
    "\n",
    "import scipy.stats as st\n",
    "\n",
    "sc.logging.print_header()\n",
    "print(f\"squidpy=={sq.__version__}\")\n",
    "\n",
    "%load_ext autoreload\n",
    "%autoreload 2\n",
    "%matplotlib inline"
   ]
  },
  {
   "cell_type": "code",
   "execution_count": 2,
   "id": "043f0af2-8642-4d02-9f0b-a480bce5430f",
   "metadata": {},
   "outputs": [],
   "source": [
    "import lightning"
   ]
  },
  {
   "cell_type": "code",
   "execution_count": null,
   "id": "2a14dd0c-7a6b-4fe1-b8ff-a231096b513c",
   "metadata": {},
   "outputs": [],
   "source": []
  },
  {
   "cell_type": "code",
   "execution_count": 3,
   "id": "87c32091-f801-44c9-8114-db733858dc46",
   "metadata": {},
   "outputs": [],
   "source": [
    "adata_sc = sc.read_h5ad(\"/gpfs/gibbs/pi/zhao/tl688/tangram/data_smfish/scrnaseq_data.h5ad\")\n",
    "adata_st = sc.read_h5ad(\"/gpfs/gibbs/pi/zhao/tl688/tangram/data_smfish/spatial_data.h5ad\")"
   ]
  },
  {
   "cell_type": "code",
   "execution_count": 4,
   "id": "6d6823c7-f65d-4abd-b569-231d4ace838f",
   "metadata": {},
   "outputs": [],
   "source": [
    "from sklearn.model_selection import train_test_split"
   ]
  },
  {
   "cell_type": "code",
   "execution_count": 5,
   "id": "c3c02ecf-418b-410f-85f6-e3ef56a588d6",
   "metadata": {},
   "outputs": [],
   "source": [
    "def calcualte_pse_correlation(adata_sc, adata_st, celltype, p_value_threshold = 0.05, cor_threshold = 0.5):\n",
    "    overlap_gene = overlap_gene = list(set(adata_sc.var_names).intersection(adata_st.var_names))\n",
    "    adata_sc = adata_sc[:,overlap_gene]\n",
    "    adata_st = adata_st[:,overlap_gene]\n",
    "    \n",
    "    cell_type_common = list(set(adata_sc.obs[celltype].unique()).intersection(adata_st.obs[celltype].unique()))\n",
    "    \n",
    "    pseudo_st = []\n",
    "    pseudo_sc = []\n",
    "    for i in cell_type_common:\n",
    "        adata1 = adata_st[adata_st.obs[celltype] == i]\n",
    "        adata2 = adata_sc[adata_sc.obs[celltype] == i]\n",
    "\n",
    "        pseudo_st.append(np.mean(adata1.X.toarray(), axis = 0))\n",
    "        pseudo_sc.append(np.mean(adata2.X.toarray(), axis = 0))\n",
    "    \n",
    "    pseudo_st = np.array(pseudo_st)\n",
    "    pseudo_sc = np.array(pseudo_sc)\n",
    "\n",
    "    cor_pearson = []\n",
    "    cor_pvalue = []\n",
    "    for i in range(pseudo_st.shape[1]):\n",
    "        cor, pval = st.pearsonr(pseudo_st[:,i], pseudo_sc[:,i])\n",
    "        cor_pearson.append(cor)\n",
    "        cor_pvalue.append(pval)\n",
    "        \n",
    "    information_stat = pd.DataFrame()\n",
    "\n",
    "    information_stat['pearson'] = cor_pearson\n",
    "    information_stat['pvalue'] = cor_pvalue\n",
    "    information_stat.index = adata_st.var_names\n",
    "\n",
    "    information_stat_update = information_stat.loc[((information_stat['pvalue']<p_value_threshold) & (information_stat['pearson']>cor_threshold))]\n",
    "    \n",
    "    return information_stat_update.index"
   ]
  },
  {
   "cell_type": "code",
   "execution_count": 6,
   "id": "26040c70-662d-465e-a8bb-79da2e641078",
   "metadata": {},
   "outputs": [],
   "source": [
    "info_gene = calcualte_pse_correlation(adata_sc, adata_st, 'scClassify')"
   ]
  },
  {
   "cell_type": "code",
   "execution_count": 7,
   "id": "0ee19bbd-8876-4528-871b-9200fa1b8abf",
   "metadata": {},
   "outputs": [],
   "source": [
    "adata_sc = adata_sc[:,info_gene]\n",
    "adata_st = adata_st[:,info_gene]"
   ]
  },
  {
   "cell_type": "code",
   "execution_count": 8,
   "id": "2416dbb1-db39-409a-bb28-ccade4b948df",
   "metadata": {},
   "outputs": [],
   "source": [
    "import random \n",
    "random.seed(2023)\n",
    "overlap_gene = list(set(adata_st.var_names).intersection(adata_sc.var_names))\n",
    "overlap_gene = sorted(overlap_gene)"
   ]
  },
  {
   "cell_type": "code",
   "execution_count": 9,
   "id": "a7be541c-6adb-480e-a294-ac8b560be614",
   "metadata": {},
   "outputs": [],
   "source": [
    "train_g, test_g = train_test_split(overlap_gene, test_size=0.33, random_state=2023)"
   ]
  },
  {
   "cell_type": "code",
   "execution_count": 10,
   "id": "63b312e5-b297-467e-9b9f-059f73640639",
   "metadata": {},
   "outputs": [],
   "source": [
    "adata_st[:, test_g].X = 0"
   ]
  },
  {
   "cell_type": "code",
   "execution_count": 11,
   "id": "1a6b4903-db3a-4e32-ba8f-6254928d0fda",
   "metadata": {},
   "outputs": [],
   "source": [
    "def tangram_batch_allsc(adata_st_gt, adata_sc, savepath = \"./data_breastbatch/\", celltype = \"graph_cluster_anno\",  \n",
    "                  epoch = 500, filename = 'human_breast', batchsize = 10000, \n",
    "                        set_seed = 0, density_prior = 'uniform', train_gene = train_g, spatial_label = 'scClassify'):\n",
    "    lightning.seed_everything(set_seed)\n",
    "    markers = train_gene\n",
    "    adata_st.obs[celltype] = list(adata_st.obs[spatial_label])\n",
    "    for item in range(len(adata_st_gt)//batchsize + 1):\n",
    "        end = item*batchsize + batchsize\n",
    "        if end >= len(adata_st_gt):\n",
    "            end = len(adata_st_gt)\n",
    "\n",
    "        adata_st_imp = adata_st[item*batchsize:end,:]\n",
    "        \n",
    "        sample_adata_celltype = adata_st_imp.obs[celltype].unique()\n",
    "        \n",
    "        tg.pp_adatas(adata_sc, adata_st_imp, genes=markers, gene_to_lowercase = False)\n",
    "\n",
    "        ad_map = tg.map_cells_to_space(adata_sc, adata_st_imp,\n",
    "            mode=\"cells\",\n",
    "            density_prior=density_prior,\n",
    "            num_epochs=epoch,\n",
    "            device=\"cuda:0\", \n",
    "            correlation = False       #     device='cpu',\n",
    "\n",
    "        )\n",
    "\n",
    "        gc.collect()\n",
    "        #adata_sc = sc.read_h5ad(\"/gpfs/gibbs/pi/zhao/tl688/deconvdatasets/spatial_dataset/xenium_brain/aibs_mouse_ctx-hpf_smartseq_sce.h5ad\")\n",
    "        ad_ge = tg.project_genes(adata_map=ad_map, adata_sc=adata_sc, gene_to_lowercase = False)\n",
    "        gc.collect()\n",
    "        print(epoch)\n",
    "        ad_ge.write_h5ad(savepath + f\"{filename}_data_batch_maskgene_raw_filter0.5_{epoch}_{item}_seed{set_seed}.h5ad\")\n",
    "    return True"
   ]
  },
  {
   "cell_type": "code",
   "execution_count": 15,
   "id": "e883c221-73cc-4ae9-9ae0-aad12f286f47",
   "metadata": {},
   "outputs": [
    {
     "name": "stderr",
     "output_type": "stream",
     "text": [
      "[rank: 0] Global seed set to 0\n"
     ]
    },
    {
     "name": "stdout",
     "output_type": "stream",
     "text": [
      "13 training genes are saved in `uns``training_genes` of both single cell and spatial Anndatas.\n",
      "13 overlapped genes are saved in `uns``overlap_genes` of both single cell and spatial Anndatas.\n",
      "uniform based density prior is calculated and saved in `obs``uniform_density` of the spatial Anndata.\n",
      "rna count based density prior is calculated and saved in `obs``rna_count_based_density` of the spatial Anndata.\n",
      "Allocate tensors for mapping.\n",
      "Begin training with 13 genes and uniform density_prior in cells mode...\n",
      "Printing scores every 100 epochs.\n",
      "Score: 0.485, KL reg: 0.000\n",
      "Score: 0.997, KL reg: 0.000\n",
      "Score: 0.998, KL reg: 0.000\n",
      "Score: 0.999, KL reg: 0.000\n",
      "Score: 0.999, KL reg: 0.000\n",
      "Saving results..\n",
      "500\n"
     ]
    },
    {
     "name": "stderr",
     "output_type": "stream",
     "text": [
      "[rank: 0] Global seed set to 1\n"
     ]
    },
    {
     "name": "stdout",
     "output_type": "stream",
     "text": [
      "13 training genes are saved in `uns``training_genes` of both single cell and spatial Anndatas.\n",
      "13 overlapped genes are saved in `uns``overlap_genes` of both single cell and spatial Anndatas.\n",
      "uniform based density prior is calculated and saved in `obs``uniform_density` of the spatial Anndata.\n",
      "rna count based density prior is calculated and saved in `obs``rna_count_based_density` of the spatial Anndata.\n",
      "Allocate tensors for mapping.\n",
      "Begin training with 13 genes and uniform density_prior in cells mode...\n",
      "Printing scores every 100 epochs.\n",
      "Score: 0.485, KL reg: 0.000\n",
      "Score: 0.997, KL reg: 0.000\n",
      "Score: 0.998, KL reg: 0.000\n",
      "Score: 0.999, KL reg: 0.000\n",
      "Score: 0.999, KL reg: 0.000\n",
      "Saving results..\n"
     ]
    },
    {
     "name": "stderr",
     "output_type": "stream",
     "text": [
      "[rank: 0] Global seed set to 2\n"
     ]
    },
    {
     "name": "stdout",
     "output_type": "stream",
     "text": [
      "500\n",
      "13 training genes are saved in `uns``training_genes` of both single cell and spatial Anndatas.\n",
      "13 overlapped genes are saved in `uns``overlap_genes` of both single cell and spatial Anndatas.\n",
      "uniform based density prior is calculated and saved in `obs``uniform_density` of the spatial Anndata.\n",
      "rna count based density prior is calculated and saved in `obs``rna_count_based_density` of the spatial Anndata.\n",
      "Allocate tensors for mapping.\n",
      "Begin training with 13 genes and uniform density_prior in cells mode...\n",
      "Printing scores every 100 epochs.\n",
      "Score: 0.484, KL reg: 0.000\n",
      "Score: 0.997, KL reg: 0.000\n",
      "Score: 0.998, KL reg: 0.000\n",
      "Score: 0.999, KL reg: 0.000\n",
      "Score: 0.999, KL reg: 0.000\n",
      "Saving results..\n"
     ]
    },
    {
     "name": "stderr",
     "output_type": "stream",
     "text": [
      "[rank: 0] Global seed set to 3\n"
     ]
    },
    {
     "name": "stdout",
     "output_type": "stream",
     "text": [
      "500\n",
      "13 training genes are saved in `uns``training_genes` of both single cell and spatial Anndatas.\n",
      "13 overlapped genes are saved in `uns``overlap_genes` of both single cell and spatial Anndatas.\n",
      "uniform based density prior is calculated and saved in `obs``uniform_density` of the spatial Anndata.\n",
      "rna count based density prior is calculated and saved in `obs``rna_count_based_density` of the spatial Anndata.\n",
      "Allocate tensors for mapping.\n",
      "Begin training with 13 genes and uniform density_prior in cells mode...\n",
      "Printing scores every 100 epochs.\n",
      "Score: 0.485, KL reg: 0.000\n",
      "Score: 0.997, KL reg: 0.000\n",
      "Score: 0.998, KL reg: 0.000\n",
      "Score: 0.999, KL reg: 0.000\n",
      "Score: 0.999, KL reg: 0.000\n",
      "Saving results..\n"
     ]
    },
    {
     "name": "stderr",
     "output_type": "stream",
     "text": [
      "[rank: 0] Global seed set to 4\n"
     ]
    },
    {
     "name": "stdout",
     "output_type": "stream",
     "text": [
      "500\n",
      "13 training genes are saved in `uns``training_genes` of both single cell and spatial Anndatas.\n",
      "13 overlapped genes are saved in `uns``overlap_genes` of both single cell and spatial Anndatas.\n",
      "uniform based density prior is calculated and saved in `obs``uniform_density` of the spatial Anndata.\n",
      "rna count based density prior is calculated and saved in `obs``rna_count_based_density` of the spatial Anndata.\n",
      "Allocate tensors for mapping.\n",
      "Begin training with 13 genes and uniform density_prior in cells mode...\n",
      "Printing scores every 100 epochs.\n",
      "Score: 0.485, KL reg: 0.000\n",
      "Score: 0.997, KL reg: 0.000\n",
      "Score: 0.998, KL reg: 0.000\n",
      "Score: 0.999, KL reg: 0.000\n",
      "Score: 0.999, KL reg: 0.000\n",
      "Saving results..\n"
     ]
    },
    {
     "name": "stderr",
     "output_type": "stream",
     "text": [
      "[rank: 0] Global seed set to 5\n"
     ]
    },
    {
     "name": "stdout",
     "output_type": "stream",
     "text": [
      "500\n",
      "13 training genes are saved in `uns``training_genes` of both single cell and spatial Anndatas.\n",
      "13 overlapped genes are saved in `uns``overlap_genes` of both single cell and spatial Anndatas.\n",
      "uniform based density prior is calculated and saved in `obs``uniform_density` of the spatial Anndata.\n",
      "rna count based density prior is calculated and saved in `obs``rna_count_based_density` of the spatial Anndata.\n",
      "Allocate tensors for mapping.\n",
      "Begin training with 13 genes and uniform density_prior in cells mode...\n",
      "Printing scores every 100 epochs.\n",
      "Score: 0.485, KL reg: 0.000\n",
      "Score: 0.997, KL reg: 0.000\n",
      "Score: 0.998, KL reg: 0.000\n",
      "Score: 0.999, KL reg: 0.000\n",
      "Score: 0.999, KL reg: 0.000\n",
      "Saving results..\n",
      "500\n"
     ]
    },
    {
     "name": "stderr",
     "output_type": "stream",
     "text": [
      "[rank: 0] Global seed set to 6\n"
     ]
    },
    {
     "name": "stdout",
     "output_type": "stream",
     "text": [
      "13 training genes are saved in `uns``training_genes` of both single cell and spatial Anndatas.\n",
      "13 overlapped genes are saved in `uns``overlap_genes` of both single cell and spatial Anndatas.\n",
      "uniform based density prior is calculated and saved in `obs``uniform_density` of the spatial Anndata.\n",
      "rna count based density prior is calculated and saved in `obs``rna_count_based_density` of the spatial Anndata.\n",
      "Allocate tensors for mapping.\n",
      "Begin training with 13 genes and uniform density_prior in cells mode...\n",
      "Printing scores every 100 epochs.\n",
      "Score: 0.485, KL reg: 0.000\n",
      "Score: 0.997, KL reg: 0.000\n",
      "Score: 0.998, KL reg: 0.000\n",
      "Score: 0.999, KL reg: 0.000\n",
      "Score: 0.999, KL reg: 0.000\n",
      "Saving results..\n"
     ]
    },
    {
     "name": "stderr",
     "output_type": "stream",
     "text": [
      "[rank: 0] Global seed set to 7\n"
     ]
    },
    {
     "name": "stdout",
     "output_type": "stream",
     "text": [
      "500\n",
      "13 training genes are saved in `uns``training_genes` of both single cell and spatial Anndatas.\n",
      "13 overlapped genes are saved in `uns``overlap_genes` of both single cell and spatial Anndatas.\n",
      "uniform based density prior is calculated and saved in `obs``uniform_density` of the spatial Anndata.\n",
      "rna count based density prior is calculated and saved in `obs``rna_count_based_density` of the spatial Anndata.\n",
      "Allocate tensors for mapping.\n",
      "Begin training with 13 genes and uniform density_prior in cells mode...\n",
      "Printing scores every 100 epochs.\n",
      "Score: 0.484, KL reg: 0.000\n",
      "Score: 0.997, KL reg: 0.000\n",
      "Score: 0.998, KL reg: 0.000\n",
      "Score: 0.999, KL reg: 0.000\n",
      "Score: 0.999, KL reg: 0.000\n",
      "Saving results..\n"
     ]
    },
    {
     "name": "stderr",
     "output_type": "stream",
     "text": [
      "[rank: 0] Global seed set to 8\n"
     ]
    },
    {
     "name": "stdout",
     "output_type": "stream",
     "text": [
      "500\n",
      "13 training genes are saved in `uns``training_genes` of both single cell and spatial Anndatas.\n",
      "13 overlapped genes are saved in `uns``overlap_genes` of both single cell and spatial Anndatas.\n",
      "uniform based density prior is calculated and saved in `obs``uniform_density` of the spatial Anndata.\n",
      "rna count based density prior is calculated and saved in `obs``rna_count_based_density` of the spatial Anndata.\n",
      "Allocate tensors for mapping.\n",
      "Begin training with 13 genes and uniform density_prior in cells mode...\n",
      "Printing scores every 100 epochs.\n",
      "Score: 0.484, KL reg: 0.000\n",
      "Score: 0.997, KL reg: 0.000\n",
      "Score: 0.998, KL reg: 0.000\n",
      "Score: 0.999, KL reg: 0.000\n",
      "Score: 0.999, KL reg: 0.000\n",
      "Saving results..\n"
     ]
    },
    {
     "name": "stderr",
     "output_type": "stream",
     "text": [
      "[rank: 0] Global seed set to 9\n"
     ]
    },
    {
     "name": "stdout",
     "output_type": "stream",
     "text": [
      "500\n",
      "13 training genes are saved in `uns``training_genes` of both single cell and spatial Anndatas.\n",
      "13 overlapped genes are saved in `uns``overlap_genes` of both single cell and spatial Anndatas.\n",
      "uniform based density prior is calculated and saved in `obs``uniform_density` of the spatial Anndata.\n",
      "rna count based density prior is calculated and saved in `obs``rna_count_based_density` of the spatial Anndata.\n",
      "Allocate tensors for mapping.\n",
      "Begin training with 13 genes and uniform density_prior in cells mode...\n",
      "Printing scores every 100 epochs.\n",
      "Score: 0.485, KL reg: 0.000\n",
      "Score: 0.997, KL reg: 0.000\n",
      "Score: 0.998, KL reg: 0.000\n",
      "Score: 0.999, KL reg: 0.000\n",
      "Score: 0.999, KL reg: 0.000\n",
      "Saving results..\n",
      "500\n"
     ]
    }
   ],
   "source": [
    "for seed in range(0,10):\n",
    "\n",
    "    tangram_batch_allsc(adata_st, adata_sc, epoch=500, savepath='./data_smfish/', \n",
    "                        celltype='scClassify', filename = 'smfish', spatial_label = 'scClassify',\n",
    "                       set_seed = seed)"
   ]
  },
  {
   "cell_type": "code",
   "execution_count": 12,
   "id": "d8b6667b-5f14-4189-af9f-8934265498d6",
   "metadata": {},
   "outputs": [
    {
     "name": "stderr",
     "output_type": "stream",
     "text": [
      "[rank: 0] Global seed set to 0\n"
     ]
    },
    {
     "name": "stdout",
     "output_type": "stream",
     "text": [
      "13 training genes are saved in `uns``training_genes` of both single cell and spatial Anndatas.\n",
      "13 overlapped genes are saved in `uns``overlap_genes` of both single cell and spatial Anndatas.\n",
      "uniform based density prior is calculated and saved in `obs``uniform_density` of the spatial Anndata.\n",
      "rna count based density prior is calculated and saved in `obs``rna_count_based_density` of the spatial Anndata.\n",
      "Allocate tensors for mapping.\n",
      "Begin training with 13 genes and uniform density_prior in cells mode...\n",
      "Printing scores every 100 epochs.\n",
      "Score: 0.485, KL reg: 0.000\n",
      "Saving results..\n"
     ]
    },
    {
     "name": "stderr",
     "output_type": "stream",
     "text": [
      "[rank: 0] Global seed set to 1\n"
     ]
    },
    {
     "name": "stdout",
     "output_type": "stream",
     "text": [
      "100\n",
      "13 training genes are saved in `uns``training_genes` of both single cell and spatial Anndatas.\n",
      "13 overlapped genes are saved in `uns``overlap_genes` of both single cell and spatial Anndatas.\n",
      "uniform based density prior is calculated and saved in `obs``uniform_density` of the spatial Anndata.\n",
      "rna count based density prior is calculated and saved in `obs``rna_count_based_density` of the spatial Anndata.\n",
      "Allocate tensors for mapping.\n",
      "Begin training with 13 genes and uniform density_prior in cells mode...\n",
      "Printing scores every 100 epochs.\n",
      "Score: 0.485, KL reg: 0.000\n",
      "Saving results..\n"
     ]
    },
    {
     "name": "stderr",
     "output_type": "stream",
     "text": [
      "[rank: 0] Global seed set to 2\n"
     ]
    },
    {
     "name": "stdout",
     "output_type": "stream",
     "text": [
      "100\n",
      "13 training genes are saved in `uns``training_genes` of both single cell and spatial Anndatas.\n",
      "13 overlapped genes are saved in `uns``overlap_genes` of both single cell and spatial Anndatas.\n",
      "uniform based density prior is calculated and saved in `obs``uniform_density` of the spatial Anndata.\n",
      "rna count based density prior is calculated and saved in `obs``rna_count_based_density` of the spatial Anndata.\n",
      "Allocate tensors for mapping.\n",
      "Begin training with 13 genes and uniform density_prior in cells mode...\n",
      "Printing scores every 100 epochs.\n",
      "Score: 0.484, KL reg: 0.000\n",
      "Saving results..\n"
     ]
    },
    {
     "name": "stderr",
     "output_type": "stream",
     "text": [
      "[rank: 0] Global seed set to 3\n"
     ]
    },
    {
     "name": "stdout",
     "output_type": "stream",
     "text": [
      "100\n",
      "13 training genes are saved in `uns``training_genes` of both single cell and spatial Anndatas.\n",
      "13 overlapped genes are saved in `uns``overlap_genes` of both single cell and spatial Anndatas.\n",
      "uniform based density prior is calculated and saved in `obs``uniform_density` of the spatial Anndata.\n",
      "rna count based density prior is calculated and saved in `obs``rna_count_based_density` of the spatial Anndata.\n",
      "Allocate tensors for mapping.\n",
      "Begin training with 13 genes and uniform density_prior in cells mode...\n",
      "Printing scores every 100 epochs.\n",
      "Score: 0.485, KL reg: 0.000\n",
      "Saving results..\n"
     ]
    },
    {
     "name": "stderr",
     "output_type": "stream",
     "text": [
      "[rank: 0] Global seed set to 4\n"
     ]
    },
    {
     "name": "stdout",
     "output_type": "stream",
     "text": [
      "100\n",
      "13 training genes are saved in `uns``training_genes` of both single cell and spatial Anndatas.\n",
      "13 overlapped genes are saved in `uns``overlap_genes` of both single cell and spatial Anndatas.\n",
      "uniform based density prior is calculated and saved in `obs``uniform_density` of the spatial Anndata.\n",
      "rna count based density prior is calculated and saved in `obs``rna_count_based_density` of the spatial Anndata.\n",
      "Allocate tensors for mapping.\n",
      "Begin training with 13 genes and uniform density_prior in cells mode...\n",
      "Printing scores every 100 epochs.\n",
      "Score: 0.485, KL reg: 0.000\n",
      "Saving results..\n"
     ]
    },
    {
     "name": "stderr",
     "output_type": "stream",
     "text": [
      "[rank: 0] Global seed set to 5\n"
     ]
    },
    {
     "name": "stdout",
     "output_type": "stream",
     "text": [
      "100\n",
      "13 training genes are saved in `uns``training_genes` of both single cell and spatial Anndatas.\n",
      "13 overlapped genes are saved in `uns``overlap_genes` of both single cell and spatial Anndatas.\n",
      "uniform based density prior is calculated and saved in `obs``uniform_density` of the spatial Anndata.\n",
      "rna count based density prior is calculated and saved in `obs``rna_count_based_density` of the spatial Anndata.\n",
      "Allocate tensors for mapping.\n",
      "Begin training with 13 genes and uniform density_prior in cells mode...\n",
      "Printing scores every 100 epochs.\n",
      "Score: 0.485, KL reg: 0.000\n",
      "Saving results..\n"
     ]
    },
    {
     "name": "stderr",
     "output_type": "stream",
     "text": [
      "[rank: 0] Global seed set to 6\n"
     ]
    },
    {
     "name": "stdout",
     "output_type": "stream",
     "text": [
      "100\n",
      "13 training genes are saved in `uns``training_genes` of both single cell and spatial Anndatas.\n",
      "13 overlapped genes are saved in `uns``overlap_genes` of both single cell and spatial Anndatas.\n",
      "uniform based density prior is calculated and saved in `obs``uniform_density` of the spatial Anndata.\n",
      "rna count based density prior is calculated and saved in `obs``rna_count_based_density` of the spatial Anndata.\n",
      "Allocate tensors for mapping.\n",
      "Begin training with 13 genes and uniform density_prior in cells mode...\n",
      "Printing scores every 100 epochs.\n",
      "Score: 0.485, KL reg: 0.000\n",
      "Saving results..\n"
     ]
    },
    {
     "name": "stderr",
     "output_type": "stream",
     "text": [
      "[rank: 0] Global seed set to 7\n"
     ]
    },
    {
     "name": "stdout",
     "output_type": "stream",
     "text": [
      "100\n",
      "13 training genes are saved in `uns``training_genes` of both single cell and spatial Anndatas.\n",
      "13 overlapped genes are saved in `uns``overlap_genes` of both single cell and spatial Anndatas.\n",
      "uniform based density prior is calculated and saved in `obs``uniform_density` of the spatial Anndata.\n",
      "rna count based density prior is calculated and saved in `obs``rna_count_based_density` of the spatial Anndata.\n",
      "Allocate tensors for mapping.\n",
      "Begin training with 13 genes and uniform density_prior in cells mode...\n",
      "Printing scores every 100 epochs.\n",
      "Score: 0.484, KL reg: 0.000\n",
      "Saving results..\n"
     ]
    },
    {
     "name": "stderr",
     "output_type": "stream",
     "text": [
      "[rank: 0] Global seed set to 8\n"
     ]
    },
    {
     "name": "stdout",
     "output_type": "stream",
     "text": [
      "100\n",
      "13 training genes are saved in `uns``training_genes` of both single cell and spatial Anndatas.\n",
      "13 overlapped genes are saved in `uns``overlap_genes` of both single cell and spatial Anndatas.\n",
      "uniform based density prior is calculated and saved in `obs``uniform_density` of the spatial Anndata.\n",
      "rna count based density prior is calculated and saved in `obs``rna_count_based_density` of the spatial Anndata.\n",
      "Allocate tensors for mapping.\n",
      "Begin training with 13 genes and uniform density_prior in cells mode...\n",
      "Printing scores every 100 epochs.\n",
      "Score: 0.484, KL reg: 0.000\n",
      "Saving results..\n"
     ]
    },
    {
     "name": "stderr",
     "output_type": "stream",
     "text": [
      "[rank: 0] Global seed set to 9\n"
     ]
    },
    {
     "name": "stdout",
     "output_type": "stream",
     "text": [
      "100\n",
      "13 training genes are saved in `uns``training_genes` of both single cell and spatial Anndatas.\n",
      "13 overlapped genes are saved in `uns``overlap_genes` of both single cell and spatial Anndatas.\n",
      "uniform based density prior is calculated and saved in `obs``uniform_density` of the spatial Anndata.\n",
      "rna count based density prior is calculated and saved in `obs``rna_count_based_density` of the spatial Anndata.\n",
      "Allocate tensors for mapping.\n",
      "Begin training with 13 genes and uniform density_prior in cells mode...\n",
      "Printing scores every 100 epochs.\n",
      "Score: 0.485, KL reg: 0.000\n",
      "Saving results..\n",
      "100\n"
     ]
    }
   ],
   "source": [
    "for seed in range(0,10):\n",
    "\n",
    "    tangram_batch_allsc(adata_st, adata_sc, epoch=100, savepath='./data_smfish/', \n",
    "                        celltype='scClassify', filename = 'smfish', spatial_label = 'scClassify',\n",
    "                       set_seed = seed)"
   ]
  },
  {
   "cell_type": "code",
   "execution_count": 13,
   "id": "206e9b72-cae6-4d80-b8bb-055bd30a0eae",
   "metadata": {},
   "outputs": [
    {
     "name": "stderr",
     "output_type": "stream",
     "text": [
      "[rank: 0] Global seed set to 0\n"
     ]
    },
    {
     "name": "stdout",
     "output_type": "stream",
     "text": [
      "13 training genes are saved in `uns``training_genes` of both single cell and spatial Anndatas.\n",
      "13 overlapped genes are saved in `uns``overlap_genes` of both single cell and spatial Anndatas.\n",
      "uniform based density prior is calculated and saved in `obs``uniform_density` of the spatial Anndata.\n",
      "rna count based density prior is calculated and saved in `obs``rna_count_based_density` of the spatial Anndata.\n",
      "Allocate tensors for mapping.\n",
      "Begin training with 13 genes and uniform density_prior in cells mode...\n",
      "Printing scores every 100 epochs.\n",
      "Score: 0.485, KL reg: 0.000\n",
      "Score: 0.997, KL reg: 0.000\n",
      "Saving results..\n"
     ]
    },
    {
     "name": "stderr",
     "output_type": "stream",
     "text": [
      "[rank: 0] Global seed set to 1\n"
     ]
    },
    {
     "name": "stdout",
     "output_type": "stream",
     "text": [
      "200\n",
      "13 training genes are saved in `uns``training_genes` of both single cell and spatial Anndatas.\n",
      "13 overlapped genes are saved in `uns``overlap_genes` of both single cell and spatial Anndatas.\n",
      "uniform based density prior is calculated and saved in `obs``uniform_density` of the spatial Anndata.\n",
      "rna count based density prior is calculated and saved in `obs``rna_count_based_density` of the spatial Anndata.\n",
      "Allocate tensors for mapping.\n",
      "Begin training with 13 genes and uniform density_prior in cells mode...\n",
      "Printing scores every 100 epochs.\n",
      "Score: 0.485, KL reg: 0.000\n",
      "Score: 0.997, KL reg: 0.000\n",
      "Saving results..\n"
     ]
    },
    {
     "name": "stderr",
     "output_type": "stream",
     "text": [
      "[rank: 0] Global seed set to 2\n"
     ]
    },
    {
     "name": "stdout",
     "output_type": "stream",
     "text": [
      "200\n",
      "13 training genes are saved in `uns``training_genes` of both single cell and spatial Anndatas.\n",
      "13 overlapped genes are saved in `uns``overlap_genes` of both single cell and spatial Anndatas.\n",
      "uniform based density prior is calculated and saved in `obs``uniform_density` of the spatial Anndata.\n",
      "rna count based density prior is calculated and saved in `obs``rna_count_based_density` of the spatial Anndata.\n",
      "Allocate tensors for mapping.\n",
      "Begin training with 13 genes and uniform density_prior in cells mode...\n",
      "Printing scores every 100 epochs.\n",
      "Score: 0.484, KL reg: 0.000\n",
      "Score: 0.997, KL reg: 0.000\n",
      "Saving results..\n"
     ]
    },
    {
     "name": "stderr",
     "output_type": "stream",
     "text": [
      "[rank: 0] Global seed set to 3\n"
     ]
    },
    {
     "name": "stdout",
     "output_type": "stream",
     "text": [
      "200\n",
      "13 training genes are saved in `uns``training_genes` of both single cell and spatial Anndatas.\n",
      "13 overlapped genes are saved in `uns``overlap_genes` of both single cell and spatial Anndatas.\n",
      "uniform based density prior is calculated and saved in `obs``uniform_density` of the spatial Anndata.\n",
      "rna count based density prior is calculated and saved in `obs``rna_count_based_density` of the spatial Anndata.\n",
      "Allocate tensors for mapping.\n",
      "Begin training with 13 genes and uniform density_prior in cells mode...\n",
      "Printing scores every 100 epochs.\n",
      "Score: 0.485, KL reg: 0.000\n",
      "Score: 0.997, KL reg: 0.000\n",
      "Saving results..\n"
     ]
    },
    {
     "name": "stderr",
     "output_type": "stream",
     "text": [
      "[rank: 0] Global seed set to 4\n"
     ]
    },
    {
     "name": "stdout",
     "output_type": "stream",
     "text": [
      "200\n",
      "13 training genes are saved in `uns``training_genes` of both single cell and spatial Anndatas.\n",
      "13 overlapped genes are saved in `uns``overlap_genes` of both single cell and spatial Anndatas.\n",
      "uniform based density prior is calculated and saved in `obs``uniform_density` of the spatial Anndata.\n",
      "rna count based density prior is calculated and saved in `obs``rna_count_based_density` of the spatial Anndata.\n",
      "Allocate tensors for mapping.\n",
      "Begin training with 13 genes and uniform density_prior in cells mode...\n",
      "Printing scores every 100 epochs.\n",
      "Score: 0.485, KL reg: 0.000\n",
      "Score: 0.997, KL reg: 0.000\n",
      "Saving results..\n"
     ]
    },
    {
     "name": "stderr",
     "output_type": "stream",
     "text": [
      "[rank: 0] Global seed set to 5\n"
     ]
    },
    {
     "name": "stdout",
     "output_type": "stream",
     "text": [
      "200\n",
      "13 training genes are saved in `uns``training_genes` of both single cell and spatial Anndatas.\n",
      "13 overlapped genes are saved in `uns``overlap_genes` of both single cell and spatial Anndatas.\n",
      "uniform based density prior is calculated and saved in `obs``uniform_density` of the spatial Anndata.\n",
      "rna count based density prior is calculated and saved in `obs``rna_count_based_density` of the spatial Anndata.\n",
      "Allocate tensors for mapping.\n",
      "Begin training with 13 genes and uniform density_prior in cells mode...\n",
      "Printing scores every 100 epochs.\n",
      "Score: 0.485, KL reg: 0.000\n",
      "Score: 0.997, KL reg: 0.000\n",
      "Saving results..\n"
     ]
    },
    {
     "name": "stderr",
     "output_type": "stream",
     "text": [
      "[rank: 0] Global seed set to 6\n"
     ]
    },
    {
     "name": "stdout",
     "output_type": "stream",
     "text": [
      "200\n",
      "13 training genes are saved in `uns``training_genes` of both single cell and spatial Anndatas.\n",
      "13 overlapped genes are saved in `uns``overlap_genes` of both single cell and spatial Anndatas.\n",
      "uniform based density prior is calculated and saved in `obs``uniform_density` of the spatial Anndata.\n",
      "rna count based density prior is calculated and saved in `obs``rna_count_based_density` of the spatial Anndata.\n",
      "Allocate tensors for mapping.\n",
      "Begin training with 13 genes and uniform density_prior in cells mode...\n",
      "Printing scores every 100 epochs.\n",
      "Score: 0.485, KL reg: 0.000\n",
      "Score: 0.997, KL reg: 0.000\n",
      "Saving results..\n"
     ]
    },
    {
     "name": "stderr",
     "output_type": "stream",
     "text": [
      "[rank: 0] Global seed set to 7\n"
     ]
    },
    {
     "name": "stdout",
     "output_type": "stream",
     "text": [
      "200\n",
      "13 training genes are saved in `uns``training_genes` of both single cell and spatial Anndatas.\n",
      "13 overlapped genes are saved in `uns``overlap_genes` of both single cell and spatial Anndatas.\n",
      "uniform based density prior is calculated and saved in `obs``uniform_density` of the spatial Anndata.\n",
      "rna count based density prior is calculated and saved in `obs``rna_count_based_density` of the spatial Anndata.\n",
      "Allocate tensors for mapping.\n",
      "Begin training with 13 genes and uniform density_prior in cells mode...\n",
      "Printing scores every 100 epochs.\n",
      "Score: 0.484, KL reg: 0.000\n",
      "Score: 0.997, KL reg: 0.000\n",
      "Saving results..\n"
     ]
    },
    {
     "name": "stderr",
     "output_type": "stream",
     "text": [
      "[rank: 0] Global seed set to 8\n"
     ]
    },
    {
     "name": "stdout",
     "output_type": "stream",
     "text": [
      "200\n",
      "13 training genes are saved in `uns``training_genes` of both single cell and spatial Anndatas.\n",
      "13 overlapped genes are saved in `uns``overlap_genes` of both single cell and spatial Anndatas.\n",
      "uniform based density prior is calculated and saved in `obs``uniform_density` of the spatial Anndata.\n",
      "rna count based density prior is calculated and saved in `obs``rna_count_based_density` of the spatial Anndata.\n",
      "Allocate tensors for mapping.\n",
      "Begin training with 13 genes and uniform density_prior in cells mode...\n",
      "Printing scores every 100 epochs.\n",
      "Score: 0.484, KL reg: 0.000\n",
      "Score: 0.997, KL reg: 0.000\n",
      "Saving results..\n"
     ]
    },
    {
     "name": "stderr",
     "output_type": "stream",
     "text": [
      "[rank: 0] Global seed set to 9\n"
     ]
    },
    {
     "name": "stdout",
     "output_type": "stream",
     "text": [
      "200\n",
      "13 training genes are saved in `uns``training_genes` of both single cell and spatial Anndatas.\n",
      "13 overlapped genes are saved in `uns``overlap_genes` of both single cell and spatial Anndatas.\n",
      "uniform based density prior is calculated and saved in `obs``uniform_density` of the spatial Anndata.\n",
      "rna count based density prior is calculated and saved in `obs``rna_count_based_density` of the spatial Anndata.\n",
      "Allocate tensors for mapping.\n",
      "Begin training with 13 genes and uniform density_prior in cells mode...\n",
      "Printing scores every 100 epochs.\n",
      "Score: 0.485, KL reg: 0.000\n",
      "Score: 0.997, KL reg: 0.000\n",
      "Saving results..\n",
      "200\n"
     ]
    }
   ],
   "source": [
    "for seed in range(0,10):\n",
    "\n",
    "    tangram_batch_allsc(adata_st, adata_sc, epoch=200, savepath='./data_smfish/', \n",
    "                        celltype='scClassify', filename = 'smfish', spatial_label = 'scClassify',\n",
    "                       set_seed = seed)"
   ]
  },
  {
   "cell_type": "code",
   "execution_count": 14,
   "id": "80bc2ee3-dcea-4f8e-a41e-98fbeffe5758",
   "metadata": {
    "scrolled": true
   },
   "outputs": [
    {
     "name": "stderr",
     "output_type": "stream",
     "text": [
      "[rank: 0] Global seed set to 0\n"
     ]
    },
    {
     "name": "stdout",
     "output_type": "stream",
     "text": [
      "13 training genes are saved in `uns``training_genes` of both single cell and spatial Anndatas.\n",
      "13 overlapped genes are saved in `uns``overlap_genes` of both single cell and spatial Anndatas.\n",
      "uniform based density prior is calculated and saved in `obs``uniform_density` of the spatial Anndata.\n",
      "rna count based density prior is calculated and saved in `obs``rna_count_based_density` of the spatial Anndata.\n",
      "Allocate tensors for mapping.\n",
      "Begin training with 13 genes and uniform density_prior in cells mode...\n",
      "Printing scores every 100 epochs.\n",
      "Score: 0.485, KL reg: 0.000\n",
      "Score: 0.997, KL reg: 0.000\n",
      "Score: 0.998, KL reg: 0.000\n",
      "Saving results..\n"
     ]
    },
    {
     "name": "stderr",
     "output_type": "stream",
     "text": [
      "[rank: 0] Global seed set to 1\n"
     ]
    },
    {
     "name": "stdout",
     "output_type": "stream",
     "text": [
      "300\n",
      "13 training genes are saved in `uns``training_genes` of both single cell and spatial Anndatas.\n",
      "13 overlapped genes are saved in `uns``overlap_genes` of both single cell and spatial Anndatas.\n",
      "uniform based density prior is calculated and saved in `obs``uniform_density` of the spatial Anndata.\n",
      "rna count based density prior is calculated and saved in `obs``rna_count_based_density` of the spatial Anndata.\n",
      "Allocate tensors for mapping.\n",
      "Begin training with 13 genes and uniform density_prior in cells mode...\n",
      "Printing scores every 100 epochs.\n",
      "Score: 0.485, KL reg: 0.000\n",
      "Score: 0.997, KL reg: 0.000\n",
      "Score: 0.998, KL reg: 0.000\n",
      "Saving results..\n"
     ]
    },
    {
     "name": "stderr",
     "output_type": "stream",
     "text": [
      "[rank: 0] Global seed set to 2\n"
     ]
    },
    {
     "name": "stdout",
     "output_type": "stream",
     "text": [
      "300\n",
      "13 training genes are saved in `uns``training_genes` of both single cell and spatial Anndatas.\n",
      "13 overlapped genes are saved in `uns``overlap_genes` of both single cell and spatial Anndatas.\n",
      "uniform based density prior is calculated and saved in `obs``uniform_density` of the spatial Anndata.\n",
      "rna count based density prior is calculated and saved in `obs``rna_count_based_density` of the spatial Anndata.\n",
      "Allocate tensors for mapping.\n",
      "Begin training with 13 genes and uniform density_prior in cells mode...\n",
      "Printing scores every 100 epochs.\n",
      "Score: 0.484, KL reg: 0.000\n",
      "Score: 0.997, KL reg: 0.000\n",
      "Score: 0.998, KL reg: 0.000\n",
      "Saving results..\n"
     ]
    },
    {
     "name": "stderr",
     "output_type": "stream",
     "text": [
      "[rank: 0] Global seed set to 3\n"
     ]
    },
    {
     "name": "stdout",
     "output_type": "stream",
     "text": [
      "300\n",
      "13 training genes are saved in `uns``training_genes` of both single cell and spatial Anndatas.\n",
      "13 overlapped genes are saved in `uns``overlap_genes` of both single cell and spatial Anndatas.\n",
      "uniform based density prior is calculated and saved in `obs``uniform_density` of the spatial Anndata.\n",
      "rna count based density prior is calculated and saved in `obs``rna_count_based_density` of the spatial Anndata.\n",
      "Allocate tensors for mapping.\n",
      "Begin training with 13 genes and uniform density_prior in cells mode...\n",
      "Printing scores every 100 epochs.\n",
      "Score: 0.485, KL reg: 0.000\n",
      "Score: 0.997, KL reg: 0.000\n",
      "Score: 0.998, KL reg: 0.000\n",
      "Saving results..\n"
     ]
    },
    {
     "name": "stderr",
     "output_type": "stream",
     "text": [
      "[rank: 0] Global seed set to 4\n"
     ]
    },
    {
     "name": "stdout",
     "output_type": "stream",
     "text": [
      "300\n",
      "13 training genes are saved in `uns``training_genes` of both single cell and spatial Anndatas.\n",
      "13 overlapped genes are saved in `uns``overlap_genes` of both single cell and spatial Anndatas.\n",
      "uniform based density prior is calculated and saved in `obs``uniform_density` of the spatial Anndata.\n",
      "rna count based density prior is calculated and saved in `obs``rna_count_based_density` of the spatial Anndata.\n",
      "Allocate tensors for mapping.\n",
      "Begin training with 13 genes and uniform density_prior in cells mode...\n",
      "Printing scores every 100 epochs.\n",
      "Score: 0.485, KL reg: 0.000\n",
      "Score: 0.997, KL reg: 0.000\n",
      "Score: 0.998, KL reg: 0.000\n",
      "Saving results..\n"
     ]
    },
    {
     "name": "stderr",
     "output_type": "stream",
     "text": [
      "[rank: 0] Global seed set to 5\n"
     ]
    },
    {
     "name": "stdout",
     "output_type": "stream",
     "text": [
      "300\n",
      "13 training genes are saved in `uns``training_genes` of both single cell and spatial Anndatas.\n",
      "13 overlapped genes are saved in `uns``overlap_genes` of both single cell and spatial Anndatas.\n",
      "uniform based density prior is calculated and saved in `obs``uniform_density` of the spatial Anndata.\n",
      "rna count based density prior is calculated and saved in `obs``rna_count_based_density` of the spatial Anndata.\n",
      "Allocate tensors for mapping.\n",
      "Begin training with 13 genes and uniform density_prior in cells mode...\n",
      "Printing scores every 100 epochs.\n",
      "Score: 0.485, KL reg: 0.000\n",
      "Score: 0.997, KL reg: 0.000\n",
      "Score: 0.998, KL reg: 0.000\n",
      "Saving results..\n"
     ]
    },
    {
     "name": "stderr",
     "output_type": "stream",
     "text": [
      "[rank: 0] Global seed set to 6\n"
     ]
    },
    {
     "name": "stdout",
     "output_type": "stream",
     "text": [
      "300\n",
      "13 training genes are saved in `uns``training_genes` of both single cell and spatial Anndatas.\n",
      "13 overlapped genes are saved in `uns``overlap_genes` of both single cell and spatial Anndatas.\n",
      "uniform based density prior is calculated and saved in `obs``uniform_density` of the spatial Anndata.\n",
      "rna count based density prior is calculated and saved in `obs``rna_count_based_density` of the spatial Anndata.\n",
      "Allocate tensors for mapping.\n",
      "Begin training with 13 genes and uniform density_prior in cells mode...\n",
      "Printing scores every 100 epochs.\n",
      "Score: 0.485, KL reg: 0.000\n",
      "Score: 0.997, KL reg: 0.000\n",
      "Score: 0.998, KL reg: 0.000\n",
      "Saving results..\n"
     ]
    },
    {
     "name": "stderr",
     "output_type": "stream",
     "text": [
      "[rank: 0] Global seed set to 7\n"
     ]
    },
    {
     "name": "stdout",
     "output_type": "stream",
     "text": [
      "300\n",
      "13 training genes are saved in `uns``training_genes` of both single cell and spatial Anndatas.\n",
      "13 overlapped genes are saved in `uns``overlap_genes` of both single cell and spatial Anndatas.\n",
      "uniform based density prior is calculated and saved in `obs``uniform_density` of the spatial Anndata.\n",
      "rna count based density prior is calculated and saved in `obs``rna_count_based_density` of the spatial Anndata.\n",
      "Allocate tensors for mapping.\n",
      "Begin training with 13 genes and uniform density_prior in cells mode...\n",
      "Printing scores every 100 epochs.\n",
      "Score: 0.484, KL reg: 0.000\n",
      "Score: 0.997, KL reg: 0.000\n",
      "Score: 0.998, KL reg: 0.000\n",
      "Saving results..\n"
     ]
    },
    {
     "name": "stderr",
     "output_type": "stream",
     "text": [
      "[rank: 0] Global seed set to 8\n"
     ]
    },
    {
     "name": "stdout",
     "output_type": "stream",
     "text": [
      "300\n",
      "13 training genes are saved in `uns``training_genes` of both single cell and spatial Anndatas.\n",
      "13 overlapped genes are saved in `uns``overlap_genes` of both single cell and spatial Anndatas.\n",
      "uniform based density prior is calculated and saved in `obs``uniform_density` of the spatial Anndata.\n",
      "rna count based density prior is calculated and saved in `obs``rna_count_based_density` of the spatial Anndata.\n",
      "Allocate tensors for mapping.\n",
      "Begin training with 13 genes and uniform density_prior in cells mode...\n",
      "Printing scores every 100 epochs.\n",
      "Score: 0.484, KL reg: 0.000\n",
      "Score: 0.997, KL reg: 0.000\n",
      "Score: 0.998, KL reg: 0.000\n",
      "Saving results..\n"
     ]
    },
    {
     "name": "stderr",
     "output_type": "stream",
     "text": [
      "[rank: 0] Global seed set to 9\n"
     ]
    },
    {
     "name": "stdout",
     "output_type": "stream",
     "text": [
      "300\n",
      "13 training genes are saved in `uns``training_genes` of both single cell and spatial Anndatas.\n",
      "13 overlapped genes are saved in `uns``overlap_genes` of both single cell and spatial Anndatas.\n",
      "uniform based density prior is calculated and saved in `obs``uniform_density` of the spatial Anndata.\n",
      "rna count based density prior is calculated and saved in `obs``rna_count_based_density` of the spatial Anndata.\n",
      "Allocate tensors for mapping.\n",
      "Begin training with 13 genes and uniform density_prior in cells mode...\n",
      "Printing scores every 100 epochs.\n",
      "Score: 0.485, KL reg: 0.000\n",
      "Score: 0.997, KL reg: 0.000\n",
      "Score: 0.998, KL reg: 0.000\n",
      "Saving results..\n",
      "300\n"
     ]
    }
   ],
   "source": [
    "for seed in range(0,10):\n",
    "\n",
    "    tangram_batch_allsc(adata_st, adata_sc, epoch=300, savepath='./data_smfish/', \n",
    "                        celltype='scClassify', filename = 'smfish', spatial_label = 'scClassify',\n",
    "                       set_seed = seed)"
   ]
  },
  {
   "cell_type": "code",
   "execution_count": 15,
   "id": "e77f9083-a163-46c7-8913-9fd4aacc6790",
   "metadata": {
    "scrolled": true
   },
   "outputs": [
    {
     "name": "stderr",
     "output_type": "stream",
     "text": [
      "[rank: 0] Global seed set to 0\n"
     ]
    },
    {
     "name": "stdout",
     "output_type": "stream",
     "text": [
      "13 training genes are saved in `uns``training_genes` of both single cell and spatial Anndatas.\n",
      "13 overlapped genes are saved in `uns``overlap_genes` of both single cell and spatial Anndatas.\n",
      "uniform based density prior is calculated and saved in `obs``uniform_density` of the spatial Anndata.\n",
      "rna count based density prior is calculated and saved in `obs``rna_count_based_density` of the spatial Anndata.\n",
      "Allocate tensors for mapping.\n",
      "Begin training with 13 genes and uniform density_prior in cells mode...\n",
      "Printing scores every 100 epochs.\n",
      "Score: 0.485, KL reg: 0.000\n",
      "Score: 0.997, KL reg: 0.000\n",
      "Score: 0.998, KL reg: 0.000\n",
      "Score: 0.999, KL reg: 0.000\n",
      "Saving results..\n"
     ]
    },
    {
     "name": "stderr",
     "output_type": "stream",
     "text": [
      "[rank: 0] Global seed set to 1\n"
     ]
    },
    {
     "name": "stdout",
     "output_type": "stream",
     "text": [
      "400\n",
      "13 training genes are saved in `uns``training_genes` of both single cell and spatial Anndatas.\n",
      "13 overlapped genes are saved in `uns``overlap_genes` of both single cell and spatial Anndatas.\n",
      "uniform based density prior is calculated and saved in `obs``uniform_density` of the spatial Anndata.\n",
      "rna count based density prior is calculated and saved in `obs``rna_count_based_density` of the spatial Anndata.\n",
      "Allocate tensors for mapping.\n",
      "Begin training with 13 genes and uniform density_prior in cells mode...\n",
      "Printing scores every 100 epochs.\n",
      "Score: 0.485, KL reg: 0.000\n",
      "Score: 0.997, KL reg: 0.000\n",
      "Score: 0.998, KL reg: 0.000\n",
      "Score: 0.999, KL reg: 0.000\n",
      "Saving results..\n"
     ]
    },
    {
     "name": "stderr",
     "output_type": "stream",
     "text": [
      "[rank: 0] Global seed set to 2\n"
     ]
    },
    {
     "name": "stdout",
     "output_type": "stream",
     "text": [
      "400\n",
      "13 training genes are saved in `uns``training_genes` of both single cell and spatial Anndatas.\n",
      "13 overlapped genes are saved in `uns``overlap_genes` of both single cell and spatial Anndatas.\n",
      "uniform based density prior is calculated and saved in `obs``uniform_density` of the spatial Anndata.\n",
      "rna count based density prior is calculated and saved in `obs``rna_count_based_density` of the spatial Anndata.\n",
      "Allocate tensors for mapping.\n",
      "Begin training with 13 genes and uniform density_prior in cells mode...\n",
      "Printing scores every 100 epochs.\n",
      "Score: 0.484, KL reg: 0.000\n",
      "Score: 0.997, KL reg: 0.000\n",
      "Score: 0.998, KL reg: 0.000\n",
      "Score: 0.999, KL reg: 0.000\n",
      "Saving results..\n"
     ]
    },
    {
     "name": "stderr",
     "output_type": "stream",
     "text": [
      "[rank: 0] Global seed set to 3\n"
     ]
    },
    {
     "name": "stdout",
     "output_type": "stream",
     "text": [
      "400\n",
      "13 training genes are saved in `uns``training_genes` of both single cell and spatial Anndatas.\n",
      "13 overlapped genes are saved in `uns``overlap_genes` of both single cell and spatial Anndatas.\n",
      "uniform based density prior is calculated and saved in `obs``uniform_density` of the spatial Anndata.\n",
      "rna count based density prior is calculated and saved in `obs``rna_count_based_density` of the spatial Anndata.\n",
      "Allocate tensors for mapping.\n",
      "Begin training with 13 genes and uniform density_prior in cells mode...\n",
      "Printing scores every 100 epochs.\n",
      "Score: 0.485, KL reg: 0.000\n",
      "Score: 0.997, KL reg: 0.000\n",
      "Score: 0.998, KL reg: 0.000\n",
      "Score: 0.999, KL reg: 0.000\n",
      "Saving results..\n"
     ]
    },
    {
     "name": "stderr",
     "output_type": "stream",
     "text": [
      "[rank: 0] Global seed set to 4\n"
     ]
    },
    {
     "name": "stdout",
     "output_type": "stream",
     "text": [
      "400\n",
      "13 training genes are saved in `uns``training_genes` of both single cell and spatial Anndatas.\n",
      "13 overlapped genes are saved in `uns``overlap_genes` of both single cell and spatial Anndatas.\n",
      "uniform based density prior is calculated and saved in `obs``uniform_density` of the spatial Anndata.\n",
      "rna count based density prior is calculated and saved in `obs``rna_count_based_density` of the spatial Anndata.\n",
      "Allocate tensors for mapping.\n",
      "Begin training with 13 genes and uniform density_prior in cells mode...\n",
      "Printing scores every 100 epochs.\n",
      "Score: 0.485, KL reg: 0.000\n",
      "Score: 0.997, KL reg: 0.000\n",
      "Score: 0.998, KL reg: 0.000\n",
      "Score: 0.999, KL reg: 0.000\n",
      "Saving results..\n"
     ]
    },
    {
     "name": "stderr",
     "output_type": "stream",
     "text": [
      "[rank: 0] Global seed set to 5\n"
     ]
    },
    {
     "name": "stdout",
     "output_type": "stream",
     "text": [
      "400\n",
      "13 training genes are saved in `uns``training_genes` of both single cell and spatial Anndatas.\n",
      "13 overlapped genes are saved in `uns``overlap_genes` of both single cell and spatial Anndatas.\n",
      "uniform based density prior is calculated and saved in `obs``uniform_density` of the spatial Anndata.\n",
      "rna count based density prior is calculated and saved in `obs``rna_count_based_density` of the spatial Anndata.\n",
      "Allocate tensors for mapping.\n",
      "Begin training with 13 genes and uniform density_prior in cells mode...\n",
      "Printing scores every 100 epochs.\n",
      "Score: 0.485, KL reg: 0.000\n",
      "Score: 0.997, KL reg: 0.000\n",
      "Score: 0.998, KL reg: 0.000\n",
      "Score: 0.999, KL reg: 0.000\n",
      "Saving results..\n"
     ]
    },
    {
     "name": "stderr",
     "output_type": "stream",
     "text": [
      "[rank: 0] Global seed set to 6\n"
     ]
    },
    {
     "name": "stdout",
     "output_type": "stream",
     "text": [
      "400\n",
      "13 training genes are saved in `uns``training_genes` of both single cell and spatial Anndatas.\n",
      "13 overlapped genes are saved in `uns``overlap_genes` of both single cell and spatial Anndatas.\n",
      "uniform based density prior is calculated and saved in `obs``uniform_density` of the spatial Anndata.\n",
      "rna count based density prior is calculated and saved in `obs``rna_count_based_density` of the spatial Anndata.\n",
      "Allocate tensors for mapping.\n",
      "Begin training with 13 genes and uniform density_prior in cells mode...\n",
      "Printing scores every 100 epochs.\n",
      "Score: 0.485, KL reg: 0.000\n",
      "Score: 0.997, KL reg: 0.000\n",
      "Score: 0.998, KL reg: 0.000\n",
      "Score: 0.999, KL reg: 0.000\n",
      "Saving results..\n"
     ]
    },
    {
     "name": "stderr",
     "output_type": "stream",
     "text": [
      "[rank: 0] Global seed set to 7\n"
     ]
    },
    {
     "name": "stdout",
     "output_type": "stream",
     "text": [
      "400\n",
      "13 training genes are saved in `uns``training_genes` of both single cell and spatial Anndatas.\n",
      "13 overlapped genes are saved in `uns``overlap_genes` of both single cell and spatial Anndatas.\n",
      "uniform based density prior is calculated and saved in `obs``uniform_density` of the spatial Anndata.\n",
      "rna count based density prior is calculated and saved in `obs``rna_count_based_density` of the spatial Anndata.\n",
      "Allocate tensors for mapping.\n",
      "Begin training with 13 genes and uniform density_prior in cells mode...\n",
      "Printing scores every 100 epochs.\n",
      "Score: 0.484, KL reg: 0.000\n",
      "Score: 0.997, KL reg: 0.000\n",
      "Score: 0.998, KL reg: 0.000\n",
      "Score: 0.999, KL reg: 0.000\n",
      "Saving results..\n"
     ]
    },
    {
     "name": "stderr",
     "output_type": "stream",
     "text": [
      "[rank: 0] Global seed set to 8\n"
     ]
    },
    {
     "name": "stdout",
     "output_type": "stream",
     "text": [
      "400\n",
      "13 training genes are saved in `uns``training_genes` of both single cell and spatial Anndatas.\n",
      "13 overlapped genes are saved in `uns``overlap_genes` of both single cell and spatial Anndatas.\n",
      "uniform based density prior is calculated and saved in `obs``uniform_density` of the spatial Anndata.\n",
      "rna count based density prior is calculated and saved in `obs``rna_count_based_density` of the spatial Anndata.\n",
      "Allocate tensors for mapping.\n",
      "Begin training with 13 genes and uniform density_prior in cells mode...\n",
      "Printing scores every 100 epochs.\n",
      "Score: 0.484, KL reg: 0.000\n",
      "Score: 0.997, KL reg: 0.000\n",
      "Score: 0.998, KL reg: 0.000\n",
      "Score: 0.999, KL reg: 0.000\n",
      "Saving results..\n"
     ]
    },
    {
     "name": "stderr",
     "output_type": "stream",
     "text": [
      "[rank: 0] Global seed set to 9\n"
     ]
    },
    {
     "name": "stdout",
     "output_type": "stream",
     "text": [
      "400\n",
      "13 training genes are saved in `uns``training_genes` of both single cell and spatial Anndatas.\n",
      "13 overlapped genes are saved in `uns``overlap_genes` of both single cell and spatial Anndatas.\n",
      "uniform based density prior is calculated and saved in `obs``uniform_density` of the spatial Anndata.\n",
      "rna count based density prior is calculated and saved in `obs``rna_count_based_density` of the spatial Anndata.\n",
      "Allocate tensors for mapping.\n",
      "Begin training with 13 genes and uniform density_prior in cells mode...\n",
      "Printing scores every 100 epochs.\n",
      "Score: 0.485, KL reg: 0.000\n",
      "Score: 0.997, KL reg: 0.000\n",
      "Score: 0.998, KL reg: 0.000\n",
      "Score: 0.999, KL reg: 0.000\n",
      "Saving results..\n",
      "400\n"
     ]
    }
   ],
   "source": [
    "for seed in range(0,10):\n",
    "\n",
    "    tangram_batch_allsc(adata_st, adata_sc, epoch=400, savepath='./data_smfish/', \n",
    "                        celltype='scClassify', filename = 'smfish', spatial_label = 'scClassify',\n",
    "                       set_seed = seed)"
   ]
  },
  {
   "cell_type": "code",
   "execution_count": null,
   "id": "78109216-463a-45c3-a4b8-b64059c12f0e",
   "metadata": {},
   "outputs": [],
   "source": []
  },
  {
   "cell_type": "code",
   "execution_count": null,
   "id": "abad04f5-6bbd-466f-b4a9-465dfcf582ff",
   "metadata": {},
   "outputs": [],
   "source": []
  },
  {
   "cell_type": "code",
   "execution_count": 1,
   "id": "2f9f5fd7-71af-4470-9ce2-81b24ad96db3",
   "metadata": {},
   "outputs": [
    {
     "name": "stdout",
     "output_type": "stream",
     "text": [
      "scanpy==1.9.5 anndata==0.9.2 umap==0.5.4 numpy==1.22.0 scipy==1.10.1 pandas==1.5.0 scikit-learn==1.3.1 statsmodels==0.14.0 igraph==0.10.8 pynndescent==0.5.10\n",
      "squidpy==1.2.3\n"
     ]
    }
   ],
   "source": [
    "import scanpy as sc\n",
    "import squidpy as sq\n",
    "import numpy as np\n",
    "import pandas as pd\n",
    "from anndata import AnnData\n",
    "import pathlib\n",
    "import matplotlib.pyplot as plt\n",
    "import matplotlib as mpl\n",
    "import skimage\n",
    "import seaborn as sns\n",
    "import tangram as tg\n",
    "import gc\n",
    "\n",
    "import cosg\n",
    "\n",
    "import scipy.stats as st\n",
    "\n",
    "sc.logging.print_header()\n",
    "print(f\"squidpy=={sq.__version__}\")\n",
    "\n",
    "%load_ext autoreload\n",
    "%autoreload 2\n",
    "%matplotlib inline"
   ]
  },
  {
   "cell_type": "code",
   "execution_count": 2,
   "id": "f0079d44-d568-4c6d-9e1a-84bd02073d71",
   "metadata": {},
   "outputs": [],
   "source": [
    "import lightning"
   ]
  },
  {
   "cell_type": "code",
   "execution_count": 3,
   "id": "21972f07-ae14-4bea-b64e-9745f3d93f8c",
   "metadata": {},
   "outputs": [],
   "source": [
    "def calcualte_pse_correlation(adata_sc, adata_st, celltype, p_value_threshold = 0.05, cor_threshold = 0.5):\n",
    "    overlap_gene = overlap_gene = list(set(adata_sc.var_names).intersection(adata_st.var_names))\n",
    "    adata_sc = adata_sc[:,overlap_gene]\n",
    "    adata_st = adata_st[:,overlap_gene]\n",
    "    \n",
    "    cell_type_common = list(set(adata_sc.obs[celltype].unique()).intersection(adata_st.obs[celltype].unique()))\n",
    "    \n",
    "    pseudo_st = []\n",
    "    pseudo_sc = []\n",
    "    for i in cell_type_common:\n",
    "        adata1 = adata_st[adata_st.obs[celltype] == i]\n",
    "        adata2 = adata_sc[adata_sc.obs[celltype] == i]\n",
    "\n",
    "        pseudo_st.append(np.mean(adata1.X.toarray(), axis = 0))\n",
    "        pseudo_sc.append(np.mean(adata2.X.toarray(), axis = 0))\n",
    "    \n",
    "    pseudo_st = np.array(pseudo_st)\n",
    "    pseudo_sc = np.array(pseudo_sc)\n",
    "\n",
    "    cor_pearson = []\n",
    "    cor_pvalue = []\n",
    "    for i in range(pseudo_st.shape[1]):\n",
    "        cor, pval = st.pearsonr(pseudo_st[:,i], pseudo_sc[:,i])\n",
    "        cor_pearson.append(cor)\n",
    "        cor_pvalue.append(pval)\n",
    "        \n",
    "    information_stat = pd.DataFrame()\n",
    "\n",
    "    information_stat['pearson'] = cor_pearson\n",
    "    information_stat['pvalue'] = cor_pvalue\n",
    "    information_stat.index = adata_st.var_names\n",
    "\n",
    "    information_stat_update = information_stat.loc[((information_stat['pvalue']<p_value_threshold) & (information_stat['pearson']>cor_threshold))]\n",
    "    \n",
    "    return information_stat_update.index"
   ]
  },
  {
   "cell_type": "code",
   "execution_count": 4,
   "id": "0df9b1ad-a702-4409-bba3-7049e2b8cecc",
   "metadata": {},
   "outputs": [],
   "source": [
    "adata_sc = sc.read_h5ad(\"/gpfs/gibbs/pi/zhao/tl688/deconvdatasets/spatial_dataset/xenium_breast/sce_FFPE_full.h5ad\")\n",
    "adata_sc.obs['scClassify'] = adata_sc.obs['graph_cluster_anno'].copy()\n",
    "adata_sc.var_names_make_unique()"
   ]
  },
  {
   "cell_type": "code",
   "execution_count": 5,
   "id": "31535ca8-fd39-47eb-91d7-0697ad68b19d",
   "metadata": {},
   "outputs": [],
   "source": [
    "from sklearn.model_selection import train_test_split"
   ]
  },
  {
   "cell_type": "code",
   "execution_count": 6,
   "id": "71c7cb13-331b-4a1f-9813-45e8af2c6143",
   "metadata": {},
   "outputs": [],
   "source": [
    "def tangram_batch_allsc(adata_st_gt, adata_sc, savepath = \"./data_breastbatch/\", celltype = \"graph_cluster_anno\",  \n",
    "                  epoch = 500, filename = 'human_breast', batchsize = 10000, \n",
    "                        set_seed = 0, density_prior = 'uniform', train_gene = None, spatial_label = 'scClassify'):\n",
    "    markers = train_gene\n",
    "    adata_st.obs[celltype] = list(adata_st.obs[spatial_label])\n",
    "    for item in range(len(adata_st_gt)//batchsize + 1):\n",
    "        end = item*batchsize + batchsize\n",
    "        if end >= len(adata_st_gt):\n",
    "            end = len(adata_st_gt)\n",
    "\n",
    "        adata_st_imp = adata_st[item*batchsize:end,:]\n",
    "        \n",
    "        sample_adata_celltype = adata_st_imp.obs[celltype].unique()\n",
    "        \n",
    "        tg.pp_adatas(adata_sc, adata_st_imp, genes=markers, gene_to_lowercase = False)\n",
    "\n",
    "        ad_map = tg.map_cells_to_space(adata_sc, adata_st_imp,\n",
    "            mode=\"cells\",\n",
    "            density_prior=density_prior,\n",
    "            num_epochs=epoch,\n",
    "            device=\"cuda:0\", \n",
    "            correlation = False       #     device='cpu',\n",
    "\n",
    "        )\n",
    "\n",
    "        gc.collect()\n",
    "        #adata_sc = sc.read_h5ad(\"/gpfs/gibbs/pi/zhao/tl688/deconvdatasets/spatial_dataset/xenium_brain/aibs_mouse_ctx-hpf_smartseq_sce.h5ad\")\n",
    "        ad_ge = tg.project_genes(adata_map=ad_map, adata_sc=adata_sc, gene_to_lowercase = False)\n",
    "        gc.collect()\n",
    "        print(epoch)\n",
    "        ad_ge.write_h5ad(savepath + f\"{filename}_data_batch_maskgene_raw_filter0.5_{epoch}_{item}_seed{set_seed}.h5ad\")\n",
    "    return True"
   ]
  },
  {
   "cell_type": "code",
   "execution_count": null,
   "id": "a3539816-e91a-4b50-8cb0-2fc2698c92cf",
   "metadata": {},
   "outputs": [],
   "source": []
  },
  {
   "cell_type": "code",
   "execution_count": 22,
   "id": "f1a19e9c-94a4-4349-9a05-087d5af647c5",
   "metadata": {
    "scrolled": true
   },
   "outputs": [
    {
     "name": "stderr",
     "output_type": "stream",
     "text": [
      "[rank: 0] Global seed set to 0\n"
     ]
    },
    {
     "name": "stdout",
     "output_type": "stream",
     "text": [
      "182 training genes are saved in `uns``training_genes` of both single cell and spatial Anndatas.\n",
      "182 overlapped genes are saved in `uns``overlap_genes` of both single cell and spatial Anndatas.\n",
      "uniform based density prior is calculated and saved in `obs``uniform_density` of the spatial Anndata.\n",
      "rna count based density prior is calculated and saved in `obs``rna_count_based_density` of the spatial Anndata.\n",
      "Allocate tensors for mapping.\n",
      "Begin training with 182 genes and uniform density_prior in cells mode...\n",
      "Printing scores every 100 epochs.\n",
      "Score: 0.324, KL reg: 0.000\n",
      "Saving results..\n",
      "100\n"
     ]
    },
    {
     "name": "stderr",
     "output_type": "stream",
     "text": [
      "[rank: 0] Global seed set to 0\n"
     ]
    },
    {
     "name": "stdout",
     "output_type": "stream",
     "text": [
      "183 training genes are saved in `uns``training_genes` of both single cell and spatial Anndatas.\n",
      "183 overlapped genes are saved in `uns``overlap_genes` of both single cell and spatial Anndatas.\n",
      "uniform based density prior is calculated and saved in `obs``uniform_density` of the spatial Anndata.\n",
      "rna count based density prior is calculated and saved in `obs``rna_count_based_density` of the spatial Anndata.\n",
      "Allocate tensors for mapping.\n",
      "Begin training with 183 genes and uniform density_prior in cells mode...\n",
      "Printing scores every 100 epochs.\n",
      "Score: 0.323, KL reg: 0.000\n",
      "Saving results..\n"
     ]
    },
    {
     "name": "stderr",
     "output_type": "stream",
     "text": [
      "[rank: 0] Global seed set to 0\n"
     ]
    },
    {
     "name": "stdout",
     "output_type": "stream",
     "text": [
      "100\n",
      "182 training genes are saved in `uns``training_genes` of both single cell and spatial Anndatas.\n",
      "182 overlapped genes are saved in `uns``overlap_genes` of both single cell and spatial Anndatas.\n",
      "uniform based density prior is calculated and saved in `obs``uniform_density` of the spatial Anndata.\n",
      "rna count based density prior is calculated and saved in `obs``rna_count_based_density` of the spatial Anndata.\n",
      "Allocate tensors for mapping.\n",
      "Begin training with 182 genes and uniform density_prior in cells mode...\n",
      "Printing scores every 100 epochs.\n",
      "Score: 0.329, KL reg: 0.000\n",
      "Saving results..\n"
     ]
    },
    {
     "name": "stderr",
     "output_type": "stream",
     "text": [
      "[rank: 0] Global seed set to 0\n"
     ]
    },
    {
     "name": "stdout",
     "output_type": "stream",
     "text": [
      "100\n",
      "185 training genes are saved in `uns``training_genes` of both single cell and spatial Anndatas.\n",
      "185 overlapped genes are saved in `uns``overlap_genes` of both single cell and spatial Anndatas.\n",
      "uniform based density prior is calculated and saved in `obs``uniform_density` of the spatial Anndata.\n",
      "rna count based density prior is calculated and saved in `obs``rna_count_based_density` of the spatial Anndata.\n",
      "Allocate tensors for mapping.\n",
      "Begin training with 185 genes and uniform density_prior in cells mode...\n",
      "Printing scores every 100 epochs.\n",
      "Score: 0.324, KL reg: 0.000\n",
      "Saving results..\n"
     ]
    },
    {
     "name": "stderr",
     "output_type": "stream",
     "text": [
      "[rank: 0] Global seed set to 0\n"
     ]
    },
    {
     "name": "stdout",
     "output_type": "stream",
     "text": [
      "100\n",
      "182 training genes are saved in `uns``training_genes` of both single cell and spatial Anndatas.\n",
      "182 overlapped genes are saved in `uns``overlap_genes` of both single cell and spatial Anndatas.\n",
      "uniform based density prior is calculated and saved in `obs``uniform_density` of the spatial Anndata.\n",
      "rna count based density prior is calculated and saved in `obs``rna_count_based_density` of the spatial Anndata.\n",
      "Allocate tensors for mapping.\n",
      "Begin training with 182 genes and uniform density_prior in cells mode...\n",
      "Printing scores every 100 epochs.\n",
      "Score: 0.315, KL reg: 0.000\n",
      "Saving results..\n"
     ]
    },
    {
     "name": "stderr",
     "output_type": "stream",
     "text": [
      "[rank: 0] Global seed set to 0\n"
     ]
    },
    {
     "name": "stdout",
     "output_type": "stream",
     "text": [
      "100\n",
      "176 training genes are saved in `uns``training_genes` of both single cell and spatial Anndatas.\n",
      "176 overlapped genes are saved in `uns``overlap_genes` of both single cell and spatial Anndatas.\n",
      "uniform based density prior is calculated and saved in `obs``uniform_density` of the spatial Anndata.\n",
      "rna count based density prior is calculated and saved in `obs``rna_count_based_density` of the spatial Anndata.\n",
      "Allocate tensors for mapping.\n",
      "Begin training with 176 genes and uniform density_prior in cells mode...\n",
      "Printing scores every 100 epochs.\n",
      "Score: 0.336, KL reg: 0.000\n",
      "Saving results..\n"
     ]
    },
    {
     "name": "stderr",
     "output_type": "stream",
     "text": [
      "[rank: 0] Global seed set to 0\n"
     ]
    },
    {
     "name": "stdout",
     "output_type": "stream",
     "text": [
      "100\n",
      "184 training genes are saved in `uns``training_genes` of both single cell and spatial Anndatas.\n",
      "184 overlapped genes are saved in `uns``overlap_genes` of both single cell and spatial Anndatas.\n",
      "uniform based density prior is calculated and saved in `obs``uniform_density` of the spatial Anndata.\n",
      "rna count based density prior is calculated and saved in `obs``rna_count_based_density` of the spatial Anndata.\n",
      "Allocate tensors for mapping.\n",
      "Begin training with 184 genes and uniform density_prior in cells mode...\n",
      "Printing scores every 100 epochs.\n",
      "Score: 0.328, KL reg: 0.000\n",
      "Saving results..\n"
     ]
    },
    {
     "name": "stderr",
     "output_type": "stream",
     "text": [
      "[rank: 0] Global seed set to 0\n"
     ]
    },
    {
     "name": "stdout",
     "output_type": "stream",
     "text": [
      "100\n",
      "183 training genes are saved in `uns``training_genes` of both single cell and spatial Anndatas.\n",
      "183 overlapped genes are saved in `uns``overlap_genes` of both single cell and spatial Anndatas.\n",
      "uniform based density prior is calculated and saved in `obs``uniform_density` of the spatial Anndata.\n",
      "rna count based density prior is calculated and saved in `obs``rna_count_based_density` of the spatial Anndata.\n",
      "Allocate tensors for mapping.\n",
      "Begin training with 183 genes and uniform density_prior in cells mode...\n",
      "Printing scores every 100 epochs.\n",
      "Score: 0.325, KL reg: 0.000\n",
      "Saving results..\n"
     ]
    },
    {
     "name": "stderr",
     "output_type": "stream",
     "text": [
      "[rank: 0] Global seed set to 0\n"
     ]
    },
    {
     "name": "stdout",
     "output_type": "stream",
     "text": [
      "100\n",
      "186 training genes are saved in `uns``training_genes` of both single cell and spatial Anndatas.\n",
      "186 overlapped genes are saved in `uns``overlap_genes` of both single cell and spatial Anndatas.\n",
      "uniform based density prior is calculated and saved in `obs``uniform_density` of the spatial Anndata.\n",
      "rna count based density prior is calculated and saved in `obs``rna_count_based_density` of the spatial Anndata.\n",
      "Allocate tensors for mapping.\n",
      "Begin training with 186 genes and uniform density_prior in cells mode...\n",
      "Printing scores every 100 epochs.\n",
      "Score: 0.332, KL reg: 0.000\n",
      "Saving results..\n"
     ]
    },
    {
     "name": "stderr",
     "output_type": "stream",
     "text": [
      "[rank: 0] Global seed set to 0\n"
     ]
    },
    {
     "name": "stdout",
     "output_type": "stream",
     "text": [
      "100\n",
      "184 training genes are saved in `uns``training_genes` of both single cell and spatial Anndatas.\n",
      "184 overlapped genes are saved in `uns``overlap_genes` of both single cell and spatial Anndatas.\n",
      "uniform based density prior is calculated and saved in `obs``uniform_density` of the spatial Anndata.\n",
      "rna count based density prior is calculated and saved in `obs``rna_count_based_density` of the spatial Anndata.\n",
      "Allocate tensors for mapping.\n",
      "Begin training with 184 genes and uniform density_prior in cells mode...\n",
      "Printing scores every 100 epochs.\n",
      "Score: 0.326, KL reg: 0.000\n",
      "Saving results..\n",
      "100\n"
     ]
    }
   ],
   "source": [
    "for seed in range(0,10):\n",
    "    lightning.seed_everything(0)\n",
    "    adata_st = sc.read_h5ad(f\"/gpfs/gibbs/pi/zhao/tl688/tangram/human_breast_simulation/spe_xenium_data_0.1_seed{seed}.h5ad\")\n",
    "\n",
    "    adata_sc = sc.read_h5ad(\"/gpfs/gibbs/pi/zhao/tl688/deconvdatasets/spatial_dataset/xenium_breast/sce_FFPE_full.h5ad\")\n",
    "    adata_sc.obs['scClassify'] = adata_sc.obs['graph_cluster_anno'].copy()\n",
    "    adata_sc.var_names_make_unique()\n",
    "\n",
    "    info_gene = calcualte_pse_correlation(adata_sc, adata_st, 'scClassify')\n",
    "    \n",
    "    adata_sc = adata_sc[:,info_gene]\n",
    "    adata_st = adata_st[:,info_gene]\n",
    "\n",
    "    import random \n",
    "    random.seed(2023)\n",
    "    overlap_gene = list(set(adata_st.var_names).intersection(adata_sc.var_names))\n",
    "    overlap_gene = sorted(overlap_gene)\n",
    "\n",
    "    train_g, test_g = train_test_split(overlap_gene, test_size=0.33, random_state=2023)\n",
    "    adata_st[:, test_g].X = 0\n",
    "    \n",
    "    tangram_batch_allsc(adata_st, adata_sc, epoch=100, savepath='./data_breastseed/', \n",
    "                        celltype='scClassify', filename = 'humanbreast', spatial_label = 'scClassify',\n",
    "                        batchsize = 20000,\n",
    "                       set_seed = seed,\n",
    "                       train_gene = train_g)"
   ]
  },
  {
   "cell_type": "code",
   "execution_count": 7,
   "id": "ed023bd0-727d-4571-aeea-2e93cdb25133",
   "metadata": {},
   "outputs": [],
   "source": [
    "a = 1"
   ]
  },
  {
   "cell_type": "code",
   "execution_count": 8,
   "id": "9d1e5531-66a1-40f1-97fe-9b01e88fb8dc",
   "metadata": {
    "scrolled": true
   },
   "outputs": [
    {
     "name": "stderr",
     "output_type": "stream",
     "text": [
      "[rank: 0] Global seed set to 0\n"
     ]
    },
    {
     "name": "stdout",
     "output_type": "stream",
     "text": [
      "182 training genes are saved in `uns``training_genes` of both single cell and spatial Anndatas.\n",
      "182 overlapped genes are saved in `uns``overlap_genes` of both single cell and spatial Anndatas.\n",
      "uniform based density prior is calculated and saved in `obs``uniform_density` of the spatial Anndata.\n",
      "rna count based density prior is calculated and saved in `obs``rna_count_based_density` of the spatial Anndata.\n",
      "Allocate tensors for mapping.\n",
      "Begin training with 182 genes and uniform density_prior in cells mode...\n",
      "Printing scores every 100 epochs.\n",
      "Score: 0.324, KL reg: 0.000\n",
      "Score: 0.873, KL reg: 0.002\n",
      "Score: 0.893, KL reg: 0.001\n",
      "Score: 0.897, KL reg: 0.001\n",
      "Saving results..\n",
      "400\n"
     ]
    },
    {
     "name": "stderr",
     "output_type": "stream",
     "text": [
      "[rank: 0] Global seed set to 0\n"
     ]
    },
    {
     "name": "stdout",
     "output_type": "stream",
     "text": [
      "183 training genes are saved in `uns``training_genes` of both single cell and spatial Anndatas.\n",
      "183 overlapped genes are saved in `uns``overlap_genes` of both single cell and spatial Anndatas.\n",
      "uniform based density prior is calculated and saved in `obs``uniform_density` of the spatial Anndata.\n",
      "rna count based density prior is calculated and saved in `obs``rna_count_based_density` of the spatial Anndata.\n",
      "Allocate tensors for mapping.\n",
      "Begin training with 183 genes and uniform density_prior in cells mode...\n",
      "Printing scores every 100 epochs.\n",
      "Score: 0.323, KL reg: 0.000\n",
      "Score: 0.876, KL reg: 0.002\n",
      "Score: 0.895, KL reg: 0.001\n",
      "Score: 0.899, KL reg: 0.001\n",
      "Saving results..\n",
      "400\n"
     ]
    },
    {
     "name": "stderr",
     "output_type": "stream",
     "text": [
      "[rank: 0] Global seed set to 0\n"
     ]
    },
    {
     "name": "stdout",
     "output_type": "stream",
     "text": [
      "182 training genes are saved in `uns``training_genes` of both single cell and spatial Anndatas.\n",
      "182 overlapped genes are saved in `uns``overlap_genes` of both single cell and spatial Anndatas.\n",
      "uniform based density prior is calculated and saved in `obs``uniform_density` of the spatial Anndata.\n",
      "rna count based density prior is calculated and saved in `obs``rna_count_based_density` of the spatial Anndata.\n",
      "Allocate tensors for mapping.\n",
      "Begin training with 182 genes and uniform density_prior in cells mode...\n",
      "Printing scores every 100 epochs.\n",
      "Score: 0.329, KL reg: 0.000\n",
      "Score: 0.875, KL reg: 0.002\n",
      "Score: 0.894, KL reg: 0.001\n",
      "Score: 0.898, KL reg: 0.001\n",
      "Saving results..\n"
     ]
    },
    {
     "name": "stderr",
     "output_type": "stream",
     "text": [
      "[rank: 0] Global seed set to 0\n"
     ]
    },
    {
     "name": "stdout",
     "output_type": "stream",
     "text": [
      "400\n",
      "185 training genes are saved in `uns``training_genes` of both single cell and spatial Anndatas.\n",
      "185 overlapped genes are saved in `uns``overlap_genes` of both single cell and spatial Anndatas.\n",
      "uniform based density prior is calculated and saved in `obs``uniform_density` of the spatial Anndata.\n",
      "rna count based density prior is calculated and saved in `obs``rna_count_based_density` of the spatial Anndata.\n",
      "Allocate tensors for mapping.\n",
      "Begin training with 185 genes and uniform density_prior in cells mode...\n",
      "Printing scores every 100 epochs.\n",
      "Score: 0.324, KL reg: 0.000\n",
      "Score: 0.869, KL reg: 0.002\n",
      "Score: 0.889, KL reg: 0.001\n",
      "Score: 0.893, KL reg: 0.001\n",
      "Saving results..\n"
     ]
    },
    {
     "name": "stderr",
     "output_type": "stream",
     "text": [
      "[rank: 0] Global seed set to 0\n"
     ]
    },
    {
     "name": "stdout",
     "output_type": "stream",
     "text": [
      "400\n",
      "182 training genes are saved in `uns``training_genes` of both single cell and spatial Anndatas.\n",
      "182 overlapped genes are saved in `uns``overlap_genes` of both single cell and spatial Anndatas.\n",
      "uniform based density prior is calculated and saved in `obs``uniform_density` of the spatial Anndata.\n",
      "rna count based density prior is calculated and saved in `obs``rna_count_based_density` of the spatial Anndata.\n",
      "Allocate tensors for mapping.\n",
      "Begin training with 182 genes and uniform density_prior in cells mode...\n",
      "Printing scores every 100 epochs.\n",
      "Score: 0.315, KL reg: 0.000\n",
      "Score: 0.875, KL reg: 0.002\n",
      "Score: 0.894, KL reg: 0.001\n",
      "Score: 0.898, KL reg: 0.001\n",
      "Saving results..\n"
     ]
    },
    {
     "name": "stderr",
     "output_type": "stream",
     "text": [
      "[rank: 0] Global seed set to 0\n"
     ]
    },
    {
     "name": "stdout",
     "output_type": "stream",
     "text": [
      "400\n",
      "176 training genes are saved in `uns``training_genes` of both single cell and spatial Anndatas.\n",
      "176 overlapped genes are saved in `uns``overlap_genes` of both single cell and spatial Anndatas.\n",
      "uniform based density prior is calculated and saved in `obs``uniform_density` of the spatial Anndata.\n",
      "rna count based density prior is calculated and saved in `obs``rna_count_based_density` of the spatial Anndata.\n",
      "Allocate tensors for mapping.\n",
      "Begin training with 176 genes and uniform density_prior in cells mode...\n",
      "Printing scores every 100 epochs.\n",
      "Score: 0.336, KL reg: 0.000\n",
      "Score: 0.877, KL reg: 0.002\n",
      "Score: 0.896, KL reg: 0.001\n",
      "Score: 0.900, KL reg: 0.001\n",
      "Saving results..\n"
     ]
    },
    {
     "name": "stderr",
     "output_type": "stream",
     "text": [
      "[rank: 0] Global seed set to 0\n"
     ]
    },
    {
     "name": "stdout",
     "output_type": "stream",
     "text": [
      "400\n",
      "184 training genes are saved in `uns``training_genes` of both single cell and spatial Anndatas.\n",
      "184 overlapped genes are saved in `uns``overlap_genes` of both single cell and spatial Anndatas.\n",
      "uniform based density prior is calculated and saved in `obs``uniform_density` of the spatial Anndata.\n",
      "rna count based density prior is calculated and saved in `obs``rna_count_based_density` of the spatial Anndata.\n",
      "Allocate tensors for mapping.\n",
      "Begin training with 184 genes and uniform density_prior in cells mode...\n",
      "Printing scores every 100 epochs.\n",
      "Score: 0.328, KL reg: 0.000\n",
      "Score: 0.874, KL reg: 0.002\n",
      "Score: 0.894, KL reg: 0.001\n",
      "Score: 0.898, KL reg: 0.001\n",
      "Saving results..\n"
     ]
    },
    {
     "name": "stderr",
     "output_type": "stream",
     "text": [
      "[rank: 0] Global seed set to 0\n"
     ]
    },
    {
     "name": "stdout",
     "output_type": "stream",
     "text": [
      "400\n",
      "183 training genes are saved in `uns``training_genes` of both single cell and spatial Anndatas.\n",
      "183 overlapped genes are saved in `uns``overlap_genes` of both single cell and spatial Anndatas.\n",
      "uniform based density prior is calculated and saved in `obs``uniform_density` of the spatial Anndata.\n",
      "rna count based density prior is calculated and saved in `obs``rna_count_based_density` of the spatial Anndata.\n",
      "Allocate tensors for mapping.\n",
      "Begin training with 183 genes and uniform density_prior in cells mode...\n",
      "Printing scores every 100 epochs.\n",
      "Score: 0.325, KL reg: 0.000\n",
      "Score: 0.872, KL reg: 0.002\n",
      "Score: 0.891, KL reg: 0.001\n",
      "Score: 0.895, KL reg: 0.001\n",
      "Saving results..\n"
     ]
    },
    {
     "name": "stderr",
     "output_type": "stream",
     "text": [
      "[rank: 0] Global seed set to 0\n"
     ]
    },
    {
     "name": "stdout",
     "output_type": "stream",
     "text": [
      "400\n",
      "186 training genes are saved in `uns``training_genes` of both single cell and spatial Anndatas.\n",
      "186 overlapped genes are saved in `uns``overlap_genes` of both single cell and spatial Anndatas.\n",
      "uniform based density prior is calculated and saved in `obs``uniform_density` of the spatial Anndata.\n",
      "rna count based density prior is calculated and saved in `obs``rna_count_based_density` of the spatial Anndata.\n",
      "Allocate tensors for mapping.\n",
      "Begin training with 186 genes and uniform density_prior in cells mode...\n",
      "Printing scores every 100 epochs.\n",
      "Score: 0.332, KL reg: 0.000\n",
      "Score: 0.867, KL reg: 0.002\n",
      "Score: 0.887, KL reg: 0.001\n",
      "Score: 0.891, KL reg: 0.001\n",
      "Saving results..\n"
     ]
    },
    {
     "name": "stderr",
     "output_type": "stream",
     "text": [
      "[rank: 0] Global seed set to 0\n"
     ]
    },
    {
     "name": "stdout",
     "output_type": "stream",
     "text": [
      "400\n",
      "184 training genes are saved in `uns``training_genes` of both single cell and spatial Anndatas.\n",
      "184 overlapped genes are saved in `uns``overlap_genes` of both single cell and spatial Anndatas.\n",
      "uniform based density prior is calculated and saved in `obs``uniform_density` of the spatial Anndata.\n",
      "rna count based density prior is calculated and saved in `obs``rna_count_based_density` of the spatial Anndata.\n",
      "Allocate tensors for mapping.\n",
      "Begin training with 184 genes and uniform density_prior in cells mode...\n",
      "Printing scores every 100 epochs.\n",
      "Score: 0.326, KL reg: 0.000\n",
      "Score: 0.879, KL reg: 0.002\n",
      "Score: 0.898, KL reg: 0.001\n",
      "Score: 0.902, KL reg: 0.001\n",
      "Saving results..\n",
      "400\n"
     ]
    }
   ],
   "source": [
    "for seed in range(0,10):\n",
    "    lightning.seed_everything(0)\n",
    "    adata_st = sc.read_h5ad(f\"/gpfs/gibbs/pi/zhao/tl688/tangram/human_breast_simulation/spe_xenium_data_0.1_seed{seed}.h5ad\")\n",
    "\n",
    "    adata_sc = sc.read_h5ad(\"/gpfs/gibbs/pi/zhao/tl688/deconvdatasets/spatial_dataset/xenium_breast/sce_FFPE_full.h5ad\")\n",
    "    adata_sc.obs['scClassify'] = adata_sc.obs['graph_cluster_anno'].copy()\n",
    "    adata_sc.var_names_make_unique()\n",
    "\n",
    "    info_gene = calcualte_pse_correlation(adata_sc, adata_st, 'scClassify')\n",
    "    \n",
    "    adata_sc = adata_sc[:,info_gene]\n",
    "    adata_st = adata_st[:,info_gene]\n",
    "\n",
    "    import random \n",
    "    random.seed(2023)\n",
    "    overlap_gene = list(set(adata_st.var_names).intersection(adata_sc.var_names))\n",
    "    overlap_gene = sorted(overlap_gene)\n",
    "\n",
    "    train_g, test_g = train_test_split(overlap_gene, test_size=0.33, random_state=2023)\n",
    "    adata_st[:, test_g].X = 0\n",
    "    \n",
    "    tangram_batch_allsc(adata_st, adata_sc, epoch=400, savepath='./data_breastseed/', \n",
    "                        celltype='scClassify', filename = 'humanbreast', spatial_label = 'scClassify',\n",
    "                        batchsize = 20000,\n",
    "                       set_seed = seed,\n",
    "                       train_gene = train_g)"
   ]
  },
  {
   "cell_type": "code",
   "execution_count": null,
   "id": "757a1b23-b405-4c5c-bad5-5dcedd7f5c3a",
   "metadata": {},
   "outputs": [],
   "source": []
  },
  {
   "cell_type": "code",
   "execution_count": null,
   "id": "02a3167f-3ee5-4d90-ab7a-145f5528cce5",
   "metadata": {},
   "outputs": [],
   "source": []
  },
  {
   "cell_type": "code",
   "execution_count": null,
   "id": "65ff7da0-bc2d-4210-9f2e-1ffe5a19f987",
   "metadata": {},
   "outputs": [],
   "source": [
    "for seed in range(0,10):\n",
    "    adata_list = []\n",
    "    for i in range(0,2):\n",
    "        path = f\"/gpfs/gibbs/pi/zhao/tl688/tangram/data_brain/mousebrain_data_batch_maskgene_raw_filter0.5_100_{i}_seed{seed}.h5ad\"\n",
    "        adata_i = sc.read_h5ad(path)\n",
    "        \n",
    "        if len(adata_i.var_names) == 0:\n",
    "            print(adata_i.obs['scClassify'].unique())\n",
    "            continue\n",
    "        adata_list.append(adata_i)\n",
    "    adata = sc.concat(adata_list, join='outer')\n",
    "    adata.write_h5ad(f\"/gpfs/gibbs/pi/zhao/tl688/tangram/data_brain/mousebrain_data_filter0.5_100_seed{seed}.h5ad\")"
   ]
  },
  {
   "cell_type": "code",
   "execution_count": null,
   "id": "9b52241d-16eb-4348-ba20-25500a51389f",
   "metadata": {},
   "outputs": [],
   "source": []
  },
  {
   "cell_type": "code",
   "execution_count": null,
   "id": "70ca74ec-dd5c-4b76-b4a6-4abced39f77e",
   "metadata": {},
   "outputs": [],
   "source": []
  },
  {
   "cell_type": "code",
   "execution_count": null,
   "id": "b7dafce6-5310-4720-b3e9-1d5fb64f158f",
   "metadata": {},
   "outputs": [],
   "source": []
  },
  {
   "cell_type": "code",
   "execution_count": null,
   "id": "6ca732e1-709f-430e-8e72-931452363c50",
   "metadata": {},
   "outputs": [],
   "source": []
  },
  {
   "cell_type": "code",
   "execution_count": 11,
   "id": "9750a58f-c1ac-4925-a29b-eacfa7884768",
   "metadata": {},
   "outputs": [],
   "source": [
    "for seed in range(0,10):\n",
    "    adata_list = []\n",
    "    for i in range(0,2):\n",
    "        path = f\"/gpfs/gibbs/pi/zhao/tl688/tangram/data_brain/mousebrain_data_batch_maskgene_raw_filter0.5_400_{i}_seed{seed}.h5ad\"\n",
    "        adata_i = sc.read_h5ad(path)\n",
    "        \n",
    "        if len(adata_i.var_names) == 0:\n",
    "            print(adata_i.obs['scClassify'].unique())\n",
    "            continue\n",
    "        adata_list.append(adata_i)\n",
    "    adata = sc.concat(adata_list, join='outer')\n",
    "    adata.write_h5ad(f\"/gpfs/gibbs/pi/zhao/tl688/tangram/data_brain/mousebrain_data_filter0.5_400_seed{seed}.h5ad\")"
   ]
  },
  {
   "cell_type": "code",
   "execution_count": null,
   "id": "317c5c62-a2de-421b-91f4-06005c162e10",
   "metadata": {},
   "outputs": [],
   "source": []
  },
  {
   "cell_type": "code",
   "execution_count": 10,
   "id": "bbf98043-7618-4b0a-8955-ec857b818ab4",
   "metadata": {},
   "outputs": [],
   "source": [
    "for seed in range(0,10):\n",
    "    adata_list = []\n",
    "    for i in range(0,2):\n",
    "        path = f\"/gpfs/gibbs/pi/zhao/tl688/tangram/data_brain/mousebrain_data_batch_maskgene_raw_filter0.5_100_{i}_seed{seed}.h5ad\"\n",
    "        adata_i = sc.read_h5ad(path)\n",
    "        \n",
    "        if len(adata_i.var_names) == 0:\n",
    "            print(adata_i.obs['scClassify'].unique())\n",
    "            continue\n",
    "        adata_list.append(adata_i)\n",
    "    adata = sc.concat(adata_list, join='outer')\n",
    "    adata.write_h5ad(f\"/gpfs/gibbs/pi/zhao/tl688/tangram/data_brain/mousebrain_data_filter0.5_100_seed{seed}.h5ad\")"
   ]
  },
  {
   "cell_type": "code",
   "execution_count": null,
   "id": "454a54d9-3753-4832-9ab2-785a7d156e06",
   "metadata": {},
   "outputs": [],
   "source": []
  },
  {
   "cell_type": "markdown",
   "id": "7d873ab9-aa5e-44c8-96a6-e5d6b7d8b12a",
   "metadata": {},
   "source": [
    "# Brain"
   ]
  },
  {
   "cell_type": "code",
   "execution_count": 3,
   "id": "83ec11d6-ed1a-4661-ac12-7e4b129814d9",
   "metadata": {},
   "outputs": [
    {
     "name": "stdout",
     "output_type": "stream",
     "text": [
      "scanpy==1.9.5 anndata==0.9.2 umap==0.5.4 numpy==1.22.0 scipy==1.10.1 pandas==1.5.0 scikit-learn==1.3.1 statsmodels==0.14.0 igraph==0.10.8 pynndescent==0.5.10\n",
      "squidpy==1.2.3\n",
      "The autoreload extension is already loaded. To reload it, use:\n",
      "  %reload_ext autoreload\n"
     ]
    }
   ],
   "source": [
    "import scanpy as sc\n",
    "import squidpy as sq\n",
    "import numpy as np\n",
    "import pandas as pd\n",
    "from anndata import AnnData\n",
    "import pathlib\n",
    "import matplotlib.pyplot as plt\n",
    "import matplotlib as mpl\n",
    "import skimage\n",
    "import seaborn as sns\n",
    "import tangram as tg\n",
    "import gc\n",
    "\n",
    "import cosg\n",
    "\n",
    "import scipy.stats as st\n",
    "\n",
    "sc.logging.print_header()\n",
    "print(f\"squidpy=={sq.__version__}\")\n",
    "\n",
    "%load_ext autoreload\n",
    "%autoreload 2\n",
    "%matplotlib inline"
   ]
  },
  {
   "cell_type": "code",
   "execution_count": 4,
   "id": "2e8ff94d-e5fe-4e02-b584-3d26bca6645a",
   "metadata": {},
   "outputs": [],
   "source": [
    "import lightning"
   ]
  },
  {
   "cell_type": "code",
   "execution_count": 5,
   "id": "b7472a34-1061-4238-a6ef-a198db5a88d2",
   "metadata": {},
   "outputs": [],
   "source": [
    "def calcualte_pse_correlation(adata_sc, adata_st, celltype, p_value_threshold = 0.05, cor_threshold = 0.5):\n",
    "    overlap_gene = overlap_gene = list(set(adata_sc.var_names).intersection(adata_st.var_names))\n",
    "    adata_sc = adata_sc[:,overlap_gene]\n",
    "    adata_st = adata_st[:,overlap_gene]\n",
    "    \n",
    "    cell_type_common = list(set(adata_sc.obs[celltype].unique()).intersection(adata_st.obs[celltype].unique()))\n",
    "    \n",
    "    pseudo_st = []\n",
    "    pseudo_sc = []\n",
    "    for i in cell_type_common:\n",
    "        adata1 = adata_st[adata_st.obs[celltype] == i]\n",
    "        adata2 = adata_sc[adata_sc.obs[celltype] == i]\n",
    "\n",
    "        pseudo_st.append(np.mean(adata1.X.toarray(), axis = 0))\n",
    "        pseudo_sc.append(np.mean(adata2.X.toarray(), axis = 0))\n",
    "    \n",
    "    pseudo_st = np.array(pseudo_st)\n",
    "    pseudo_sc = np.array(pseudo_sc)\n",
    "\n",
    "    cor_pearson = []\n",
    "    cor_pvalue = []\n",
    "    for i in range(pseudo_st.shape[1]):\n",
    "        cor, pval = st.pearsonr(pseudo_st[:,i], pseudo_sc[:,i])\n",
    "        cor_pearson.append(cor)\n",
    "        cor_pvalue.append(pval)\n",
    "        \n",
    "    information_stat = pd.DataFrame()\n",
    "\n",
    "    information_stat['pearson'] = cor_pearson\n",
    "    information_stat['pvalue'] = cor_pvalue\n",
    "    information_stat.index = adata_st.var_names\n",
    "\n",
    "    information_stat_update = information_stat.loc[((information_stat['pvalue']<p_value_threshold) & (information_stat['pearson']>cor_threshold))]\n",
    "    \n",
    "    return information_stat_update.index"
   ]
  },
  {
   "cell_type": "code",
   "execution_count": 6,
   "id": "3abba505-a7c3-40c5-8fc2-6db7ba7f9f36",
   "metadata": {},
   "outputs": [],
   "source": [
    "adata_sc = sc.read_h5ad(\"/gpfs/gibbs/pi/zhao/tl688/deconvdatasets/spatial_dataset/xenium_breast/sce_FFPE_full.h5ad\")\n",
    "adata_sc.obs['scClassify'] = adata_sc.obs['graph_cluster_anno'].copy()\n",
    "adata_sc.var_names_make_unique()"
   ]
  },
  {
   "cell_type": "code",
   "execution_count": 7,
   "id": "ebd7c1f9-f655-4932-8629-1db2e65816ac",
   "metadata": {},
   "outputs": [],
   "source": [
    "from sklearn.model_selection import train_test_split"
   ]
  },
  {
   "cell_type": "code",
   "execution_count": 8,
   "id": "618c67e7-04a7-48d7-8fb3-885891e5bc01",
   "metadata": {},
   "outputs": [],
   "source": [
    "def tangram_batch_allsc(adata_st_gt, adata_sc, savepath = \"./data_breastbatch/\", celltype = \"graph_cluster_anno\",  \n",
    "                  epoch = 500, filename = 'human_breast', batchsize = 10000, \n",
    "                        set_seed = 0, density_prior = 'uniform', train_gene = None, spatial_label = 'scClassify'):\n",
    "    markers = train_gene\n",
    "    adata_st.obs[celltype] = list(adata_st.obs[spatial_label])\n",
    "    for item in range(len(adata_st_gt)//batchsize + 1):\n",
    "        end = item*batchsize + batchsize\n",
    "        if end >= len(adata_st_gt):\n",
    "            end = len(adata_st_gt)\n",
    "\n",
    "        adata_st_imp = adata_st[item*batchsize:end,:]\n",
    "        \n",
    "        sample_adata_celltype = adata_st_imp.obs[celltype].unique()\n",
    "        \n",
    "        tg.pp_adatas(adata_sc, adata_st_imp, genes=markers, gene_to_lowercase = False)\n",
    "\n",
    "        ad_map = tg.map_cells_to_space(adata_sc, adata_st_imp,\n",
    "            mode=\"cells\",\n",
    "            density_prior=density_prior,\n",
    "            num_epochs=epoch,\n",
    "            device=\"cuda:0\", \n",
    "            correlation = False       #     device='cpu',\n",
    "\n",
    "        )\n",
    "\n",
    "        gc.collect()\n",
    "        #adata_sc = sc.read_h5ad(\"/gpfs/gibbs/pi/zhao/tl688/deconvdatasets/spatial_dataset/xenium_brain/aibs_mouse_ctx-hpf_smartseq_sce.h5ad\")\n",
    "        ad_ge = tg.project_genes(adata_map=ad_map, adata_sc=adata_sc, gene_to_lowercase = False)\n",
    "        gc.collect()\n",
    "        print(epoch)\n",
    "        ad_ge.write_h5ad(savepath + f\"{filename}_data_batch_maskgene_raw_filter0.5_{epoch}_{item}_seed{set_seed}.h5ad\")\n",
    "    return True"
   ]
  },
  {
   "cell_type": "code",
   "execution_count": null,
   "id": "f298568c-c61c-45a7-ac0b-e8e974e0f677",
   "metadata": {},
   "outputs": [],
   "source": []
  },
  {
   "cell_type": "code",
   "execution_count": 9,
   "id": "20fe58a4-da08-49f8-9ff7-67199c7bdaf7",
   "metadata": {
    "scrolled": true
   },
   "outputs": [
    {
     "name": "stderr",
     "output_type": "stream",
     "text": [
      "[rank: 0] Global seed set to 0\n"
     ]
    },
    {
     "name": "stdout",
     "output_type": "stream",
     "text": [
      "104 training genes are saved in `uns``training_genes` of both single cell and spatial Anndatas.\n",
      "104 overlapped genes are saved in `uns``overlap_genes` of both single cell and spatial Anndatas.\n",
      "uniform based density prior is calculated and saved in `obs``uniform_density` of the spatial Anndata.\n",
      "rna count based density prior is calculated and saved in `obs``rna_count_based_density` of the spatial Anndata.\n",
      "Allocate tensors for mapping.\n",
      "Begin training with 104 genes and uniform density_prior in cells mode...\n",
      "Printing scores every 100 epochs.\n",
      "Score: 0.360, KL reg: 0.000\n",
      "Saving results..\n",
      "100\n",
      "104 training genes are saved in `uns``training_genes` of both single cell and spatial Anndatas.\n",
      "104 overlapped genes are saved in `uns``overlap_genes` of both single cell and spatial Anndatas.\n",
      "uniform based density prior is calculated and saved in `obs``uniform_density` of the spatial Anndata.\n",
      "rna count based density prior is calculated and saved in `obs``rna_count_based_density` of the spatial Anndata.\n",
      "Allocate tensors for mapping.\n",
      "Begin training with 104 genes and uniform density_prior in cells mode...\n",
      "Printing scores every 100 epochs.\n",
      "Score: 0.358, KL reg: 0.000\n",
      "Saving results..\n"
     ]
    },
    {
     "name": "stderr",
     "output_type": "stream",
     "text": [
      "[rank: 0] Global seed set to 0\n"
     ]
    },
    {
     "name": "stdout",
     "output_type": "stream",
     "text": [
      "100\n",
      "109 training genes are saved in `uns``training_genes` of both single cell and spatial Anndatas.\n",
      "109 overlapped genes are saved in `uns``overlap_genes` of both single cell and spatial Anndatas.\n",
      "uniform based density prior is calculated and saved in `obs``uniform_density` of the spatial Anndata.\n",
      "rna count based density prior is calculated and saved in `obs``rna_count_based_density` of the spatial Anndata.\n",
      "Allocate tensors for mapping.\n",
      "Begin training with 109 genes and uniform density_prior in cells mode...\n",
      "Printing scores every 100 epochs.\n",
      "Score: 0.366, KL reg: 0.000\n",
      "Saving results..\n",
      "100\n",
      "109 training genes are saved in `uns``training_genes` of both single cell and spatial Anndatas.\n",
      "109 overlapped genes are saved in `uns``overlap_genes` of both single cell and spatial Anndatas.\n",
      "uniform based density prior is calculated and saved in `obs``uniform_density` of the spatial Anndata.\n",
      "rna count based density prior is calculated and saved in `obs``rna_count_based_density` of the spatial Anndata.\n",
      "Allocate tensors for mapping.\n",
      "Begin training with 109 genes and uniform density_prior in cells mode...\n",
      "Printing scores every 100 epochs.\n",
      "Score: 0.367, KL reg: 0.000\n",
      "Saving results..\n"
     ]
    },
    {
     "name": "stderr",
     "output_type": "stream",
     "text": [
      "[rank: 0] Global seed set to 0\n"
     ]
    },
    {
     "name": "stdout",
     "output_type": "stream",
     "text": [
      "100\n",
      "106 training genes are saved in `uns``training_genes` of both single cell and spatial Anndatas.\n",
      "106 overlapped genes are saved in `uns``overlap_genes` of both single cell and spatial Anndatas.\n",
      "uniform based density prior is calculated and saved in `obs``uniform_density` of the spatial Anndata.\n",
      "rna count based density prior is calculated and saved in `obs``rna_count_based_density` of the spatial Anndata.\n",
      "Allocate tensors for mapping.\n",
      "Begin training with 106 genes and uniform density_prior in cells mode...\n",
      "Printing scores every 100 epochs.\n",
      "Score: 0.363, KL reg: 0.000\n",
      "Saving results..\n",
      "100\n",
      "106 training genes are saved in `uns``training_genes` of both single cell and spatial Anndatas.\n",
      "106 overlapped genes are saved in `uns``overlap_genes` of both single cell and spatial Anndatas.\n",
      "uniform based density prior is calculated and saved in `obs``uniform_density` of the spatial Anndata.\n",
      "rna count based density prior is calculated and saved in `obs``rna_count_based_density` of the spatial Anndata.\n",
      "Allocate tensors for mapping.\n",
      "Begin training with 106 genes and uniform density_prior in cells mode...\n",
      "Printing scores every 100 epochs.\n",
      "Score: 0.365, KL reg: 0.000\n",
      "Saving results..\n"
     ]
    },
    {
     "name": "stderr",
     "output_type": "stream",
     "text": [
      "[rank: 0] Global seed set to 0\n"
     ]
    },
    {
     "name": "stdout",
     "output_type": "stream",
     "text": [
      "100\n",
      "107 training genes are saved in `uns``training_genes` of both single cell and spatial Anndatas.\n",
      "107 overlapped genes are saved in `uns``overlap_genes` of both single cell and spatial Anndatas.\n",
      "uniform based density prior is calculated and saved in `obs``uniform_density` of the spatial Anndata.\n",
      "rna count based density prior is calculated and saved in `obs``rna_count_based_density` of the spatial Anndata.\n",
      "Allocate tensors for mapping.\n",
      "Begin training with 107 genes and uniform density_prior in cells mode...\n",
      "Printing scores every 100 epochs.\n",
      "Score: 0.372, KL reg: 0.000\n",
      "Saving results..\n",
      "100\n",
      "107 training genes are saved in `uns``training_genes` of both single cell and spatial Anndatas.\n",
      "107 overlapped genes are saved in `uns``overlap_genes` of both single cell and spatial Anndatas.\n",
      "uniform based density prior is calculated and saved in `obs``uniform_density` of the spatial Anndata.\n",
      "rna count based density prior is calculated and saved in `obs``rna_count_based_density` of the spatial Anndata.\n",
      "Allocate tensors for mapping.\n",
      "Begin training with 107 genes and uniform density_prior in cells mode...\n",
      "Printing scores every 100 epochs.\n",
      "Score: 0.370, KL reg: 0.000\n",
      "Saving results..\n"
     ]
    },
    {
     "name": "stderr",
     "output_type": "stream",
     "text": [
      "[rank: 0] Global seed set to 0\n"
     ]
    },
    {
     "name": "stdout",
     "output_type": "stream",
     "text": [
      "100\n",
      "101 training genes are saved in `uns``training_genes` of both single cell and spatial Anndatas.\n",
      "101 overlapped genes are saved in `uns``overlap_genes` of both single cell and spatial Anndatas.\n",
      "uniform based density prior is calculated and saved in `obs``uniform_density` of the spatial Anndata.\n",
      "rna count based density prior is calculated and saved in `obs``rna_count_based_density` of the spatial Anndata.\n",
      "Allocate tensors for mapping.\n",
      "Begin training with 101 genes and uniform density_prior in cells mode...\n",
      "Printing scores every 100 epochs.\n",
      "Score: 0.350, KL reg: 0.000\n",
      "Saving results..\n",
      "100\n",
      "101 training genes are saved in `uns``training_genes` of both single cell and spatial Anndatas.\n",
      "101 overlapped genes are saved in `uns``overlap_genes` of both single cell and spatial Anndatas.\n",
      "uniform based density prior is calculated and saved in `obs``uniform_density` of the spatial Anndata.\n",
      "rna count based density prior is calculated and saved in `obs``rna_count_based_density` of the spatial Anndata.\n",
      "Allocate tensors for mapping.\n",
      "Begin training with 101 genes and uniform density_prior in cells mode...\n",
      "Printing scores every 100 epochs.\n",
      "Score: 0.349, KL reg: 0.000\n",
      "Saving results..\n"
     ]
    },
    {
     "name": "stderr",
     "output_type": "stream",
     "text": [
      "[rank: 0] Global seed set to 0\n"
     ]
    },
    {
     "name": "stdout",
     "output_type": "stream",
     "text": [
      "100\n",
      "108 training genes are saved in `uns``training_genes` of both single cell and spatial Anndatas.\n",
      "108 overlapped genes are saved in `uns``overlap_genes` of both single cell and spatial Anndatas.\n",
      "uniform based density prior is calculated and saved in `obs``uniform_density` of the spatial Anndata.\n",
      "rna count based density prior is calculated and saved in `obs``rna_count_based_density` of the spatial Anndata.\n",
      "Allocate tensors for mapping.\n",
      "Begin training with 108 genes and uniform density_prior in cells mode...\n",
      "Printing scores every 100 epochs.\n",
      "Score: 0.384, KL reg: 0.000\n",
      "Saving results..\n",
      "100\n",
      "108 training genes are saved in `uns``training_genes` of both single cell and spatial Anndatas.\n",
      "108 overlapped genes are saved in `uns``overlap_genes` of both single cell and spatial Anndatas.\n",
      "uniform based density prior is calculated and saved in `obs``uniform_density` of the spatial Anndata.\n",
      "rna count based density prior is calculated and saved in `obs``rna_count_based_density` of the spatial Anndata.\n",
      "Allocate tensors for mapping.\n",
      "Begin training with 108 genes and uniform density_prior in cells mode...\n",
      "Printing scores every 100 epochs.\n",
      "Score: 0.386, KL reg: 0.000\n",
      "Saving results..\n"
     ]
    },
    {
     "name": "stderr",
     "output_type": "stream",
     "text": [
      "[rank: 0] Global seed set to 0\n"
     ]
    },
    {
     "name": "stdout",
     "output_type": "stream",
     "text": [
      "100\n",
      "113 training genes are saved in `uns``training_genes` of both single cell and spatial Anndatas.\n",
      "113 overlapped genes are saved in `uns``overlap_genes` of both single cell and spatial Anndatas.\n",
      "uniform based density prior is calculated and saved in `obs``uniform_density` of the spatial Anndata.\n",
      "rna count based density prior is calculated and saved in `obs``rna_count_based_density` of the spatial Anndata.\n",
      "Allocate tensors for mapping.\n",
      "Begin training with 113 genes and uniform density_prior in cells mode...\n",
      "Printing scores every 100 epochs.\n",
      "Score: 0.373, KL reg: 0.000\n",
      "Saving results..\n",
      "100\n",
      "113 training genes are saved in `uns``training_genes` of both single cell and spatial Anndatas.\n",
      "113 overlapped genes are saved in `uns``overlap_genes` of both single cell and spatial Anndatas.\n",
      "uniform based density prior is calculated and saved in `obs``uniform_density` of the spatial Anndata.\n",
      "rna count based density prior is calculated and saved in `obs``rna_count_based_density` of the spatial Anndata.\n",
      "Allocate tensors for mapping.\n",
      "Begin training with 113 genes and uniform density_prior in cells mode...\n",
      "Printing scores every 100 epochs.\n",
      "Score: 0.373, KL reg: 0.000\n",
      "Saving results..\n"
     ]
    },
    {
     "name": "stderr",
     "output_type": "stream",
     "text": [
      "[rank: 0] Global seed set to 0\n"
     ]
    },
    {
     "name": "stdout",
     "output_type": "stream",
     "text": [
      "100\n",
      "109 training genes are saved in `uns``training_genes` of both single cell and spatial Anndatas.\n",
      "109 overlapped genes are saved in `uns``overlap_genes` of both single cell and spatial Anndatas.\n",
      "uniform based density prior is calculated and saved in `obs``uniform_density` of the spatial Anndata.\n",
      "rna count based density prior is calculated and saved in `obs``rna_count_based_density` of the spatial Anndata.\n",
      "Allocate tensors for mapping.\n",
      "Begin training with 109 genes and uniform density_prior in cells mode...\n",
      "Printing scores every 100 epochs.\n",
      "Score: 0.367, KL reg: 0.000\n",
      "Saving results..\n",
      "100\n",
      "109 training genes are saved in `uns``training_genes` of both single cell and spatial Anndatas.\n",
      "109 overlapped genes are saved in `uns``overlap_genes` of both single cell and spatial Anndatas.\n",
      "uniform based density prior is calculated and saved in `obs``uniform_density` of the spatial Anndata.\n",
      "rna count based density prior is calculated and saved in `obs``rna_count_based_density` of the spatial Anndata.\n",
      "Allocate tensors for mapping.\n",
      "Begin training with 109 genes and uniform density_prior in cells mode...\n",
      "Printing scores every 100 epochs.\n",
      "Score: 0.367, KL reg: 0.000\n",
      "Saving results..\n"
     ]
    },
    {
     "name": "stderr",
     "output_type": "stream",
     "text": [
      "[rank: 0] Global seed set to 0\n"
     ]
    },
    {
     "name": "stdout",
     "output_type": "stream",
     "text": [
      "100\n",
      "111 training genes are saved in `uns``training_genes` of both single cell and spatial Anndatas.\n",
      "111 overlapped genes are saved in `uns``overlap_genes` of both single cell and spatial Anndatas.\n",
      "uniform based density prior is calculated and saved in `obs``uniform_density` of the spatial Anndata.\n",
      "rna count based density prior is calculated and saved in `obs``rna_count_based_density` of the spatial Anndata.\n",
      "Allocate tensors for mapping.\n",
      "Begin training with 111 genes and uniform density_prior in cells mode...\n",
      "Printing scores every 100 epochs.\n",
      "Score: 0.372, KL reg: 0.000\n",
      "Saving results..\n",
      "100\n",
      "111 training genes are saved in `uns``training_genes` of both single cell and spatial Anndatas.\n",
      "111 overlapped genes are saved in `uns``overlap_genes` of both single cell and spatial Anndatas.\n",
      "uniform based density prior is calculated and saved in `obs``uniform_density` of the spatial Anndata.\n",
      "rna count based density prior is calculated and saved in `obs``rna_count_based_density` of the spatial Anndata.\n",
      "Allocate tensors for mapping.\n",
      "Begin training with 111 genes and uniform density_prior in cells mode...\n",
      "Printing scores every 100 epochs.\n",
      "Score: 0.372, KL reg: 0.000\n",
      "Saving results..\n"
     ]
    },
    {
     "name": "stderr",
     "output_type": "stream",
     "text": [
      "[rank: 0] Global seed set to 0\n"
     ]
    },
    {
     "name": "stdout",
     "output_type": "stream",
     "text": [
      "100\n",
      "109 training genes are saved in `uns``training_genes` of both single cell and spatial Anndatas.\n",
      "109 overlapped genes are saved in `uns``overlap_genes` of both single cell and spatial Anndatas.\n",
      "uniform based density prior is calculated and saved in `obs``uniform_density` of the spatial Anndata.\n",
      "rna count based density prior is calculated and saved in `obs``rna_count_based_density` of the spatial Anndata.\n",
      "Allocate tensors for mapping.\n",
      "Begin training with 109 genes and uniform density_prior in cells mode...\n",
      "Printing scores every 100 epochs.\n",
      "Score: 0.367, KL reg: 0.000\n",
      "Saving results..\n",
      "100\n",
      "109 training genes are saved in `uns``training_genes` of both single cell and spatial Anndatas.\n",
      "109 overlapped genes are saved in `uns``overlap_genes` of both single cell and spatial Anndatas.\n",
      "uniform based density prior is calculated and saved in `obs``uniform_density` of the spatial Anndata.\n",
      "rna count based density prior is calculated and saved in `obs``rna_count_based_density` of the spatial Anndata.\n",
      "Allocate tensors for mapping.\n",
      "Begin training with 109 genes and uniform density_prior in cells mode...\n",
      "Printing scores every 100 epochs.\n",
      "Score: 0.370, KL reg: 0.000\n",
      "Saving results..\n",
      "100\n"
     ]
    }
   ],
   "source": [
    "for seed in range(0,10):\n",
    "\n",
    "    lightning.seed_everything(0)\n",
    "    adata_st = sc.read_h5ad(f\"/gpfs/gibbs/pi/zhao/tl688/tangram/data_brain/spe_xenium_data_0.1_seed{seed}.h5ad\")\n",
    "\n",
    "    adata_sc = sc.read_h5ad(\"/gpfs/gibbs/pi/zhao/tl688/deconvdatasets/spatial_dataset/xenium_brain/aibs_mouse_ctx-hpf_smartseq_sce.h5ad\")\n",
    "    adata_sc.obs['scClassify'] = adata_sc.obs['cell_type_alias_label2'].copy()\n",
    "    adata_sc.var_names_make_unique()\n",
    "\n",
    "    info_gene = calcualte_pse_correlation(adata_sc, adata_st, 'scClassify')\n",
    "    \n",
    "    adata_sc = adata_sc[:,info_gene]\n",
    "    adata_st = adata_st[:,info_gene]\n",
    "\n",
    "    import random \n",
    "    random.seed(2023)\n",
    "    overlap_gene = list(set(adata_st.var_names).intersection(adata_sc.var_names))\n",
    "    overlap_gene = sorted(overlap_gene)\n",
    "\n",
    "    train_g, test_g = train_test_split(overlap_gene, test_size=0.33, random_state=2023)\n",
    "    adata_st[:, test_g].X = 0\n",
    "    \n",
    "    tangram_batch_allsc(adata_st, adata_sc, epoch=100, savepath='./data_brain/', \n",
    "                        celltype='scClassify', filename = 'mousebrain', spatial_label = 'scClassify',\n",
    "                        batchsize = 10000,\n",
    "                       set_seed = seed,\n",
    "                       train_gene = train_g)"
   ]
  },
  {
   "cell_type": "code",
   "execution_count": null,
   "id": "372c5fbc-141a-4233-b619-9ad991eae36e",
   "metadata": {},
   "outputs": [],
   "source": []
  },
  {
   "cell_type": "code",
   "execution_count": null,
   "id": "b6b5c95b-06c1-4829-8caf-ce86fb1b507f",
   "metadata": {},
   "outputs": [
    {
     "name": "stderr",
     "output_type": "stream",
     "text": [
      "[rank: 0] Global seed set to 0\n"
     ]
    },
    {
     "name": "stdout",
     "output_type": "stream",
     "text": [
      "104 training genes are saved in `uns``training_genes` of both single cell and spatial Anndatas.\n",
      "104 overlapped genes are saved in `uns``overlap_genes` of both single cell and spatial Anndatas.\n",
      "uniform based density prior is calculated and saved in `obs``uniform_density` of the spatial Anndata.\n",
      "rna count based density prior is calculated and saved in `obs``rna_count_based_density` of the spatial Anndata.\n",
      "Allocate tensors for mapping.\n",
      "Begin training with 104 genes and uniform density_prior in cells mode...\n",
      "Printing scores every 100 epochs.\n",
      "Score: 0.360, KL reg: 0.000\n",
      "Score: 0.902, KL reg: 0.008\n",
      "Score: 0.924, KL reg: 0.004\n",
      "Score: 0.927, KL reg: 0.003\n",
      "Saving results..\n",
      "400\n",
      "104 training genes are saved in `uns``training_genes` of both single cell and spatial Anndatas.\n",
      "104 overlapped genes are saved in `uns``overlap_genes` of both single cell and spatial Anndatas.\n",
      "uniform based density prior is calculated and saved in `obs``uniform_density` of the spatial Anndata.\n",
      "rna count based density prior is calculated and saved in `obs``rna_count_based_density` of the spatial Anndata.\n",
      "Allocate tensors for mapping.\n",
      "Begin training with 104 genes and uniform density_prior in cells mode...\n",
      "Printing scores every 100 epochs.\n",
      "Score: 0.358, KL reg: 0.000\n",
      "Score: 0.915, KL reg: 0.006\n",
      "Score: 0.930, KL reg: 0.003\n",
      "Score: 0.933, KL reg: 0.003\n",
      "Saving results..\n",
      "400\n"
     ]
    },
    {
     "name": "stderr",
     "output_type": "stream",
     "text": [
      "[rank: 0] Global seed set to 0\n"
     ]
    },
    {
     "name": "stdout",
     "output_type": "stream",
     "text": [
      "109 training genes are saved in `uns``training_genes` of both single cell and spatial Anndatas.\n",
      "109 overlapped genes are saved in `uns``overlap_genes` of both single cell and spatial Anndatas.\n",
      "uniform based density prior is calculated and saved in `obs``uniform_density` of the spatial Anndata.\n",
      "rna count based density prior is calculated and saved in `obs``rna_count_based_density` of the spatial Anndata.\n",
      "Allocate tensors for mapping.\n",
      "Begin training with 109 genes and uniform density_prior in cells mode...\n"
     ]
    }
   ],
   "source": [
    "for seed in range(0,10):\n",
    "\n",
    "    lightning.seed_everything(0)\n",
    "    adata_st = sc.read_h5ad(f\"/gpfs/gibbs/pi/zhao/tl688/tangram/data_brain/spe_xenium_data_0.1_seed{seed}.h5ad\")\n",
    "\n",
    "    adata_sc = sc.read_h5ad(\"/gpfs/gibbs/pi/zhao/tl688/deconvdatasets/spatial_dataset/xenium_brain/aibs_mouse_ctx-hpf_smartseq_sce.h5ad\")\n",
    "    adata_sc.obs['scClassify'] = adata_sc.obs['cell_type_alias_label2'].copy()\n",
    "    adata_sc.var_names_make_unique()\n",
    "\n",
    "    info_gene = calcualte_pse_correlation(adata_sc, adata_st, 'scClassify')\n",
    "    \n",
    "    adata_sc = adata_sc[:,info_gene]\n",
    "    adata_st = adata_st[:,info_gene]\n",
    "\n",
    "    import random \n",
    "    random.seed(2023)\n",
    "    overlap_gene = list(set(adata_st.var_names).intersection(adata_sc.var_names))\n",
    "    overlap_gene = sorted(overlap_gene)\n",
    "\n",
    "    train_g, test_g = train_test_split(overlap_gene, test_size=0.33, random_state=2023)\n",
    "    adata_st[:, test_g].X = 0\n",
    "    \n",
    "    tangram_batch_allsc(adata_st, adata_sc, epoch=400, savepath='./data_brain/', \n",
    "                        celltype='scClassify', filename = 'mousebrain', spatial_label = 'scClassify',\n",
    "                        batchsize = 10000,\n",
    "                       set_seed = seed,\n",
    "                       train_gene = train_g)"
   ]
  },
  {
   "cell_type": "code",
   "execution_count": null,
   "id": "e205bf8d-ae1c-454b-942a-0fd381e2220c",
   "metadata": {},
   "outputs": [],
   "source": []
  },
  {
   "cell_type": "code",
   "execution_count": null,
   "id": "5bc44822-1d38-4c38-b7d9-7f9f41c734af",
   "metadata": {},
   "outputs": [],
   "source": []
  },
  {
   "cell_type": "markdown",
   "id": "479c8731-ea7d-4a23-8d89-e29f4a248bfb",
   "metadata": {},
   "source": [
    "# tangram normalized"
   ]
  },
  {
   "cell_type": "code",
   "execution_count": 16,
   "id": "d0695a7f-4e5d-4252-a08c-96cf59fb6ae6",
   "metadata": {},
   "outputs": [
    {
     "name": "stdout",
     "output_type": "stream",
     "text": [
      "scanpy==1.9.5 anndata==0.9.2 umap==0.5.4 numpy==1.22.0 scipy==1.10.1 pandas==2.0.3 scikit-learn==1.3.1 statsmodels==0.14.0 igraph==0.10.8 pynndescent==0.5.10\n",
      "squidpy==1.2.3\n",
      "The autoreload extension is already loaded. To reload it, use:\n",
      "  %reload_ext autoreload\n"
     ]
    }
   ],
   "source": [
    "import scanpy as sc\n",
    "import squidpy as sq\n",
    "import numpy as np\n",
    "import pandas as pd\n",
    "from anndata import AnnData\n",
    "import pathlib\n",
    "import matplotlib.pyplot as plt\n",
    "import matplotlib as mpl\n",
    "import skimage\n",
    "import seaborn as sns\n",
    "import tangram as tg\n",
    "import gc\n",
    "\n",
    "import cosg\n",
    "\n",
    "import scipy.stats as st\n",
    "\n",
    "sc.logging.print_header()\n",
    "print(f\"squidpy=={sq.__version__}\")\n",
    "\n",
    "%load_ext autoreload\n",
    "%autoreload 2\n",
    "%matplotlib inline"
   ]
  },
  {
   "cell_type": "code",
   "execution_count": 17,
   "id": "255faddc-ea9b-4bd2-9575-66c6173fb9d5",
   "metadata": {},
   "outputs": [],
   "source": [
    "import lightning"
   ]
  },
  {
   "cell_type": "code",
   "execution_count": null,
   "id": "64db9e9b-e9d4-4a87-8ee2-29f9626a645b",
   "metadata": {},
   "outputs": [],
   "source": []
  },
  {
   "cell_type": "code",
   "execution_count": 26,
   "id": "381333e2-ad04-4c6f-9184-9def899a946e",
   "metadata": {},
   "outputs": [],
   "source": [
    "adata_sc = sc.read_h5ad(\"/gpfs/gibbs/pi/zhao/tl688/tangram/data_smfish/scrnaseq_data.h5ad\")\n",
    "adata_st = sc.read_h5ad(\"/gpfs/gibbs/pi/zhao/tl688/tangram/data_smfish/spatial_data.h5ad\")"
   ]
  },
  {
   "cell_type": "code",
   "execution_count": 27,
   "id": "f79ef2f8-78a2-4699-9466-32014f417d20",
   "metadata": {},
   "outputs": [],
   "source": [
    "from sklearn.model_selection import train_test_split"
   ]
  },
  {
   "cell_type": "code",
   "execution_count": 28,
   "id": "6127c513-62bf-431b-8321-4633304fe1e2",
   "metadata": {},
   "outputs": [],
   "source": [
    "def calcualte_pse_correlation(adata_sc, adata_st, celltype, p_value_threshold = 0.05, cor_threshold = 0.5):\n",
    "    overlap_gene = overlap_gene = list(set(adata_sc.var_names).intersection(adata_st.var_names))\n",
    "    adata_sc = adata_sc[:,overlap_gene]\n",
    "    adata_st = adata_st[:,overlap_gene]\n",
    "    \n",
    "    cell_type_common = list(set(adata_sc.obs[celltype].unique()).intersection(adata_st.obs[celltype].unique()))\n",
    "    \n",
    "    pseudo_st = []\n",
    "    pseudo_sc = []\n",
    "    for i in cell_type_common:\n",
    "        adata1 = adata_st[adata_st.obs[celltype] == i]\n",
    "        adata2 = adata_sc[adata_sc.obs[celltype] == i]\n",
    "\n",
    "        pseudo_st.append(np.mean(adata1.X.toarray(), axis = 0))\n",
    "        pseudo_sc.append(np.mean(adata2.X.toarray(), axis = 0))\n",
    "    \n",
    "    pseudo_st = np.array(pseudo_st)\n",
    "    pseudo_sc = np.array(pseudo_sc)\n",
    "\n",
    "    cor_pearson = []\n",
    "    cor_pvalue = []\n",
    "    for i in range(pseudo_st.shape[1]):\n",
    "        cor, pval = st.pearsonr(pseudo_st[:,i], pseudo_sc[:,i])\n",
    "        cor_pearson.append(cor)\n",
    "        cor_pvalue.append(pval)\n",
    "        \n",
    "    information_stat = pd.DataFrame()\n",
    "\n",
    "    information_stat['pearson'] = cor_pearson\n",
    "    information_stat['pvalue'] = cor_pvalue\n",
    "    information_stat.index = adata_st.var_names\n",
    "\n",
    "    information_stat_update = information_stat.loc[((information_stat['pvalue']<p_value_threshold) & (information_stat['pearson']>cor_threshold))]\n",
    "    \n",
    "    return information_stat_update.index"
   ]
  },
  {
   "cell_type": "code",
   "execution_count": 29,
   "id": "adb9a9f6-a5d7-4797-a8be-25eb40c71619",
   "metadata": {},
   "outputs": [],
   "source": [
    "info_gene = calcualte_pse_correlation(adata_sc, adata_st, 'scClassify')"
   ]
  },
  {
   "cell_type": "code",
   "execution_count": 30,
   "id": "c3312ecf-94f8-4eed-852c-6144409f0d48",
   "metadata": {},
   "outputs": [],
   "source": [
    "adata_sc = adata_sc[:,info_gene]\n",
    "adata_st = adata_st[:,info_gene]"
   ]
  },
  {
   "cell_type": "code",
   "execution_count": 31,
   "id": "89594846-0a2f-4b76-ba58-398521cc01c8",
   "metadata": {},
   "outputs": [],
   "source": [
    "import random \n",
    "random.seed(2023)\n",
    "overlap_gene = list(set(adata_st.var_names).intersection(adata_sc.var_names))\n",
    "overlap_gene = sorted(overlap_gene)"
   ]
  },
  {
   "cell_type": "code",
   "execution_count": 32,
   "id": "3d70bda4-0c94-4405-b6cf-7570d9a09ab9",
   "metadata": {},
   "outputs": [],
   "source": [
    "train_g, test_g = train_test_split(overlap_gene, test_size=0.33, random_state=2023)"
   ]
  },
  {
   "cell_type": "code",
   "execution_count": 33,
   "id": "d52eb28a-7456-4780-aea8-7f8acd99150b",
   "metadata": {},
   "outputs": [],
   "source": [
    "# adata_st[:, test_g].X = 0"
   ]
  },
  {
   "cell_type": "code",
   "execution_count": 34,
   "id": "274d0280-d4f7-43be-a619-d65c2458f46d",
   "metadata": {},
   "outputs": [],
   "source": [
    "sc.pp.normalize_total(adata_sc)\n",
    "sc.pp.log1p(adata_sc)\n",
    "\n",
    "sc.pp.normalize_total(adata_st)\n",
    "sc.pp.log1p(adata_st)"
   ]
  },
  {
   "cell_type": "code",
   "execution_count": null,
   "id": "bab0e356-0775-4420-81db-d294bc94a22e",
   "metadata": {},
   "outputs": [],
   "source": []
  },
  {
   "cell_type": "code",
   "execution_count": 35,
   "id": "a270b1e7-1d1a-4050-ba1a-c5104bf6fdae",
   "metadata": {},
   "outputs": [],
   "source": [
    "def tangram_batch_allsc(adata_st_gt, adata_sc, savepath = \"./data_breastbatch/\", celltype = \"graph_cluster_anno\",  \n",
    "                  epoch = 500, filename = 'human_breast', batchsize = 10000, \n",
    "                        set_seed = 0, density_prior = 'uniform', train_gene = train_g, spatial_label = 'scClassify'):\n",
    "    lightning.seed_everything(set_seed)\n",
    "    markers = train_gene\n",
    "    adata_st.obs[celltype] = list(adata_st.obs[spatial_label])\n",
    "    for item in range(len(adata_st_gt)//batchsize + 1):\n",
    "        end = item*batchsize + batchsize\n",
    "        if end >= len(adata_st_gt):\n",
    "            end = len(adata_st_gt)\n",
    "\n",
    "        adata_st_imp = adata_st[item*batchsize:end,:]\n",
    "        \n",
    "        sample_adata_celltype = adata_st_imp.obs[celltype].unique()\n",
    "        \n",
    "        tg.pp_adatas(adata_sc, adata_st_imp, genes=markers, gene_to_lowercase = False)\n",
    "\n",
    "        ad_map = tg.map_cells_to_space(adata_sc, adata_st_imp,\n",
    "            mode=\"cells\",\n",
    "            density_prior=density_prior,\n",
    "            num_epochs=epoch,\n",
    "            device=\"cuda:0\", \n",
    "            correlation = False       #     device='cpu',\n",
    "\n",
    "        )\n",
    "\n",
    "        gc.collect()\n",
    "        #adata_sc = sc.read_h5ad(\"/gpfs/gibbs/pi/zhao/tl688/deconvdatasets/spatial_dataset/xenium_brain/aibs_mouse_ctx-hpf_smartseq_sce.h5ad\")\n",
    "        ad_ge = tg.project_genes(adata_map=ad_map, adata_sc=adata_sc, gene_to_lowercase = False)\n",
    "        gc.collect()\n",
    "        print(epoch)\n",
    "        ad_ge.write_h5ad(savepath + f\"{filename}_data_batch_maskgene_raw_filter0.5_normalized_{epoch}_{item}_seed{set_seed}.h5ad\")\n",
    "    return True"
   ]
  },
  {
   "cell_type": "code",
   "execution_count": 36,
   "id": "0f69aea9-9ac6-4f62-908e-7ec47efc36ed",
   "metadata": {},
   "outputs": [
    {
     "name": "stderr",
     "output_type": "stream",
     "text": [
      "[rank: 0] Global seed set to 0\n"
     ]
    },
    {
     "name": "stdout",
     "output_type": "stream",
     "text": [
      "13 training genes are saved in `uns``training_genes` of both single cell and spatial Anndatas.\n",
      "20 overlapped genes are saved in `uns``overlap_genes` of both single cell and spatial Anndatas.\n",
      "uniform based density prior is calculated and saved in `obs``uniform_density` of the spatial Anndata.\n",
      "rna count based density prior is calculated and saved in `obs``rna_count_based_density` of the spatial Anndata.\n",
      "Allocate tensors for mapping.\n",
      "Begin training with 13 genes and uniform density_prior in cells mode...\n",
      "Printing scores every 100 epochs.\n",
      "Score: 0.766, KL reg: 0.000\n",
      "Score: 0.998, KL reg: 0.000\n",
      "Score: 0.999, KL reg: 0.000\n",
      "Score: 0.999, KL reg: 0.000\n",
      "Score: 0.999, KL reg: 0.000\n",
      "Saving results..\n"
     ]
    },
    {
     "name": "stderr",
     "output_type": "stream",
     "text": [
      "[rank: 0] Global seed set to 1\n"
     ]
    },
    {
     "name": "stdout",
     "output_type": "stream",
     "text": [
      "500\n",
      "13 training genes are saved in `uns``training_genes` of both single cell and spatial Anndatas.\n",
      "20 overlapped genes are saved in `uns``overlap_genes` of both single cell and spatial Anndatas.\n",
      "uniform based density prior is calculated and saved in `obs``uniform_density` of the spatial Anndata.\n",
      "rna count based density prior is calculated and saved in `obs``rna_count_based_density` of the spatial Anndata.\n",
      "Allocate tensors for mapping.\n",
      "Begin training with 13 genes and uniform density_prior in cells mode...\n",
      "Printing scores every 100 epochs.\n",
      "Score: 0.766, KL reg: 0.000\n",
      "Score: 0.998, KL reg: 0.000\n",
      "Score: 0.999, KL reg: 0.000\n",
      "Score: 0.999, KL reg: 0.000\n",
      "Score: 0.999, KL reg: 0.000\n",
      "Saving results..\n"
     ]
    },
    {
     "name": "stderr",
     "output_type": "stream",
     "text": [
      "[rank: 0] Global seed set to 2\n"
     ]
    },
    {
     "name": "stdout",
     "output_type": "stream",
     "text": [
      "500\n",
      "13 training genes are saved in `uns``training_genes` of both single cell and spatial Anndatas.\n",
      "20 overlapped genes are saved in `uns``overlap_genes` of both single cell and spatial Anndatas.\n",
      "uniform based density prior is calculated and saved in `obs``uniform_density` of the spatial Anndata.\n",
      "rna count based density prior is calculated and saved in `obs``rna_count_based_density` of the spatial Anndata.\n",
      "Allocate tensors for mapping.\n",
      "Begin training with 13 genes and uniform density_prior in cells mode...\n",
      "Printing scores every 100 epochs.\n",
      "Score: 0.766, KL reg: 0.000\n",
      "Score: 0.998, KL reg: 0.000\n",
      "Score: 0.999, KL reg: 0.000\n",
      "Score: 0.999, KL reg: 0.000\n",
      "Score: 0.999, KL reg: 0.000\n",
      "Saving results..\n"
     ]
    },
    {
     "name": "stderr",
     "output_type": "stream",
     "text": [
      "[rank: 0] Global seed set to 3\n"
     ]
    },
    {
     "name": "stdout",
     "output_type": "stream",
     "text": [
      "500\n",
      "13 training genes are saved in `uns``training_genes` of both single cell and spatial Anndatas.\n",
      "20 overlapped genes are saved in `uns``overlap_genes` of both single cell and spatial Anndatas.\n",
      "uniform based density prior is calculated and saved in `obs``uniform_density` of the spatial Anndata.\n",
      "rna count based density prior is calculated and saved in `obs``rna_count_based_density` of the spatial Anndata.\n",
      "Allocate tensors for mapping.\n",
      "Begin training with 13 genes and uniform density_prior in cells mode...\n",
      "Printing scores every 100 epochs.\n",
      "Score: 0.766, KL reg: 0.000\n",
      "Score: 0.998, KL reg: 0.000\n",
      "Score: 0.999, KL reg: 0.000\n",
      "Score: 0.999, KL reg: 0.000\n",
      "Score: 0.999, KL reg: 0.000\n",
      "Saving results..\n"
     ]
    },
    {
     "name": "stderr",
     "output_type": "stream",
     "text": [
      "[rank: 0] Global seed set to 4\n"
     ]
    },
    {
     "name": "stdout",
     "output_type": "stream",
     "text": [
      "500\n",
      "13 training genes are saved in `uns``training_genes` of both single cell and spatial Anndatas.\n",
      "20 overlapped genes are saved in `uns``overlap_genes` of both single cell and spatial Anndatas.\n",
      "uniform based density prior is calculated and saved in `obs``uniform_density` of the spatial Anndata.\n",
      "rna count based density prior is calculated and saved in `obs``rna_count_based_density` of the spatial Anndata.\n",
      "Allocate tensors for mapping.\n",
      "Begin training with 13 genes and uniform density_prior in cells mode...\n",
      "Printing scores every 100 epochs.\n",
      "Score: 0.766, KL reg: 0.000\n",
      "Score: 0.998, KL reg: 0.000\n",
      "Score: 0.999, KL reg: 0.000\n",
      "Score: 0.999, KL reg: 0.000\n",
      "Score: 0.999, KL reg: 0.000\n",
      "Saving results..\n"
     ]
    },
    {
     "name": "stderr",
     "output_type": "stream",
     "text": [
      "[rank: 0] Global seed set to 5\n"
     ]
    },
    {
     "name": "stdout",
     "output_type": "stream",
     "text": [
      "500\n",
      "13 training genes are saved in `uns``training_genes` of both single cell and spatial Anndatas.\n",
      "20 overlapped genes are saved in `uns``overlap_genes` of both single cell and spatial Anndatas.\n",
      "uniform based density prior is calculated and saved in `obs``uniform_density` of the spatial Anndata.\n",
      "rna count based density prior is calculated and saved in `obs``rna_count_based_density` of the spatial Anndata.\n",
      "Allocate tensors for mapping.\n",
      "Begin training with 13 genes and uniform density_prior in cells mode...\n",
      "Printing scores every 100 epochs.\n",
      "Score: 0.766, KL reg: 0.000\n",
      "Score: 0.998, KL reg: 0.000\n",
      "Score: 0.999, KL reg: 0.000\n",
      "Score: 0.999, KL reg: 0.000\n",
      "Score: 0.999, KL reg: 0.000\n",
      "Saving results..\n"
     ]
    },
    {
     "name": "stderr",
     "output_type": "stream",
     "text": [
      "[rank: 0] Global seed set to 6\n"
     ]
    },
    {
     "name": "stdout",
     "output_type": "stream",
     "text": [
      "500\n",
      "13 training genes are saved in `uns``training_genes` of both single cell and spatial Anndatas.\n",
      "20 overlapped genes are saved in `uns``overlap_genes` of both single cell and spatial Anndatas.\n",
      "uniform based density prior is calculated and saved in `obs``uniform_density` of the spatial Anndata.\n",
      "rna count based density prior is calculated and saved in `obs``rna_count_based_density` of the spatial Anndata.\n",
      "Allocate tensors for mapping.\n",
      "Begin training with 13 genes and uniform density_prior in cells mode...\n",
      "Printing scores every 100 epochs.\n",
      "Score: 0.766, KL reg: 0.000\n",
      "Score: 0.998, KL reg: 0.000\n",
      "Score: 0.999, KL reg: 0.000\n",
      "Score: 0.999, KL reg: 0.000\n",
      "Score: 0.999, KL reg: 0.000\n",
      "Saving results..\n"
     ]
    },
    {
     "name": "stderr",
     "output_type": "stream",
     "text": [
      "[rank: 0] Global seed set to 7\n"
     ]
    },
    {
     "name": "stdout",
     "output_type": "stream",
     "text": [
      "500\n",
      "13 training genes are saved in `uns``training_genes` of both single cell and spatial Anndatas.\n",
      "20 overlapped genes are saved in `uns``overlap_genes` of both single cell and spatial Anndatas.\n",
      "uniform based density prior is calculated and saved in `obs``uniform_density` of the spatial Anndata.\n",
      "rna count based density prior is calculated and saved in `obs``rna_count_based_density` of the spatial Anndata.\n",
      "Allocate tensors for mapping.\n",
      "Begin training with 13 genes and uniform density_prior in cells mode...\n",
      "Printing scores every 100 epochs.\n",
      "Score: 0.766, KL reg: 0.000\n",
      "Score: 0.998, KL reg: 0.000\n",
      "Score: 0.999, KL reg: 0.000\n",
      "Score: 0.999, KL reg: 0.000\n",
      "Score: 0.999, KL reg: 0.000\n",
      "Saving results..\n"
     ]
    },
    {
     "name": "stderr",
     "output_type": "stream",
     "text": [
      "[rank: 0] Global seed set to 8\n"
     ]
    },
    {
     "name": "stdout",
     "output_type": "stream",
     "text": [
      "500\n",
      "13 training genes are saved in `uns``training_genes` of both single cell and spatial Anndatas.\n",
      "20 overlapped genes are saved in `uns``overlap_genes` of both single cell and spatial Anndatas.\n",
      "uniform based density prior is calculated and saved in `obs``uniform_density` of the spatial Anndata.\n",
      "rna count based density prior is calculated and saved in `obs``rna_count_based_density` of the spatial Anndata.\n",
      "Allocate tensors for mapping.\n",
      "Begin training with 13 genes and uniform density_prior in cells mode...\n",
      "Printing scores every 100 epochs.\n",
      "Score: 0.766, KL reg: 0.000\n",
      "Score: 0.998, KL reg: 0.000\n",
      "Score: 0.999, KL reg: 0.000\n",
      "Score: 0.999, KL reg: 0.000\n",
      "Score: 0.999, KL reg: 0.000\n",
      "Saving results..\n"
     ]
    },
    {
     "name": "stderr",
     "output_type": "stream",
     "text": [
      "[rank: 0] Global seed set to 9\n"
     ]
    },
    {
     "name": "stdout",
     "output_type": "stream",
     "text": [
      "500\n",
      "13 training genes are saved in `uns``training_genes` of both single cell and spatial Anndatas.\n",
      "20 overlapped genes are saved in `uns``overlap_genes` of both single cell and spatial Anndatas.\n",
      "uniform based density prior is calculated and saved in `obs``uniform_density` of the spatial Anndata.\n",
      "rna count based density prior is calculated and saved in `obs``rna_count_based_density` of the spatial Anndata.\n",
      "Allocate tensors for mapping.\n",
      "Begin training with 13 genes and uniform density_prior in cells mode...\n",
      "Printing scores every 100 epochs.\n",
      "Score: 0.766, KL reg: 0.000\n",
      "Score: 0.998, KL reg: 0.000\n",
      "Score: 0.999, KL reg: 0.000\n",
      "Score: 0.999, KL reg: 0.000\n",
      "Score: 0.999, KL reg: 0.000\n",
      "Saving results..\n",
      "500\n"
     ]
    }
   ],
   "source": [
    "for seed in range(0,10):\n",
    "\n",
    "    tangram_batch_allsc(adata_st, adata_sc, epoch=500, savepath='./data_smfish/', \n",
    "                        celltype='scClassify', filename = 'smfish', spatial_label = 'scClassify',\n",
    "                       set_seed = seed)"
   ]
  },
  {
   "cell_type": "code",
   "execution_count": null,
   "id": "9f0cf041-e743-43eb-8e1a-d9b6af2c71de",
   "metadata": {},
   "outputs": [],
   "source": []
  },
  {
   "cell_type": "code",
   "execution_count": null,
   "id": "e768e0d4",
   "metadata": {},
   "outputs": [],
   "source": []
  },
  {
   "cell_type": "markdown",
   "id": "307d337d",
   "metadata": {},
   "source": [
    "# seqFISH"
   ]
  },
  {
   "cell_type": "code",
   "execution_count": 1,
   "id": "1ea3d5df-a37c-4545-a3ef-d974c66d6814",
   "metadata": {},
   "outputs": [
    {
     "name": "stdout",
     "output_type": "stream",
     "text": [
      "scanpy==1.9.5 anndata==0.9.2 umap==0.5.4 numpy==1.22.0 scipy==1.10.1 pandas==1.5.0 scikit-learn==1.3.1 statsmodels==0.14.0 igraph==0.10.8 pynndescent==0.5.10\n",
      "squidpy==1.2.3\n"
     ]
    }
   ],
   "source": [
    "import scanpy as sc\n",
    "import squidpy as sq\n",
    "import numpy as np\n",
    "import pandas as pd\n",
    "from anndata import AnnData\n",
    "import pathlib\n",
    "import matplotlib.pyplot as plt\n",
    "import matplotlib as mpl\n",
    "import skimage\n",
    "import seaborn as sns\n",
    "import tangram as tg\n",
    "import gc\n",
    "\n",
    "import cosg\n",
    "\n",
    "import scipy.stats as st\n",
    "\n",
    "sc.logging.print_header()\n",
    "print(f\"squidpy=={sq.__version__}\")\n",
    "\n",
    "%load_ext autoreload\n",
    "%autoreload 2\n",
    "%matplotlib inline"
   ]
  },
  {
   "cell_type": "code",
   "execution_count": 2,
   "id": "0379af4b-3de2-41a3-9a7b-e6bcb7730230",
   "metadata": {},
   "outputs": [],
   "source": [
    "import lightning"
   ]
  },
  {
   "cell_type": "code",
   "execution_count": 3,
   "id": "040caa4c-234d-4937-a07f-120212a7f946",
   "metadata": {},
   "outputs": [],
   "source": [
    "def calcualte_pse_correlation(adata_sc, adata_st, celltype, p_value_threshold = 0.05, cor_threshold = 0.5):\n",
    "    overlap_gene = overlap_gene = list(set(adata_sc.var_names).intersection(adata_st.var_names))\n",
    "    adata_sc = adata_sc[:,overlap_gene]\n",
    "    adata_st = adata_st[:,overlap_gene]\n",
    "    \n",
    "    cell_type_common = list(set(adata_sc.obs[celltype].unique()).intersection(adata_st.obs[celltype].unique()))\n",
    "    \n",
    "    pseudo_st = []\n",
    "    pseudo_sc = []\n",
    "    for i in cell_type_common:\n",
    "        adata1 = adata_st[adata_st.obs[celltype] == i]\n",
    "        adata2 = adata_sc[adata_sc.obs[celltype] == i]\n",
    "\n",
    "        pseudo_st.append(np.mean(adata1.X.toarray(), axis = 0))\n",
    "        pseudo_sc.append(np.mean(adata2.X.toarray(), axis = 0))\n",
    "    \n",
    "    pseudo_st = np.array(pseudo_st)\n",
    "    pseudo_sc = np.array(pseudo_sc)\n",
    "\n",
    "    cor_pearson = []\n",
    "    cor_pvalue = []\n",
    "    for i in range(pseudo_st.shape[1]):\n",
    "        cor, pval = st.pearsonr(pseudo_st[:,i], pseudo_sc[:,i])\n",
    "        cor_pearson.append(cor)\n",
    "        cor_pvalue.append(pval)\n",
    "        \n",
    "    information_stat = pd.DataFrame()\n",
    "\n",
    "    information_stat['pearson'] = cor_pearson\n",
    "    information_stat['pvalue'] = cor_pvalue\n",
    "    information_stat.index = adata_st.var_names\n",
    "\n",
    "    information_stat_update = information_stat.loc[((information_stat['pvalue']<p_value_threshold) & (information_stat['pearson']>cor_threshold))]\n",
    "    \n",
    "    return information_stat_update.index"
   ]
  },
  {
   "cell_type": "code",
   "execution_count": 4,
   "id": "b616f395-39c3-42d3-a221-c5a96af069b6",
   "metadata": {},
   "outputs": [],
   "source": [
    "adata_sc = sc.read_h5ad(\"/gpfs/gibbs/pi/zhao/tl688/seqfishdata/data/scRNAseq/seqfish/scRNAseq_seqfish.h5ad\")\n",
    "adata_sc.var_names_make_unique()\n",
    "adata_sc.obs['scClassify'] = adata_sc.obs['celltype'].copy() "
   ]
  },
  {
   "cell_type": "code",
   "execution_count": 5,
   "id": "acb42c72-752d-4a71-9258-93ddd3f2ae6d",
   "metadata": {},
   "outputs": [],
   "source": [
    "from sklearn.model_selection import train_test_split"
   ]
  },
  {
   "cell_type": "code",
   "execution_count": 6,
   "id": "d3fa5304-a5f0-4a4a-b6cc-3767692f7cb4",
   "metadata": {},
   "outputs": [],
   "source": [
    "def tangram_batch_allsc(adata_st_gt, adata_sc, savepath = \"./data_breastbatch/\", celltype = \"graph_cluster_anno\",  \n",
    "                  epoch = 500, filename = 'human_breast', batchsize = 10000, \n",
    "                        set_seed = 0, density_prior = 'uniform', train_gene = None, spatial_label = 'scClassify'):\n",
    "    markers = train_gene\n",
    "    adata_st.obs[celltype] = list(adata_st.obs[spatial_label])\n",
    "    for item in range(len(adata_st_gt)//batchsize + 1):\n",
    "        end = item*batchsize + batchsize\n",
    "        if end >= len(adata_st_gt):\n",
    "            end = len(adata_st_gt)\n",
    "\n",
    "        adata_st_imp = adata_st[item*batchsize:end,:]\n",
    "        \n",
    "        sample_adata_celltype = adata_st_imp.obs[celltype].unique()\n",
    "        \n",
    "        tg.pp_adatas(adata_sc, adata_st_imp, genes=markers, gene_to_lowercase = False)\n",
    "\n",
    "        ad_map = tg.map_cells_to_space(adata_sc, adata_st_imp,\n",
    "            mode=\"cells\",\n",
    "            density_prior=density_prior,\n",
    "            num_epochs=epoch,\n",
    "            device=\"cuda:0\", \n",
    "            correlation = False       #     device='cpu',\n",
    "\n",
    "        )\n",
    "\n",
    "        gc.collect()\n",
    "        #adata_sc = sc.read_h5ad(\"/gpfs/gibbs/pi/zhao/tl688/deconvdatasets/spatial_dataset/xenium_brain/aibs_mouse_ctx-hpf_smartseq_sce.h5ad\")\n",
    "        ad_ge = tg.project_genes(adata_map=ad_map, adata_sc=adata_sc, gene_to_lowercase = False)\n",
    "        gc.collect()\n",
    "        print(epoch)\n",
    "        ad_ge.write_h5ad(savepath + f\"{filename}_data_batch_maskgene_raw_filter0.5_{epoch}_{item}_seed{set_seed}.h5ad\")\n",
    "    return True"
   ]
  },
  {
   "cell_type": "code",
   "execution_count": null,
   "id": "1224ad69-b61e-4bed-b683-d9c7ed644256",
   "metadata": {},
   "outputs": [],
   "source": []
  },
  {
   "cell_type": "code",
   "execution_count": 7,
   "id": "81bd3f0a-c986-40b3-84b9-30008628d00d",
   "metadata": {
    "scrolled": true
   },
   "outputs": [
    {
     "name": "stderr",
     "output_type": "stream",
     "text": [
      "[rank: 0] Global seed set to 0\n"
     ]
    },
    {
     "name": "stdout",
     "output_type": "stream",
     "text": [
      "115 training genes are saved in `uns``training_genes` of both single cell and spatial Anndatas.\n",
      "115 overlapped genes are saved in `uns``overlap_genes` of both single cell and spatial Anndatas.\n",
      "uniform based density prior is calculated and saved in `obs``uniform_density` of the spatial Anndata.\n",
      "rna count based density prior is calculated and saved in `obs``rna_count_based_density` of the spatial Anndata.\n",
      "Allocate tensors for mapping.\n",
      "Begin training with 115 genes and uniform density_prior in cells mode...\n",
      "Printing scores every 100 epochs.\n",
      "Score: 0.391, KL reg: 0.000\n",
      "Saving results..\n"
     ]
    },
    {
     "name": "stderr",
     "output_type": "stream",
     "text": [
      "[rank: 0] Global seed set to 0\n"
     ]
    },
    {
     "name": "stdout",
     "output_type": "stream",
     "text": [
      "100\n",
      "113 training genes are saved in `uns``training_genes` of both single cell and spatial Anndatas.\n",
      "113 overlapped genes are saved in `uns``overlap_genes` of both single cell and spatial Anndatas.\n",
      "uniform based density prior is calculated and saved in `obs``uniform_density` of the spatial Anndata.\n",
      "rna count based density prior is calculated and saved in `obs``rna_count_based_density` of the spatial Anndata.\n",
      "Allocate tensors for mapping.\n",
      "Begin training with 113 genes and uniform density_prior in cells mode...\n",
      "Printing scores every 100 epochs.\n",
      "Score: 0.393, KL reg: 0.000\n",
      "Saving results..\n"
     ]
    },
    {
     "name": "stderr",
     "output_type": "stream",
     "text": [
      "[rank: 0] Global seed set to 0\n"
     ]
    },
    {
     "name": "stdout",
     "output_type": "stream",
     "text": [
      "100\n",
      "111 training genes are saved in `uns``training_genes` of both single cell and spatial Anndatas.\n",
      "111 overlapped genes are saved in `uns``overlap_genes` of both single cell and spatial Anndatas.\n",
      "uniform based density prior is calculated and saved in `obs``uniform_density` of the spatial Anndata.\n",
      "rna count based density prior is calculated and saved in `obs``rna_count_based_density` of the spatial Anndata.\n",
      "Allocate tensors for mapping.\n",
      "Begin training with 111 genes and uniform density_prior in cells mode...\n",
      "Printing scores every 100 epochs.\n",
      "Score: 0.383, KL reg: 0.000\n",
      "Saving results..\n"
     ]
    },
    {
     "name": "stderr",
     "output_type": "stream",
     "text": [
      "[rank: 0] Global seed set to 0\n"
     ]
    },
    {
     "name": "stdout",
     "output_type": "stream",
     "text": [
      "100\n",
      "108 training genes are saved in `uns``training_genes` of both single cell and spatial Anndatas.\n",
      "108 overlapped genes are saved in `uns``overlap_genes` of both single cell and spatial Anndatas.\n",
      "uniform based density prior is calculated and saved in `obs``uniform_density` of the spatial Anndata.\n",
      "rna count based density prior is calculated and saved in `obs``rna_count_based_density` of the spatial Anndata.\n",
      "Allocate tensors for mapping.\n",
      "Begin training with 108 genes and uniform density_prior in cells mode...\n",
      "Printing scores every 100 epochs.\n",
      "Score: 0.391, KL reg: 0.000\n",
      "Saving results..\n"
     ]
    },
    {
     "name": "stderr",
     "output_type": "stream",
     "text": [
      "[rank: 0] Global seed set to 0\n"
     ]
    },
    {
     "name": "stdout",
     "output_type": "stream",
     "text": [
      "100\n",
      "110 training genes are saved in `uns``training_genes` of both single cell and spatial Anndatas.\n",
      "110 overlapped genes are saved in `uns``overlap_genes` of both single cell and spatial Anndatas.\n",
      "uniform based density prior is calculated and saved in `obs``uniform_density` of the spatial Anndata.\n",
      "rna count based density prior is calculated and saved in `obs``rna_count_based_density` of the spatial Anndata.\n",
      "Allocate tensors for mapping.\n",
      "Begin training with 110 genes and uniform density_prior in cells mode...\n",
      "Printing scores every 100 epochs.\n",
      "Score: 0.384, KL reg: 0.000\n",
      "Saving results..\n"
     ]
    },
    {
     "name": "stderr",
     "output_type": "stream",
     "text": [
      "[rank: 0] Global seed set to 0\n"
     ]
    },
    {
     "name": "stdout",
     "output_type": "stream",
     "text": [
      "100\n",
      "116 training genes are saved in `uns``training_genes` of both single cell and spatial Anndatas.\n",
      "116 overlapped genes are saved in `uns``overlap_genes` of both single cell and spatial Anndatas.\n",
      "uniform based density prior is calculated and saved in `obs``uniform_density` of the spatial Anndata.\n",
      "rna count based density prior is calculated and saved in `obs``rna_count_based_density` of the spatial Anndata.\n",
      "Allocate tensors for mapping.\n",
      "Begin training with 116 genes and uniform density_prior in cells mode...\n",
      "Printing scores every 100 epochs.\n",
      "Score: 0.399, KL reg: 0.000\n",
      "Saving results..\n"
     ]
    },
    {
     "name": "stderr",
     "output_type": "stream",
     "text": [
      "[rank: 0] Global seed set to 0\n"
     ]
    },
    {
     "name": "stdout",
     "output_type": "stream",
     "text": [
      "100\n",
      "110 training genes are saved in `uns``training_genes` of both single cell and spatial Anndatas.\n",
      "110 overlapped genes are saved in `uns``overlap_genes` of both single cell and spatial Anndatas.\n",
      "uniform based density prior is calculated and saved in `obs``uniform_density` of the spatial Anndata.\n",
      "rna count based density prior is calculated and saved in `obs``rna_count_based_density` of the spatial Anndata.\n",
      "Allocate tensors for mapping.\n",
      "Begin training with 110 genes and uniform density_prior in cells mode...\n",
      "Printing scores every 100 epochs.\n",
      "Score: 0.382, KL reg: 0.000\n",
      "Saving results..\n"
     ]
    },
    {
     "name": "stderr",
     "output_type": "stream",
     "text": [
      "[rank: 0] Global seed set to 0\n"
     ]
    },
    {
     "name": "stdout",
     "output_type": "stream",
     "text": [
      "100\n",
      "105 training genes are saved in `uns``training_genes` of both single cell and spatial Anndatas.\n",
      "105 overlapped genes are saved in `uns``overlap_genes` of both single cell and spatial Anndatas.\n",
      "uniform based density prior is calculated and saved in `obs``uniform_density` of the spatial Anndata.\n",
      "rna count based density prior is calculated and saved in `obs``rna_count_based_density` of the spatial Anndata.\n",
      "Allocate tensors for mapping.\n",
      "Begin training with 105 genes and uniform density_prior in cells mode...\n",
      "Printing scores every 100 epochs.\n",
      "Score: 0.392, KL reg: 0.000\n",
      "Saving results..\n"
     ]
    },
    {
     "name": "stderr",
     "output_type": "stream",
     "text": [
      "[rank: 0] Global seed set to 0\n"
     ]
    },
    {
     "name": "stdout",
     "output_type": "stream",
     "text": [
      "100\n",
      "106 training genes are saved in `uns``training_genes` of both single cell and spatial Anndatas.\n",
      "106 overlapped genes are saved in `uns``overlap_genes` of both single cell and spatial Anndatas.\n",
      "uniform based density prior is calculated and saved in `obs``uniform_density` of the spatial Anndata.\n",
      "rna count based density prior is calculated and saved in `obs``rna_count_based_density` of the spatial Anndata.\n",
      "Allocate tensors for mapping.\n",
      "Begin training with 106 genes and uniform density_prior in cells mode...\n",
      "Printing scores every 100 epochs.\n",
      "Score: 0.383, KL reg: 0.000\n",
      "Saving results..\n"
     ]
    },
    {
     "name": "stderr",
     "output_type": "stream",
     "text": [
      "[rank: 0] Global seed set to 0\n"
     ]
    },
    {
     "name": "stdout",
     "output_type": "stream",
     "text": [
      "100\n",
      "114 training genes are saved in `uns``training_genes` of both single cell and spatial Anndatas.\n",
      "114 overlapped genes are saved in `uns``overlap_genes` of both single cell and spatial Anndatas.\n",
      "uniform based density prior is calculated and saved in `obs``uniform_density` of the spatial Anndata.\n",
      "rna count based density prior is calculated and saved in `obs``rna_count_based_density` of the spatial Anndata.\n",
      "Allocate tensors for mapping.\n",
      "Begin training with 114 genes and uniform density_prior in cells mode...\n",
      "Printing scores every 100 epochs.\n",
      "Score: 0.397, KL reg: 0.000\n",
      "Saving results..\n",
      "100\n"
     ]
    }
   ],
   "source": [
    "for seed in range(0,10):\n",
    "    lightning.seed_everything(0)\n",
    "    adata_sc = sc.read_h5ad(\"/gpfs/gibbs/pi/zhao/tl688/seqfishdata/data/scRNAseq/seqfish/scRNAseq_seqfish.h5ad\")\n",
    "    adata_st = sc.read_h5ad(f\"/gpfs/gibbs/pi/zhao/tl688/tangram/data_seqfish/seqfish_data_seed{seed}.h5ad\")\n",
    "    adata_sc.var_names_make_unique()\n",
    "    \n",
    "    adata_sc.obs['scClassify'] = adata_sc.obs['celltype'].copy() \n",
    "    adata_st.obs['scClassify'] = adata_st.obs['celltype_mapped_refined'].copy() \n",
    "\n",
    "    info_gene = calcualte_pse_correlation(adata_sc, adata_st, 'scClassify')\n",
    "    \n",
    "    adata_sc = adata_sc[:,info_gene]\n",
    "    adata_st = adata_st[:,info_gene]\n",
    "\n",
    "    import random \n",
    "    random.seed(2023)\n",
    "    overlap_gene = list(set(adata_st.var_names).intersection(adata_sc.var_names))\n",
    "    overlap_gene = sorted(overlap_gene)\n",
    "\n",
    "    train_g, test_g = train_test_split(overlap_gene, test_size=0.33, random_state=2023)\n",
    "    adata_st[:, test_g].X = 0\n",
    "    \n",
    "    tangram_batch_allsc(adata_st, adata_sc, epoch=100, savepath='./data_seqfish/', \n",
    "                        celltype='scClassify', filename = 'seqfish', spatial_label = 'scClassify',\n",
    "                        batchsize = 20000,\n",
    "                       set_seed = seed,\n",
    "                       train_gene = train_g)"
   ]
  },
  {
   "cell_type": "code",
   "execution_count": null,
   "id": "5ab472f3-02d8-4169-b9a7-feaa030dd5eb",
   "metadata": {},
   "outputs": [],
   "source": []
  },
  {
   "cell_type": "code",
   "execution_count": 8,
   "id": "3db9024a-938f-4562-abba-ba823a930111",
   "metadata": {},
   "outputs": [
    {
     "name": "stderr",
     "output_type": "stream",
     "text": [
      "[rank: 0] Global seed set to 0\n"
     ]
    },
    {
     "name": "stdout",
     "output_type": "stream",
     "text": [
      "115 training genes are saved in `uns``training_genes` of both single cell and spatial Anndatas.\n",
      "115 overlapped genes are saved in `uns``overlap_genes` of both single cell and spatial Anndatas.\n",
      "uniform based density prior is calculated and saved in `obs``uniform_density` of the spatial Anndata.\n",
      "rna count based density prior is calculated and saved in `obs``rna_count_based_density` of the spatial Anndata.\n",
      "Allocate tensors for mapping.\n",
      "Begin training with 115 genes and uniform density_prior in cells mode...\n",
      "Printing scores every 100 epochs.\n",
      "Score: 0.391, KL reg: 0.000\n",
      "Score: 0.916, KL reg: 0.005\n",
      "Score: 0.927, KL reg: 0.004\n",
      "Score: 0.930, KL reg: 0.004\n",
      "Saving results..\n"
     ]
    },
    {
     "name": "stderr",
     "output_type": "stream",
     "text": [
      "[rank: 0] Global seed set to 0\n"
     ]
    },
    {
     "name": "stdout",
     "output_type": "stream",
     "text": [
      "400\n",
      "113 training genes are saved in `uns``training_genes` of both single cell and spatial Anndatas.\n",
      "113 overlapped genes are saved in `uns``overlap_genes` of both single cell and spatial Anndatas.\n",
      "uniform based density prior is calculated and saved in `obs``uniform_density` of the spatial Anndata.\n",
      "rna count based density prior is calculated and saved in `obs``rna_count_based_density` of the spatial Anndata.\n",
      "Allocate tensors for mapping.\n",
      "Begin training with 113 genes and uniform density_prior in cells mode...\n",
      "Printing scores every 100 epochs.\n",
      "Score: 0.393, KL reg: 0.000\n",
      "Score: 0.914, KL reg: 0.006\n",
      "Score: 0.926, KL reg: 0.005\n",
      "Score: 0.928, KL reg: 0.005\n",
      "Saving results..\n"
     ]
    },
    {
     "name": "stderr",
     "output_type": "stream",
     "text": [
      "[rank: 0] Global seed set to 0\n"
     ]
    },
    {
     "name": "stdout",
     "output_type": "stream",
     "text": [
      "400\n",
      "111 training genes are saved in `uns``training_genes` of both single cell and spatial Anndatas.\n",
      "111 overlapped genes are saved in `uns``overlap_genes` of both single cell and spatial Anndatas.\n",
      "uniform based density prior is calculated and saved in `obs``uniform_density` of the spatial Anndata.\n",
      "rna count based density prior is calculated and saved in `obs``rna_count_based_density` of the spatial Anndata.\n",
      "Allocate tensors for mapping.\n",
      "Begin training with 111 genes and uniform density_prior in cells mode...\n",
      "Printing scores every 100 epochs.\n",
      "Score: 0.383, KL reg: 0.000\n",
      "Score: 0.917, KL reg: 0.005\n",
      "Score: 0.928, KL reg: 0.004\n",
      "Score: 0.931, KL reg: 0.004\n",
      "Saving results..\n"
     ]
    },
    {
     "name": "stderr",
     "output_type": "stream",
     "text": [
      "[rank: 0] Global seed set to 0\n"
     ]
    },
    {
     "name": "stdout",
     "output_type": "stream",
     "text": [
      "400\n",
      "108 training genes are saved in `uns``training_genes` of both single cell and spatial Anndatas.\n",
      "108 overlapped genes are saved in `uns``overlap_genes` of both single cell and spatial Anndatas.\n",
      "uniform based density prior is calculated and saved in `obs``uniform_density` of the spatial Anndata.\n",
      "rna count based density prior is calculated and saved in `obs``rna_count_based_density` of the spatial Anndata.\n",
      "Allocate tensors for mapping.\n",
      "Begin training with 108 genes and uniform density_prior in cells mode...\n",
      "Printing scores every 100 epochs.\n",
      "Score: 0.391, KL reg: 0.000\n",
      "Score: 0.921, KL reg: 0.006\n",
      "Score: 0.932, KL reg: 0.005\n",
      "Score: 0.935, KL reg: 0.004\n",
      "Saving results..\n"
     ]
    },
    {
     "name": "stderr",
     "output_type": "stream",
     "text": [
      "[rank: 0] Global seed set to 0\n"
     ]
    },
    {
     "name": "stdout",
     "output_type": "stream",
     "text": [
      "400\n",
      "110 training genes are saved in `uns``training_genes` of both single cell and spatial Anndatas.\n",
      "110 overlapped genes are saved in `uns``overlap_genes` of both single cell and spatial Anndatas.\n",
      "uniform based density prior is calculated and saved in `obs``uniform_density` of the spatial Anndata.\n",
      "rna count based density prior is calculated and saved in `obs``rna_count_based_density` of the spatial Anndata.\n",
      "Allocate tensors for mapping.\n",
      "Begin training with 110 genes and uniform density_prior in cells mode...\n",
      "Printing scores every 100 epochs.\n",
      "Score: 0.384, KL reg: 0.000\n",
      "Score: 0.920, KL reg: 0.006\n",
      "Score: 0.932, KL reg: 0.005\n",
      "Score: 0.934, KL reg: 0.004\n",
      "Saving results..\n"
     ]
    },
    {
     "name": "stderr",
     "output_type": "stream",
     "text": [
      "[rank: 0] Global seed set to 0\n"
     ]
    },
    {
     "name": "stdout",
     "output_type": "stream",
     "text": [
      "400\n",
      "116 training genes are saved in `uns``training_genes` of both single cell and spatial Anndatas.\n",
      "116 overlapped genes are saved in `uns``overlap_genes` of both single cell and spatial Anndatas.\n",
      "uniform based density prior is calculated and saved in `obs``uniform_density` of the spatial Anndata.\n",
      "rna count based density prior is calculated and saved in `obs``rna_count_based_density` of the spatial Anndata.\n",
      "Allocate tensors for mapping.\n",
      "Begin training with 116 genes and uniform density_prior in cells mode...\n",
      "Printing scores every 100 epochs.\n",
      "Score: 0.399, KL reg: 0.000\n",
      "Score: 0.913, KL reg: 0.006\n",
      "Score: 0.925, KL reg: 0.005\n",
      "Score: 0.927, KL reg: 0.004\n",
      "Saving results..\n"
     ]
    },
    {
     "name": "stderr",
     "output_type": "stream",
     "text": [
      "[rank: 0] Global seed set to 0\n"
     ]
    },
    {
     "name": "stdout",
     "output_type": "stream",
     "text": [
      "400\n",
      "110 training genes are saved in `uns``training_genes` of both single cell and spatial Anndatas.\n",
      "110 overlapped genes are saved in `uns``overlap_genes` of both single cell and spatial Anndatas.\n",
      "uniform based density prior is calculated and saved in `obs``uniform_density` of the spatial Anndata.\n",
      "rna count based density prior is calculated and saved in `obs``rna_count_based_density` of the spatial Anndata.\n",
      "Allocate tensors for mapping.\n",
      "Begin training with 110 genes and uniform density_prior in cells mode...\n",
      "Printing scores every 100 epochs.\n",
      "Score: 0.382, KL reg: 0.000\n",
      "Score: 0.916, KL reg: 0.005\n",
      "Score: 0.928, KL reg: 0.004\n",
      "Score: 0.930, KL reg: 0.004\n",
      "Saving results..\n"
     ]
    },
    {
     "name": "stderr",
     "output_type": "stream",
     "text": [
      "[rank: 0] Global seed set to 0\n"
     ]
    },
    {
     "name": "stdout",
     "output_type": "stream",
     "text": [
      "400\n",
      "105 training genes are saved in `uns``training_genes` of both single cell and spatial Anndatas.\n",
      "105 overlapped genes are saved in `uns``overlap_genes` of both single cell and spatial Anndatas.\n",
      "uniform based density prior is calculated and saved in `obs``uniform_density` of the spatial Anndata.\n",
      "rna count based density prior is calculated and saved in `obs``rna_count_based_density` of the spatial Anndata.\n",
      "Allocate tensors for mapping.\n",
      "Begin training with 105 genes and uniform density_prior in cells mode...\n",
      "Printing scores every 100 epochs.\n",
      "Score: 0.392, KL reg: 0.000\n",
      "Score: 0.922, KL reg: 0.005\n",
      "Score: 0.933, KL reg: 0.004\n",
      "Score: 0.935, KL reg: 0.004\n",
      "Saving results..\n"
     ]
    },
    {
     "name": "stderr",
     "output_type": "stream",
     "text": [
      "[rank: 0] Global seed set to 0\n"
     ]
    },
    {
     "name": "stdout",
     "output_type": "stream",
     "text": [
      "400\n",
      "106 training genes are saved in `uns``training_genes` of both single cell and spatial Anndatas.\n",
      "106 overlapped genes are saved in `uns``overlap_genes` of both single cell and spatial Anndatas.\n",
      "uniform based density prior is calculated and saved in `obs``uniform_density` of the spatial Anndata.\n",
      "rna count based density prior is calculated and saved in `obs``rna_count_based_density` of the spatial Anndata.\n",
      "Allocate tensors for mapping.\n",
      "Begin training with 106 genes and uniform density_prior in cells mode...\n",
      "Printing scores every 100 epochs.\n",
      "Score: 0.383, KL reg: 0.000\n",
      "Score: 0.931, KL reg: 0.004\n",
      "Score: 0.942, KL reg: 0.004\n",
      "Score: 0.944, KL reg: 0.003\n",
      "Saving results..\n"
     ]
    },
    {
     "name": "stderr",
     "output_type": "stream",
     "text": [
      "[rank: 0] Global seed set to 0\n"
     ]
    },
    {
     "name": "stdout",
     "output_type": "stream",
     "text": [
      "400\n",
      "114 training genes are saved in `uns``training_genes` of both single cell and spatial Anndatas.\n",
      "114 overlapped genes are saved in `uns``overlap_genes` of both single cell and spatial Anndatas.\n",
      "uniform based density prior is calculated and saved in `obs``uniform_density` of the spatial Anndata.\n",
      "rna count based density prior is calculated and saved in `obs``rna_count_based_density` of the spatial Anndata.\n",
      "Allocate tensors for mapping.\n",
      "Begin training with 114 genes and uniform density_prior in cells mode...\n",
      "Printing scores every 100 epochs.\n",
      "Score: 0.397, KL reg: 0.000\n",
      "Score: 0.915, KL reg: 0.005\n",
      "Score: 0.927, KL reg: 0.004\n",
      "Score: 0.929, KL reg: 0.004\n",
      "Saving results..\n",
      "400\n"
     ]
    }
   ],
   "source": [
    "for seed in range(0,10):\n",
    "    lightning.seed_everything(0)\n",
    "    adata_sc = sc.read_h5ad(\"/gpfs/gibbs/pi/zhao/tl688/seqfishdata/data/scRNAseq/seqfish/scRNAseq_seqfish.h5ad\")\n",
    "    adata_st = sc.read_h5ad(f\"/gpfs/gibbs/pi/zhao/tl688/tangram/data_seqfish/seqfish_data_seed{seed}.h5ad\")\n",
    "    adata_sc.var_names_make_unique()\n",
    "    \n",
    "    adata_sc.obs['scClassify'] = adata_sc.obs['celltype'].copy() \n",
    "    adata_st.obs['scClassify'] = adata_st.obs['celltype_mapped_refined'].copy() \n",
    "\n",
    "    info_gene = calcualte_pse_correlation(adata_sc, adata_st, 'scClassify')\n",
    "    \n",
    "    adata_sc = adata_sc[:,info_gene]\n",
    "    adata_st = adata_st[:,info_gene]\n",
    "\n",
    "    import random \n",
    "    random.seed(2023)\n",
    "    overlap_gene = list(set(adata_st.var_names).intersection(adata_sc.var_names))\n",
    "    overlap_gene = sorted(overlap_gene)\n",
    "\n",
    "    train_g, test_g = train_test_split(overlap_gene, test_size=0.33, random_state=2023)\n",
    "    adata_st[:, test_g].X = 0\n",
    "    \n",
    "    tangram_batch_allsc(adata_st, adata_sc, epoch=400, savepath='./data_seqfish/', \n",
    "                        celltype='scClassify', filename = 'seqfish', spatial_label = 'scClassify',\n",
    "                        batchsize = 20000,\n",
    "                       set_seed = seed,\n",
    "                       train_gene = train_g)"
   ]
  },
  {
   "cell_type": "code",
   "execution_count": null,
   "id": "f0ec532f-8679-43e0-b9e5-b534eabc85fe",
   "metadata": {},
   "outputs": [],
   "source": []
  },
  {
   "cell_type": "code",
   "execution_count": null,
   "id": "b1a0565e-134b-41b3-9963-7ca76d74fd65",
   "metadata": {},
   "outputs": [],
   "source": []
  }
 ],
 "metadata": {
  "kernelspec": {
   "display_name": "Python 3 (ipykernel)",
   "language": "python",
   "name": "python3"
  },
  "language_info": {
   "codemirror_mode": {
    "name": "ipython",
    "version": 3
   },
   "file_extension": ".py",
   "mimetype": "text/x-python",
   "name": "python",
   "nbconvert_exporter": "python",
   "pygments_lexer": "ipython3",
   "version": "3.8.18"
  },
  "widgets": {
   "application/vnd.jupyter.widget-state+json": {
    "state": {},
    "version_major": 2,
    "version_minor": 0
   }
  }
 },
 "nbformat": 4,
 "nbformat_minor": 5
}
